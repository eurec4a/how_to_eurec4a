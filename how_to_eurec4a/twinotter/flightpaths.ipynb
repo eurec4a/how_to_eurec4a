{
 "cells": [
  {
   "cell_type": "code",
   "execution_count": 1,
   "id": "faee25c6",
   "metadata": {},
   "outputs": [],
   "source": [
    "%%capture\n",
    "!pip install twinotter nb_black"
   ]
  },
  {
   "cell_type": "code",
   "execution_count": 2,
   "id": "9180ca6e",
   "metadata": {},
   "outputs": [
    {
     "data": {
      "application/javascript": [
       "\n",
       "            setTimeout(function() {\n",
       "                var nbb_cell_id = 2;\n",
       "                var nbb_unformatted_code = \"%load_ext nb_black\";\n",
       "                var nbb_formatted_code = \"%load_ext nb_black\";\n",
       "                var nbb_cells = Jupyter.notebook.get_cells();\n",
       "                for (var i = 0; i < nbb_cells.length; ++i) {\n",
       "                    if (nbb_cells[i].input_prompt_number == nbb_cell_id) {\n",
       "                        if (nbb_cells[i].get_text() == nbb_unformatted_code) {\n",
       "                             nbb_cells[i].set_text(nbb_formatted_code);\n",
       "                        }\n",
       "                        break;\n",
       "                    }\n",
       "                }\n",
       "            }, 500);\n",
       "            "
      ],
      "text/plain": [
       "<IPython.core.display.Javascript object>"
      ]
     },
     "metadata": {},
     "output_type": "display_data"
    }
   ],
   "source": [
    "%load_ext nb_black"
   ]
  },
  {
   "cell_type": "code",
   "execution_count": 225,
   "id": "6c3eb360",
   "metadata": {},
   "outputs": [
    {
     "data": {
      "application/javascript": [
       "\n",
       "            setTimeout(function() {\n",
       "                var nbb_cell_id = 225;\n",
       "                var nbb_unformatted_code = \"from intake import open_catalog\\nimport cartopy.crs as ccrs\\nimport matplotlib.pyplot as plt\\n\\nimport twinotter.plots\\nfrom twinotter.external.eurec4a import add_halo_circle\\nimport twinotter\\nimport worldview_dl\\nfrom tqdm.auto import tqdm\\nfrom pathlib import Path\\n\\nimport eurec4a\";\n",
       "                var nbb_formatted_code = \"from intake import open_catalog\\nimport cartopy.crs as ccrs\\nimport matplotlib.pyplot as plt\\n\\nimport twinotter.plots\\nfrom twinotter.external.eurec4a import add_halo_circle\\nimport twinotter\\nimport worldview_dl\\nfrom tqdm.auto import tqdm\\nfrom pathlib import Path\\n\\nimport eurec4a\";\n",
       "                var nbb_cells = Jupyter.notebook.get_cells();\n",
       "                for (var i = 0; i < nbb_cells.length; ++i) {\n",
       "                    if (nbb_cells[i].input_prompt_number == nbb_cell_id) {\n",
       "                        if (nbb_cells[i].get_text() == nbb_unformatted_code) {\n",
       "                             nbb_cells[i].set_text(nbb_formatted_code);\n",
       "                        }\n",
       "                        break;\n",
       "                    }\n",
       "                }\n",
       "            }, 500);\n",
       "            "
      ],
      "text/plain": [
       "<IPython.core.display.Javascript object>"
      ]
     },
     "metadata": {},
     "output_type": "display_data"
    }
   ],
   "source": [
    "from intake import open_catalog\n",
    "import cartopy.crs as ccrs\n",
    "import matplotlib.pyplot as plt\n",
    "\n",
    "import twinotter.plots\n",
    "from twinotter.external.eurec4a import add_halo_circle\n",
    "import twinotter\n",
    "import worldview_dl\n",
    "from tqdm.auto import tqdm\n",
    "from pathlib import Path\n",
    "\n",
    "import eurec4a"
   ]
  },
  {
   "cell_type": "code",
   "execution_count": 4,
   "id": "ea3b9628",
   "metadata": {},
   "outputs": [
    {
     "data": {
      "application/javascript": [
       "\n",
       "            setTimeout(function() {\n",
       "                var nbb_cell_id = 4;\n",
       "                var nbb_unformatted_code = \"# cat = eurec4a.get_intake_catalog()\\ncat = open_catalog(\\n    \\\"https://raw.githubusercontent.com/leifdenby/eurec4a-intake/twinotter-masin/catalog.yml\\\"\\n)\";\n",
       "                var nbb_formatted_code = \"# cat = eurec4a.get_intake_catalog()\\ncat = open_catalog(\\n    \\\"https://raw.githubusercontent.com/leifdenby/eurec4a-intake/twinotter-masin/catalog.yml\\\"\\n)\";\n",
       "                var nbb_cells = Jupyter.notebook.get_cells();\n",
       "                for (var i = 0; i < nbb_cells.length; ++i) {\n",
       "                    if (nbb_cells[i].input_prompt_number == nbb_cell_id) {\n",
       "                        if (nbb_cells[i].get_text() == nbb_unformatted_code) {\n",
       "                             nbb_cells[i].set_text(nbb_formatted_code);\n",
       "                        }\n",
       "                        break;\n",
       "                    }\n",
       "                }\n",
       "            }, 500);\n",
       "            "
      ],
      "text/plain": [
       "<IPython.core.display.Javascript object>"
      ]
     },
     "metadata": {},
     "output_type": "display_data"
    }
   ],
   "source": [
    "# cat = eurec4a.get_intake_catalog()\n",
    "cat = open_catalog(\n",
    "    \"https://raw.githubusercontent.com/leifdenby/eurec4a-intake/twinotter-masin/catalog.yml\"\n",
    ")"
   ]
  },
  {
   "cell_type": "code",
   "execution_count": 5,
   "id": "b6f4f365",
   "metadata": {},
   "outputs": [
    {
     "data": {
      "text/plain": [
       "['TO330_1Hz',\n",
       " 'TO330_50Hz',\n",
       " 'TO331_1Hz',\n",
       " 'TO331_50Hz',\n",
       " 'TO332_1Hz',\n",
       " 'TO332_50Hz',\n",
       " 'TO333_1Hz',\n",
       " 'TO333_50Hz',\n",
       " 'TO334_1Hz',\n",
       " 'TO334_50Hz']"
      ]
     },
     "execution_count": 5,
     "metadata": {},
     "output_type": "execute_result"
    },
    {
     "data": {
      "application/javascript": [
       "\n",
       "            setTimeout(function() {\n",
       "                var nbb_cell_id = 5;\n",
       "                var nbb_unformatted_code = \"# list the first 10 available files\\nlist(cat.TO.MASIN)[:10]\";\n",
       "                var nbb_formatted_code = \"# list the first 10 available files\\nlist(cat.TO.MASIN)[:10]\";\n",
       "                var nbb_cells = Jupyter.notebook.get_cells();\n",
       "                for (var i = 0; i < nbb_cells.length; ++i) {\n",
       "                    if (nbb_cells[i].input_prompt_number == nbb_cell_id) {\n",
       "                        if (nbb_cells[i].get_text() == nbb_unformatted_code) {\n",
       "                             nbb_cells[i].set_text(nbb_formatted_code);\n",
       "                        }\n",
       "                        break;\n",
       "                    }\n",
       "                }\n",
       "            }, 500);\n",
       "            "
      ],
      "text/plain": [
       "<IPython.core.display.Javascript object>"
      ]
     },
     "metadata": {},
     "output_type": "display_data"
    }
   ],
   "source": [
    "# list the first 10 available files\n",
    "list(cat.TO.MASIN)[:10]"
   ]
  },
  {
   "cell_type": "code",
   "execution_count": 145,
   "id": "12047b90",
   "metadata": {},
   "outputs": [
    {
     "data": {
      "text/plain": [
       "['TO330_1Hz', 'TO331_1Hz', 'TO332_1Hz', 'TO333_1Hz', 'TO334_1Hz']"
      ]
     },
     "execution_count": 145,
     "metadata": {},
     "output_type": "execute_result"
    },
    {
     "data": {
      "application/javascript": [
       "\n",
       "            setTimeout(function() {\n",
       "                var nbb_cell_id = 145;\n",
       "                var nbb_unformatted_code = \"datasets_1hz = [name for name in cat.TO.MASIN if name.endswith(\\\"1Hz\\\")]\\ndatasets_1hz[:5]\";\n",
       "                var nbb_formatted_code = \"datasets_1hz = [name for name in cat.TO.MASIN if name.endswith(\\\"1Hz\\\")]\\ndatasets_1hz[:5]\";\n",
       "                var nbb_cells = Jupyter.notebook.get_cells();\n",
       "                for (var i = 0; i < nbb_cells.length; ++i) {\n",
       "                    if (nbb_cells[i].input_prompt_number == nbb_cell_id) {\n",
       "                        if (nbb_cells[i].get_text() == nbb_unformatted_code) {\n",
       "                             nbb_cells[i].set_text(nbb_formatted_code);\n",
       "                        }\n",
       "                        break;\n",
       "                    }\n",
       "                }\n",
       "            }, 500);\n",
       "            "
      ],
      "text/plain": [
       "<IPython.core.display.Javascript object>"
      ]
     },
     "metadata": {},
     "output_type": "display_data"
    }
   ],
   "source": [
    "datasets_1hz = [name for name in cat.TO.MASIN if name.endswith(\"1Hz\")]\n",
    "datasets_1hz[:5]"
   ]
  },
  {
   "cell_type": "code",
   "execution_count": 146,
   "id": "f2f099f6",
   "metadata": {
    "scrolled": false
   },
   "outputs": [
    {
     "data": {
      "application/javascript": [
       "\n",
       "            setTimeout(function() {\n",
       "                var nbb_cell_id = 146;\n",
       "                var nbb_unformatted_code = \"ds_to = cat.TO.MASIN[datasets_1hz[0]].to_dask()\";\n",
       "                var nbb_formatted_code = \"ds_to = cat.TO.MASIN[datasets_1hz[0]].to_dask()\";\n",
       "                var nbb_cells = Jupyter.notebook.get_cells();\n",
       "                for (var i = 0; i < nbb_cells.length; ++i) {\n",
       "                    if (nbb_cells[i].input_prompt_number == nbb_cell_id) {\n",
       "                        if (nbb_cells[i].get_text() == nbb_unformatted_code) {\n",
       "                             nbb_cells[i].set_text(nbb_formatted_code);\n",
       "                        }\n",
       "                        break;\n",
       "                    }\n",
       "                }\n",
       "            }, 500);\n",
       "            "
      ],
      "text/plain": [
       "<IPython.core.display.Javascript object>"
      ]
     },
     "metadata": {},
     "output_type": "display_data"
    }
   ],
   "source": []
  },
  {
   "cell_type": "code",
   "execution_count": 384,
   "id": "c956df14",
   "metadata": {},
   "outputs": [
    {
     "data": {
      "application/javascript": [
       "\n",
       "            setTimeout(function() {\n",
       "                var nbb_cell_id = 384;\n",
       "                var nbb_unformatted_code = \"DATE_FORMAT = \\\"%Y-%m-%d\\\"\\nTIME_FORMAT = \\\"%H:%M\\\"\\nBBOX = [-60, -56.5, 12.2, 14.5]  # WESN\";\n",
       "                var nbb_formatted_code = \"DATE_FORMAT = \\\"%Y-%m-%d\\\"\\nTIME_FORMAT = \\\"%H:%M\\\"\\nBBOX = [-60, -56.5, 12.2, 14.5]  # WESN\";\n",
       "                var nbb_cells = Jupyter.notebook.get_cells();\n",
       "                for (var i = 0; i < nbb_cells.length; ++i) {\n",
       "                    if (nbb_cells[i].input_prompt_number == nbb_cell_id) {\n",
       "                        if (nbb_cells[i].get_text() == nbb_unformatted_code) {\n",
       "                             nbb_cells[i].set_text(nbb_formatted_code);\n",
       "                        }\n",
       "                        break;\n",
       "                    }\n",
       "                }\n",
       "            }, 500);\n",
       "            "
      ],
      "text/plain": [
       "<IPython.core.display.Javascript object>"
      ]
     },
     "metadata": {},
     "output_type": "display_data"
    }
   ],
   "source": [
    "DATE_FORMAT = \"%Y-%m-%d\"\n",
    "TIME_FORMAT = \"%H:%M\"\n",
    "BBOX = [-60, -56.5, 12.2, 14.5]  # WESN"
   ]
  },
  {
   "cell_type": "code",
   "execution_count": 390,
   "id": "279bf9c7",
   "metadata": {},
   "outputs": [
    {
     "data": {
      "application/javascript": [
       "\n",
       "            setTimeout(function() {\n",
       "                var nbb_cell_id = 390;\n",
       "                var nbb_unformatted_code = \"import datetime\\n\\n\\ndef _npdt64_to_datetime(v):\\n    return v.astype(\\\"M8[ms]\\\").astype(datetime.datetime).replace(tzinfo=pytz.utc)\\n\\n\\ndef add_worldview_modis_for_flight(dt_min, dt_max, ax, local_path):\\n    # bbox: The spatial area to use in the format [S W N E] with units degrees\\n    bbox_worldview_dl = [BBOX[2], BBOX[0], BBOX[3], BBOX[1]]\\n\\n    dt_modis_terra = datetime.time(hour=14, minute=30)\\n    dt_modis_aqua = datetime.time(hour=17, minute=30)\\n\\n    layers = []\\n    if dt_min.time() <= dt_modis_terra <= dt_max.time():\\n        dt_sat = dt_modis_terra\\n        sat = \\\"MODIS Terra\\\"\\n        layers.append(\\\"MODIS_Terra_CorrectedReflectance_TrueColor\\\")\\n    elif dt_min.time() <= dt_modis_aqua <= dt_max.time():\\n        dt_sat = dt_modis_aqua\\n        sat = \\\"MODIS Aqua\\\"\\n        layers.append(\\\"MODIS_Aqua_CorrectedReflectance_TrueColor\\\")\\n    else:\\n        return\\n\\n    # layers.append(\\\"Reference_Labels\\\")\\n\\n    t = dt_min + 0.5 * (dt_max - dt_min)\\n\\n    if not Path(local_path).exists():\\n        worldview_dl.download_image(\\n            fn=local_path,\\n            time=t,\\n            bbox=bbox_worldview_dl,\\n            layers=layers,\\n            image_format=\\\"tiff\\\",\\n            resolution=0.01,\\n        )\\n    # WESN\\n    ax.imshow(\\n        PIL.Image.open(local_path),\\n        extent=BBOX,\\n        transform=ccrs.PlateCarree(),\\n        alpha=1.0,\\n        zorder=-5,\\n    )\\n\\n    ax.annotate(\\n        f\\\"{sat}\\\\n{dt_sat.strftime(TIME_FORMAT)} UTC\\\",\\n        (1, 1),\\n        xytext=(-4, -4),\\n        xycoords=\\\"axes fraction\\\",\\n        textcoords=\\\"offset points\\\",\\n        fontweight=\\\"bold\\\",\\n        color=\\\"white\\\",\\n        bbox=dict(facecolor=\\\"black\\\", alpha=0.5),\\n        ha=\\\"right\\\",\\n        va=\\\"top\\\",\\n    )\";\n",
       "                var nbb_formatted_code = \"import datetime\\n\\n\\ndef _npdt64_to_datetime(v):\\n    return v.astype(\\\"M8[ms]\\\").astype(datetime.datetime).replace(tzinfo=pytz.utc)\\n\\n\\ndef add_worldview_modis_for_flight(dt_min, dt_max, ax, local_path):\\n    # bbox: The spatial area to use in the format [S W N E] with units degrees\\n    bbox_worldview_dl = [BBOX[2], BBOX[0], BBOX[3], BBOX[1]]\\n\\n    dt_modis_terra = datetime.time(hour=14, minute=30)\\n    dt_modis_aqua = datetime.time(hour=17, minute=30)\\n\\n    layers = []\\n    if dt_min.time() <= dt_modis_terra <= dt_max.time():\\n        dt_sat = dt_modis_terra\\n        sat = \\\"MODIS Terra\\\"\\n        layers.append(\\\"MODIS_Terra_CorrectedReflectance_TrueColor\\\")\\n    elif dt_min.time() <= dt_modis_aqua <= dt_max.time():\\n        dt_sat = dt_modis_aqua\\n        sat = \\\"MODIS Aqua\\\"\\n        layers.append(\\\"MODIS_Aqua_CorrectedReflectance_TrueColor\\\")\\n    else:\\n        return\\n\\n    # layers.append(\\\"Reference_Labels\\\")\\n\\n    t = dt_min + 0.5 * (dt_max - dt_min)\\n\\n    if not Path(local_path).exists():\\n        worldview_dl.download_image(\\n            fn=local_path,\\n            time=t,\\n            bbox=bbox_worldview_dl,\\n            layers=layers,\\n            image_format=\\\"tiff\\\",\\n            resolution=0.01,\\n        )\\n    # WESN\\n    ax.imshow(\\n        PIL.Image.open(local_path),\\n        extent=BBOX,\\n        transform=ccrs.PlateCarree(),\\n        alpha=1.0,\\n        zorder=-5,\\n    )\\n\\n    ax.annotate(\\n        f\\\"{sat}\\\\n{dt_sat.strftime(TIME_FORMAT)} UTC\\\",\\n        (1, 1),\\n        xytext=(-4, -4),\\n        xycoords=\\\"axes fraction\\\",\\n        textcoords=\\\"offset points\\\",\\n        fontweight=\\\"bold\\\",\\n        color=\\\"white\\\",\\n        bbox=dict(facecolor=\\\"black\\\", alpha=0.5),\\n        ha=\\\"right\\\",\\n        va=\\\"top\\\",\\n    )\";\n",
       "                var nbb_cells = Jupyter.notebook.get_cells();\n",
       "                for (var i = 0; i < nbb_cells.length; ++i) {\n",
       "                    if (nbb_cells[i].input_prompt_number == nbb_cell_id) {\n",
       "                        if (nbb_cells[i].get_text() == nbb_unformatted_code) {\n",
       "                             nbb_cells[i].set_text(nbb_formatted_code);\n",
       "                        }\n",
       "                        break;\n",
       "                    }\n",
       "                }\n",
       "            }, 500);\n",
       "            "
      ],
      "text/plain": [
       "<IPython.core.display.Javascript object>"
      ]
     },
     "metadata": {},
     "output_type": "display_data"
    }
   ],
   "source": [
    "import datetime\n",
    "\n",
    "\n",
    "def _npdt64_to_datetime(v):\n",
    "    return v.astype(\"M8[ms]\").astype(datetime.datetime).replace(tzinfo=pytz.utc)\n",
    "\n",
    "\n",
    "def add_worldview_modis_for_flight(dt_min, dt_max, ax, local_path):\n",
    "    # bbox: The spatial area to use in the format [S W N E] with units degrees\n",
    "    bbox_worldview_dl = [BBOX[2], BBOX[0], BBOX[3], BBOX[1]]\n",
    "\n",
    "    dt_modis_terra = datetime.time(hour=14, minute=30)\n",
    "    dt_modis_aqua = datetime.time(hour=17, minute=30)\n",
    "\n",
    "    layers = []\n",
    "    if dt_min.time() <= dt_modis_terra <= dt_max.time():\n",
    "        dt_sat = dt_modis_terra\n",
    "        sat = \"MODIS Terra\"\n",
    "        layers.append(\"MODIS_Terra_CorrectedReflectance_TrueColor\")\n",
    "    elif dt_min.time() <= dt_modis_aqua <= dt_max.time():\n",
    "        dt_sat = dt_modis_aqua\n",
    "        sat = \"MODIS Aqua\"\n",
    "        layers.append(\"MODIS_Aqua_CorrectedReflectance_TrueColor\")\n",
    "    else:\n",
    "        return\n",
    "\n",
    "    # layers.append(\"Reference_Labels\")\n",
    "\n",
    "    t = dt_min + 0.5 * (dt_max - dt_min)\n",
    "\n",
    "    if not Path(local_path).exists():\n",
    "        worldview_dl.download_image(\n",
    "            fn=local_path,\n",
    "            time=t,\n",
    "            bbox=bbox_worldview_dl,\n",
    "            layers=layers,\n",
    "            image_format=\"tiff\",\n",
    "            resolution=0.01,\n",
    "        )\n",
    "    # WESN\n",
    "    ax.imshow(\n",
    "        PIL.Image.open(local_path),\n",
    "        extent=BBOX,\n",
    "        transform=ccrs.PlateCarree(),\n",
    "        alpha=1.0,\n",
    "        zorder=-5,\n",
    "    )\n",
    "\n",
    "    ax.annotate(\n",
    "        f\"{sat}\\n{dt_sat.strftime(TIME_FORMAT)} UTC\",\n",
    "        (1, 1),\n",
    "        xytext=(-4, -4),\n",
    "        xycoords=\"axes fraction\",\n",
    "        textcoords=\"offset points\",\n",
    "        fontweight=\"bold\",\n",
    "        color=\"white\",\n",
    "        bbox=dict(facecolor=\"black\", alpha=0.5),\n",
    "        ha=\"right\",\n",
    "        va=\"top\",\n",
    "    )"
   ]
  },
  {
   "cell_type": "code",
   "execution_count": 391,
   "id": "b09b0143",
   "metadata": {},
   "outputs": [
    {
     "data": {
      "application/javascript": [
       "\n",
       "            setTimeout(function() {\n",
       "                var nbb_cell_id = 391;\n",
       "                var nbb_unformatted_code = \"import pytz\\nimport PIL\\nimport matplotlib.ticker as mticker\\nimport numpy as np\";\n",
       "                var nbb_formatted_code = \"import pytz\\nimport PIL\\nimport matplotlib.ticker as mticker\\nimport numpy as np\";\n",
       "                var nbb_cells = Jupyter.notebook.get_cells();\n",
       "                for (var i = 0; i < nbb_cells.length; ++i) {\n",
       "                    if (nbb_cells[i].input_prompt_number == nbb_cell_id) {\n",
       "                        if (nbb_cells[i].get_text() == nbb_unformatted_code) {\n",
       "                             nbb_cells[i].set_text(nbb_formatted_code);\n",
       "                        }\n",
       "                        break;\n",
       "                    }\n",
       "                }\n",
       "            }, 500);\n",
       "            "
      ],
      "text/plain": [
       "<IPython.core.display.Javascript object>"
      ]
     },
     "metadata": {},
     "output_type": "display_data"
    }
   ],
   "source": [
    "import pytz\n",
    "import PIL\n",
    "import matplotlib.ticker as mticker\n",
    "import numpy as np"
   ]
  },
  {
   "cell_type": "code",
   "execution_count": 392,
   "id": "2612195e",
   "metadata": {},
   "outputs": [
    {
     "data": {
      "application/javascript": [
       "\n",
       "            setTimeout(function() {\n",
       "                var nbb_cell_id = 392;\n",
       "                var nbb_unformatted_code = \"import twinotter.plots\";\n",
       "                var nbb_formatted_code = \"import twinotter.plots\";\n",
       "                var nbb_cells = Jupyter.notebook.get_cells();\n",
       "                for (var i = 0; i < nbb_cells.length; ++i) {\n",
       "                    if (nbb_cells[i].input_prompt_number == nbb_cell_id) {\n",
       "                        if (nbb_cells[i].get_text() == nbb_unformatted_code) {\n",
       "                             nbb_cells[i].set_text(nbb_formatted_code);\n",
       "                        }\n",
       "                        break;\n",
       "                    }\n",
       "                }\n",
       "            }, 500);\n",
       "            "
      ],
      "text/plain": [
       "<IPython.core.display.Javascript object>"
      ]
     },
     "metadata": {},
     "output_type": "display_data"
    }
   ],
   "source": [
    "import twinotter.plots"
   ]
  },
  {
   "cell_type": "code",
   "execution_count": 393,
   "id": "a2ae31ec",
   "metadata": {
    "scrolled": false
   },
   "outputs": [
    {
     "data": {
      "image/png": "[encoded data removed]",
      "text/plain": [
       "<Figure size 576x288 with 2 Axes>"
      ]
     },
     "metadata": {
      "needs_background": "light"
     },
     "output_type": "display_data"
    },
    {
     "data": {
      "application/javascript": [
       "\n",
       "            setTimeout(function() {\n",
       "                var nbb_cell_id = 393;\n",
       "                var nbb_unformatted_code = \"fig, ax = plt.subplots(subplot_kw=dict(projection=ccrs.PlateCarree()), figsize=(8, 4))\\nfig.suppressComposite = True\\n\\n\\ndef plot_track_with_modis(ds, ax):\\n    lc = twinotter.plots.colored_line_plot(\\n        x=ds.LON_OXTS,\\n        y=ds.LAT_OXTS,\\n        color=ds.ALT_OXTS / 1000.0,\\n        ax=ax,\\n        cmap=\\\"jet\\\",\\n        vmin=0,\\n        vmax=3.0,\\n        cmap_steps=3 * 4,\\n        linewidth=3,\\n    )\\n\\n    dt_min = _npdt64_to_datetime(ds.isel(Time=0).Time.values)\\n    dt_max = _npdt64_to_datetime(ds.isel(Time=-1).Time.values)\\n\\n    ax.annotate(\\n        f\\\"TO{ds.flight_number} {dt_min.strftime(DATE_FORMAT)}\\\\n\\\"\\n        f\\\"{dt_min.strftime(TIME_FORMAT)}-{dt_max.strftime(TIME_FORMAT)} UTC\\\",\\n        (0, 1),\\n        xytext=(4, -4),\\n        xycoords=\\\"axes fraction\\\",\\n        textcoords=\\\"offset points\\\",\\n        fontweight=\\\"bold\\\",\\n        color=\\\"white\\\",\\n        bbox=dict(facecolor=\\\"black\\\", alpha=0.5),\\n        ha=\\\"left\\\",\\n        va=\\\"top\\\",\\n    )\\n\\n    # twinotter.plots.flight_path(ax=ax, ds=ds, linewidth=3.0, add_cmap=add_colorbar)\\n    ax.margins(0.2)\\n\\n    gl = ax.gridlines(draw_labels=[\\\"left\\\", \\\"bottom\\\"])\\n    gl.xlocator = mticker.FixedLocator(np.arange(int(bbox[0]), bbox[1], 1.0))\\n    gl.ylocator = mticker.FixedLocator(np.arange(int(bbox[2]), bbox[3], 1.0))\\n    ax.coastlines()\\n    add_halo_circle(ax=ax, alpha=1.0, color=\\\"pink\\\", linestyle=\\\"--\\\", linewidth=2.0)\\n\\n    path_modis_img = f\\\"worldview_TO{ds.flight_number}.tiff\\\"\\n    add_worldview_modis_for_flight(\\n        dt_min=dt_min, dt_max=dt_max, ax=ax, local_path=path_modis_img\\n    )\\n    return lc\\n\\n\\nds_to = cat.TO.MASIN[datasets_1hz[0]].to_dask()\\nlc = plot_track_with_modis(ds=ds_to, ax=ax)\\ncbar = fig.colorbar(lc, ax=ax)\\ncbar.set_label(\\\"Altitude (km)\\\")\";\n",
       "                var nbb_formatted_code = \"fig, ax = plt.subplots(subplot_kw=dict(projection=ccrs.PlateCarree()), figsize=(8, 4))\\nfig.suppressComposite = True\\n\\n\\ndef plot_track_with_modis(ds, ax):\\n    lc = twinotter.plots.colored_line_plot(\\n        x=ds.LON_OXTS,\\n        y=ds.LAT_OXTS,\\n        color=ds.ALT_OXTS / 1000.0,\\n        ax=ax,\\n        cmap=\\\"jet\\\",\\n        vmin=0,\\n        vmax=3.0,\\n        cmap_steps=3 * 4,\\n        linewidth=3,\\n    )\\n\\n    dt_min = _npdt64_to_datetime(ds.isel(Time=0).Time.values)\\n    dt_max = _npdt64_to_datetime(ds.isel(Time=-1).Time.values)\\n\\n    ax.annotate(\\n        f\\\"TO{ds.flight_number} {dt_min.strftime(DATE_FORMAT)}\\\\n\\\"\\n        f\\\"{dt_min.strftime(TIME_FORMAT)}-{dt_max.strftime(TIME_FORMAT)} UTC\\\",\\n        (0, 1),\\n        xytext=(4, -4),\\n        xycoords=\\\"axes fraction\\\",\\n        textcoords=\\\"offset points\\\",\\n        fontweight=\\\"bold\\\",\\n        color=\\\"white\\\",\\n        bbox=dict(facecolor=\\\"black\\\", alpha=0.5),\\n        ha=\\\"left\\\",\\n        va=\\\"top\\\",\\n    )\\n\\n    # twinotter.plots.flight_path(ax=ax, ds=ds, linewidth=3.0, add_cmap=add_colorbar)\\n    ax.margins(0.2)\\n\\n    gl = ax.gridlines(draw_labels=[\\\"left\\\", \\\"bottom\\\"])\\n    gl.xlocator = mticker.FixedLocator(np.arange(int(bbox[0]), bbox[1], 1.0))\\n    gl.ylocator = mticker.FixedLocator(np.arange(int(bbox[2]), bbox[3], 1.0))\\n    ax.coastlines()\\n    add_halo_circle(ax=ax, alpha=1.0, color=\\\"pink\\\", linestyle=\\\"--\\\", linewidth=2.0)\\n\\n    path_modis_img = f\\\"worldview_TO{ds.flight_number}.tiff\\\"\\n    add_worldview_modis_for_flight(\\n        dt_min=dt_min, dt_max=dt_max, ax=ax, local_path=path_modis_img\\n    )\\n    return lc\\n\\n\\nds_to = cat.TO.MASIN[datasets_1hz[0]].to_dask()\\nlc = plot_track_with_modis(ds=ds_to, ax=ax)\\ncbar = fig.colorbar(lc, ax=ax)\\ncbar.set_label(\\\"Altitude (km)\\\")\";\n",
       "                var nbb_cells = Jupyter.notebook.get_cells();\n",
       "                for (var i = 0; i < nbb_cells.length; ++i) {\n",
       "                    if (nbb_cells[i].input_prompt_number == nbb_cell_id) {\n",
       "                        if (nbb_cells[i].get_text() == nbb_unformatted_code) {\n",
       "                             nbb_cells[i].set_text(nbb_formatted_code);\n",
       "                        }\n",
       "                        break;\n",
       "                    }\n",
       "                }\n",
       "            }, 500);\n",
       "            "
      ],
      "text/plain": [
       "<IPython.core.display.Javascript object>"
      ]
     },
     "metadata": {},
     "output_type": "display_data"
    }
   ],
   "source": [
    "fig, ax = plt.subplots(subplot_kw=dict(projection=ccrs.PlateCarree()), figsize=(8, 4))\n",
    "fig.suppressComposite = True\n",
    "\n",
    "\n",
    "def plot_track_with_modis(ds, ax):\n",
    "    lc = twinotter.plots.colored_line_plot(\n",
    "        x=ds.LON_OXTS,\n",
    "        y=ds.LAT_OXTS,\n",
    "        color=ds.ALT_OXTS / 1000.0,\n",
    "        ax=ax,\n",
    "        cmap=\"jet\",\n",
    "        vmin=0,\n",
    "        vmax=3.0,\n",
    "        cmap_steps=3 * 4,\n",
    "        linewidth=3,\n",
    "    )\n",
    "\n",
    "    dt_min = _npdt64_to_datetime(ds.isel(Time=0).Time.values)\n",
    "    dt_max = _npdt64_to_datetime(ds.isel(Time=-1).Time.values)\n",
    "\n",
    "    ax.annotate(\n",
    "        f\"TO{ds.flight_number} {dt_min.strftime(DATE_FORMAT)}\\n\"\n",
    "        f\"{dt_min.strftime(TIME_FORMAT)}-{dt_max.strftime(TIME_FORMAT)} UTC\",\n",
    "        (0, 1),\n",
    "        xytext=(4, -4),\n",
    "        xycoords=\"axes fraction\",\n",
    "        textcoords=\"offset points\",\n",
    "        fontweight=\"bold\",\n",
    "        color=\"white\",\n",
    "        bbox=dict(facecolor=\"black\", alpha=0.5),\n",
    "        ha=\"left\",\n",
    "        va=\"top\",\n",
    "    )\n",
    "\n",
    "    # twinotter.plots.flight_path(ax=ax, ds=ds, linewidth=3.0, add_cmap=add_colorbar)\n",
    "    ax.margins(0.2)\n",
    "\n",
    "    gl = ax.gridlines(draw_labels=[\"left\", \"bottom\"])\n",
    "    gl.xlocator = mticker.FixedLocator(np.arange(int(bbox[0]), bbox[1], 1.0))\n",
    "    gl.ylocator = mticker.FixedLocator(np.arange(int(bbox[2]), bbox[3], 1.0))\n",
    "    ax.coastlines()\n",
    "    add_halo_circle(ax=ax, alpha=1.0, color=\"pink\", linestyle=\"--\", linewidth=2.0)\n",
    "\n",
    "    path_modis_img = f\"worldview_TO{ds.flight_number}.tiff\"\n",
    "    add_worldview_modis_for_flight(\n",
    "        dt_min=dt_min, dt_max=dt_max, ax=ax, local_path=path_modis_img\n",
    "    )\n",
    "    return lc\n",
    "\n",
    "\n",
    "ds_to = cat.TO.MASIN[datasets_1hz[0]].to_dask()\n",
    "lc = plot_track_with_modis(ds=ds_to, ax=ax)\n",
    "cbar = fig.colorbar(lc, ax=ax)\n",
    "cbar.set_label(\"Altitude (km)\")"
   ]
  },
  {
   "cell_type": "markdown",
   "id": "adc04114",
   "metadata": {},
   "source": [
    "# Plot all flights"
   ]
  },
  {
   "cell_type": "code",
   "execution_count": 394,
   "id": "ec298283",
   "metadata": {},
   "outputs": [
    {
     "data": {
      "text/plain": [
       "25"
      ]
     },
     "execution_count": 394,
     "metadata": {},
     "output_type": "execute_result"
    },
    {
     "data": {
      "application/javascript": [
       "\n",
       "            setTimeout(function() {\n",
       "                var nbb_cell_id = 394;\n",
       "                var nbb_unformatted_code = \"n_flights = len(datasets_1hz)\\nn_flights\";\n",
       "                var nbb_formatted_code = \"n_flights = len(datasets_1hz)\\nn_flights\";\n",
       "                var nbb_cells = Jupyter.notebook.get_cells();\n",
       "                for (var i = 0; i < nbb_cells.length; ++i) {\n",
       "                    if (nbb_cells[i].input_prompt_number == nbb_cell_id) {\n",
       "                        if (nbb_cells[i].get_text() == nbb_unformatted_code) {\n",
       "                             nbb_cells[i].set_text(nbb_formatted_code);\n",
       "                        }\n",
       "                        break;\n",
       "                    }\n",
       "                }\n",
       "            }, 500);\n",
       "            "
      ],
      "text/plain": [
       "<IPython.core.display.Javascript object>"
      ]
     },
     "metadata": {},
     "output_type": "display_data"
    }
   ],
   "source": [
    "n_flights = len(datasets_1hz)\n",
    "n_flights"
   ]
  },
  {
   "cell_type": "code",
   "execution_count": 395,
   "id": "7078a89e",
   "metadata": {
    "scrolled": false
   },
   "outputs": [
    {
     "data": {
      "application/vnd.jupyter.widget-view+json": {
       "model_id": "db88d42dca9642d48728c0e868246590",
       "version_major": 2,
       "version_minor": 0
      },
      "text/plain": [
       "  0%|          | 0/11 [00:00<?, ?it/s]"
      ]
     },
     "metadata": {},
     "output_type": "display_data"
    },
    {
     "name": "stdout",
     "output_type": "stream",
     "text": [
      "Saved figure to TO_flightpaths_TO344_TO354.png\n"
     ]
    },
    {
     "data": {
      "application/javascript": [
       "\n",
       "            setTimeout(function() {\n",
       "                var nbb_cell_id = 395;\n",
       "                var nbb_unformatted_code = \"# plot in 3x5-1=14 + 3*4-1=11 subplot figures to split across two pages\\n# so that can use bottom-right to fit colorbar\\n\\n\\ndef plot_page(datasets_page):\\n    n_flights_page = len(datasets_page)\\n    ncols = 3\\n    nrows = n_flights_page // ncols\\n    if nrows * ncols < n_flights_page:\\n        nrows += 1\\n\\n    # WESN\\n    bbox = [-60, -56.5, 12.2, 14.5]\\n    domain_aspect = (bbox[3] - bbox[2]) / (bbox[1] - bbox[0])\\n    subfig_width = 5.0\\n\\n    fig, axes = plt.subplots(\\n        ncols=ncols,\\n        nrows=nrows,\\n        figsize=(subfig_width * ncols + 0.4, subfig_width * domain_aspect * nrows),\\n        subplot_kw=dict(projection=ccrs.PlateCarree()),\\n        sharex=True,\\n        sharey=True,\\n    )\\n\\n    axes = axes.flatten()\\n\\n    for ax, dataset_name in tqdm(zip(axes, datasets_page), total=n_flights_page):\\n        ds_to = cat.TO.MASIN[dataset_name].to_dask()\\n        plot_track_with_modis(ds=ds_to, ax=ax)\\n        if dataset_name == datasets_page[-1]:\\n            cax = axes[-1].inset_axes(\\n                [0.0, 0.9, 1.0, 0.1], transform=axes[-1].transAxes\\n            )\\n            cbar = fig.colorbar(lc, ax=axes[-1], cax=cax, orientation=\\\"horizontal\\\")\\n            cbar.set_label(\\\"Altitude (km)\\\")\\n\\n        ax.set_extent(bbox, crs=ccrs.PlateCarree())\\n\\n    axes[-1].axis(\\\"off\\\")\\n    fig.tight_layout()\\n    plot_fn = f\\\"TO_flightpaths_{datasets_page[0].split('_')[0]}_{datasets_page[-1].split('_')[0]}.png\\\"\\n    fig.savefig(plot_fn)\\n    print(f\\\"Saved figure to {plot_fn}\\\")\\n    plt.close(fig)\\n    del fig\\n\\n\\n# plot_page(datasets_1hz[:14])\\nplot_page(datasets_1hz[14:])\";\n",
       "                var nbb_formatted_code = \"# plot in 3x5-1=14 + 3*4-1=11 subplot figures to split across two pages\\n# so that can use bottom-right to fit colorbar\\n\\n\\ndef plot_page(datasets_page):\\n    n_flights_page = len(datasets_page)\\n    ncols = 3\\n    nrows = n_flights_page // ncols\\n    if nrows * ncols < n_flights_page:\\n        nrows += 1\\n\\n    # WESN\\n    bbox = [-60, -56.5, 12.2, 14.5]\\n    domain_aspect = (bbox[3] - bbox[2]) / (bbox[1] - bbox[0])\\n    subfig_width = 5.0\\n\\n    fig, axes = plt.subplots(\\n        ncols=ncols,\\n        nrows=nrows,\\n        figsize=(subfig_width * ncols + 0.4, subfig_width * domain_aspect * nrows),\\n        subplot_kw=dict(projection=ccrs.PlateCarree()),\\n        sharex=True,\\n        sharey=True,\\n    )\\n\\n    axes = axes.flatten()\\n\\n    for ax, dataset_name in tqdm(zip(axes, datasets_page), total=n_flights_page):\\n        ds_to = cat.TO.MASIN[dataset_name].to_dask()\\n        plot_track_with_modis(ds=ds_to, ax=ax)\\n        if dataset_name == datasets_page[-1]:\\n            cax = axes[-1].inset_axes(\\n                [0.0, 0.9, 1.0, 0.1], transform=axes[-1].transAxes\\n            )\\n            cbar = fig.colorbar(lc, ax=axes[-1], cax=cax, orientation=\\\"horizontal\\\")\\n            cbar.set_label(\\\"Altitude (km)\\\")\\n\\n        ax.set_extent(bbox, crs=ccrs.PlateCarree())\\n\\n    axes[-1].axis(\\\"off\\\")\\n    fig.tight_layout()\\n    plot_fn = f\\\"TO_flightpaths_{datasets_page[0].split('_')[0]}_{datasets_page[-1].split('_')[0]}.png\\\"\\n    fig.savefig(plot_fn)\\n    print(f\\\"Saved figure to {plot_fn}\\\")\\n    plt.close(fig)\\n    del fig\\n\\n\\n# plot_page(datasets_1hz[:14])\\nplot_page(datasets_1hz[14:])\";\n",
       "                var nbb_cells = Jupyter.notebook.get_cells();\n",
       "                for (var i = 0; i < nbb_cells.length; ++i) {\n",
       "                    if (nbb_cells[i].input_prompt_number == nbb_cell_id) {\n",
       "                        if (nbb_cells[i].get_text() == nbb_unformatted_code) {\n",
       "                             nbb_cells[i].set_text(nbb_formatted_code);\n",
       "                        }\n",
       "                        break;\n",
       "                    }\n",
       "                }\n",
       "            }, 500);\n",
       "            "
      ],
      "text/plain": [
       "<IPython.core.display.Javascript object>"
      ]
     },
     "metadata": {},
     "output_type": "display_data"
    }
   ],
   "source": [
    "# plot in 3x5-1=14 + 3*4-1=11 subplot figures to split across two pages\n",
    "# so that can use bottom-right to fit colorbar\n",
    "\n",
    "\n",
    "def plot_page(datasets_page):\n",
    "    n_flights_page = len(datasets_page)\n",
    "    ncols = 3\n",
    "    nrows = n_flights_page // ncols\n",
    "    if nrows * ncols < n_flights_page:\n",
    "        nrows += 1\n",
    "\n",
    "    # WESN\n",
    "    bbox = [-60, -56.5, 12.2, 14.5]\n",
    "    domain_aspect = (bbox[3] - bbox[2]) / (bbox[1] - bbox[0])\n",
    "    subfig_width = 5.0\n",
    "\n",
    "    fig, axes = plt.subplots(\n",
    "        ncols=ncols,\n",
    "        nrows=nrows,\n",
    "        figsize=(subfig_width * ncols + 0.4, subfig_width * domain_aspect * nrows),\n",
    "        subplot_kw=dict(projection=ccrs.PlateCarree()),\n",
    "        sharex=True,\n",
    "        sharey=True,\n",
    "    )\n",
    "\n",
    "    axes = axes.flatten()\n",
    "\n",
    "    for ax, dataset_name in tqdm(zip(axes, datasets_page), total=n_flights_page):\n",
    "        ds_to = cat.TO.MASIN[dataset_name].to_dask()\n",
    "        plot_track_with_modis(ds=ds_to, ax=ax)\n",
    "        if dataset_name == datasets_page[-1]:\n",
    "            cax = axes[-1].inset_axes(\n",
    "                [0.0, 0.9, 1.0, 0.1], transform=axes[-1].transAxes\n",
    "            )\n",
    "            cbar = fig.colorbar(lc, ax=axes[-1], cax=cax, orientation=\"horizontal\")\n",
    "            cbar.set_label(\"Altitude (km)\")\n",
    "\n",
    "        ax.set_extent(bbox, crs=ccrs.PlateCarree())\n",
    "\n",
    "    axes[-1].axis(\"off\")\n",
    "    fig.tight_layout()\n",
    "    plot_fn = f\"TO_flightpaths_{datasets_page[0].split('_')[0]}_{datasets_page[-1].split('_')[0]}.png\"\n",
    "    fig.savefig(plot_fn)\n",
    "    print(f\"Saved figure to {plot_fn}\")\n",
    "    plt.close(fig)\n",
    "    del fig\n",
    "\n",
    "\n",
    "# plot_page(datasets_1hz[:14])\n",
    "plot_page(datasets_1hz[14:])"
   ]
  },
  {
   "cell_type": "markdown",
   "id": "260ada9f",
   "metadata": {},
   "source": [
    "TODO\n",
    "\n",
    "- [ ] make GOES-16 true-color composites where I don't have MODIS obs\n",
    "- [ ] write text to explain what I'm doing"
   ]
  },
  {
   "cell_type": "code",
   "execution_count": null,
   "id": "73163b58",
   "metadata": {},
   "outputs": [],
   "source": []
  }
 ],
 "metadata": {
  "kernelspec": {
   "display_name": "Python 3 (ipykernel)",
   "language": "python",
   "name": "python3"
  },
  "language_info": {
   "codemirror_mode": {
    "name": "ipython",
    "version": 3
   },
   "file_extension": ".py",
   "mimetype": "text/x-python",
   "name": "python",
   "nbconvert_exporter": "python",
   "pygments_lexer": "ipython3",
   "version": "3.8.12"
  }
 },
 "nbformat": 4,
 "nbformat_minor": 5
}
