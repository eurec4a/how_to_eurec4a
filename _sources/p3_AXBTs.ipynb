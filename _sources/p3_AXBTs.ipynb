{
 "cells": [
  {
   "cell_type": "markdown",
   "id": "4f779d61",
   "metadata": {},
   "source": [
    "# Ocean temperatures: AXBTs and SWIFT buoys\n",
    "\n",
    "During EUREC⁴A/ATOMIC the P-3 deployed 165 Airborne eXpendable BathyThermographs (AXBTs)\n",
    "to measure profiles of ocean temperature. (These are kind of the oceanic equivalent of\n",
    "dropsondes but they don't measure salinity.) Often these were dropped around\n",
    "other ocean temperature measurements - for example the autonomous\n",
    "Surface Wave Instrument Floats with Tracking (SWIFT) buoys deployed from the\n",
    "Ron Brown by Elizabeth Thompson of NOAA and her colleagues. The SWIFT deployment\n",
    "is described in {cite:t}`Quinn:2021`.\n",
    "\n",
    "Let's take a look at some of the AXBT measurements and how they compare to the\n",
    "SWIFTs."
   ]
  },
  {
   "cell_type": "code",
   "execution_count": null,
   "id": "71cc8532",
   "metadata": {},
   "outputs": [],
   "source": [
    "import xarray as xr\n",
    "import numpy as np\n",
    "import datetime\n",
    "\n",
    "import matplotlib.pyplot as plt\n",
    "import pathlib\n",
    "plt.style.use(pathlib.Path(\"./mplstyle/book\"))\n",
    "%matplotlib inline\n",
    "\n",
    "import eurec4a\n",
    "cat = eurec4a.get_intake_catalog(use_ipfs=\"QmahMN2wgPauHYkkiTGoG2TpPBmj3p5FoYJAq9uE9iXT9N\")"
   ]
  },
  {
   "cell_type": "markdown",
   "id": "b58be3a4",
   "metadata": {},
   "source": [
    "Mapping takes quite some setup. Maybe we'll encapsulate this later but for now we repeat code\n",
    "in each notebook."
   ]
  },
  {
   "cell_type": "code",
   "execution_count": null,
   "id": "33d3b01d",
   "metadata": {
    "tags": [
     "hide-cell"
    ]
   },
   "outputs": [],
   "source": [
    "import matplotlib as mpl\n",
    "import matplotlib.ticker as mticker\n",
    "\n",
    "import cartopy.crs as ccrs\n",
    "from   cartopy.feature import LAND\n",
    "from   cartopy.mpl.gridliner import LONGITUDE_FORMATTER, LATITUDE_FORMATTER\n",
    "def ax_to_map(ax, lon_w = -60.5, lon_e = -49, lat_s = 10, lat_n = 16.5):\n",
    "    # Defining boundaries of the plot\n",
    "    ax.set_extent([lon_w,lon_e,lat_s,lat_n]) # lon west, lon east, lat south, lat north\n",
    "    ax.coastlines(resolution='10m',linewidth=1.5,zorder=1);\n",
    "    ax.add_feature(LAND,facecolor='0.9')\n",
    "\n",
    "def set_up_map(plt, lon_w = -60.5, lon_e = -49, lat_s = 10, lat_n = 16.5):\n",
    "    ax = plt.axes(projection=ccrs.PlateCarree())\n",
    "    ax_to_map(ax, lon_w, lon_e, lat_s, lat_n)\n",
    "    return(ax)\n",
    "\n",
    "def add_gridlines(ax):\n",
    "    # Assigning axes ticks\n",
    "    xticks = np.arange(-65,0,2.5)\n",
    "    yticks = np.arange(0,25,2.5)\n",
    "    gl = ax.gridlines(crs=ccrs.PlateCarree(), draw_labels=True, linewidth=1,\n",
    "                      color='black', alpha=0.5, linestyle='dotted')\n",
    "    gl.xlocator = mticker.FixedLocator(xticks)\n",
    "    gl.ylocator = mticker.FixedLocator(yticks)\n",
    "    gl.xformatter = LONGITUDE_FORMATTER\n",
    "    gl.yformatter = LATITUDE_FORMATTER\n",
    "    gl.xlabel_style = {'size': 10, 'color': 'k'}\n",
    "    gl.ylabel_style = {'size': 10, 'color': 'k'}\n",
    "    gl.right_labels = False\n",
    "    gl.bottom_labels = False\n",
    "    gl.xlabel = {'Latitude'}"
   ]
  },
  {
   "cell_type": "markdown",
   "id": "ebac0b00",
   "metadata": {},
   "source": [
    "What days did the P-3 fly on? We can find out via the flight segmentation files."
   ]
  },
  {
   "cell_type": "code",
   "execution_count": null,
   "id": "2fe74788",
   "metadata": {},
   "outputs": [],
   "source": [
    "# On what days did the P-3 fly? These are UTC date\n",
    "all_flight_segments = eurec4a.get_flight_segments()\n",
    "flight_dates = np.unique([np.datetime64(flight[\"takeoff\"]).astype(\"datetime64[D]\")\n",
    "                          for flight in all_flight_segments[\"P3\"].values()])"
   ]
  },
  {
   "cell_type": "markdown",
   "id": "d8c12e7b",
   "metadata": {},
   "source": [
    "Now set up colors to code each flight date during the experiment. One could choose\n",
    "a categorical palette so the colors were as different from each other as possible.\n",
    "Here we'll choose from a continuous set that spans the experiment so days that are\n",
    "close in time are also close in color."
   ]
  },
  {
   "cell_type": "code",
   "execution_count": null,
   "id": "b274bcd8",
   "metadata": {
    "tags": [
     "hide-cell"
    ]
   },
   "outputs": [],
   "source": [
    "# Like mpl.colors.Normalize but works also with datetime64 objects\n",
    "def mk_norm(vmin, vmax):\n",
    "    def norm(values):\n",
    "        return (values - vmin) / (vmax - vmin)\n",
    "    return norm\n",
    "norm = mk_norm(np.datetime64(\"2020-01-15\"),\n",
    "               np.datetime64(\"2020-02-15\"))\n",
    "\n",
    "# color map for things coded by flight date\n",
    "#   Sample from a continuous color map running from start to end of experiment\n",
    "def color_of_day(day):\n",
    "    return plt.cm.viridis(norm(day), alpha=0.9)"
   ]
  },
  {
   "cell_type": "markdown",
   "id": "345beb36",
   "metadata": {},
   "source": [
    "The P-3 only deployed AXBTs on some flights, and the SWIFT buoys were only deployed\n",
    "on a subset of those dates."
   ]
  },
  {
   "cell_type": "code",
   "execution_count": null,
   "id": "8981ed5b",
   "metadata": {},
   "outputs": [],
   "source": [
    "axbts = cat.P3.AXBT.Level_3.to_dask()\n",
    "swifts = [cat[s].all.to_dask() for s in list(cat) if \"SWIFT\" in s]\n",
    "axbt_dates = np.intersect1d(np.unique(axbts.time.astype(\"datetime64[D]\").values),\n",
    "                            flight_dates)\n",
    "\n",
    "swift_candidates = np.unique(np.concatenate([swift.time.astype('datetime64[D]').values\n",
    "                                             for swift in swifts]))\n",
    "# Dates with potential SWIFT/P-3 overlap\n",
    "swift_dates = np.intersect1d(swift_candidates, axbt_dates)"
   ]
  },
  {
   "cell_type": "markdown",
   "id": "a2223362",
   "metadata": {},
   "source": [
    "For plotting purposes it'll be handy to define a one-day time window and to convert between date/time formats"
   ]
  },
  {
   "cell_type": "code",
   "execution_count": null,
   "id": "21a5cc18",
   "metadata": {},
   "outputs": [],
   "source": [
    "one_day = np.timedelta64(1, \"D\")\n",
    "\n",
    "def to_datetime(dt64):\n",
    "    epoch = np.datetime64(\"1970-01-01\")\n",
    "    second = np.timedelta64(1, \"s\")\n",
    "    return datetime.datetime.utcfromtimestamp((dt64 - epoch) / second)"
   ]
  },
  {
   "cell_type": "markdown",
   "id": "98b9b334",
   "metadata": {},
   "source": [
    "Now we can make a map that shows where the AXBTs were deployed and where the SWIFTs\n",
    "were on days there the two platforms overlapped"
   ]
  },
  {
   "cell_type": "code",
   "execution_count": null,
   "id": "c290c453",
   "metadata": {},
   "outputs": [],
   "source": [
    "fig = plt.figure(figsize = (8.3, 9.4))\n",
    "ax  = set_up_map(plt)\n",
    "add_gridlines(ax)\n",
    "\n",
    "#\n",
    "# AXBT locations\n",
    "#\n",
    "for d in axbt_dates:\n",
    "    flight = axbts.sel(time=slice(d, d + one_day))\n",
    "    ax.scatter(flight.lon, flight.lat,\n",
    "               lw=2, alpha=0.5, color=color_of_day(d),\n",
    "               transform=ccrs.PlateCarree(), zorder=7,\n",
    "               label=f\"{to_datetime(d):%m-%d}\")\n",
    "\n",
    "#\n",
    "# SWIFT locations on selected dates (where there's overlap)\n",
    "#\n",
    "for d in swift_dates:\n",
    "    flight = axbts.sel(time=slice(d, d + one_day))\n",
    "    for swift in swifts:\n",
    "        drift = swift.sel(time = flight.time.mean(), method = \"nearest\")\n",
    "        ax.scatter(drift.lon, drift.lat,\n",
    "                   alpha=1, color=color_of_day(d),\n",
    "                   transform=ccrs.PlateCarree(), zorder=7, marker = \"p\")\n",
    "\n",
    "plt.legend(ncol=2,loc=(0.0,0.0),fontsize=12,framealpha=0.8,markerscale=1,\n",
    "           title=\"Flight date (MM-DD-2020)\")"
   ]
  },
  {
   "cell_type": "markdown",
   "id": "da1a4a5d",
   "metadata": {},
   "source": [
    "On 19 Jan and 3 Feb the AXBTs bracket the SWIFTs; on 23 Jan the SWIFTs are at\n",
    "the southern end of the AXBT pattern.\n",
    "\n",
    "The next plot will focus on 19 Jan.\n",
    "Let's look at the profile of ocean temperature in the first 150 m from the AXBTs\n",
    "and compare the near-surface temperatures to the SWIFTs they are surrounding."
   ]
  },
  {
   "cell_type": "code",
   "execution_count": null,
   "id": "2b46b01e",
   "metadata": {},
   "outputs": [],
   "source": [
    "fig, ax = plt.subplots(figsize=[8.3, 9.4])\n",
    "d = np.datetime64(\"2020-01-19\")\n",
    "axbt_1day   = axbts.sel(time=slice(d, d + one_day))\n",
    "# Swift data at mean of AXBT times\n",
    "swifts_1day = [s.sel(time = axbt_1day.time.mean(), method = \"nearest\") for s in swifts]\n",
    "\n",
    "axbt_1day.temperature.sel(depth=slice(None,150)).plot.line(y=\"depth\",\n",
    "                                                           add_legend=False, yincrease=False)\n",
    "ax.set_xlabel(\"Sea water temperature (K)\")\n",
    "ax.set_ylabel(\"Depth (m)\")\n",
    "\n",
    "#\n",
    "# Inset plot! https://matplotlib.org/3.1.1/gallery/subplots_axes_and_figures/zoom_inset_axes.html\n",
    "#\n",
    "axin = ax.inset_axes([0.06, 0.84, 0.6, 0.12])\n",
    "axin.scatter([s.sea_water_temperature.values + 273.15 for s in swifts_1day],\n",
    "             # SWIFTs 16 and 17 report water temperature at 0.5 m depth; SWIFTs 23-25 report at 0.3 m\n",
    "             # See the variable long_name or  Tables 8 and 9 of Quinn et al.\n",
    "             [0.5 if '0.5' in s.sea_water_temperature.long_name else 0.3 for s in swifts_1day],\n",
    "             color=\"0.25\",\n",
    "             s = 1.5 * plt.rcParams['lines.markersize'] ** 2)\n",
    "axbt_1day.temperature.sel(depth=slice(None,3)).plot.line(y=\"depth\",\n",
    "                                                         add_legend=False,\n",
    "                                                         yincrease=False, ax = axin)\n",
    "axin.set_xlabel(\"Sea water temperature (K)\")\n",
    "axin.set_ylabel(\"Depth (m)\")\n",
    "ax.indicate_inset_zoom(axin)"
   ]
  }
 ],
 "metadata": {
  "jupytext": {
   "text_representation": {
    "extension": ".md",
    "format_name": "myst",
    "format_version": 0.13,
    "jupytext_version": "1.11.2"
   }
  },
  "kernelspec": {
   "display_name": "Python 3",
   "language": "python",
   "name": "python3"
  },
  "source_map": [
   12,
   27,
   39,
   44,
   79,
   83,
   88,
   95,
   110,
   115,
   125,
   129,
   136,
   141,
   169,
   178
  ]
 },
 "nbformat": 4,
 "nbformat_minor": 5
}