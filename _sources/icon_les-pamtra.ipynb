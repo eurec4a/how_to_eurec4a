{
 "cells": [
  {
   "cell_type": "markdown",
   "id": "bae6249e",
   "metadata": {},
   "source": [
    "# Synthetic measurements\n",
    "\n",
    "For a better comparison of the simulation output with measurements taken during EUREC<sup>4</sup>A forward operators have been applied to some output variables. In the following the resulting products are presented.\n",
    "\n",
    "## Radar measurements\n",
    "\n",
    "As pointed out in {doc}`cloudmasks` defining the boundaries of a cloud is not an easy task and depends a lot on the used instrument. How to compare these measurements with the simulation output then? In the following, we use the [PAMTRA radar forward operator](https://github.com/igmk/pamtra) {cite:p}`Mech:2020` to create synthetic radar measurements from the simulation output that can be more quantitatively be compared to the actual measurements.\n",
    "\n",
    "The synthetic radar data is available through the EUREC<sup>4</sup>A Intake catalog and available for all meteogram locations, model experiments and domains.\n",
    "\n",
    "### Comparison with observations"
   ]
  },
  {
   "cell_type": "code",
   "execution_count": null,
   "id": "311de384",
   "metadata": {
    "tags": [
     "remove-cell"
    ]
   },
   "outputs": [],
   "source": [
    "import numpy as np\n",
    "import datetime as dt\n",
    "import eurec4a\n",
    "import matplotlib.pyplot as plt\n",
    "from matplotlib import dates\n",
    "from pandas.plotting import register_matplotlib_converters\n",
    "register_matplotlib_converters()\n",
    "import pathlib\n",
    "plt.style.use([pathlib.Path(\"./mplstyle/book\"), pathlib.Path(\"./mplstyle/wide\")])\n",
    "cat = eurec4a.get_intake_catalog()"
   ]
  },
  {
   "cell_type": "markdown",
   "id": "a0cb3d55",
   "metadata": {},
   "source": [
    "#### Selecting a specific synthetic radar location, in this case at the BCO."
   ]
  },
  {
   "cell_type": "code",
   "execution_count": null,
   "id": "1ceb461f",
   "metadata": {},
   "outputs": [],
   "source": [
    "#Synthetic\n",
    "ds_syn = cat.simulations.ICON.LES_CampaignDomain_control.synthetic_radar_BCO_DOM01.to_dask()\n",
    "#Observations\n",
    "ds_obs = cat.barbados.bco.radar_reflectivity.to_dask()"
   ]
  },
  {
   "cell_type": "markdown",
   "id": "c8fe4a1c",
   "metadata": {},
   "source": [
    "#### Plotting timeseries"
   ]
  },
  {
   "cell_type": "code",
   "execution_count": null,
   "id": "02042bd1",
   "metadata": {},
   "outputs": [],
   "source": [
    "time_min = np.datetime64('2020-02-12T00:00:00')\n",
    "time_max = np.datetime64('2020-02-12T23:59:59')\n",
    "\n",
    "# selecting subset of data\n",
    "ds_sliced_syn = ds_syn.sel(time=slice(time_min, time_max))\n",
    "ds_sliced_obs = ds_obs.sel(time=slice(time_min, time_max))\n",
    "\n",
    "fig, axs = plt.subplots(2,1, sharex=True, sharey=True)\n",
    "ds_sliced_syn.Z_att.where(ds_sliced_syn.Z_att > -50).plot(x='time', y='height', cmap=\"seismic\", ax=axs[0])\n",
    "ds_sliced_obs.Zf.where(ds_sliced_obs.Zf > -50).plot(x='time', y='range', cmap=\"seismic\", ax=axs[1])\n",
    "axs[0].set_ylabel('range / m');\n",
    "axs[1].set_xlim(time_min, time_max)\n",
    "axs[1].set_ylim(0, 4500);\n",
    "axs[1].set_ylabel('range / m');"
   ]
  },
  {
   "cell_type": "markdown",
   "id": "53297d98",
   "metadata": {},
   "source": [
    "To have a similar sensitivity and exclude reflectivities originating from sea-salt (which are not captured by the simulations and therefore the forward operator) a reflecitivy threshold of -50 dBZ is applied to both sources."
   ]
  }
 ],
 "metadata": {
  "jupytext": {
   "text_representation": {
    "extension": ".md",
    "format_name": "myst",
    "format_version": 0.12,
    "jupytext_version": "1.7.1"
   }
  },
  "kernelspec": {
   "display_name": "Python 3",
   "language": "python",
   "name": "python3"
  },
  "source_map": [
   12,
   25,
   37,
   41,
   46,
   50,
   65
  ]
 },
 "nbformat": 4,
 "nbformat_minor": 5
}