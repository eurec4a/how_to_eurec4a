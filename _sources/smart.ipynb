{
 "cells": [
  {
   "cell_type": "markdown",
   "id": "b0cc9234",
   "metadata": {},
   "source": [
    "# SMART dataset\n",
    "\n",
    "The following script exemplifies the access and usage of SMART data measured during EUREC4A. The Spectral Modular Airborne Radiation measurement sysTem (SMART) measures downward irradiances in the solar spectral range between 300 nm and 2200 nm.\n",
    "\n",
    "More information on the dataset can be found in {cite:t}`Stevens:2019` and {cite:t}`Wendisch:2001`. If you have questions or if you would like to use the data for a publication, please don't hesitate to get in contact with the dataset authors as stated in the dataset attributes `contact` or `author`.\n",
    "\n",
    "## Get data\n",
    "* To load the data we first load the EUREC4A meta data catalogue. More information on the catalog can be found [here](https://github.com/eurec4a/eurec4a-intake#eurec4a-intake-catalogue)."
   ]
  },
  {
   "cell_type": "code",
   "execution_count": null,
   "id": "75be9730",
   "metadata": {},
   "outputs": [],
   "source": [
    "import eurec4a"
   ]
  },
  {
   "cell_type": "code",
   "execution_count": null,
   "id": "17ce4057",
   "metadata": {},
   "outputs": [],
   "source": [
    "cat = eurec4a.get_intake_catalog(use_ipfs=\"QmahMN2wgPauHYkkiTGoG2TpPBmj3p5FoYJAq9uE9iXT9N\")\n",
    "list(cat.HALO.SMART)"
   ]
  },
  {
   "cell_type": "markdown",
   "id": "96c09367",
   "metadata": {},
   "source": [
    "* We can further specify a product and a flight and obtain the dataset using `to_dask`.\n",
    "\n",
    "```{note}\n",
    "Have a look at the attributes of the xarray dataset `ds_smart` for all relevant information on the dataset, such as author, contact, or citation infromation.\n",
    "```"
   ]
  },
  {
   "cell_type": "code",
   "execution_count": null,
   "id": "3b09ec6f",
   "metadata": {},
   "outputs": [],
   "source": [
    "ds_smart = cat.HALO.SMART.spectral_irradiances['HALO-0205'].to_dask()\n",
    "ds_smart"
   ]
  },
  {
   "cell_type": "markdown",
   "id": "53ab4aad",
   "metadata": {},
   "source": [
    "The available dataset includes irradiances for six selected wavelengths (422nm, 532nm, 648nm, 858nm, 1238nm, 1638nm). The full dataset is available on demand. Contact the dataset authors as stated in the dataset attributes `contact`.\n",
    "\n",
    "First Quickplot of whole flight (one wavelength)"
   ]
  },
  {
   "cell_type": "code",
   "execution_count": null,
   "id": "e940b88f",
   "metadata": {},
   "outputs": [],
   "source": [
    "%matplotlib inline\n",
    "import matplotlib.pyplot as plt\n",
    "import pathlib\n",
    "plt.style.use(pathlib.Path(\"./mplstyle/book\"))\n",
    "\n",
    "ds_smart.F_down_solar_wl_422.plot();"
   ]
  },
  {
   "cell_type": "markdown",
   "id": "d98fde23",
   "metadata": {},
   "source": [
    "## Load HALO flight phase information\n",
    "All HALO flights were split up into flight phases or segments to allow for a precise selection in time and space of a circle or calibration pattern. For more information have a look at the respective [github repository](https://github.com/eurec4a/halo-flight-phase-separation)."
   ]
  },
  {
   "cell_type": "code",
   "execution_count": null,
   "id": "09896dc1",
   "metadata": {},
   "outputs": [],
   "source": [
    "meta = eurec4a.get_flight_segments()"
   ]
  },
  {
   "cell_type": "markdown",
   "id": "cc1d99d7",
   "metadata": {},
   "source": [
    "We select the flight phase we are interested in, e.g. the second circle on February 5 by it’s segment_id."
   ]
  },
  {
   "cell_type": "code",
   "execution_count": null,
   "id": "5df84081",
   "metadata": {},
   "outputs": [],
   "source": [
    "segments = {s[\"segment_id\"]: {**s, \"flight_id\": flight[\"flight_id\"]}\n",
    "             for platform in meta.values()\n",
    "             for flight in platform.values()\n",
    "             for s in flight[\"segments\"]\n",
    "            }\n",
    "seg = segments[\"HALO-0205_c2\"]"
   ]
  },
  {
   "cell_type": "markdown",
   "id": "0d565eb1",
   "metadata": {},
   "source": [
    "We transfer the information from our flight segment selection to our radar and radiometer data in the xarray dataset."
   ]
  },
  {
   "cell_type": "code",
   "execution_count": null,
   "id": "5c8544e9",
   "metadata": {},
   "outputs": [],
   "source": [
    "ds_smart_selection = ds_smart.sel(time=slice(seg[\"start\"], seg[\"end\"]))"
   ]
  },
  {
   "cell_type": "markdown",
   "id": "07d6cd84",
   "metadata": {},
   "source": [
    "## Plots"
   ]
  },
  {
   "cell_type": "markdown",
   "id": "5dbae827",
   "metadata": {},
   "source": [
    "We plot the spectral irradiances from different wavelengths measured with SMART during the selected flight segment."
   ]
  },
  {
   "cell_type": "code",
   "execution_count": null,
   "id": "747d1c13",
   "metadata": {},
   "outputs": [],
   "source": [
    "fig, ax = plt.subplots()\n",
    "wl_list=[422,532,648,858,1238,1638]\n",
    "for i in wl_list:\n",
    "    ds_smart_selection[f'F_down_solar_wl_{i}'].plot(label =f'{i} nm')\n",
    "ax.legend()\n",
    "ax.set_ylabel('Spectral downward irradiance / Wm$^{-2}$nm$^{-1}$')\n",
    "None"
   ]
  }
 ],
 "metadata": {
  "jupytext": {
   "text_representation": {
    "extension": ".md",
    "format_name": "myst",
    "format_version": 0.12,
    "jupytext_version": "1.8.1"
   }
  },
  "kernelspec": {
   "display_name": "Python 3",
   "language": "python",
   "name": "python3"
  },
  "source_map": [
   12,
   23,
   27,
   30,
   38,
   41,
   47,
   54,
   59,
   61,
   65,
   72,
   76,
   78,
   82,
   86
  ]
 },
 "nbformat": 4,
 "nbformat_minor": 5
}