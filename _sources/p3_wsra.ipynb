{
 "cells": [
  {
   "cell_type": "markdown",
   "id": "254921b6",
   "metadata": {},
   "source": [
    "# WSRA example: surface wave state\n",
    "\n",
    "During EUREC⁴A/ATOMIC the P-3 flew with a Wide Swath Radar Altimeter (WSRA),\n",
    "a digital beam-forming radar altimeter operating at 16 GHz in the Ku band. It\n",
    "generates 80 narrow beams spread over 30 deg to produce a topographic map of the\n",
    "sea surface waves and their backscattered power. These measurements allow for\n",
    "continuous reporting of directional ocean wave spectra and quantities derived from\n",
    "this including significant wave height, sea surface mean square slope, and the\n",
    "height, wavelength, and direction of propagation of primary and secondary wave fields.\n",
    "WSRA measurements are processed by the private company [ProSensing](https://www.prosensing.com),\n",
    "which designed and built the instrument.\n",
    "\n",
    "The WSRA also produces rainfall rate estimates from path-integrated attenuation but\n",
    "we won't look at those here.\n",
    "\n",
    "The data are available through the EUREC⁴A intake catalog."
   ]
  },
  {
   "cell_type": "code",
   "execution_count": null,
   "id": "977e8236",
   "metadata": {},
   "outputs": [],
   "source": [
    "import xarray as xr\n",
    "import numpy as np\n",
    "\n",
    "import matplotlib.pyplot as plt\n",
    "import pathlib\n",
    "plt.style.use(pathlib.Path(\"./mplstyle/book\"))\n",
    "import colorcet as cc\n",
    "%matplotlib inline\n",
    "\n",
    "import eurec4a\n",
    "cat = eurec4a.get_intake_catalog(use_ipfs=\"QmahMN2wgPauHYkkiTGoG2TpPBmj3p5FoYJAq9uE9iXT9N\")"
   ]
  },
  {
   "cell_type": "markdown",
   "id": "6215aa90",
   "metadata": {},
   "source": [
    "Mapping takes quite some setup. Maybe we'll encapsulate this later but for now we repeat code\n",
    "in each notebook."
   ]
  },
  {
   "cell_type": "code",
   "execution_count": null,
   "id": "49c1d8a1",
   "metadata": {
    "tags": [
     "hide-cell"
    ]
   },
   "outputs": [],
   "source": [
    "import matplotlib.ticker as mticker\n",
    "\n",
    "import cartopy.crs as ccrs\n",
    "from   cartopy.feature import LAND\n",
    "from   cartopy.mpl.gridliner import LONGITUDE_FORMATTER, LATITUDE_FORMATTER\n",
    "\n",
    "def ax_to_map(ax, lon_w = -60.5, lon_e = -49, lat_s = 10, lat_n = 16.5):\n",
    "    # Defining boundaries of the plot\n",
    "    ax.set_extent([lon_w,lon_e,lat_s,lat_n]) # lon west, lon east, lat south, lat north\n",
    "    ax.coastlines(resolution='10m',linewidth=1.5,zorder=1);\n",
    "    ax.add_feature(LAND,facecolor='0.9')\n",
    "\n",
    "def set_up_map(plt, lon_w = -60.5, lon_e = -49, lat_s = 10, lat_n = 16.5):\n",
    "    ax = plt.axes(projection=ccrs.PlateCarree())\n",
    "    ax_to_map(ax, lon_w, lon_e, lat_s, lat_n)\n",
    "    return(ax)\n",
    "\n",
    "def add_gridlines(ax):\n",
    "    # Assigning axes ticks\n",
    "    xticks = np.arange(-65,0,2.5)\n",
    "    yticks = np.arange(0,25,2.5)\n",
    "    gl = ax.gridlines(crs=ccrs.PlateCarree(), draw_labels=True, linewidth=1,\n",
    "                      color='black', alpha=0.5, linestyle='dotted')\n",
    "    gl.xlocator = mticker.FixedLocator(xticks)\n",
    "    gl.ylocator = mticker.FixedLocator(yticks)\n",
    "    gl.xformatter = LONGITUDE_FORMATTER\n",
    "    gl.yformatter = LATITUDE_FORMATTER\n",
    "    gl.xlabel_style = {'size': 10, 'color': 'k'}\n",
    "    gl.ylabel_style = {'size': 10, 'color': 'k'}\n",
    "    gl.right_labels = False\n",
    "    gl.bottom_labels = False\n",
    "    gl.xlabel = {'Latitude'}"
   ]
  },
  {
   "cell_type": "markdown",
   "id": "0a5a2427",
   "metadata": {},
   "source": [
    "We'll select an hour's worth of observations from a single flight day. WSRA data\n",
    "are stored as \"trajectories\" - discrete times with associated positions and\n",
    "observations."
   ]
  },
  {
   "cell_type": "code",
   "execution_count": null,
   "id": "0acfadc9",
   "metadata": {},
   "outputs": [],
   "source": [
    "wsra_example = cat.P3.wsra[\"P3-0119\"].to_dask().sel(trajectory=slice(0,293))"
   ]
  },
  {
   "cell_type": "markdown",
   "id": "78c519f3",
   "metadata": {},
   "source": [
    "Now it's interesting to see how the wave slope (top panel) and the wave height (bottom)\n",
    "vary spatially on a given day."
   ]
  },
  {
   "cell_type": "code",
   "execution_count": null,
   "id": "1d543ae0",
   "metadata": {},
   "outputs": [],
   "source": [
    "fig, (ax1, ax2) = plt.subplots(nrows=2, sharex = True, figsize = (12,8), \n",
    "                               subplot_kw={'projection': ccrs.PlateCarree()})\n",
    "\n",
    "#\n",
    "# Mean square slope\n",
    "#\n",
    "ax_to_map(ax1, lon_e=-50, lon_w=-54.5, lat_s = 13, lat_n = 16)\n",
    "add_gridlines(ax1)\n",
    "pts = ax1.scatter(wsra_example.longitude,wsra_example.latitude,\n",
    "           c=wsra_example.sea_surface_mean_square_slope_median,\n",
    "           vmin = 0.02, vmax=0.04,\n",
    "           cmap=cc.cm.fire,\n",
    "           alpha=0.5,\n",
    "           transform=ccrs.PlateCarree(),zorder=7)\n",
    "fig.colorbar(pts, ax=ax1, shrink=0.75, aspect=10, label=\"Mean Square Slope (rad$^2$)\")\n",
    "#\n",
    "# Significant wave height\n",
    "#\n",
    "ax_to_map(ax2, lon_e=-50, lon_w=-54.5, lat_s = 13, lat_n = 16)\n",
    "add_gridlines(ax2)\n",
    "pts = ax2.scatter(wsra_example.longitude,wsra_example.latitude,\n",
    "           c=wsra_example.sea_surface_wave_significant_height,\n",
    "           vmin = 1, vmax=5,\n",
    "           cmap=cc.cm.bgy,\n",
    "           alpha=0.5,\n",
    "           transform=ccrs.PlateCarree(),zorder=7)\n",
    "fig.colorbar(pts, ax=ax2, shrink=0.75, aspect=10, label=\"Significant Wave Height (m)\")"
   ]
  }
 ],
 "metadata": {
  "jupytext": {
   "text_representation": {
    "extension": ".md",
    "format_name": "myst",
    "format_version": 0.13,
    "jupytext_version": "1.11.2"
   }
  },
  "kernelspec": {
   "display_name": "Python 3",
   "language": "python",
   "name": "python3"
  },
  "source_map": [
   12,
   31,
   43,
   48,
   83,
   89,
   91,
   96
  ]
 },
 "nbformat": 4,
 "nbformat_minor": 5
}