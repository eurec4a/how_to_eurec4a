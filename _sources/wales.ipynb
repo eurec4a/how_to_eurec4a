{
 "cells": [
  {
   "cell_type": "markdown",
   "id": "bc704851",
   "metadata": {},
   "source": [
    "# WALES Lidar\n",
    "\n",
    "The water vapour differential absorption lidar WALES.\n",
    "WALES operates at four wave-lengths near 935 nm to measure water-vapor mixing ratio profiles covering the whole atmosphere below the aircraft.\n",
    "The system also contains additional aerosol channels at 532 nm and 1064 nm with depolarization.  WALES uses a high-spectral resolution technique, which distinguishes molecular from particle backscatter.\n",
    "\n",
    "The backscatter product from the HSRL has a resolution of 40 m in the horizontal (corresponding to temporal resolution of 5 Hz and a typical 200 m/s flight speed) and 15m in the vertical, while the water vapor product has approximately 3km horizontal and 250m vertical. The PIs during EUREC4A were Martin Wirth and Heike Gross (DLR).\n",
    "\n",
    "More information on the instrument can be found in [Wirth et al., 2009](https://elib.dlr.de/58175/). If you have questions or if you would like to use the data for a publication, please don't hesitate to get in contact with the dataset authors as stated in the dataset attributes `contact` or `author`.\n",
    "\n",
    "```{note}\n",
    "Due to safety regulations the Lidar can only be operated above 6 km which leads to data gaps in about the first and last 30 minutes of each flight.\n",
    "```"
   ]
  },
  {
   "cell_type": "code",
   "execution_count": null,
   "id": "dc6dadfc",
   "metadata": {},
   "outputs": [],
   "source": [
    "import eurec4a\n",
    "import xarray as xr"
   ]
  },
  {
   "cell_type": "markdown",
   "id": "6bb46b56",
   "metadata": {},
   "source": [
    "## Get data\n",
    "To load the data we first load the EUREC4A meta data catalog and list the available datasets from WALES. \n",
    "\n",
    "More information on the catalog can be found [here](https://github.com/eurec4a/eurec4a-intake#eurec4a-intake-catalogue)."
   ]
  },
  {
   "cell_type": "code",
   "execution_count": null,
   "id": "17e9d5aa",
   "metadata": {},
   "outputs": [],
   "source": [
    "cat = eurec4a.get_intake_catalog(use_ipfs=\"QmahMN2wgPauHYkkiTGoG2TpPBmj3p5FoYJAq9uE9iXT9N\")\n",
    "print(cat.HALO.WALES.cloudparameter.description)"
   ]
  },
  {
   "cell_type": "markdown",
   "id": "d1c574f1",
   "metadata": {},
   "source": [
    "## Cloud parameter"
   ]
  },
  {
   "cell_type": "code",
   "execution_count": null,
   "id": "9f2473b4",
   "metadata": {},
   "outputs": [],
   "source": [
    "ds_cloud = cat.HALO.WALES.cloudparameter[\"HALO-0205\"].to_dask()\n",
    "ds_cloud"
   ]
  },
  {
   "cell_type": "markdown",
   "id": "8defdc3c",
   "metadata": {},
   "source": [
    "We select 1min of flight `time`. You can freely change the times or put `None` instead of the slice start and/or end to get up to the full flight data.\n",
    "We explicitly `load()` the dataset at this stage as want to use this subset multiple times in the following.\n",
    "\n",
    "```{note}\n",
    "`load()` should always be called late and in particular after subsetting the data to prevent loading more than necessary.\n",
    "```"
   ]
  },
  {
   "cell_type": "code",
   "execution_count": null,
   "id": "7eacb7f9",
   "metadata": {},
   "outputs": [],
   "source": [
    "ds_cloud_sel = ds_cloud.sel(time=slice(\"2020-02-05T13:06:30\", \"2020-02-05T13:07:030\")).load()"
   ]
  },
  {
   "cell_type": "markdown",
   "id": "94ca6c29",
   "metadata": {},
   "source": [
    "In order to work with the different cloud mask flags, we extract the meanings into a dictionary, which we can later use to select relevant data:"
   ]
  },
  {
   "cell_type": "code",
   "execution_count": null,
   "id": "50c40033",
   "metadata": {},
   "outputs": [],
   "source": [
    "cm_meanings = dict(zip(ds_cloud_sel.cloud_mask.flag_meanings.split(\" \"),\n",
    "                       ds_cloud_sel.cloud_mask.flag_values))\n",
    "cm_meanings"
   ]
  },
  {
   "cell_type": "code",
   "execution_count": null,
   "id": "156efe5f",
   "metadata": {},
   "outputs": [],
   "source": [
    "%matplotlib inline\n",
    "import numpy as np\n",
    "import matplotlib.pyplot as plt\n",
    "import pathlib\n",
    "plt.style.use(pathlib.Path(\"./mplstyle/book\"))\n",
    "\n",
    "fig, axes = plt.subplots(3, 1, sharex=True)\n",
    "ax1, ax2, ax3 = axes\n",
    "\n",
    "cloud_free = ds_cloud_sel.cloud_mask[ds_cloud_sel.cloud_mask == cm_meanings[\"cloud_free\"]]\n",
    "cloud_free.plot(ax=ax1, x=\"time\", ls=\"\", marker=\".\", color=\"C0\", label=\"no cloud\")\n",
    "\n",
    "thin_cloud = ds_cloud_sel.cloud_mask[ds_cloud_sel.cloud_ot<=3]\n",
    "thin_cloud.plot(ax=ax1, x=\"time\", ls=\"\", marker=\".\", color=\"grey\", label=\"cloud with OT <= 3\")\n",
    "\n",
    "thick_cloud = ds_cloud_sel.cloud_mask[ds_cloud_sel.cloud_ot>3]\n",
    "thick_cloud.plot(ax=ax1, x=\"time\", ls=\"\", marker=\".\", color=\"k\", label=\"cloud with OT > 3\")\n",
    "\n",
    "ax1.set_ylabel(f\"{ds_cloud_sel.cloud_mask.long_name}\")\n",
    "\n",
    "\n",
    "ot_of_thin_cloud = ds_cloud_sel.cloud_ot[ds_cloud_sel.cloud_ot<=3]\n",
    "ot_of_thin_cloud.plot(ax=ax2, x=\"time\", ls=\"\", marker=\".\", color=\"grey\", label=\"cloud (OT <= 3)\")\n",
    "\n",
    "ot_of_thick_cloud = ds_cloud_sel.cloud_ot[ds_cloud_sel.cloud_ot>3]\n",
    "ot_of_thick_cloud.plot(ax=ax2, x=\"time\", ls=\"\", marker=\".\", color=\"k\", label=\"cloud (OT > 3)\")\n",
    "\n",
    "ax2.set_ylabel(f\"{ds_cloud_sel.cloud_ot.long_name}\")\n",
    "\n",
    "\n",
    "pbl_top = ds_cloud_sel.pbl_top\n",
    "pbl_top.plot(ax=ax3, x=\"time\", ls=\"\", marker=\".\", color=\"C0\", label=\"boundary layer top\")\n",
    "\n",
    "thin_cloud_top = ds_cloud_sel.cloud_top[ds_cloud_sel.cloud_ot<=3]\n",
    "thin_cloud_top.plot(ax=ax3, x=\"time\", ls=\"\", marker=\".\", color=\"grey\", label=\"cloud top (OT <= 3)\")\n",
    "\n",
    "thick_cloud_top = ds_cloud_sel.cloud_top[ds_cloud_sel.cloud_ot>3]\n",
    "thick_cloud_top.plot(ax=ax3, x=\"time\", ls=\"\", marker=\".\", color=\"k\", label=\"cloud top (OT > 3)\")\n",
    "\n",
    "ax3.set_ylim(0, 2000)\n",
    "ax3.set_ylabel(\"height above sea [m]\")\n",
    "ax3.set_xlabel('time in UTC')\n",
    "\n",
    "for ax in axes:\n",
    "    ax.label_outer()\n",
    "    ax.legend()\n",
    "\n",
    "fig.align_ylabels()\n",
    "None"
   ]
  },
  {
   "cell_type": "markdown",
   "id": "0248d266",
   "metadata": {},
   "source": [
    "## Cloud fraction\n",
    "The cloud fraction can be estimated based on how often the instrument detected a cloud versus how often it measured anything.\n",
    "So, in order to compute the cloud fraction correctly, we must take care of missing values, in the original dataset.\n",
    "As Python has no commonly used way of carrying on a missing value through comparisions, we must keep track of it ourselves.\n",
    "\n",
    "```{note}\n",
    "In contrary, the R language for example knows about the special value `NA` which is carried along through compatisons, such that the\n",
    "result of the comparison `NA == 3` continues to be `NA`.\n",
    "\n",
    "In Python and in particular using `xarray`, [missing data is expressed as `np.nan`](https://pandas.pydata.org/pandas-docs/version/0.19.2/gotchas.html#nan-integer-na-values-and-na-type-promotions), and due to floating point rules `np.nan == 3` evaluates to `False`.\n",
    "As this `False` value is indistinguishable from a value which didn't match out flag (`3` in this case), averaging over the result\n",
    "would lead to a wrong cloud fraction result.\n",
    "```\n",
    "\n",
    "To keep track of the missing data, we'll use `DataArray.where` on our boolean results to convert the results back to\n",
    "floating-point numbers (`0` and `1`) and fill missing values back in as `np.nan`. Later on, methods like `.sum()` and `.mean()` will\n",
    "automatically skip the `np.nan` values such that our results will be correct.\n",
    "To finally compute the cloud fraction, we need some form of binary cloud mask, which contains values of either 0 or one.\n",
    "To do so, we have two options, depending on whether we want to include `'probably_cloudy'` or not. These two options\n",
    "are denoted by `min_` (without probably cloudy) and `max_` (with probably cloudy) prefixes."
   ]
  },
  {
   "cell_type": "code",
   "execution_count": null,
   "id": "9822b2b3",
   "metadata": {},
   "outputs": [],
   "source": [
    "cloudy_flags = xr.DataArray(\n",
    "    [cm_meanings['probably_cloudy'], cm_meanings['most_likely_cloudy']],\n",
    "    dims=(\"flags\",))\n",
    "\n",
    "min_cloud_binary_mask = (ds_cloud.cloud_mask == cm_meanings['most_likely_cloudy']).where(ds_cloud.cloud_mask.notnull())\n",
    "max_cloud_binary_mask = (ds_cloud.cloud_mask == cloudy_flags).any(\"flags\").where(ds_cloud.cloud_mask.notnull())\n",
    "cloud_ot_gt3 = (ds_cloud.cloud_ot > 3).where(ds_cloud.cloud_ot.notnull())\n",
    "\n",
    "print(f\"Minimum cloud fraction on Feb 5: {min_cloud_binary_mask.mean().values * 100:.2f} %\")\n",
    "print(f\"Total cloud fraction on Feb 5: {max_cloud_binary_mask.mean().values * 100:.2f} %\")\n",
    "print(f\"Fraction of clouds with optical thickness greater than 3: {cloud_ot_gt3.mean().values * 100:.2f} %\")"
   ]
  },
  {
   "cell_type": "markdown",
   "id": "dffbb00e",
   "metadata": {},
   "source": [
    "As it turns out, in this section of the flight, the instrument is very certain about the cloudiness.\n",
    "Yet, this missing value story was a bit complicated, so let's check if we would get something different if we would do it the naive way:"
   ]
  },
  {
   "cell_type": "code",
   "execution_count": null,
   "id": "b9a2a8e3",
   "metadata": {},
   "outputs": [],
   "source": [
    "cf_wrong = (ds_cloud.cloud_mask == cloudy_flags).any(\"flags\").mean().values\n",
    "print(f\"wrong cloud fraction: {cf_wrong * 100:.2f} %\")"
   ]
  },
  {
   "cell_type": "markdown",
   "id": "d80222fe",
   "metadata": {},
   "source": [
    "Indeed, this is different... Good that we have thought about it.\n",
    "\n",
    "We can now use a time averaging window to derive a time dependent cloud fraction from the `cloud_mask` variable and see how it varies over the course of the flight."
   ]
  },
  {
   "cell_type": "code",
   "execution_count": null,
   "id": "1549d6a9",
   "metadata": {},
   "outputs": [],
   "source": [
    "with plt.style.context(\"mplstyle/wide\"):\n",
    "    fig, ax = plt.subplots()\n",
    "\n",
    "    ax.set_prop_cycle(color=plt.get_cmap(\"magma\")(np.linspace(0, 1, 4)))\n",
    "    for ind, t in enumerate([1, 5, 10]):\n",
    "        averaged_cloud_fraction = min_cloud_binary_mask.resample(time=f\"{t}min\", loffset=f\"{t/2}min\").mean()\n",
    "        averaged_cloud_fraction.plot(lw=ind + 1, label=f\"{t} min\")\n",
    "\n",
    "    ax.set_ylim(0, 1)\n",
    "    ax.set_ylabel(\"Cloud fraction\")\n",
    "    ax.set_xlabel(\"date: MM-DD HH\")\n",
    "    ax.legend(title=\"averaging period\", bbox_to_anchor=(1,1), loc=\"upper left\")\n",
    "    None"
   ]
  }
 ],
 "metadata": {
  "jupytext": {
   "text_representation": {
    "extension": ".md",
    "format_name": "myst",
    "format_version": 0.12,
    "jupytext_version": "1.8.0"
   }
  },
  "kernelspec": {
   "display_name": "Python 3",
   "language": "python",
   "name": "python3"
  },
  "source_map": [
   12,
   28,
   31,
   38,
   41,
   45,
   48,
   57,
   59,
   62,
   69,
   119,
   142,
   154,
   159,
   162,
   168
  ]
 },
 "nbformat": 4,
 "nbformat_minor": 5
}