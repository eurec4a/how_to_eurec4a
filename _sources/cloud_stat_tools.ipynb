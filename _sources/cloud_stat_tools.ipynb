{
 "cells": [
  {
   "cell_type": "markdown",
   "id": "6864fe56",
   "metadata": {},
   "source": [
    "# Cloud statistics\n",
    "\n",
    "Computing statistics of consecutive cloudy segments in a dataset can be challenging to implement efficiently in Python. Here are some ideas which show how this can be done in a vectorized (i.e. numpy friendly) way.\n",
    "\n",
    "This chapter assumes that a cloud mask and possibly other cloud-related parameters are defined on a 1D trajectory as shown as blue line in the following illustration. We are interested in analysing those parameters per consecutive cloudy segment (indicated in orange).\n",
    "\n",
    "```{figure} figures/cloud_segment_trajectory.jpg\n",
    ":alt: trajectory with cloud segments\n",
    ":width: 50%\n",
    ":align: center\n",
    "```"
   ]
  },
  {
   "cell_type": "code",
   "execution_count": null,
   "id": "4bf8be55",
   "metadata": {
    "tags": [
     "hide-cell"
    ]
   },
   "outputs": [],
   "source": [
    "%matplotlib inline\n",
    "import numpy as np\n",
    "import matplotlib.pylab as plt\n",
    "import matplotlib.ticker as ticker\n",
    "import pathlib\n",
    "plt.style.use([pathlib.Path(\"./mplstyle/book\"), pathlib.Path(\"./mplstyle/wide\")])"
   ]
  },
  {
   "cell_type": "markdown",
   "id": "09edcce7",
   "metadata": {},
   "source": [
    "## Cloud length\n",
    "\n",
    "Cloud length is the distance along the trajectory from start to end of a cloudy region.\n",
    "Let's look at the trajectory from above, but laid out as a straight line:\n",
    "```{figure} figures/cloud_segment_track.png\n",
    ":alt: cloud segment track as a straight line\n",
    ":width: 100%\n",
    ":align: center\n",
    "```\n",
    "We've got the track on the top as well as an indication of the start and end of our cloud segments.\n",
    "The sensor will usually capture data in some form of pixels.\n",
    "In this example, we depict non-cloudy pixels in blue and cloudy pixels in white.\n",
    "We'll now assume that we know a cloud mask defined on these pixel locations which takes a value of 1 on cloudy pixels and a value of 0 on cloud free pixels:\n",
    "\n",
    "$$\n",
    "C = \\begin{cases}\n",
    "    1 & \\text{cloudy}\\\\\n",
    "    0 & \\text{cloud free}\n",
    "  \\end{cases}\n",
    "$$\n",
    "\n",
    "Let's define this cloud mask according to the figure above. We'll use boolean values here and convert them to integers later on."
   ]
  },
  {
   "cell_type": "code",
   "execution_count": null,
   "id": "4b723dcc",
   "metadata": {},
   "outputs": [],
   "source": [
    "cloudmask = np.array([\n",
    "    False, False,\n",
    "    True, True, True, True,\n",
    "    False, False, False,\n",
    "    True, True,\n",
    "    False, False, False, False,\n",
    "    True, True, True,\n",
    "    False, False\n",
    "])"
   ]
  },
  {
   "cell_type": "code",
   "execution_count": null,
   "id": "031cc0f5",
   "metadata": {
    "tags": [
     "hide-input"
    ]
   },
   "outputs": [],
   "source": [
    "fig, ax = plt.subplots()\n",
    "ax.step(np.arange(len(cloudmask)) + .5, cloudmask, where='mid')\n",
    "ax.spines[\"bottom\"].set_visible(False)\n",
    "ax.set_aspect(.5)\n",
    "ax.xaxis.set_major_locator(ticker.MultipleLocator(1))\n",
    "ax.set_xlabel(\"locs\")\n",
    "ax.set_xlim(0,20)\n",
    "ax.set_title(\"cloudmask\");"
   ]
  },
  {
   "cell_type": "markdown",
   "id": "c265c994",
   "metadata": {},
   "source": [
    "Based on this flag, it is possible to derive cloud edge locations $E$ by shifting $C$ by one and subtracting from itself:\n",
    "\n",
    "$$\n",
    "E_{1...N-1} = C_{1...N-1} - C_{0...N-2}\n",
    "$$\n",
    "\n",
    "that way, we end up with three possible values for the edges:\n",
    "\n",
    "$$\n",
    "E = \\begin{cases}\n",
    "    1 & \\text{start of cloud}\\\\\n",
    "    0 & \\text{no change}\\\\\n",
    "    -1 & \\text{end of cloud}\n",
    "  \\end{cases}\n",
    "$$\n",
    "\n",
    "These two shifted subsets are best visualized by thinking of two shifts about half a pixel in opposite directions.\n",
    "Subtracting the two leads to the cloud edges:"
   ]
  },
  {
   "cell_type": "code",
   "execution_count": null,
   "id": "2fea4ec6",
   "metadata": {
    "tags": [
     "hide-input"
    ]
   },
   "outputs": [],
   "source": [
    "fig, (ax1, ax2, ax3, ax4) = plt.subplots(4, sharex=True, figsize=(10,4))\n",
    "ax1.step(np.arange(len(cloudmask)) + .5, cloudmask, where='mid')\n",
    "ax1.spines[\"bottom\"].set_visible(False)\n",
    "ax1.set_aspect(.5)\n",
    "ax1.set_title(\"cloudmask\")\n",
    "\n",
    "ax2.step(np.arange(len(cloudmask) - 1) + 1, cloudmask[1:], where='mid')\n",
    "ax2.spines[\"bottom\"].set_visible(False)\n",
    "ax2.set_aspect(.5)\n",
    "ax2.set_title(\"cloudmask [1...N-1]\")\n",
    "\n",
    "ax3.step(np.arange(len(cloudmask) - 1) + 1, cloudmask[:-1], where='mid')\n",
    "ax3.spines[\"bottom\"].set_visible(False)\n",
    "ax3.set_aspect(.5)\n",
    "ax3.set_title(\"cloudmask [0...N-2]\")\n",
    "\n",
    "cloudmask_ = np.asarray(cloudmask, dtype=\"int\")\n",
    "edges = cloudmask_[1:] - cloudmask_[:-1]\n",
    "ax4.step(np.arange(len(edges)) + 1, edges, where='mid')\n",
    "ax4.spines[\"bottom\"].set_visible(False)\n",
    "ax4.set_aspect(.5)\n",
    "ax4.set_title(\"edges\")\n",
    "ax4.set_xlabel(\"locs\")\n",
    "ax4.set_xlim(0,20)\n",
    "ax4.xaxis.set_major_locator(ticker.MultipleLocator(1));"
   ]
  },
  {
   "cell_type": "markdown",
   "id": "68a2206a",
   "metadata": {},
   "source": [
    "```{note}\n",
    "Shifting both subsets by half a pixel (in stead of shifting one subset by a full pixel) has a deeper meaning: The cloud edges are indeed between the pixels which have been identified as a cloud.\n",
    "```\n",
    "\n",
    "If the method would be applied exactly as above, $E$ would be one entry less than the number of pixels. In order to make the following method work properly, we need to extend the edge information to before and after the first and last pixel. We'll set $E_0 = C_0$ (we only start with a cloud if the first pixel is a cloudy one, but don't end a cloud before the first pixel) and $E_N = -C_{N-1}$ (we end a cloud if the last pixel is a cloudy one, but don't start a cloud after the last pixel)."
   ]
  },
  {
   "cell_type": "code",
   "execution_count": null,
   "id": "80b8b839",
   "metadata": {
    "tags": [
     "hide-input"
    ]
   },
   "outputs": [],
   "source": [
    "fig, (ax1, ax2) = plt.subplots(2, sharex=True, figsize=(10,2))\n",
    "ax1.step(np.arange(len(cloudmask)) + .5, cloudmask, where='mid')\n",
    "ax1.spines[\"bottom\"].set_visible(False)\n",
    "ax1.set_aspect(.5)\n",
    "ax1.set_title(\"cloudmask\")\n",
    "\n",
    "\n",
    "cloudmask_ = np.asarray(cloudmask, dtype=\"int\")\n",
    "edges = np.concatenate([cloudmask_[:1], cloudmask_[1:] - cloudmask_[:-1], -cloudmask_[-1:]])\n",
    "ax2.step(np.arange(len(edges)), edges, where='mid')\n",
    "ax2.spines[\"bottom\"].set_visible(False)\n",
    "ax2.set_aspect(.5)\n",
    "ax2.set_title(\"edges\")\n",
    "ax2.set_xlabel(\"locs\")\n",
    "ax2.set_xlim(0,20)\n",
    "ax2.xaxis.set_major_locator(ticker.MultipleLocator(1));"
   ]
  },
  {
   "cell_type": "markdown",
   "id": "0b3cde9e",
   "metadata": {},
   "source": [
    "Let's also have a look at a graphical representation of what we have done so far:\n",
    "```{figure} figures/cloud_segment_length.png\n",
    ":alt: computing cloud segment length\n",
    ":width: 100%\n",
    ":align: center\n",
    "```\n",
    "\n",
    "Based on $E$, we can extract a boolean array of cloud start ($E == 1$) and cloud end ($E == -1$) locations.\n",
    "Based on these two boolean arrays, in particular the indices of the `True` entries, we can compute a cloud length in index space:"
   ]
  },
  {
   "cell_type": "code",
   "execution_count": null,
   "id": "be5859c8",
   "metadata": {},
   "outputs": [],
   "source": [
    "def cloud_lengths(cloudmask):\n",
    "    cloudmask = np.asarray(cloudmask, dtype=\"int\")\n",
    "    edges = np.concatenate([cloudmask[:1], cloudmask[1:] - cloudmask[:-1], -cloudmask[-1:]])\n",
    "    starts, = np.where(edges == 1)  # note that np.where returns a one-element tuple\n",
    "    ends, = np.where(edges == -1)   # we unpack it using ,=\n",
    "\n",
    "    return ends - starts"
   ]
  },
  {
   "cell_type": "markdown",
   "id": "338a96cf",
   "metadata": {},
   "source": [
    "Let's try our new method based on the cloud mask from our example."
   ]
  },
  {
   "cell_type": "code",
   "execution_count": null,
   "id": "02325b71",
   "metadata": {},
   "outputs": [],
   "source": [
    "cloud_lengths(cloudmask)"
   ]
  },
  {
   "cell_type": "markdown",
   "id": "550ddcea",
   "metadata": {},
   "source": [
    "It works just as we expected."
   ]
  },
  {
   "cell_type": "markdown",
   "id": "68e0186a",
   "metadata": {},
   "source": [
    "## Segment statistics\n",
    "\n",
    "Now that we know how to separate consecutive cloudy segments from our trajectory data, it might be useful to aggregate data for each cloudy segment. We want to do this using a similar approach, but one thing is different: we do need to care about each individual data point within a cloud, so we need to do many aggregations across differently sized sets of data. That is not something which seems to be expressible in a vectorized way at first sight. Nonetheless, there are some ways of accomplishing our goal.\n",
    "\n",
    "One approach to this problem is the [split - apply - combine](https://pandas.pydata.org/pandas-docs/stable/user_guide/groupby.html) approach, which is what among others, `xarray`, `pandas` and SQL provide.\n",
    "The idea is that we group our data into common sections (those would be one group per individual cloud) and then run a function (which reduces some data to a single value) on each group individually.\n",
    "The return values from each group are combined into a final result.\n",
    "While this is a neat way to think about the problem, it has a major drawback when applied to `xarray` or `pandas`: it is really slow.\n",
    "The method is just a sneaky way of running a for loop over all clouds and thus deliberately avoids the use of `numpy` to speed things up.\n",
    "\n",
    "But we can still look at the structure of such an operation and then think about how we could do something similar with better performance.\n",
    "So first, we need some way of identifying each individual cloud.\n",
    "We'll do this by introducing another array.\n",
    "We can create such an array by applying the cumulative sum on the absolute value of the edges $E$.\n",
    "This will also assign individual identifiers to cloud free parts, but that's fine, we can filter them out afterwards.\n",
    "For now, we'll call this array `section_id` to distinguish between all data split up in sections and the (cloud-only) segments mentioned before.\n",
    "If we can then find a way to accumulate data into individual bins based on the `section_id`, we should be ready to compute further statistics."
   ]
  },
  {
   "cell_type": "code",
   "execution_count": null,
   "id": "ca76f569",
   "metadata": {},
   "outputs": [],
   "source": [
    "section_ids = np.cumsum(np.abs(edges[:-1]))"
   ]
  },
  {
   "cell_type": "code",
   "execution_count": null,
   "id": "bbe2cd2a",
   "metadata": {
    "tags": [
     "hide-input"
    ]
   },
   "outputs": [],
   "source": [
    "fig, (ax1, ax2, ax3) = plt.subplots(3, sharex=True)\n",
    "ax1.step(np.arange(len(cloudmask)) + .5, cloudmask, where='mid')\n",
    "ax1.spines[\"bottom\"].set_visible(False)\n",
    "ax1.set_aspect(.5)\n",
    "ax1.set_title(\"cloudmask\")\n",
    "\n",
    "ax2.step(np.arange(len(edges)), edges, where='mid')\n",
    "ax2.spines[\"bottom\"].set_visible(False)\n",
    "ax2.set_aspect(.5)\n",
    "ax2.set_title(\"edges\")\n",
    "\n",
    "ax3.step(np.arange(len(section_ids)) + .5, section_ids, where='mid')\n",
    "ax3.spines[\"bottom\"].set_visible(False)\n",
    "#ax3.set_aspect(.5)\n",
    "ax3.set_title(\"section ids\")\n",
    "ax3.set_xlabel(\"locs\")\n",
    "ax3.set_xlim(0,20)\n",
    "ax3.yaxis.set_major_locator(ticker.IndexLocator(base=2, offset=1))\n",
    "ax3.xaxis.set_major_locator(ticker.MultipleLocator(1));"
   ]
  },
  {
   "cell_type": "markdown",
   "id": "992bd534",
   "metadata": {},
   "source": [
    "Let's have a look at the whole process idea in a graphical way:\n",
    "```{figure} figures/cloud_segment_stats.png\n",
    ":alt: computing cloud segment statistics\n",
    ":width: 100%\n",
    ":align: center\n",
    "```"
   ]
  },
  {
   "cell_type": "markdown",
   "id": "6d0df1b8",
   "metadata": {},
   "source": [
    "Let's say we want to compute the average optical thickness of each detected cloud segment.\n",
    "For this example, we assume the following optical thickness per source pixel:"
   ]
  },
  {
   "cell_type": "code",
   "execution_count": null,
   "id": "6b86d21a",
   "metadata": {},
   "outputs": [],
   "source": [
    "ot = np.array([0., 0., 1., 2., 4., 5., 0., 0., 0., 2., 2., 0., 0., 0., 0., 1., 1., 1., 0., 0.])"
   ]
  },
  {
   "cell_type": "markdown",
   "id": "07b78b24",
   "metadata": {},
   "source": [
    "We already know how many pixels are part of the cloud (the cloud length from above), so we only need the sum of the optical thickness within the segment in order to compute the mean.\n",
    "Thus, what we conceptually want to do is:\n",
    "```python\n",
    "ot_sum[section_ids] += ot\n",
    "```\n",
    "But `+=` will only work correctly if none of the index values from `section_ids` are duplicated, which definitely is not the case, as we designed `section_ids` such that it will contain the same value for every pixel within the same cloud.\n",
    "Fortunately `numpy` provides [`ufunc.at`](https://numpy.org/doc/stable/reference/generated/numpy.ufunc.at.html) which solves this exact problem.\n",
    "The `at` method is available for all scalar universal functions of `numpy` which take two arguments and is intended for repeated in-place application of the given universal function.\n",
    "Addition (`add`) is such a scalar ufunc with two arguments, so we can use `np.add.at` in this case:"
   ]
  },
  {
   "cell_type": "code",
   "execution_count": null,
   "id": "e8777b6e",
   "metadata": {},
   "outputs": [],
   "source": [
    "ot_sum = np.zeros(np.max(section_ids) + 1)\n",
    "np.add.at(ot_sum, section_ids, ot)\n",
    "ot_sum"
   ]
  },
  {
   "cell_type": "markdown",
   "id": "1f0df76f",
   "metadata": {},
   "source": [
    "````{note}\n",
    "Observe how\n",
    "```python\n",
    "np.add.at(ot_sum, section_ids, ot)\n",
    "```\n",
    "can be used as a direct replacement for\n",
    "```python\n",
    "ot_sum[section_ids] += ot\n",
    "```\n",
    "However, though the latter is simpler to understand, only `np.add.at` will provide the correct results.\n",
    "````\n",
    "\n",
    "As indicated above, the result will contain values for each clear and cloudy segment.\n",
    "In order to compute the final mean cloud optical thickness, we simply can use every odd element of `ot_sum` (those are the cloudy pieces) and divide them by cloud length:"
   ]
  },
  {
   "cell_type": "code",
   "execution_count": null,
   "id": "e7769ec7",
   "metadata": {},
   "outputs": [],
   "source": [
    "ot_sum[1::2] / cloud_lengths(cloudmask)"
   ]
  },
  {
   "cell_type": "markdown",
   "id": "02a58753",
   "metadata": {},
   "source": [
    "which is indeed the average optical thickness of the three detected clouds.\n",
    "\n",
    "```{note}\n",
    "While taking every odd element might seem to be a special case (what if the first pixel ist cloudy?), it is in fact the general case. As we've set $E_0 = C_0$, the very first edge entry will mark the start of a cloud in this case and thus the first `section_id` (the cumulative sum) will be 1 in stead of 0 and thus odd as well.\n",
    "```\n",
    "\n",
    "## Further generalizations\n",
    "\n",
    "If we would have computed the cloud lengths not based on the index locations of the cloud edges, but instead based on the position along the flight path (e.g. in meters), this method can be generalized to unevenly spaced datasets.\n",
    "Furthermore, if we would multiply the pixel optical thickness by the size of the pixel, the same method as above could be used to compute distance weighted averages of cloud parameters."
   ]
  }
 ],
 "metadata": {
  "jupytext": {
   "text_representation": {
    "extension": ".md",
    "format_name": "myst",
    "format_version": 0.13,
    "jupytext_version": "1.10.3"
   }
  },
  "kernelspec": {
   "display_name": "Python 3",
   "language": "python",
   "name": "python3"
  },
  "source_map": [
   12,
   26,
   35,
   60,
   72,
   83,
   104,
   132,
   140,
   159,
   171,
   179,
   183,
   185,
   189,
   209,
   213,
   235,
   244,
   248,
   250,
   262,
   266,
   284,
   286
  ]
 },
 "nbformat": 4,
 "nbformat_minor": 5
}