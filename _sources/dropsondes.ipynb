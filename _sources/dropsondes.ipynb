{
 "cells": [
  {
   "cell_type": "markdown",
   "id": "6ed7e0a4",
   "metadata": {},
   "source": [
    "# Dropsondes dataset JOANNE\n",
    "\n",
    "The following script exemplifies the access and usage of dropsonde data measured \n",
    "during EUREC⁴A - ATOMIC.  \n",
    "\n",
    "More information on the dataset can be found in the [JOANNE publication](https://doi.org/10.5194/essd-13-5253-2021) describing the dataset.\n",
    "If you have questions or if you would like to use the data for a publication, please don't hesitate to get in contact with the dataset authors as stated in the dataset attributes `contact` and `author`.\n",
    "\n",
    "## Get data\n",
    "* To load the data we first load the EUREC⁴A meta data catalogue. More information on the catalog can be found [here](https://github.com/eurec4a/eurec4a-intake#eurec4a-intake-catalogue)."
   ]
  },
  {
   "cell_type": "code",
   "execution_count": null,
   "id": "e017f004",
   "metadata": {},
   "outputs": [],
   "source": [
    "import datetime\n",
    "import numpy as np\n",
    "import eurec4a\n",
    "cat = eurec4a.get_intake_catalog(use_ipfs=\"QmahMN2wgPauHYkkiTGoG2TpPBmj3p5FoYJAq9uE9iXT9N\")"
   ]
  },
  {
   "cell_type": "markdown",
   "id": "ea64ec9c",
   "metadata": {},
   "source": [
    "* We can funrther specify the platform, instrument, if applicable dataset level or variable name, and pass it on to dask.\n",
    "\n",
    "```{note}\n",
    "Have a look at the attributes of the xarray dataset `ds` for all relevant information on the dataset, such as author, contact, or citation infromation.\n",
    "```"
   ]
  },
  {
   "cell_type": "code",
   "execution_count": null,
   "id": "9595defb",
   "metadata": {},
   "outputs": [],
   "source": [
    "ds = cat.dropsondes.JOANNE.level3.to_dask()\n",
    "ds"
   ]
  },
  {
   "cell_type": "markdown",
   "id": "071119b0",
   "metadata": {},
   "source": [
    "## Load HALO flight phase information\n",
    "All HALO flights were split up into flight phases or segments to allow for a precise selection in time and space of a circle or calibration pattern. For more information have a look at the respective [github repository](https://github.com/eurec4a/flight-phase-separation#segmentation-of-flights-during-eurec4a)."
   ]
  },
  {
   "cell_type": "code",
   "execution_count": null,
   "id": "770d9efd",
   "metadata": {},
   "outputs": [],
   "source": [
    "meta = eurec4a.get_flight_segments()"
   ]
  },
  {
   "cell_type": "code",
   "execution_count": null,
   "id": "23b4dad1",
   "metadata": {},
   "outputs": [],
   "source": [
    "segments = [{**s,\n",
    "             \"platform_id\": platform_id,\n",
    "             \"flight_id\": flight_id\n",
    "            }\n",
    "            for platform_id, flights in meta.items()\n",
    "            for flight_id, flight in flights.items()\n",
    "            for s in flight[\"segments\"]\n",
    "           ]"
   ]
  },
  {
   "cell_type": "code",
   "execution_count": null,
   "id": "611fe6a0",
   "metadata": {},
   "outputs": [],
   "source": [
    "segments_by_segment_id = {s[\"segment_id\"]: s for s in segments}"
   ]
  },
  {
   "cell_type": "code",
   "execution_count": null,
   "id": "3e5b07e5",
   "metadata": {},
   "outputs": [],
   "source": [
    "segments_ordered_by_start_time = list(sorted(segments, key=lambda s: s[\"start\"]))"
   ]
  },
  {
   "cell_type": "markdown",
   "id": "892163fb",
   "metadata": {},
   "source": [
    "We select all `dropsondes` with the quality flag `GOOD` from the first circle on February 5."
   ]
  },
  {
   "cell_type": "code",
   "execution_count": null,
   "id": "ade8ed53",
   "metadata": {},
   "outputs": [],
   "source": [
    "first_circle_Feb05 = [s[\"segment_id\"]\n",
    "                 for s in segments_ordered_by_start_time\n",
    "                 if \"circle\" in s[\"kinds\"]\n",
    "                 and s[\"start\"].date() == datetime.date(2020,2,5)\n",
    "                 and s[\"platform_id\"] == \"HALO\"\n",
    "                ][0]\n",
    "first_circle_Feb05"
   ]
  },
  {
   "cell_type": "code",
   "execution_count": null,
   "id": "cd91283e",
   "metadata": {},
   "outputs": [],
   "source": [
    "dropsonde_ids = segments_by_segment_id[first_circle_Feb05][\"dropsondes\"][\"GOOD\"]\n",
    "dropsonde_ids"
   ]
  },
  {
   "cell_type": "markdown",
   "id": "645fbd58",
   "metadata": {},
   "source": [
    "We transfer the information from our flight segment selection to the dropsondes data in the xarray dataset."
   ]
  },
  {
   "cell_type": "code",
   "execution_count": null,
   "id": "48b0c38b",
   "metadata": {},
   "outputs": [],
   "source": [
    "from functools import reduce\n",
    "mask_sondes_first_circle_Feb05 = reduce(lambda a, b: a | b, [ds.sonde_id==d\n",
    "                                                             for d in dropsonde_ids])\n",
    "ds_sondes_first_circle_Feb05 = ds.isel(sonde_id=mask_sondes_first_circle_Feb05)"
   ]
  },
  {
   "cell_type": "markdown",
   "id": "e7845cdb",
   "metadata": {},
   "source": [
    "## Plots\n",
    "You can get a list of available variables in the dataset from `ds.variables.keys()`  \n",
    "\n",
    "```{note}\n",
    "fetching the data and displaying it might take a few seconds\n",
    "```"
   ]
  },
  {
   "cell_type": "code",
   "execution_count": null,
   "id": "c9dc17d3",
   "metadata": {},
   "outputs": [],
   "source": [
    "%matplotlib inline\n",
    "import matplotlib.pyplot as plt\n",
    "import pathlib\n",
    "plt.style.use(pathlib.Path(\"./mplstyle/book\"))"
   ]
  },
  {
   "cell_type": "markdown",
   "id": "be2c8b48",
   "metadata": {},
   "source": [
    "### Temperature and relative humidity as stored in the xarray dataset"
   ]
  },
  {
   "cell_type": "code",
   "execution_count": null,
   "id": "4e30be1c",
   "metadata": {},
   "outputs": [],
   "source": [
    "fig, (ax0, ax1) = plt.subplots(1, 2)\n",
    "ds_sondes_first_circle_Feb05.ta.plot(ax=ax0, cmap=\"magma\", x=\"launch_time\", y=\"alt\")\n",
    "ds_sondes_first_circle_Feb05.rh.plot(ax=ax1, cmap=\"BrBG\", x=\"launch_time\", y=\"alt\")\n",
    "None"
   ]
  },
  {
   "cell_type": "markdown",
   "id": "b4f4a204",
   "metadata": {},
   "source": [
    "### Temperature and relative humidity profiles.\n",
    "The temperature and humidity profiles are colored according to their launch time."
   ]
  },
  {
   "cell_type": "code",
   "execution_count": null,
   "id": "ef92edef",
   "metadata": {},
   "outputs": [],
   "source": [
    "def dt64_to_dt(dt64):\n",
    "    epoch = np.datetime64('1970-01-01T00:00:00')\n",
    "    second = np.timedelta64(1, 's')\n",
    "    timestamp = int((dt64 - epoch) / second)\n",
    "    return datetime.datetime.fromtimestamp(timestamp, datetime.UTC)"
   ]
  },
  {
   "cell_type": "code",
   "execution_count": null,
   "id": "a03d3478",
   "metadata": {},
   "outputs": [],
   "source": [
    "fig, (ax0, ax1) = plt.subplots(1, 2)\n",
    "\n",
    "y = ds_sondes_first_circle_Feb05.alt\n",
    "\n",
    "x0 = ds_sondes_first_circle_Feb05.ta.transpose(\"alt\", \"sonde_id\")\n",
    "ax0.set_prop_cycle(color=plt.cm.viridis(np.linspace(0, 1, len(dropsonde_ids))))\n",
    "ax0.plot(x0, y.data[:, np.newaxis])\n",
    "ax0.set_xlabel(f\"{x0.long_name} / {x0.units}\")\n",
    "ax0.set_ylabel(f\"{y.name} / m\")\n",
    "ax0.legend([dt64_to_dt(d).strftime(\"%H:%M:%S\")\n",
    "            for d in ds_sondes_first_circle_Feb05.launch_time],\n",
    "           title=x0.launch_time.name)\n",
    "\n",
    "x1 = ds_sondes_first_circle_Feb05.rh.transpose(\"alt\", \"sonde_id\")\n",
    "ax1.set_prop_cycle(color=plt.cm.viridis(np.linspace(0, 1, len(dropsonde_ids))))\n",
    "ax1.plot(x1, y.data[:, np.newaxis])\n",
    "ax1.set_xlabel(f\"{x1.long_name} / {x1.units}\")\n",
    "ax1.set_ylabel(f\"{y.name} / m\")\n",
    "ax1.legend(ds_sondes_first_circle_Feb05.sonde_id.values,\n",
    "           title=\"sonde_id\")\n",
    "\n",
    "fig.suptitle('Dropsondes from 1st circle an February 5', fontsize=18)\n",
    "None"
   ]
  },
  {
   "cell_type": "markdown",
   "id": "8ef2910d",
   "metadata": {},
   "source": [
    "### wind speed variations on HALO circles throughout February 5\n",
    "\n",
    "To have a look at the wind speed variations during the circles flown by HALO,\n",
    "we again select the relevant soundings:"
   ]
  },
  {
   "cell_type": "code",
   "execution_count": null,
   "id": "5d5ed907",
   "metadata": {},
   "outputs": [],
   "source": [
    "mask_sondes_Feb05 = (ds.launch_time.astype(\"<M8[D]\") == np.datetime64(\"2020-02-05\")) & (ds.platform_id == \"HALO\")\n",
    "ds_sondes_Feb05 = ds.isel(sonde_id=mask_sondes_Feb05.compute())"
   ]
  },
  {
   "cell_type": "markdown",
   "id": "9b630329",
   "metadata": {},
   "source": [
    "We now want to show a time-altitude plot of the soundings. In order to show larger gaps between consecutive soundings,\n",
    "we first resample the data onto an equidistant grid (along `launch_time` in stead of `sound_id`) using nearest-neighbor\n",
    "interpolation, but limit the maximum difference between sonde launch and interpolated time to 5 minutes. That way,\n",
    "smaller gaps in the plot are filled while larger gaps are indicated as missing values."
   ]
  },
  {
   "cell_type": "code",
   "execution_count": null,
   "id": "9556a587",
   "metadata": {},
   "outputs": [],
   "source": [
    "import matplotlib.dates as mdates\n",
    "with plt.style.context(\"mplstyle/wide\"):\n",
    "    fig, ax = plt.subplots()\n",
    "    ds_sondes_Feb05.wspd.load() \\\n",
    "                   .swap_dims({\"sonde_id\": \"launch_time\"}) \\\n",
    "                   .resample(launch_time=\"1min\").nearest(np.timedelta64(5, \"m\")) \\\n",
    "                   .plot(ax=ax, x=\"launch_time\", y=\"alt\")\n",
    "    ax.xaxis.set_major_formatter(mdates.DateFormatter(\"%H:%M\"))\n",
    "    None"
   ]
  }
 ],
 "metadata": {
  "jupytext": {
   "text_representation": {
    "extension": ".md",
    "format_name": "myst",
    "format_version": 0.13,
    "jupytext_version": "1.11.5"
   }
  },
  "kernelspec": {
   "display_name": "Python 3",
   "language": "python",
   "name": "python3"
  },
  "source_map": [
   12,
   25,
   30,
   38,
   41,
   46,
   50,
   61,
   65,
   67,
   71,
   81,
   84,
   88,
   93,
   102,
   107,
   111,
   116,
   121,
   129,
   153,
   160,
   163,
   170
  ]
 },
 "nbformat": 4,
 "nbformat_minor": 5
}