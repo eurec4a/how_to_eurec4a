{
 "cells": [
  {
   "cell_type": "markdown",
   "id": "f1c91508",
   "metadata": {},
   "source": [
    "# interactive HALO tracks\n",
    "\n",
    "This notebook shows how to plot the flight tracks of the HALO aircraft. First, we'll have only a quick look and later on we do some more work in order to get the data onto an interactive map.\n",
    "\n",
    "## Preparations\n",
    "First, we'll import pylab and the EUREC4A data catalog."
   ]
  },
  {
   "cell_type": "code",
   "execution_count": null,
   "id": "f2a44165",
   "metadata": {},
   "outputs": [],
   "source": [
    "import eurec4a\n",
    "cat = eurec4a.get_intake_catalog(use_ipfs=\"QmahMN2wgPauHYkkiTGoG2TpPBmj3p5FoYJAq9uE9iXT9N\")"
   ]
  },
  {
   "cell_type": "markdown",
   "id": "78acc837",
   "metadata": {},
   "source": [
    "### Inspecting the dataset"
   ]
  },
  {
   "cell_type": "code",
   "execution_count": null,
   "id": "1c6dc313",
   "metadata": {},
   "outputs": [],
   "source": [
    "ds = cat.HALO.BAHAMAS.PositionAttitude['HALO-0122'].to_dask()\n",
    "ds"
   ]
  },
  {
   "cell_type": "markdown",
   "id": "e8fb9084",
   "metadata": {},
   "source": [
    "Just to have a better visual impression, we can create a quick overview plot of the data:"
   ]
  },
  {
   "cell_type": "code",
   "execution_count": null,
   "id": "2c07f9c2",
   "metadata": {},
   "outputs": [],
   "source": [
    "%matplotlib inline\n",
    "import numpy as np\n",
    "import matplotlib.pyplot as plt\n",
    "import pathlib\n",
    "plt.style.use(pathlib.Path(\"./mplstyle/book\"))\n",
    "\n",
    "plt.plot(ds.lon, ds.lat)\n",
    "center_lat = float(ds.lat.mean())\n",
    "plt.gca().set_aspect(1./np.cos(np.deg2rad(center_lat)))\n",
    "plt.xlabel(\"longitude / °\")\n",
    "plt.ylabel(\"latitude / °\")\n",
    "plt.show()"
   ]
  },
  {
   "cell_type": "markdown",
   "id": "f6c47644",
   "metadata": {},
   "source": [
    "### Reducing the size of the dataset\n",
    "\n",
    "Later on, we want to plot all flights on an interactive map. Currently the dataset is rather large as the aircraft location has been recorded continuously at a high data rate. While this is good for quantitative analysis, this leads to poor interactive performance. So before going further, it is a good idea to reduce the amount of data while keeping the visual impression.\n",
    "\n",
    "A possible idea to reduce the amount of required data is that plotting a line already does linear interpolation between two coordinate points. So if we would remove those points which are close to the linear interpolation between its neighboring points, the visual impression will stay almost the same. This idea has already been stated by Ramer Douglas and Peucker and is illustrated at [Wikipedia](https://en.wikipedia.org/wiki/Ramer%E2%80%93Douglas%E2%80%93Peucker_algorithm). While the algorithm is not hard to write, it is difficult to do it efficiently in python. Thus, I've skipped it and use the [`simplification`](https://pypi.org/project/simplification/) library in stead.\n",
    "\n",
    "```{note}\n",
    "Many algorithms for shape processing are contained in the beautiful [shapely](https://shapely.readthedocs.io/en/stable/manual.html) library. In general, I'd recommend using that library, but it requies the GEOS library which is a bit tricky to install.\n",
    "```"
   ]
  },
  {
   "cell_type": "code",
   "execution_count": null,
   "id": "8bac175e",
   "metadata": {},
   "outputs": [],
   "source": [
    "from simplification.cutil import simplify_coords_idx\n",
    "def simplify_dataset(ds, tolerance):\n",
    "    indices_to_take = simplify_coords_idx(np.stack([ds.lat.values, ds.lon.values], axis=1), tolerance)\n",
    "    return ds.isel(time=indices_to_take)"
   ]
  },
  {
   "cell_type": "markdown",
   "id": "e74e20d2",
   "metadata": {},
   "source": [
    "We can now use that algorithm to generate a simplified version of the dataset with a tolerance of $10^{-5}$ degrees, which otherwise looks the same to the previous version."
   ]
  },
  {
   "cell_type": "code",
   "execution_count": null,
   "id": "ab540a01",
   "metadata": {},
   "outputs": [],
   "source": [
    "dssimplified = simplify_dataset(ds, 1e-5)\n",
    "dssimplified"
   ]
  },
  {
   "cell_type": "markdown",
   "id": "d7a543b4",
   "metadata": {},
   "source": [
    "We can now compare those two tracks side by side while keeping a look at the number of data points required."
   ]
  },
  {
   "cell_type": "code",
   "execution_count": null,
   "id": "891bdea9",
   "metadata": {},
   "outputs": [],
   "source": [
    "fig, (ax1, ax2) = plt.subplots(1, 2)\n",
    "ax1.plot(ds.lon, ds.lat)\n",
    "ax1.set_title(f\"{len(ds.time)} data points\")\n",
    "ax2.plot(dssimplified.lon, dssimplified.lat)\n",
    "ax2.set_title(f\"{len(dssimplified.time)} data points\")\n",
    "\n",
    "for ax in (ax1, ax2):\n",
    "    ax.set_aspect(1./np.cos(np.deg2rad(center_lat)))\n",
    "    ax.set_xlabel(\"longitude / °\")\n",
    "    ax.set_ylabel(\"latitude / °\")\n",
    "    ax.label_outer()\n",
    "\n",
    "\n",
    "plt.show()\n",
    "\n",
    "ratio = len(dssimplified.time) / len(ds.time)\n",
    "print(f\"compression ratio: {ratio*100:.2f} %\")"
   ]
  },
  {
   "cell_type": "markdown",
   "id": "f3ea5568",
   "metadata": {},
   "source": [
    "The dataset size has been substantially reduced while the visual impression stayed the same."
   ]
  },
  {
   "cell_type": "markdown",
   "id": "4a111d63",
   "metadata": {},
   "source": [
    "## First interactive map\n",
    "\n",
    "In order to show the map a little bit more interactively, we use the [`ipyleaflet`](https://ipyleaflet.readthedocs.io/en/latest/index.html) library which creates a bridge between ipython and the [Leaflet](https://leafletjs.com/) JavaScript library."
   ]
  },
  {
   "cell_type": "code",
   "execution_count": null,
   "id": "95119605",
   "metadata": {},
   "outputs": [],
   "source": [
    "import ipyleaflet"
   ]
  },
  {
   "cell_type": "markdown",
   "id": "e8aa11fd",
   "metadata": {},
   "source": [
    "As we will need to convert many tracks to ipyleaflet layers later on, the easiest is to create a little function for that purpose right away:"
   ]
  },
  {
   "cell_type": "code",
   "execution_count": null,
   "id": "e056a56f",
   "metadata": {},
   "outputs": [],
   "source": [
    "def track2layer(track, color=\"green\", name=\"\"):\n",
    "    return ipyleaflet.Polyline(\n",
    "        locations=np.stack([track.lat.values, track.lon.values], axis=1).tolist(), \n",
    "        color=color,\n",
    "        fill=False,\n",
    "        weight=2,\n",
    "        name=name\n",
    "    )"
   ]
  },
  {
   "cell_type": "markdown",
   "id": "b1e56534",
   "metadata": {},
   "source": [
    "With the help of that little function, creating a map is now like a breeze:"
   ]
  },
  {
   "cell_type": "code",
   "execution_count": null,
   "id": "ab6f6ad0",
   "metadata": {},
   "outputs": [],
   "source": [
    "testmap = ipyleaflet.Map(center=(13.3, -57), zoom=7)\n",
    "testmap.add_layer(track2layer(dssimplified))\n",
    "display(testmap)"
   ]
  },
  {
   "cell_type": "markdown",
   "id": "079a585a",
   "metadata": {},
   "source": [
    "## All in one\n",
    "Let's see if we can add all the flights and provide a layer switcher so that we can have a look at all flights individually. We'll start by loading and simplifying all out track data into a local dictionary. Requesting the datasets from the server is IO bound and thus can simply be accellerated using a ThreadPool:"
   ]
  },
  {
   "cell_type": "code",
   "execution_count": null,
   "id": "dddc4967",
   "metadata": {},
   "outputs": [],
   "source": [
    "def get_dataset(flight_id):\n",
    "    ds = cat.HALO.BAHAMAS.PositionAttitude[flight_id].to_dask()\n",
    "    return ds[['lat','lon']].load()\n",
    "\n",
    "full_tracks = {k: get_dataset(k) for k in cat.HALO.BAHAMAS.PositionAttitude}"
   ]
  },
  {
   "cell_type": "markdown",
   "id": "fda3fdd9",
   "metadata": {},
   "source": [
    "We still have to simplify the dataset, which is done here:"
   ]
  },
  {
   "cell_type": "code",
   "execution_count": null,
   "id": "56a2fd47",
   "metadata": {},
   "outputs": [],
   "source": [
    "tracks = {flight_id: simplify_dataset(ds, 1e-5)\n",
    "          for flight_id, ds in full_tracks.items()}"
   ]
  },
  {
   "cell_type": "markdown",
   "id": "2245c5c3",
   "metadata": {},
   "source": [
    "Let's also quickly grab some colors from a matplotlib colorbar, such that we can show all tracks in individual colors:"
   ]
  },
  {
   "cell_type": "code",
   "execution_count": null,
   "id": "3159f2c5",
   "metadata": {},
   "outputs": [],
   "source": [
    "import matplotlib\n",
    "colors = [matplotlib.colors.to_hex(c)\n",
    "          for c in plt.cm.inferno(np.linspace(0, 1, len(tracks)))]"
   ]
  },
  {
   "cell_type": "markdown",
   "id": "f4d5480b",
   "metadata": {},
   "source": [
    "We can now start with a new empty map. Let's also have a different [basemap](https://ipyleaflet.readthedocs.io/en/latest/api_reference/basemaps.html)."
   ]
  },
  {
   "cell_type": "code",
   "execution_count": null,
   "id": "dba9c19a",
   "metadata": {},
   "outputs": [],
   "source": [
    "m = ipyleaflet.Map(\n",
    "    basemap=ipyleaflet.basemaps.Esri.NatGeoWorldMap,\n",
    "    center=(13.3, -57), zoom=7\n",
    ")"
   ]
  },
  {
   "cell_type": "markdown",
   "id": "f1147757",
   "metadata": {},
   "source": [
    "We'll add all the tracks as individual layers to the map"
   ]
  },
  {
   "cell_type": "code",
   "execution_count": null,
   "id": "4e747d88",
   "metadata": {},
   "outputs": [],
   "source": [
    "for (flight_id, track), color in zip(tracks.items(), colors):\n",
    "    m.add_layer(track2layer(track, color, flight_id))"
   ]
  },
  {
   "cell_type": "markdown",
   "id": "313bf3d8",
   "metadata": {},
   "source": [
    "and add a scale, a legend, layer controls and a full screen button to the map and show it. If you want to zoom in, you can for example shift-click and drag a rectangle over the area you want to zoom in more closely."
   ]
  },
  {
   "cell_type": "code",
   "execution_count": null,
   "id": "f73e2caa",
   "metadata": {},
   "outputs": [],
   "source": [
    "m.add_control(ipyleaflet.ScaleControl(position='bottomleft'))\n",
    "m.add_control(ipyleaflet.LegendControl(dict(zip(tracks, colors)),\n",
    "                                       name=\"Flights\",\n",
    "                                       position=\"bottomright\"))\n",
    "m.add_control(ipyleaflet.LayersControl(position='topright'))\n",
    "m.add_control(ipyleaflet.FullScreenControl())\n",
    "display(m)"
   ]
  }
 ],
 "metadata": {
  "execution": {
   "timeout": 120
  },
  "jupytext": {
   "formats": "md:myst",
   "text_representation": {
    "extension": ".md",
    "format_name": "myst",
    "format_version": 0.12,
    "jupytext_version": "1.8.2"
   }
  },
  "kernelspec": {
   "display_name": "Python 3",
   "language": "python",
   "name": "python3"
  },
  "source_map": [
   15,
   24,
   27,
   31,
   34,
   38,
   51,
   63,
   68,
   72,
   75,
   79,
   97,
   101,
   107,
   109,
   113,
   122,
   126,
   130,
   135,
   141,
   145,
   148,
   152,
   156,
   160,
   165,
   169,
   172,
   176
  ]
 },
 "nbformat": 4,
 "nbformat_minor": 5
}