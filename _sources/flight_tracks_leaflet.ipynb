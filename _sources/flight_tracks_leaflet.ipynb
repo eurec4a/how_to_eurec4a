{
 "cells": [
  {
   "cell_type": "markdown",
   "id": "b46bdef1",
   "metadata": {},
   "source": [
    "# interactive HALO tracks\n",
    "\n",
    "This notebook shows how to plot the flight tracks of the HALO aircraft. First, we'll have only a quick look and later on we do some more work in order to get the data onto an interactive map.\n",
    "\n",
    "## Preparations\n",
    "First, we'll import pylab and the EUREC4A data catalog."
   ]
  },
  {
   "cell_type": "code",
   "execution_count": null,
   "id": "f724d2fe",
   "metadata": {},
   "outputs": [],
   "source": [
    "import eurec4a\n",
    "cat = eurec4a.get_intake_catalog(use_ipfs=\"QmahMN2wgPauHYkkiTGoG2TpPBmj3p5FoYJAq9uE9iXT9N\")"
   ]
  },
  {
   "cell_type": "markdown",
   "id": "bed5d9bd",
   "metadata": {},
   "source": [
    "### Inspecting the dataset"
   ]
  },
  {
   "cell_type": "code",
   "execution_count": null,
   "id": "faacb761",
   "metadata": {},
   "outputs": [],
   "source": [
    "ds = cat.HALO.BAHAMAS.PositionAttitude['HALO-0122'].to_dask()\n",
    "ds"
   ]
  },
  {
   "cell_type": "markdown",
   "id": "e51550aa",
   "metadata": {},
   "source": [
    "Just to have a better visual impression, we can create a quick overview plot of the data:"
   ]
  },
  {
   "cell_type": "code",
   "execution_count": null,
   "id": "90508fae",
   "metadata": {},
   "outputs": [],
   "source": [
    "%matplotlib inline\n",
    "import numpy as np\n",
    "import matplotlib.pyplot as plt\n",
    "plt.style.use(\"./mplstyle/book\")\n",
    "\n",
    "plt.plot(ds.lon, ds.lat)\n",
    "center_lat = float(ds.lat.mean())\n",
    "plt.gca().set_aspect(1./np.cos(np.deg2rad(center_lat)))\n",
    "plt.xlabel(\"longitude / °\")\n",
    "plt.ylabel(\"latitude / °\")\n",
    "plt.show()"
   ]
  },
  {
   "cell_type": "markdown",
   "id": "ec487448",
   "metadata": {},
   "source": [
    "### Reducing the size of the dataset\n",
    "\n",
    "Later on, we want to plot all flights on an interactive map. Currently the dataset is rather large as the aircraft location has been recorded continuously at a high data rate. While this is good for quantitative analysis, this leads to poor interactive performance. So before going further, it is a good idea to reduce the amount of data while keeping the visual impression.\n",
    "\n",
    "A possible idea to reduce the amount of required data is that plotting a line already does linear interpolation between two coordinate points. So if we would remove those points which are close to the linear interpolation between its neighboring points, the visual impression will stay almost the same. This idea has already been stated by Ramer Douglas and Peucker and is illustrated at [Wikipedia](https://en.wikipedia.org/wiki/Ramer%E2%80%93Douglas%E2%80%93Peucker_algorithm). While the algorithm is not hard to write, it is difficult to do it efficiently in python. Thus, I've skipped it and use the [`simplification`](https://pypi.org/project/simplification/) library in stead.\n",
    "\n",
    "```{note}\n",
    "Many algorithms for shape processing are contained in the beautiful [shapely](https://shapely.readthedocs.io/en/stable/manual.html) library. In general, I'd recommend using that library, but it requies the GEOS library which is a bit tricky to install.\n",
    "```"
   ]
  },
  {
   "cell_type": "code",
   "execution_count": null,
   "id": "45ced203",
   "metadata": {},
   "outputs": [],
   "source": [
    "from simplification.cutil import simplify_coords_idx\n",
    "def simplify_dataset(ds, tolerance):\n",
    "    indices_to_take = simplify_coords_idx(np.stack([ds.lat.values, ds.lon.values], axis=1), tolerance)\n",
    "    return ds.isel(time=indices_to_take)"
   ]
  },
  {
   "cell_type": "markdown",
   "id": "3d97fd27",
   "metadata": {},
   "source": [
    "We can now use that algorithm to generate a simplified version of the dataset with a tolerance of $10^{-5}$ degrees, which otherwise looks the same to the previous version."
   ]
  },
  {
   "cell_type": "code",
   "execution_count": null,
   "id": "dc463daa",
   "metadata": {},
   "outputs": [],
   "source": [
    "dssimplified = simplify_dataset(ds, 1e-5)\n",
    "dssimplified"
   ]
  },
  {
   "cell_type": "markdown",
   "id": "67d9254f",
   "metadata": {},
   "source": [
    "We can now compare those two tracks side by side while keeping a look at the number of data points required."
   ]
  },
  {
   "cell_type": "code",
   "execution_count": null,
   "id": "c1595bdd",
   "metadata": {},
   "outputs": [],
   "source": [
    "fig, (ax1, ax2) = plt.subplots(1, 2)\n",
    "ax1.plot(ds.lon, ds.lat)\n",
    "ax1.set_title(f\"{len(ds.time)} data points\")\n",
    "ax2.plot(dssimplified.lon, dssimplified.lat)\n",
    "ax2.set_title(f\"{len(dssimplified.time)} data points\")\n",
    "\n",
    "for ax in (ax1, ax2):\n",
    "    ax.set_aspect(1./np.cos(np.deg2rad(center_lat)))\n",
    "    ax.set_xlabel(\"longitude / °\")\n",
    "    ax.set_ylabel(\"latitude / °\")\n",
    "    ax.label_outer()\n",
    "\n",
    "\n",
    "plt.show()\n",
    "\n",
    "ratio = len(dssimplified.time) / len(ds.time)\n",
    "print(f\"compression ratio: {ratio*100:.2f} %\")"
   ]
  },
  {
   "cell_type": "markdown",
   "id": "c20ede2e",
   "metadata": {},
   "source": [
    "The dataset size has been substantially reduced while the visual impression stayed the same."
   ]
  },
  {
   "cell_type": "markdown",
   "id": "68cb99c0",
   "metadata": {},
   "source": [
    "## First interactive map\n",
    "\n",
    "In order to show the map a little bit more interactively, we use the [`ipyleaflet`](https://ipyleaflet.readthedocs.io/en/latest/index.html) library which creates a bridge between ipython and the [Leaflet](https://leafletjs.com/) JavaScript library."
   ]
  },
  {
   "cell_type": "code",
   "execution_count": null,
   "id": "ec4e52bc",
   "metadata": {},
   "outputs": [],
   "source": [
    "import ipyleaflet"
   ]
  },
  {
   "cell_type": "markdown",
   "id": "4d8f8d13",
   "metadata": {},
   "source": [
    "As we will need to convert many tracks to ipyleaflet layers later on, the easiest is to create a little function for that purpose right away:"
   ]
  },
  {
   "cell_type": "code",
   "execution_count": null,
   "id": "c51ffc42",
   "metadata": {},
   "outputs": [],
   "source": [
    "def track2layer(track, color=\"green\", name=\"\"):\n",
    "    return ipyleaflet.Polyline(\n",
    "        locations=np.stack([track.lat.values, track.lon.values], axis=1).tolist(), \n",
    "        color=color,\n",
    "        fill=False,\n",
    "        weight=2,\n",
    "        name=name\n",
    "    )"
   ]
  },
  {
   "cell_type": "markdown",
   "id": "66f4a92a",
   "metadata": {},
   "source": [
    "With the help of that little function, creating a map is now like a breeze:"
   ]
  },
  {
   "cell_type": "code",
   "execution_count": null,
   "id": "b41e72b4",
   "metadata": {},
   "outputs": [],
   "source": [
    "testmap = ipyleaflet.Map(center=(13.3, -57), zoom=7)\n",
    "testmap.add_layer(track2layer(dssimplified))\n",
    "display(testmap)"
   ]
  },
  {
   "cell_type": "markdown",
   "id": "16ec4cfc",
   "metadata": {},
   "source": [
    "## All in one\n",
    "Let's see if we can add all the flights and provide a layer switcher so that we can have a look at all flights individually. We'll start by loading and simplifying all out track data into a local dictionary. Requesting the datasets from the server is IO bound and thus can simply be accellerated using a ThreadPool:"
   ]
  },
  {
   "cell_type": "code",
   "execution_count": null,
   "id": "ac280d5a",
   "metadata": {},
   "outputs": [],
   "source": [
    "from multiprocessing.pool import ThreadPool\n",
    "pool = ThreadPool(20)\n",
    "\n",
    "def get_dataset(flight_id):\n",
    "    ds = cat.HALO.BAHAMAS.PositionAttitude[flight_id].to_dask()\n",
    "    return flight_id, ds.load()\n",
    "\n",
    "full_tracks = dict(pool.map(get_dataset, cat.HALO.BAHAMAS.PositionAttitude))"
   ]
  },
  {
   "cell_type": "markdown",
   "id": "c0a947c3",
   "metadata": {},
   "source": [
    "We still have to simplify the dataset, which is done here:"
   ]
  },
  {
   "cell_type": "code",
   "execution_count": null,
   "id": "0b48a6bc",
   "metadata": {},
   "outputs": [],
   "source": [
    "tracks = {flight_id: simplify_dataset(ds, 1e-5)\n",
    "          for flight_id, ds in full_tracks.items()}"
   ]
  },
  {
   "cell_type": "markdown",
   "id": "991ee28d",
   "metadata": {},
   "source": [
    "Let's also quickly grab some colors from a matplotlib colorbar, such that we can show all tracks in individual colors:"
   ]
  },
  {
   "cell_type": "code",
   "execution_count": null,
   "id": "20c6475e",
   "metadata": {},
   "outputs": [],
   "source": [
    "import matplotlib\n",
    "colors = [matplotlib.colors.to_hex(c)\n",
    "          for c in plt.cm.inferno(np.linspace(0, 1, len(tracks)))]"
   ]
  },
  {
   "cell_type": "markdown",
   "id": "0c6fe206",
   "metadata": {},
   "source": [
    "We can now start with a new empty map. Let's also have a different [basemap](https://ipyleaflet.readthedocs.io/en/latest/api_reference/basemaps.html)."
   ]
  },
  {
   "cell_type": "code",
   "execution_count": null,
   "id": "7471c5de",
   "metadata": {},
   "outputs": [],
   "source": [
    "m = ipyleaflet.Map(\n",
    "    basemap=ipyleaflet.basemaps.Esri.NatGeoWorldMap,\n",
    "    center=(13.3, -57), zoom=7\n",
    ")"
   ]
  },
  {
   "cell_type": "markdown",
   "id": "b93f1816",
   "metadata": {},
   "source": [
    "We'll add all the tracks as individual layers to the map"
   ]
  },
  {
   "cell_type": "code",
   "execution_count": null,
   "id": "22cea101",
   "metadata": {},
   "outputs": [],
   "source": [
    "for (flight_id, track), color in zip(tracks.items(), colors):\n",
    "    m.add_layer(track2layer(track, color, flight_id))"
   ]
  },
  {
   "cell_type": "markdown",
   "id": "8322f4bb",
   "metadata": {},
   "source": [
    "and add a scale, a legend, layer controls and a full screen button to the map and show it. If you want to zoom in, you can for example shift-click and drag a rectangle over the area you want to zoom in more closely."
   ]
  },
  {
   "cell_type": "code",
   "execution_count": null,
   "id": "4fb5a984",
   "metadata": {},
   "outputs": [],
   "source": [
    "m.add_control(ipyleaflet.ScaleControl(position='bottomleft'))\n",
    "m.add_control(ipyleaflet.LegendControl(dict(zip(tracks, colors)),\n",
    "                                       name=\"Flights\",\n",
    "                                       position=\"bottomright\"))\n",
    "m.add_control(ipyleaflet.LayersControl(position='topright'))\n",
    "m.add_control(ipyleaflet.FullScreenControl())\n",
    "display(m)"
   ]
  }
 ],
 "metadata": {
  "jupytext": {
   "formats": "md:myst",
   "text_representation": {
    "extension": ".md",
    "format_name": "myst",
    "format_version": 0.12,
    "jupytext_version": "1.8.2"
   }
  },
  "kernelspec": {
   "display_name": "Python 3",
   "language": "python",
   "name": "python3"
  },
  "source_map": [
   13,
   22,
   25,
   29,
   32,
   36,
   48,
   60,
   65,
   69,
   72,
   76,
   94,
   98,
   104,
   106,
   110,
   119,
   123,
   127,
   132,
   141,
   145,
   148,
   152,
   156,
   160,
   165,
   169,
   172,
   176
  ]
 },
 "nbformat": 4,
 "nbformat_minor": 5
}