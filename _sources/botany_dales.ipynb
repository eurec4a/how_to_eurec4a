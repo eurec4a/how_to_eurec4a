{
 "cells": [
  {
   "cell_type": "markdown",
   "id": "d255d4d9",
   "metadata": {},
   "source": [
    "# Cloud Botany with DALES\n",
    "\n",
    "## Setup\n",
    "\n",
    "Cloud Botany is a library of idealised large-eddy simulations forced by and initialised with combinations of simplified vertical profiles. Each profile is parameterised by variables which aim to make the ensemble span a range of conditions corresponding to the variability observed over the EUREC<sup>4</sup>A region during the boreal winter of 2019/2020. The following table lists these varied parameters and their ranges:\n",
    "\n",
    "```{list-table} Variables governing Cloud Botany simulations\n",
    ":header-rows: 1\n",
    ":name: botany-variables\n",
    "\n",
    "* - variable\n",
    "  - min\n",
    "  - max\n",
    "  - unit\n",
    "  - description\n",
    "* - `thls`\n",
    "  - 297.5\n",
    "  - 299.5\n",
    "  - K\n",
    "  - sea surface potential temperature\n",
    "* - `u0`\n",
    "  - -5\n",
    "  - -15\n",
    "  - m/s\n",
    "  - surface wind\n",
    "* - `qt0`\n",
    "  - 0.0135\n",
    "  - 0.015\n",
    "  - kg/kg\n",
    "  - mixed-layer total specific humidity\n",
    "* - `qt_lambda`\n",
    "  - 1200\n",
    "  - 2500\n",
    "  - m\n",
    "  - humidity scale height\n",
    "* - `thl_Gamma`\n",
    "  - 4.5\n",
    "  - 5.5\n",
    "  - K/km\n",
    "  - lapse rate of `thl`\n",
    "* - `wpamp`\n",
    "  - -0.35\n",
    "  - 0.18\n",
    "  - cm/s\n",
    "  - Amplitude of subsidence first mode\n",
    "* - `dudz`\n",
    "  - -0.0044\n",
    "  - 0.0044\n",
    "  - 1/s\n",
    "  - Wind shear[^1]\n",
    "```\n",
    "\n",
    "[^1]: Wind shear is only varied as a sweep over eight simulations and is otherwise constant. As such, it is not to be regarded as part of the core variables that are varied in Cloud Botany.\n",
    "\n",
    "## Availability of simulation output\n",
    "\n",
    "Cloud Botany contains simulations at a variety of grid resolutions and domain sizes, and each set of simulations comes with its own output. Most of this output is hosted and made available through [DKRZ's Swiftbrowser](https://docs.dkrz.de/doc/datastorage/swift/swiftbrowser.html), and can be accessed through the [`eurec4a-intake`](https://github.com/eurec4a/eurec4a-intake) catalog."
   ]
  },
  {
   "cell_type": "code",
   "execution_count": null,
   "id": "26ec43b5",
   "metadata": {},
   "outputs": [],
   "source": [
    "import eurec4a\n",
    "cat = eurec4a.get_intake_catalog()\n",
    "botany_cat = cat.simulations.DALES.botany"
   ]
  },
  {
   "cell_type": "markdown",
   "id": "a6936d20",
   "metadata": {},
   "source": [
    "An overview over what is currently available through this structure is listed under {doc}`simulations`, and is repeated below for convenience:"
   ]
  },
  {
   "cell_type": "code",
   "execution_count": null,
   "id": "fa297bac",
   "metadata": {
    "tags": [
     "remove-input"
    ]
   },
   "outputs": [],
   "source": [
    "def tree(cat, level=0):\n",
    "    prefix = \" \" * (3*level)\n",
    "    try:\n",
    "        for child in list(cat):\n",
    "            parameters = [p[\"name\"] for p in cat[child].describe().get(\"user_parameters\", [])]\n",
    "            if len(parameters) > 0:\n",
    "                parameter_str = \" (\" + \", \".join(parameters) + \")\"\n",
    "            else:\n",
    "                parameter_str = \"\"\n",
    "            print(prefix + str(child) + parameter_str)\n",
    "            tree(cat[child], level+1)\n",
    "    except:\n",
    "        pass\n",
    "\n",
    "tree(botany_cat)"
   ]
  },
  {
   "cell_type": "markdown",
   "id": "1f27a2f7",
   "metadata": {},
   "source": [
    "## Output description\n",
    "\n",
    "### Parameters\n",
    "A combination of grid resolution and domain size, e.g. `botany_cat.dx100.nx1536`, contains its own ensemble of cases. So far, two complete ensembles have been simulated, both at the grid spacing `dx100`: `nx96` (9.6 km domain size) and `nx1536` (153.6 km domain size). Both ensembles can be accessed through the `eurec4a-intake` catalog. Other grid configurations might be added at a later stage.\n",
    "\n",
    "To inspect and use the `nx1536` ensemble, start by loading its `parameters`:"
   ]
  },
  {
   "cell_type": "code",
   "execution_count": null,
   "id": "3519fc7b",
   "metadata": {},
   "outputs": [],
   "source": [
    "import pandas as pd\n",
    "varied_parameters = ['member','thls', 'u0', 'qt0', 'qt_lambda', 'thl_Gamma', 'wpamp', 'dudz', 'location']\n",
    "parameters = cat.simulations.DALES.botany.dx100m.nx1536.parameters.read()\n",
    "df_parameters = pd.DataFrame.from_records(parameters)[varied_parameters]\n",
    "df_parameters"
   ]
  },
  {
   "cell_type": "markdown",
   "id": "9f8e1bd6",
   "metadata": {},
   "source": [
    "`parameters` contains the value of the variables in {numref}`botany-variables`, as they vary for each `member` of the ensemble. The ensemble may be thought of a hypercube in the six-dimensional space spanned by `[thls, u0, qt0, qt_lambda, thl_Gamma, wpamp]`. The `location` column indicates where any `member` fits in this space:\n",
    "- The hypercube `center` represents the middle of the range between the minimum and maximum value of each variable\n",
    "- The hypercube `corner`s are constructed by evaluating all parameter combinations at their minimum and maximum (resulting in the next $2^6 = 64$ simulations). \n",
    "- Simulations belonging to a `sweep` have a single variable vary between its minimum and maximum, while keeping all other variables constant at their `center` value."
   ]
  },
  {
   "cell_type": "markdown",
   "id": "305629ae",
   "metadata": {},
   "source": [
    "### Simulation output\n",
    "The actual output from the simulations is stored in the other data sets in the tree listing above. Such data sets can be loaded according to the following example:"
   ]
  },
  {
   "cell_type": "code",
   "execution_count": null,
   "id": "799dd7c3",
   "metadata": {},
   "outputs": [],
   "source": [
    "import xarray as xr\n",
    "\n",
    "ds_profiles = botany_cat.dx100m.nx1536['profiles'].to_dask()\n",
    "ds_profiles"
   ]
  },
  {
   "cell_type": "markdown",
   "id": "5b40adea",
   "metadata": {},
   "source": [
    "Briefly summmarised, the individual data sets contain:\n",
    "\n",
    "| Name     | What is it? | Dimensions | Output frequency |\n",
    "|----------|-------------|------------|------------------|\n",
    "| `profiles` | Vertical profiles of dynamic, thermodynamic, radiation, and microphysical slab statistics | `[member, time, z]` | 5 min |\n",
    "| `timeseries` | Surface and bulk statistics | `[member, time]` | 1 min |\n",
    "| `2D` | Vertically integrated and surface diagnostics | `[member, time, x, y]` | 5 min |\n",
    "| `3D` | Full field dumps of prognostic variables and liquid water specific humidity | `[member, time, x, y, z]` | 1 hour |\n",
    "| `cross_xy` | Extracted horizontal cross-sections of prognostic variables and liquid water specific humidity | `[member, time, x, y, z]` | 5 min |\n",
    "| `radiation` | Radiation model output at surface and top of atmosphere | `[member, time, x, y]` | 1 hour |"
   ]
  },
  {
   "cell_type": "markdown",
   "id": "dbc46d58",
   "metadata": {},
   "source": [
    "### `nx96` vs. `nx1536`\n",
    "\n",
    "The data sets stored for the `nx1536` and `nx96` ensembles are identical, except for the simulations' horizontal domain size, and their temporal coverage. With a few exceptions (simulation members 7, 15, 38, 39 and 47, which terminated prematurely), all simulations in the `nx1536` ensemble run for 2.5 days (60 hr). Since the `nx96` simulations are much smaller, they span a longer, 7-day, period:"
   ]
  },
  {
   "cell_type": "code",
   "execution_count": null,
   "id": "36f9ee02",
   "metadata": {},
   "outputs": [],
   "source": [
    "import numpy as np\n",
    "\n",
    "# nx1536\n",
    "ds_timeseries_1536 = botany_cat.dx100m.nx1536['timeseries'].to_dask()\n",
    "\n",
    "# nx96\n",
    "ds_timeseries_96 = botany_cat.dx100m.nx96['timeseries'].to_dask()\n",
    "\n",
    "print('Simulation time (days)')\n",
    "print('nx1536:', (ds_timeseries_1536['time'].isel(time=[0,-1]).diff('time')/np.timedelta64(1, 'D')).values)\n",
    "print('nx96:', (ds_timeseries_96['time'].isel(time=[0,-1]).diff('time')/np.timedelta64(1, 'D')).values)"
   ]
  },
  {
   "cell_type": "markdown",
   "id": "e1b09716",
   "metadata": {},
   "source": [
    "## Examples and visualisations\n",
    "\n",
    "Here are three short examples of accessing and plotting Botany output."
   ]
  },
  {
   "cell_type": "code",
   "execution_count": null,
   "id": "c6fe7dca",
   "metadata": {},
   "outputs": [],
   "source": [
    "import matplotlib.pyplot as plt\n",
    "import numpy as np\n",
    "from pandas.plotting import register_matplotlib_converters\n",
    "register_matplotlib_converters()\n",
    "import pathlib\n",
    "plt.style.use([pathlib.Path(\"./mplstyle/book\"), pathlib.Path(\"./mplstyle/wide\")])"
   ]
  },
  {
   "cell_type": "markdown",
   "id": "2a29c833",
   "metadata": {},
   "source": [
    "### An overview over the initial profiles of Botany"
   ]
  },
  {
   "cell_type": "code",
   "execution_count": null,
   "id": "a13c78e9",
   "metadata": {},
   "outputs": [],
   "source": [
    "# Profiles of vertical velocity, from variations in first-mode amplitude\n",
    "def expsinw(z, ampwp, w0=0.0045, Hw=2500, Hwp=5300):\n",
    "    '''\n",
    "    Vertical profiles for imposed, large-scale subsidence velocity\n",
    "    '''\n",
    "    w_0 = -w0*(1-np.exp(-z/Hw))\n",
    "    w_1 = ampwp*np.sin(2.*np.pi/Hwp*z)\n",
    "    w_1[z>Hwp] = 0.\n",
    "    return w_0 + w_1\n",
    "\n",
    "wpamp = np.unique(pd.DataFrame.from_records(parameters)[['wpamp']].to_numpy())\n",
    "\n",
    "ds_initial = ds_profiles.isel(time=0).sel(zt=slice(0, 5000))\n",
    "\n",
    "kws = {'y'          : 'zt',\n",
    "       'add_legend' : False,\n",
    "       'linewidth'  : 0.5,\n",
    "       'c'          : 'k'}\n",
    "\n",
    "fig, axs = plt.subplots(ncols=4, sharey=True, figsize=(10,5))\n",
    "\n",
    "ds_initial['thl'].plot.line(ax=axs[0], **kws)\n",
    "ds_initial['qt'].plot.line(ax=axs[1], **kws)\n",
    "ds_initial['u'].plot.line(ax=axs[2], **kws)\n",
    "\n",
    "for i, wpampi in enumerate(wpamp):\n",
    "    axs[3].plot(expsinw(ds_initial['zt'], wpampi), ds_initial['zt'], linewidth=0.5, c='k')\n",
    "axs[3].set_xlabel('w [m/s]')\n",
    "    \n",
    "for i in range(axs.size):\n",
    "    axs[i].set_title('')\n",
    "    if i > 0:\n",
    "        axs[i].set_ylabel('')\n",
    "\n",
    "plt.show()"
   ]
  },
  {
   "cell_type": "markdown",
   "id": "3b1a3075",
   "metadata": {},
   "source": [
    "### Variability of cloud fraction with surface wind\n",
    "\n",
    "One way to study how simulation output varies with the `parameters` is to add a variable of interest to one's loaded `xarray.Dataset`:"
   ]
  },
  {
   "cell_type": "code",
   "execution_count": null,
   "id": "4005d492",
   "metadata": {},
   "outputs": [],
   "source": [
    "from cycler import cycler\n",
    "\n",
    "fig = plt.figure()\n",
    "ax = plt.gca()\n",
    "ax.set_prop_cycle(cycler(color=plt.cm.cividis(np.linspace(0, 1, 7))))\n",
    "\n",
    "# Add u0 to the profiles output\n",
    "ds_u = ds_profiles.assign(df_parameters[['member','u0']].set_index('member').to_xarray())\n",
    "\n",
    "# Plot mean cloud fraction profiles grouped by surface wind over the last 100 time steps of all simulations\n",
    "ds_u[['cfrac','u0']].isel(time=slice(-100,-1)).sel(zt = slice(0,4000)).mean(dim='time').groupby('u0').mean()['cfrac'].plot.line(ax=ax, y='zt')\n",
    "plt.show()"
   ]
  },
  {
   "cell_type": "markdown",
   "id": "3bc4e12a",
   "metadata": {},
   "source": [
    "### Example visualisation of water vapour, clouds, rain and cold pools\n",
    "For the last time (60 hours after initialisation) for the \"center\" of the hypercube of simulations (member 1), we might visualise the vertically integrated total specific humidity (the total water path `twp`), the cloud-top height (`cldtop`), the rain-water path (`rwp`) and an indicator for the extent of cold pools (the local mixed-layer height, `hmix`), as follows:"
   ]
  },
  {
   "cell_type": "code",
   "execution_count": null,
   "id": "6134a1d4",
   "metadata": {},
   "outputs": [],
   "source": [
    "cb_kw = {'fraction' : 0.05}\n",
    "\n",
    "ds_2D = botany_cat.dx100m.nx1536['2D'].to_dask().sel(member=1).isel(time=-1)\n",
    "ds_2D\n",
    "fig, axs = plt.subplots(ncols=3, sharex=True, sharey=True, figsize=(14.5,4))\n",
    "\n",
    "# Total water path\n",
    "ds_2D['twp'].plot(ax=axs[0], vmin=33 ,vmax=40, cbar_kwargs=cb_kw)\n",
    "\n",
    "# Cloud-top height and rain water path\n",
    "ds_2D['cldtop'].plot(ax=axs[1],cmap='Greys_r', vmin=500, vmax=2000, cbar_kwargs=cb_kw)\n",
    "rwp_masked = xr.where(ds_2D['rwp'] > 1e-5, ds_2D['rwp'], np.nan)\n",
    "rwp_masked.plot(ax=axs[1], cmap='Blues', vmin=0, vmax=0.2, alpha=0.8, cbar_kwargs=cb_kw)\n",
    "\n",
    "# Mixed-layer height\n",
    "ds_2D['hmix'].plot(ax=axs[2],cmap='RdBu_r', vmin=50, vmax=1000, cbar_kwargs=cb_kw)\n",
    "\n",
    "plt.show()"
   ]
  },
  {
   "cell_type": "markdown",
   "id": "df00a313",
   "metadata": {},
   "source": [
    "### Visualisations page\n",
    "\n",
    "In addition to the data sets described above, a more thorough set of visualisations indicative simulation output is available. This visualisation set contains simple overviews and movies for each simulation in the library. They can be quite useful for attaining a basic idea of what each simulation produced without having to load the data. These visualisations are hosted on [a personal server](http://143.178.154.95:3141/). Since the maintenance and availability of this server may be patchy, they can also be downloaded from [Zenodo](https://zenodo.org/record/7692270)."
   ]
  }
 ],
 "metadata": {
  "jupytext": {
   "text_representation": {
    "extension": ".md",
    "format_name": "myst",
    "format_version": 0.13,
    "jupytext_version": "1.14.7"
   }
  },
  "kernelspec": {
   "display_name": "Python 3 (ipykernel)",
   "language": "python",
   "name": "python3"
  },
  "source_map": [
   12,
   72,
   76,
   80,
   98,
   107,
   113,
   120,
   125,
   130,
   143,
   149,
   161,
   167,
   174,
   178,
   214,
   220,
   233,
   238,
   257
  ]
 },
 "nbformat": 4,
 "nbformat_minor": 5
}