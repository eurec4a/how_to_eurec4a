{
 "cells": [
  {
   "cell_type": "markdown",
   "id": "9757ba5b",
   "metadata": {},
   "source": [
    "# W-band radar example\n",
    "\n",
    " During EUREC⁴A and ATOMIC NOAA deployed W-band (94 GHz) radars on both the P-3 aircraft\n",
    " and the ship Ron Brown. The airborne radar was operated with 220 30-meter range gates\n",
    " with a dwell time of 0.5 seconds. The minimum detectable reflectivity of -36 dBZ at a range of\n",
    " 1 km although accurate estimates of Doppler properties require about -30 dBZ at 1 km.\n",
    "\n",
    "The data are available through the EUREC⁴A intake catalog."
   ]
  },
  {
   "cell_type": "code",
   "execution_count": null,
   "id": "24f0bfcc",
   "metadata": {},
   "outputs": [],
   "source": [
    "import datetime\n",
    "\n",
    "import matplotlib.pyplot as plt\n",
    "import colorcet as cc\n",
    "%matplotlib inline\n",
    "\n",
    "import eurec4a\n",
    "cat = eurec4a.get_intake_catalog(use_ipfs=\"QmahMN2wgPauHYkkiTGoG2TpPBmj3p5FoYJAq9uE9iXT9N\")"
   ]
  },
  {
   "cell_type": "markdown",
   "id": "875833cd",
   "metadata": {},
   "source": [
    "We'll select an hour's worth of observations from a single flight day, and mask\n",
    "out any observations with signal-to-noise ratio less than -10 dB."
   ]
  },
  {
   "cell_type": "code",
   "execution_count": null,
   "id": "c0ffa57e",
   "metadata": {},
   "outputs": [],
   "source": [
    "time_slice = slice(datetime.datetime(2020, 1, 19, hour=18),\n",
    "                   datetime.datetime(2020, 1, 19, hour=19))\n",
    "\n",
    "cloud_params = cat.P3.remote_sensing['P3-0119'].to_dask().sel(time=time_slice)\n",
    "\n",
    "w_band         = cat.P3.w_band_radar['P3-0119'].to_dask().sel(time=time_slice, height=slice(0,3))\n",
    "w_band         = w_band.where(w_band.snr > -10)"
   ]
  },
  {
   "cell_type": "markdown",
   "id": "a23118f5",
   "metadata": {},
   "source": [
    "The three main quantities measured by the radar are the reflectivity, the Doppler\n",
    "velocity, and the spectral width."
   ]
  },
  {
   "cell_type": "code",
   "execution_count": null,
   "id": "e801479b",
   "metadata": {},
   "outputs": [],
   "source": [
    "fig = plt.figure(figsize = (12,10.2))\n",
    "\n",
    "axes = fig.subplots(3, 1, sharex=True)\n",
    "w_band.corrected_reflectivity.plot(x=\"time\", y=\"height\",\n",
    "                                   ax = axes[0],\n",
    "                                   vmin = -45, vmax = 20,\n",
    "                                   cmap = cc.m_bgy)\n",
    "w_band.corrected_doppler_velocity.plot(x=\"time\", y=\"height\",\n",
    "                                       ax = axes[1],\n",
    "                                       vmin = -3, vmax = 3,\n",
    "                                       cmap = cc.m_coolwarm)\n",
    "\n",
    "w_band.spectral_width.plot(x=\"time\", y=\"height\",\n",
    "                          ax = axes[2],\n",
    "                          vmin = 0, vmax = 2,\n",
    "                          cmap = cc.m_bmy)\n",
    "\n",
    "for ax in axes[0:2]:\n",
    "    ax.tick_params(\n",
    "    axis='x',          # changes apply to the x-axis\n",
    "    which='both',      # both major and minor ticks are affected\n",
    "    bottom=False,      # ticks along the bottom edge are off\n",
    "    top=False,         # ticks along the top edge are off\n",
    "    labelbottom=False) # labels along the bottom edge are off\n",
    "    ax.xaxis.set_visible(False)\n",
    "\n",
    "fig.subplots_adjust(bottom = 0)"
   ]
  }
 ],
 "metadata": {
  "jupytext": {
   "text_representation": {
    "extension": ".md",
    "format_name": "myst",
    "format_version": 0.13,
    "jupytext_version": "1.11.2"
   }
  },
  "kernelspec": {
   "display_name": "Python 3",
   "language": "python",
   "name": "python3"
  },
  "source_map": [
   12,
   23,
   32,
   37,
   45,
   50
  ]
 },
 "nbformat": 4,
 "nbformat_minor": 5
}