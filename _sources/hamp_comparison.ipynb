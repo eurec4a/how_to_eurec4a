{
 "cells": [
  {
   "cell_type": "markdown",
   "id": "59cb4832",
   "metadata": {},
   "source": [
    "# HAMP comparison\n",
    "This notebook shows a comparison of cloud features as detected by different parts of the Halo Microwave Package (HAMP) and includes data from WALES and specMACS for additional context.\n",
    "Another application of the HAMP data is included in the chapter {doc}`unified`."
   ]
  },
  {
   "cell_type": "code",
   "execution_count": null,
   "id": "b5924ef1",
   "metadata": {},
   "outputs": [],
   "source": [
    "import numpy as np\n",
    "import eurec4a\n",
    "cat = eurec4a.get_intake_catalog(use_ipfs=\"QmahMN2wgPauHYkkiTGoG2TpPBmj3p5FoYJAq9uE9iXT9N\")"
   ]
  },
  {
   "cell_type": "markdown",
   "id": "03178c4d",
   "metadata": {},
   "source": [
    "We'll define a helper-function to approximately convert cell centers to edges:"
   ]
  },
  {
   "cell_type": "code",
   "execution_count": null,
   "id": "5a2b9b87",
   "metadata": {
    "tags": [
     "hide-cell"
    ]
   },
   "outputs": [],
   "source": [
    "def center_to_edge(center):\n",
    "    center = np.asarray(center)\n",
    "    edge =  np.empty(center.shape[0]+1, dtype=center.dtype)\n",
    "    # the strange notation in the following lines is used to make the calculations datetime compatible\n",
    "    edge[1:-1] = center[1:] + (center[:-1] - center[1:])/2.\n",
    "    edge[0] = edge[1] + (edge[1] - edge[2])\n",
    "    edge[-1] = edge[-2] + (edge[-2] - edge[-3])\n",
    "    return edge"
   ]
  },
  {
   "cell_type": "markdown",
   "id": "563d75e9",
   "metadata": {},
   "source": [
    "And define a multi-linear scale that we will use for the LWP plot later on. This scale allows us to use zoom in a certain y-range. In our case, we will later increase the scale from 20 to 20 by a factor of 10."
   ]
  },
  {
   "cell_type": "code",
   "execution_count": null,
   "id": "4d437653",
   "metadata": {
    "tags": [
     "hide-cell",
     "export"
    ]
   },
   "outputs": [],
   "source": [
    "import matplotlib as mpl\n",
    "from matplotlib.scale import ScaleBase, register_scale\n",
    "from matplotlib.transforms import Transform\n",
    "from matplotlib.ticker import (\n",
    "    NullFormatter, ScalarFormatter,\n",
    "    NullLocator, AutoLocator, AutoMinorLocator,\n",
    ")\n",
    "\n",
    "class MultiLinearTransform(Transform):\n",
    "    input_dims = output_dims = 1\n",
    "    is_separable = True\n",
    "\n",
    "    def __init__(self, segments):\n",
    "        super().__init__(self)\n",
    "        self.segments = segments\n",
    "        self.inverse_segments = [\n",
    "            (\n",
    "                self.transform_non_affine(np.array([p0]))[0],\n",
    "                self.transform_non_affine(np.array([p1]))[0],\n",
    "                1.0/scale\n",
    "            )\n",
    "            for (p0, p1, scale) in self.segments\n",
    "        ]\n",
    "\n",
    "    def transform_non_affine(self, a):\n",
    "        result = a.copy().astype(float)\n",
    "        with np.errstate(invalid=\"ignore\"):\n",
    "            for (p0, p1, scale) in self.segments:\n",
    "                mask = np.logical_and(p0<a, a<=p1)\n",
    "                result[mask] += (a[mask] - p0) * (scale - 1)\n",
    "                result[p1<a] += (p1 - p0) * (scale - 1)\n",
    "        return result\n",
    "\n",
    "    def inverted(self):\n",
    "        return MultiLinearTransform(self.inverse_segments)\n",
    "\n",
    "class MultiLinearScale(ScaleBase):\n",
    "    name = \"multilinear\"\n",
    "\n",
    "    def __init__(self, axis, segments):\n",
    "        \"\"\"\n",
    "        A MPL ax scale that magnifies given segments\n",
    "\n",
    "        Parameters\n",
    "        ----------\n",
    "        axis : {matplotlib axis}\n",
    "            The axis handle\n",
    "        segments : {[tuples of 3-tuples]}\n",
    "            Format: [(p0, p1, scale), ...]\n",
    "            Magnify each segment from p0 to p1 by given scale factor.\n",
    "            p0 <= p1\n",
    "\n",
    "        Example\n",
    "        -------\n",
    "        ax.set_yscale('magnifylinear', segments=[[-20., 20., 10.]])\n",
    "\n",
    "        \"\"\"\n",
    "        for (p0, p1, scale) in segments:\n",
    "            if p0 > p1:\n",
    "                raise ValueError(\"p0 must be less or equal p1\")\n",
    "            if scale <= 0:\n",
    "                raise ValueError(\"scale must be positive\")\n",
    "\n",
    "        super().__init__(axis)\n",
    "        self.segments = segments\n",
    "\n",
    "    def get_transform(self):\n",
    "        return MultiLinearTransform(self.segments)\n",
    "\n",
    "    def set_default_locators_and_formatters(self, axis):\n",
    "        # docstring inherited\n",
    "        axis.set_major_locator(AutoLocator())\n",
    "        axis.set_major_formatter(ScalarFormatter())\n",
    "        axis.set_minor_formatter(NullFormatter())\n",
    "        # update the minor locator for x and y axis based on rcParams\n",
    "        if (axis.axis_name == 'x' and mpl.rcParams['xtick.minor.visible'] or\n",
    "                axis.axis_name == 'y' and mpl.rcParams['ytick.minor.visible']):\n",
    "            axis.set_minor_locator(AutoMinorLocator())\n",
    "        else:\n",
    "            axis.set_minor_locator(NullLocator())\n",
    "\n",
    "# register scale in matplotlib\n",
    "register_scale(MultiLinearScale)"
   ]
  },
  {
   "cell_type": "markdown",
   "id": "db56c597",
   "metadata": {},
   "source": [
    "## Collect datasets\n",
    "We want to look at data from several sensors within a spacific timeframe on flight `HALO-0205`:"
   ]
  },
  {
   "cell_type": "code",
   "execution_count": null,
   "id": "cca06bf0",
   "metadata": {},
   "outputs": [],
   "source": [
    "flight_id = 'HALO-0205'\n",
    "timeslice = slice('2020-02-05T13:07', '2020-02-05T13:11')\n",
    "\n",
    "radiometer_cm = cat.HALO.UNIFIED.HAMPradiometer_cloudmask[flight_id].to_dask().sel(time=timeslice)\n",
    "radar_cm = cat.HALO.UNIFIED.HAMPradar_cloudmask[flight_id].to_dask().sel(time=timeslice)\n",
    "\n",
    "retrieval =  cat.HALO.UNIFIED.HAMPradiometer_retrievals[flight_id].to_dask().sel(time=timeslice)\n",
    "\n",
    "radar = cat.HALO.UNIFIED.HAMPradar[flight_id].to_dask().sel(time=timeslice)\n",
    "wales = cat.HALO.WALES.cloudparameter[flight_id].to_dask().sel(time=timeslice)\n",
    "specMACS = cat.HALO.specMACS.cloudmaskSWIR[flight_id].to_dask().sel(time=timeslice)"
   ]
  },
  {
   "cell_type": "markdown",
   "id": "c3c2d7df",
   "metadata": {},
   "source": [
    "Ideally, we'd be handling the cloud flag meanings properly, but for now, let's just check if they are defined similarly:"
   ]
  },
  {
   "cell_type": "code",
   "execution_count": null,
   "id": "5f527256",
   "metadata": {},
   "outputs": [],
   "source": [
    "assert np.all(radar_cm.cloud_mask.flag_values == radiometer_cm.cloud_mask.flag_values)\n",
    "assert np.all(radar_cm.cloud_mask.flag_values == wales.cloud_mask.flag_values)\n",
    "assert radar_cm.cloud_mask.flag_meanings == 'no_cloud_detectable probably_cloudy most_likely_cloudy'\n",
    "assert radiometer_cm.cloud_mask.flag_meanings == 'no_cloud_detectable probably_cloudy most_likely_cloudy'\n",
    "assert wales.cloud_mask.flag_meanings == 'cloud_free probably_cloudy most_likely_cloudy'"
   ]
  },
  {
   "cell_type": "markdown",
   "id": "bc654ece",
   "metadata": {},
   "source": [
    "Let's prepare the radar reflectivity (dBZ) time-height plot. Get the dBZ in right shape and adjust the x and y axis according to the requirements of pcolormesh, this means x and y define the pixel edges in the respective direction. Also we convert the height coordinate from the WGS84 ellipsoid height to height above the Geoid. For this, we need y (and x) as 2D fields, as we have to correct the height in every time step as function of lat and lon. The Radar and Lidar cloud top heigh products are already defined above the Geoid or sea surface."
   ]
  },
  {
   "cell_type": "code",
   "execution_count": null,
   "id": "0cbb80e6",
   "metadata": {},
   "outputs": [],
   "source": [
    "def wgs84_height(lon, lat):\n",
    "    #TODO: find wgs84_height(lon, lat) function that works with the licence\n",
    "    # this is a good average number for the EUREC4A circle area.\n",
    "    return np.zeros_like(lon+lat) - 47.5\n",
    "\n",
    "radar_dBZ = radar.dBZ.transpose('height', 'time').values\n",
    "radar_x = center_to_edge(radar.time)\n",
    "radar_y = center_to_edge(radar.height)\n",
    "radar_x, radar_y = np.meshgrid(radar_x, radar_y)\n",
    "wgs_correction = center_to_edge(wgs84_height(radar.lon, radar.lat))[np.newaxis, :]\n",
    "radar_y = radar_y - wgs_correction"
   ]
  },
  {
   "cell_type": "markdown",
   "id": "5906f987",
   "metadata": {},
   "source": [
    "## Plot timeseries"
   ]
  },
  {
   "cell_type": "code",
   "execution_count": null,
   "id": "99c59b6c",
   "metadata": {},
   "outputs": [],
   "source": [
    "%matplotlib inline\n",
    "import matplotlib.pyplot as plt\n",
    "import pathlib\n",
    "plt.style.use(pathlib.Path(\"./mplstyle/book\"))\n",
    "\n",
    "fig, (ax3, ax2, ax1, ax,) = plt.subplots(\n",
    "    nrows=4, sharex=True,\n",
    "    gridspec_kw=dict(height_ratios=[1, 1, .75, 0.5]),\n",
    ")\n",
    "\n",
    "ax.plot(wales.time, wales.cloud_mask + 0.2, '.', label='WALES', markersize=3)\n",
    "ax.plot(radar_cm.time, radar_cm.cloud_mask, '.', label='Radar')\n",
    "ax.plot(radiometer_cm.time, radiometer_cm.cloud_mask + 0.1, '.', label='Radiometer')\n",
    "\n",
    "# Make nice labels\n",
    "ax.set_yticks(radar_cm.cloud_mask.flag_values)\n",
    "ax.set_yticklabels(radar_cm.cloud_mask.flag_meanings.split())\n",
    "ax.legend(ncol=3, loc='lower right')\n",
    "ax.grid()\n",
    "\n",
    "# Plot Radar Curtain\n",
    "ax2.set_title('HAMP Cloud Radar')\n",
    "ax2.pcolormesh(radar_x, radar_y, radar_dBZ, vmin=-30, vmax=35, cmap='gray', rasterized=True)\n",
    "\n",
    "ax2.plot(\n",
    "     wales.time,  wales.cloud_top,\n",
    "    '.', markersize=3,\n",
    "    label='WALES cloud top'\n",
    ")\n",
    "ax2.plot(\n",
    "    radar_cm.time, radar_cm.cloud_top,\n",
    "    '.', markersize=3,\n",
    "    label='Radar Cloud top'\n",
    ")\n",
    "ax2.set_ylabel('Height above Geoid (m)')\n",
    "ax2.set_ylim(0, 2500)\n",
    "ax2.grid()\n",
    "ax2.legend(ncol=3)\n",
    "ax2.minorticks_on()\n",
    "\n",
    "# specMACS\n",
    "specMACS.cloud_mask.T.plot.contour(ax=ax3, cmap=\"gray\", add_colorbar=False)\n",
    "ax3.set_title('specMACS')\n",
    "\n",
    "# Plot MWR Retrievals\n",
    "ax1.set_title('HAMP Microwave Radiometer')\n",
    "ax1.plot(retrieval.time, retrieval.lwp*1000, label='Total Liquid Water Path')\n",
    "ax1.plot(retrieval.time, retrieval.rwp*1000, label='Rain Water Path')\n",
    "ax1.set_ylim(-10, 911)\n",
    "ax1.legend()\n",
    "\n",
    "ax1.set_yscale('multilinear', segments=[[-20., 20., 10.]])\n",
    "#ax1.axhline(20, color='k', linewidth=1, linestyle=':', zorder=0)\n",
    "ax1.set_yticks([-20, 0, 20, 300, 600, 900])\n",
    "ax1.set_ylabel('Condensate (g/m²)')\n",
    "\n",
    "#ax.set_xlim(np.datetime64(start), np.datetime64(end))\n",
    "None"
   ]
  }
 ],
 "metadata": {
  "jupytext": {
   "text_representation": {
    "extension": ".md",
    "format_name": "myst",
    "format_version": 0.12,
    "jupytext_version": "1.7.1"
   }
  },
  "kernelspec": {
   "display_name": "Python 3",
   "language": "python",
   "name": "python3"
  },
  "source_map": [
   12,
   18,
   22,
   25,
   37,
   40,
   127,
   132,
   144,
   148,
   154,
   158,
   170,
   173
  ]
 },
 "nbformat": 4,
 "nbformat_minor": 5
}