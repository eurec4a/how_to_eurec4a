{
 "cells": [
  {
   "cell_type": "markdown",
   "id": "40f653ee",
   "metadata": {},
   "source": [
    "# EUREC⁴A-MIP\n",
    "\n",
    "The EUREC⁴A-Model intercomparison project (EUREC⁴A-MIP) is an ongoing effort to test the ability of a variety of simulations to capture the observed variability of the trade-winds.\n",
    "\n",
    "```{note}\n",
    "This section and its subsections are still under development.\n",
    "```\n",
    "\n",
    "## Setup\n",
    "### Boundary conditions\n",
    "The boundary conditions and warming tendencies are provided on the DKRZ-SWIFT storage. The entire files can be accessed\n",
    "- via the [EUREC⁴A Intake Catalog](https://github.com/eurec4a/eurec4a-intake)\n",
    "  ```python\n",
    "  import xarray as xr\n",
    "  from intake import open_catalog\n",
    "  from pandas import date_range\n",
    "\n",
    "  dates_of_interest = date_range('2020-01-01','2020-03-01', freq='1H')\n",
    "\n",
    "  cat = open_catalog(\"https://raw.githubusercontent.com/eurec4a/eurec4a-intake/master/catalog.yml\")\n",
    "\n",
    "  for experiment in ['control', 'warming']:\n",
    "    bc_cat = cat.simulations.EUREC4A_MIP[experiment].setup.boundary_conditions\n",
    "    ds = xr.concat([bc_cat(date=d).to_dask() for d in dates_of_interest], dim='time')\n",
    "    ds.to_netcdf(f\"EUREC4A-MIP_boundaryConditions_{experiment}.nc\")\n",
    "  ```\n",
    "  Instructions on how to install the mandatory packages can be found at the [EUREC⁴A Intake Catalog Repository](https://github.com/eurec4a/eurec4a-intake#usage)\n",
    "- from the browser interface \n",
    "  - [Boundary conditions Control](https://swiftbrowser.dkrz.de/public/dkrz_0913c8f3-e7b6-4f94-9221-06880d4ccfea/CTRL_ERA5/)\n",
    "  - [Boundary conditions Warming+4K](https://swiftbrowser.dkrz.de/public/dkrz_0913c8f3-e7b6-4f94-9221-06880d4ccfea/PGW+4K/)\n",
    "- or command line:\n",
    "  ```bash\n",
    "  wget -r -H -N --cut-dirs=3 --include-directories=\"/v1/\" \"https://swiftbrowser.dkrz.de/public/dkrz_0913c8f3-e7b6-4f94-9221-06880d4ccfea/PGW+4K/?show_all\"\n",
    "  wget -r -H -N --cut-dirs=3 --include-directories=\"/v1/\" \"https://swiftbrowser.dkrz.de/public/dkrz_0913c8f3-e7b6-4f94-9221-06880d4ccfea/CTRL_ERA5/?show_all\"\n",
    "  ```\n",
    "\n",
    "## Further references\n",
    "- [eurec4a.eu](https://eurec4a.eu/motivation)"
   ]
  }
 ],
 "metadata": {
  "jupytext": {
   "text_representation": {
    "extension": ".md",
    "format_name": "myst",
    "format_version": 0.12,
    "jupytext_version": "1.7.1"
   }
  },
  "kernelspec": {
   "display_name": "Python 3",
   "language": "python",
   "name": "python3"
  },
  "source_map": [
   12
  ]
 },
 "nbformat": 4,
 "nbformat_minor": 5
}