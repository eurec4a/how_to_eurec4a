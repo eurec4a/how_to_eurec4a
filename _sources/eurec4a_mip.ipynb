{
 "cells": [
  {
   "cell_type": "markdown",
   "id": "9ed3ce24",
   "metadata": {},
   "source": [
    "# EUREC⁴A-MIP\n",
    "\n",
    "The EUREC⁴A-Model intercomparison project (EUREC⁴A-MIP) is an ongoing effort to test the ability of a variety of simulations to capture the observed variability of the trade-winds.\n",
    "\n",
    "```{note}\n",
    "This section and its subsections are still under development.\n",
    "```\n",
    "\n",
    "## Setup\n",
    "### Boundary conditions\n",
    "The boundary conditions and warming tendencies are provided on the DKRZ-SWIFT storage. The entire files can be accessed\n",
    "- via the [EUREC⁴A Intake Catalog](https://github.com/eurec4a/eurec4a-intake)\n",
    "  ```python\n",
    "  import xarray as xr\n",
    "  from intake import open_catalog\n",
    "  from pandas import date_range\n",
    "\n",
    "  dates_of_interest = date_range('2020-01-01','2020-03-01', freq='1H')\n",
    "\n",
    "  cat = open_catalog(\"https://raw.githubusercontent.com/eurec4a/eurec4a-intake/master/catalog.yml\")\n",
    "\n",
    "  for experiment in ['control', 'warming']:\n",
    "    bc_cat = cat.simulations.EUREC4A_MIP[experiment].setup.boundary_conditions\n",
    "    ds = xr.concat([bc_cat(date=d).to_dask() for d in dates_of_interest], dim='time')\n",
    "    ds.to_netcdf(f\"EUREC4A-MIP_boundaryConditions_{experiment}.nc\")\n",
    "  ```\n",
    "\n",
    "  In addition to the boundary conditions already applied to the ERA5 simulations, the monthly mean climate deltas are also available separately. They are computed from the CMIP6 output of the GFDL-CM4 model {cite:p}`Held:2019` as the difference between the AMIP with patterned 4K SST increase experiment (AMIP-future 4K) and the AMIP historical (AMIP) simulation. Variables available are temperature, relative humidity, surface pressure, horizontal wind and sea and land surface temperature. These monthly mean climate deltas are available as two products.\n",
    "\n",
    "  - at original GFDL-CM4 resolution\n",
    "    ```python\n",
    "    delta_gfdl = cat.simulations.EUREC4A_MIP.warming.setup.boundary_conditions.deltas.GFDL_CM4.to_dask()\n",
    "    ```\n",
    "  - at ERA5 horizontal and vertical resolution (interpolated)\n",
    "    ```python\n",
    "    delta_era5 = cat.simulations.EUREC4A_MIP.warming.setup.boundary_conditions.deltas.ERA5.to_dask()\n",
    "    ```\n",
    "\n",
    "  Instructions on how to install the mandatory packages can be found at the [EUREC⁴A Intake Catalog Repository](https://github.com/eurec4a/eurec4a-intake#usage)\n",
    "- from the browser interface \n",
    "  - [Boundary conditions Control](https://swiftbrowser.dkrz.de/public/dkrz_0913c8f3-e7b6-4f94-9221-06880d4ccfea/CTRL_ERA5/)\n",
    "  - [Boundary conditions Warming+4K](https://swiftbrowser.dkrz.de/public/dkrz_0913c8f3-e7b6-4f94-9221-06880d4ccfea/PGW+4K/)\n",
    "  - [Boundary conditions Warming+4K Deltas on GFDL-CM4 grid](https://swiftbrowser.dkrz.de/public/dkrz_0913c8f3-e7b6-4f94-9221-06880d4ccfea/DELTAS_ORI/)\n",
    "  - [Boundary conditions Warming+4K Deltas interpolated to ERA5 grid](https://swiftbrowser.dkrz.de/public/dkrz_0913c8f3-e7b6-4f94-9221-06880d4ccfea/DELTAS_INT/)\n",
    "- or command line:\n",
    "  ```bash\n",
    "  wget -r -H -N --cut-dirs=3 --include-directories=\"/v1/\" \"https://swiftbrowser.dkrz.de/public/dkrz_0913c8f3-e7b6-4f94-9221-06880d4ccfea/PGW+4K/?show_all\"\n",
    "  wget -r -H -N --cut-dirs=3 --include-directories=\"/v1/\" \"https://swiftbrowser.dkrz.de/public/dkrz_0913c8f3-e7b6-4f94-9221-06880d4ccfea/CTRL_ERA5/?show_all\"\n",
    "  wget -r -H -N --cut-dirs=3 --include-directories=\"/v1/\" \"https://swiftbrowser.dkrz.de/public/dkrz_0913c8f3-e7b6-4f94-9221-06880d4ccfea/DELTAS_ORI/?show_all\"\n",
    "  wget -r -H -N --cut-dirs=3 --include-directories=\"/v1/\" \"https://swiftbrowser.dkrz.de/public/dkrz_0913c8f3-e7b6-4f94-9221-06880d4ccfea/DELTAS_INT/?show_all\"\n",
    "  ```\n",
    "\n",
    "## Further references\n",
    "- [eurec4a.eu](https://eurec4a.eu/motivation)"
   ]
  }
 ],
 "metadata": {
  "jupytext": {
   "text_representation": {
    "extension": ".md",
    "format_name": "myst",
    "format_version": 0.12,
    "jupytext_version": "1.7.1"
   }
  },
  "kernelspec": {
   "display_name": "Python 3",
   "language": "python",
   "name": "python3"
  },
  "language_info": {
   "codemirror_mode": {
    "name": "ipython",
    "version": 3
   },
   "file_extension": ".py",
   "mimetype": "text/x-python",
   "name": "python",
   "nbconvert_exporter": "python",
   "pygments_lexer": "ipython3",
   "version": "3.12.3"
  },
  "source_map": [
   12
  ]
 },
 "nbformat": 4,
 "nbformat_minor": 5
}