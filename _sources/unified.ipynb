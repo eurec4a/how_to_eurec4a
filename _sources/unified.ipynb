{
 "cells": [
  {
   "cell_type": "markdown",
   "id": "2d3822f4",
   "metadata": {},
   "source": [
    "# HALO UNIFIED dataset\n",
    "\n",
    "The HALO UNIFEID dataset is a combination of [HAMP](https://amt.copernicus.org/articles/7/4539/2014/) radar and radiometer measurements, [BAHAMAS](http://www.halo.dlr.de/instrumentation/basis.html) aircraft position data and [dropsonde](https://github.com/Geet-George/JOANNE#joanne---the-eurec4a-dropsonde-dataset) measurements, all on a unified temporal and spatial grid. \n",
    "\n",
    "More information on the dataset can be found at {cite:t}`Konow:2021`. If you have questions or if you would like to use the data for a publication, please don't hesitate to get in contact with the dataset authors as stated in the dataset attributes `contact` or `author`.\n",
    "\n",
    "## Get data\n",
    "* To load the data we first load the EUREC⁴A meta data catalogue. More information on the catalog can be found [here](https://github.com/eurec4a/eurec4a-intake#eurec4a-intake-catalogue)."
   ]
  },
  {
   "cell_type": "code",
   "execution_count": null,
   "id": "3c293d56",
   "metadata": {},
   "outputs": [],
   "source": [
    "import eurec4a"
   ]
  },
  {
   "cell_type": "code",
   "execution_count": null,
   "id": "f1c52b8f",
   "metadata": {},
   "outputs": [],
   "source": [
    "cat = eurec4a.get_intake_catalog(use_ipfs=\"QmahMN2wgPauHYkkiTGoG2TpPBmj3p5FoYJAq9uE9iXT9N\")\n",
    "list(cat.HALO.UNIFIED)"
   ]
  },
  {
   "cell_type": "markdown",
   "id": "91002df1",
   "metadata": {},
   "source": [
    "* We can further specify an instrument and a flight and obtain the dataset using `to_dask`.\n",
    "\n",
    "```{note}\n",
    "Have a look at the attributes of the xarray dataset `ds` for all relevant information on the dataset, such as author, contact, or citation infromation.\n",
    "```"
   ]
  },
  {
   "cell_type": "code",
   "execution_count": null,
   "id": "8be917f8",
   "metadata": {},
   "outputs": [],
   "source": [
    "ds_radar = cat.HALO.UNIFIED.HAMPradar[\"HALO-0205\"].to_dask()\n",
    "ds_radiometer = cat.HALO.UNIFIED.HAMPradiometer[\"HALO-0205\"].to_dask()\n",
    "ds_bahamas = cat.HALO.UNIFIED.BAHAMAS[\"HALO-0205\"].to_dask()"
   ]
  },
  {
   "cell_type": "markdown",
   "id": "44d5edb7",
   "metadata": {},
   "source": [
    "## Load HALO flight phase information\n",
    "All HALO flights were split up into flight phases or segments to allow for a precise selection in time and space of a circle or calibration pattern. For more information have a look at the respective [github repository](https://github.com/eurec4a/halo-flight-phase-separation)."
   ]
  },
  {
   "cell_type": "code",
   "execution_count": null,
   "id": "d839ea35",
   "metadata": {},
   "outputs": [],
   "source": [
    "meta = eurec4a.get_flight_segments()"
   ]
  },
  {
   "cell_type": "markdown",
   "id": "e24996d5",
   "metadata": {},
   "source": [
    "We select the flight phase we are interested in, e.g. the second circle on February 5 by it’s segment_id."
   ]
  },
  {
   "cell_type": "code",
   "execution_count": null,
   "id": "87f7ede0",
   "metadata": {},
   "outputs": [],
   "source": [
    "segments = {s[\"segment_id\"]: {**s, \"flight_id\": flight[\"flight_id\"]}\n",
    "             for platform in meta.values()\n",
    "             for flight in platform.values()\n",
    "             for s in flight[\"segments\"]\n",
    "            }\n",
    "seg = segments[\"HALO-0205_c2\"]"
   ]
  },
  {
   "cell_type": "markdown",
   "id": "7d48b47e",
   "metadata": {},
   "source": [
    "We transfer the information from our flight segment selection to our radar and radiometer data in the xarray dataset."
   ]
  },
  {
   "cell_type": "code",
   "execution_count": null,
   "id": "59ff99d4",
   "metadata": {},
   "outputs": [],
   "source": [
    "ds_radar_selection = ds_radar.sel(time=slice(seg[\"start\"], seg[\"end\"]))\n",
    "ds_radiometer_selection = ds_radiometer.sel(time=slice(seg[\"start\"], seg[\"end\"]))\n",
    "ds_bahamas_selection = ds_bahamas.sel(time=slice(seg[\"start\"], seg[\"end\"]))"
   ]
  },
  {
   "cell_type": "markdown",
   "id": "1809e3ef",
   "metadata": {},
   "source": [
    "## Plots"
   ]
  },
  {
   "cell_type": "markdown",
   "id": "eca54f08",
   "metadata": {},
   "source": [
    "We plot reflectivity from the HAMP Radar, the flight altitude of HALO and brightness temperatures from the low-frequency channels along the 22 GHz water vapor line (K band) from the HAMP radiometer."
   ]
  },
  {
   "cell_type": "code",
   "execution_count": null,
   "id": "d1db1871",
   "metadata": {},
   "outputs": [],
   "source": [
    "%matplotlib inline\n",
    "import numpy as np\n",
    "import matplotlib.pyplot as plt\n",
    "import pathlib\n",
    "plt.style.use(pathlib.Path(\"./mplstyle/book\"))\n",
    "\n",
    "fig, (ax1, ax2) = plt.subplots(2, 1, sharex=True, gridspec_kw={'height_ratios':(2, 1.2)})\n",
    "\n",
    "# 1st plot: Radar dBZ and flight altitude\n",
    "ds_bahamas_selection.altitude.plot(ax=ax1, x='time', color='black', label='flight altitude')\n",
    "ax1.legend(loc ='upper left')\n",
    "ds_radar_selection.dBZ.plot(ax=ax1, x='time', cmap='cubehelix' )\n",
    "ax1.set_xlabel('')\n",
    "\n",
    "# 2nd plot: Radiometer TB\n",
    "## select low frequency channels along the 22 GHz water vapor line\n",
    "low_freq = ds_radiometer_selection.frequency < 32\n",
    "ds_radiometer_low_freq = ds_radiometer_selection.isel(frequency=low_freq)\n",
    "## set line colors for 2nd plot\n",
    "colors2 = plt.get_cmap(\"cividis\")(np.linspace(0, 0.8, low_freq.values.sum()))\n",
    "ax2.set_prop_cycle(color=colors2)\n",
    "for frequency, data_radiometer in ds_radiometer_low_freq.groupby(\"frequency\"):\n",
    "    data_radiometer.tb.plot(ax=ax2, x='time', label=f'{frequency:.2f} GHz')\n",
    "ax2.set_title('')\n",
    "ax2.legend(bbox_to_anchor=(1,1.1))\n",
    "None"
   ]
  }
 ],
 "metadata": {
  "jupytext": {
   "text_representation": {
    "extension": ".md",
    "format_name": "myst",
    "format_version": 0.12,
    "jupytext_version": "1.8.1"
   }
  },
  "kernelspec": {
   "display_name": "Python 3",
   "language": "python",
   "name": "python3"
  },
  "source_map": [
   12,
   23,
   27,
   30,
   38,
   42,
   47,
   49,
   53,
   60,
   64,
   68,
   72,
   76
  ]
 },
 "nbformat": 4,
 "nbformat_minor": 5
}