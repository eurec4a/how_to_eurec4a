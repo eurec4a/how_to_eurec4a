{
 "cells": [
  {
   "cell_type": "markdown",
   "id": "ce76bc1f",
   "metadata": {},
   "source": [
    "# How to work with flight phase segmentation files"
   ]
  },
  {
   "cell_type": "code",
   "execution_count": null,
   "id": "f9303b27",
   "metadata": {},
   "outputs": [],
   "source": [
    "import datetime\n",
    "import eurec4a"
   ]
  },
  {
   "cell_type": "code",
   "execution_count": null,
   "id": "59be7d3c",
   "metadata": {},
   "outputs": [],
   "source": [
    "meta = eurec4a.get_flight_segments()\n",
    "meta.keys()"
   ]
  },
  {
   "cell_type": "markdown",
   "id": "aa2b8a63",
   "metadata": {},
   "source": [
    "## 1. map `segment_id`s to `segment`s\n",
    "This can be useful for further queries based on specific segment properties.\n",
    "In addition to the original properties in each `segment`, the `platform_id` and `flight_id` are also stored."
   ]
  },
  {
   "cell_type": "code",
   "execution_count": null,
   "id": "71ff7827",
   "metadata": {},
   "outputs": [],
   "source": [
    "segments = [{**s,\n",
    "             \"platform_id\": platform_id,\n",
    "             \"flight_id\": flight_id\n",
    "            }\n",
    "            for platform_id, flights in meta.items()\n",
    "            for flight_id, flight in flights.items()\n",
    "            for s in flight[\"segments\"]\n",
    "           ]"
   ]
  },
  {
   "cell_type": "code",
   "execution_count": null,
   "id": "436cb6b4",
   "metadata": {},
   "outputs": [],
   "source": [
    "segments_by_segment_id = {s[\"segment_id\"]: s for s in segments}"
   ]
  },
  {
   "cell_type": "markdown",
   "id": "8ca50f7e",
   "metadata": {},
   "source": [
    "## 2. list `flight_id`s"
   ]
  },
  {
   "cell_type": "code",
   "execution_count": null,
   "id": "82b2864a",
   "metadata": {},
   "outputs": [],
   "source": [
    "flight_ids = [flight_id\n",
    "              for platform_id, flights in meta.items()\n",
    "              for flight_id, flight in flights.items()\n",
    "              ]\n",
    "flight_ids"
   ]
  },
  {
   "cell_type": "markdown",
   "id": "b4bd81b6",
   "metadata": {},
   "source": [
    "List `flight_id` for a specified day, here February 5"
   ]
  },
  {
   "cell_type": "code",
   "execution_count": null,
   "id": "dbf431b9",
   "metadata": {},
   "outputs": [],
   "source": [
    "flight_id = [flight_id\n",
    "             for platform_id, flights in meta.items()\n",
    "             for flight_id, flight in flights.items()\n",
    "             if flight[\"date\"] == datetime.date(2020,2,5)\n",
    "             ]\n",
    "flight_id"
   ]
  },
  {
   "cell_type": "markdown",
   "id": "dda84314",
   "metadata": {},
   "source": [
    "## 3. list flight segmentation `kinds`\n",
    "A segment is an object which includes at minimum a `segment_id`, `name`, `start` and `end` time."
   ]
  },
  {
   "cell_type": "code",
   "execution_count": null,
   "id": "ecf0a620",
   "metadata": {},
   "outputs": [],
   "source": [
    "kinds = set(k for s in segments for k in s[\"kinds\"])\n",
    "kinds"
   ]
  },
  {
   "cell_type": "markdown",
   "id": "dbe4ec5d",
   "metadata": {},
   "source": [
    "## 4. List of common properties in all `segments`"
   ]
  },
  {
   "cell_type": "code",
   "execution_count": null,
   "id": "4aaf540e",
   "metadata": {},
   "outputs": [],
   "source": [
    "set.intersection(*(set(s.keys()) for s in segments))"
   ]
  },
  {
   "cell_type": "code",
   "execution_count": null,
   "id": "3ac71a2c",
   "metadata": {},
   "outputs": [],
   "source": [
    "segment_ids_by_kind = {kind: [segment[\"segment_id\"]\n",
    "                              for segment in segments\n",
    "                              if kind in segment[\"kinds\"]]\n",
    "    for kind in kinds\n",
    "}"
   ]
  },
  {
   "cell_type": "markdown",
   "id": "6c3a023e",
   "metadata": {},
   "source": [
    "## 5. Further random examples:\n",
    "* total number of all circles flown during EUREC⁴A / ATOMIC"
   ]
  },
  {
   "cell_type": "code",
   "execution_count": null,
   "id": "0d15de00",
   "metadata": {},
   "outputs": [],
   "source": [
    "len(segment_ids_by_kind[\"circle\"])"
   ]
  },
  {
   "cell_type": "markdown",
   "id": "f1cc1b42",
   "metadata": {},
   "source": [
    "* How much time did HALO and P3 spend circling?"
   ]
  },
  {
   "cell_type": "code",
   "execution_count": null,
   "id": "583219bd",
   "metadata": {},
   "outputs": [],
   "source": [
    "circling_time = sum([s[\"end\"] - s[\"start\"]\n",
    "                     for s in segments\n",
    "                     if \"circling\" in s[\"kinds\"]\n",
    "                    ], datetime.timedelta())\n",
    "circling_time"
   ]
  },
  {
   "cell_type": "markdown",
   "id": "e0e29c2e",
   "metadata": {},
   "source": [
    "* get `segment_id` for all circles on a given day sorted by the start time, here February 5"
   ]
  },
  {
   "cell_type": "code",
   "execution_count": null,
   "id": "9054eb9b",
   "metadata": {},
   "outputs": [],
   "source": [
    "segments_ordered_by_start_time = list(sorted(segments, key=lambda s: s[\"start\"]))"
   ]
  },
  {
   "cell_type": "code",
   "execution_count": null,
   "id": "0e30a0d2",
   "metadata": {},
   "outputs": [],
   "source": [
    "circles_Feb05 = [s[\"segment_id\"]\n",
    "                 for s in segments_ordered_by_start_time\n",
    "                 if \"circle\" in s[\"kinds\"]\n",
    "                 and s[\"start\"].date() == datetime.date(2020,2,5)\n",
    "                 and s[\"platform_id\"] == \"HALO\"\n",
    "                ]\n",
    "circles_Feb05"
   ]
  },
  {
   "cell_type": "markdown",
   "id": "366dd1cd",
   "metadata": {},
   "source": [
    "* select all `dropsondes` with the quality flag `GOOD` from the first circle on February 5."
   ]
  },
  {
   "cell_type": "code",
   "execution_count": null,
   "id": "1da7af34",
   "metadata": {},
   "outputs": [],
   "source": [
    "circles_Feb05[0]"
   ]
  },
  {
   "cell_type": "code",
   "execution_count": null,
   "id": "b21ec94c",
   "metadata": {},
   "outputs": [],
   "source": [
    "segments_by_segment_id[circles_Feb05[0]][\"dropsondes\"][\"GOOD\"]"
   ]
  }
 ],
 "metadata": {
  "jupytext": {
   "text_representation": {
    "extension": ".md",
    "format_name": "myst",
    "format_version": 0.12,
    "jupytext_version": "1.7.1"
   }
  },
  "kernelspec": {
   "display_name": "Python 3",
   "language": "python",
   "name": "python3"
  },
  "source_map": [
   12,
   16,
   21,
   24,
   30,
   41,
   43,
   47,
   53,
   57,
   64,
   69,
   72,
   76,
   80,
   86,
   91,
   93,
   97,
   103,
   107,
   111,
   119,
   123,
   127
  ]
 },
 "nbformat": 4,
 "nbformat_minor": 5
}