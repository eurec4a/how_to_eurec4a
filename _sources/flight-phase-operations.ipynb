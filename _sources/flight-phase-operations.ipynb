{
 "cells": [
  {
   "cell_type": "markdown",
   "id": "aa821653",
   "metadata": {},
   "source": [
    "# How to work with flight phase segmentation files"
   ]
  },
  {
   "cell_type": "code",
   "execution_count": 1,
   "id": "787f691e",
   "metadata": {},
   "outputs": [],
   "source": [
    "import datetime\n",
    "import eurec4a"
   ]
  },
  {
   "cell_type": "code",
   "execution_count": 2,
   "id": "9ae1287a",
   "metadata": {},
   "outputs": [
    {
     "data": {
      "text/plain": [
       "dict_keys(['HALO', 'P3'])"
      ]
     },
     "execution_count": 2,
     "metadata": {},
     "output_type": "execute_result"
    }
   ],
   "source": [
    "meta = eurec4a.get_flight_segments()\n",
    "meta.keys()"
   ]
  },
  {
   "cell_type": "markdown",
   "id": "a5e2da71",
   "metadata": {},
   "source": [
    "## 1. map `segment_id`s to `segment`s\n",
    "This can be useful for further queries based on specific segment properties.\n",
    "In addition to the original properties in each `segment`, the `platform_id` and `flight_id` are also stored."
   ]
  },
  {
   "cell_type": "code",
   "execution_count": 3,
   "id": "e866e364",
   "metadata": {},
   "outputs": [],
   "source": [
    "segments = [{**s,\n",
    "             \"platform_id\": platform_id,\n",
    "             \"flight_id\": flight_id\n",
    "            }\n",
    "            for platform_id, flights in meta.items()\n",
    "            for flight_id, flight in flights.items()\n",
    "            for s in flight[\"segments\"]\n",
    "           ]"
   ]
  },
  {
   "cell_type": "code",
   "execution_count": 4,
   "id": "12e96692",
   "metadata": {},
   "outputs": [],
   "source": [
    "segments_by_segment_id = {s[\"segment_id\"]: s for s in segments}"
   ]
  },
  {
   "cell_type": "markdown",
   "id": "f179a903",
   "metadata": {},
   "source": [
    "## 2. list `flight_id`s"
   ]
  },
  {
   "cell_type": "code",
   "execution_count": 5,
   "id": "a7a33dbc",
   "metadata": {},
   "outputs": [
    {
     "data": {
      "text/plain": [
       "['HALO-0119',\n",
       " 'HALO-0122',\n",
       " 'HALO-0124',\n",
       " 'HALO-0126',\n",
       " 'HALO-0128',\n",
       " 'HALO-0130',\n",
       " 'HALO-0131',\n",
       " 'HALO-0202',\n",
       " 'HALO-0205',\n",
       " 'HALO-0207',\n",
       " 'HALO-0209',\n",
       " 'HALO-0211',\n",
       " 'HALO-0213',\n",
       " 'HALO-0215',\n",
       " 'HALO-0218',\n",
       " 'P3-0117',\n",
       " 'P3-0119',\n",
       " 'P3-0123',\n",
       " 'P3-0124',\n",
       " 'P3-0131',\n",
       " 'P3-0203',\n",
       " 'P3-0204',\n",
       " 'P3-0205',\n",
       " 'P3-0209',\n",
       " 'P3-0210',\n",
       " 'P3-0211']"
      ]
     },
     "execution_count": 5,
     "metadata": {},
     "output_type": "execute_result"
    }
   ],
   "source": [
    "flight_ids = [flight_id\n",
    "              for platform_id, flights in meta.items()\n",
    "              for flight_id, flight in flights.items()\n",
    "              ]\n",
    "flight_ids"
   ]
  },
  {
   "cell_type": "markdown",
   "id": "87cc0512",
   "metadata": {},
   "source": [
    "List `flight_id` for a specified day, here February 5"
   ]
  },
  {
   "cell_type": "code",
   "execution_count": 6,
   "id": "9937eee9",
   "metadata": {},
   "outputs": [
    {
     "data": {
      "text/plain": [
       "['HALO-0205', 'P3-0205']"
      ]
     },
     "execution_count": 6,
     "metadata": {},
     "output_type": "execute_result"
    }
   ],
   "source": [
    "flight_id = [flight_id\n",
    "             for platform_id, flights in meta.items()\n",
    "             for flight_id, flight in flights.items()\n",
    "             if flight[\"date\"] == datetime.date(2020,2,5)\n",
    "             ]\n",
    "flight_id"
   ]
  },
  {
   "cell_type": "markdown",
   "id": "7536d321",
   "metadata": {},
   "source": [
    "## 3. list flight segmentation `kinds`\n",
    "A segment is an object which includes at minimum a `segment_id`, `name`, `start` and `end` time."
   ]
  },
  {
   "cell_type": "code",
   "execution_count": 7,
   "id": "5253464b",
   "metadata": {},
   "outputs": [
    {
     "data": {
      "text/plain": [
       "{'axbt',\n",
       " 'baccardi_calibration',\n",
       " 'circle',\n",
       " 'circle_break',\n",
       " 'circling',\n",
       " 'cloud',\n",
       " 'clover_leg',\n",
       " 'clover_turn',\n",
       " 'lidar_leg',\n",
       " 'profile',\n",
       " 'radar_calibration_tilted',\n",
       " 'radar_calibration_wiggle',\n",
       " 'straight_leg',\n",
       " 'super_curtain',\n",
       " 'transit'}"
      ]
     },
     "execution_count": 7,
     "metadata": {},
     "output_type": "execute_result"
    }
   ],
   "source": [
    "kinds = set(k for s in segments for k in s[\"kinds\"])\n",
    "kinds"
   ]
  },
  {
   "cell_type": "markdown",
   "id": "579c0aff",
   "metadata": {},
   "source": [
    "## 4. List of common properties in all `segments`"
   ]
  },
  {
   "cell_type": "code",
   "execution_count": 8,
   "id": "f7442707",
   "metadata": {},
   "outputs": [
    {
     "data": {
      "text/plain": [
       "{'dropsondes',\n",
       " 'end',\n",
       " 'flight_id',\n",
       " 'irregularities',\n",
       " 'kinds',\n",
       " 'name',\n",
       " 'platform_id',\n",
       " 'segment_id',\n",
       " 'start'}"
      ]
     },
     "execution_count": 8,
     "metadata": {},
     "output_type": "execute_result"
    }
   ],
   "source": [
    "set.intersection(*(set(s.keys()) for s in segments))"
   ]
  },
  {
   "cell_type": "code",
   "execution_count": 9,
   "id": "1b29f5d0",
   "metadata": {},
   "outputs": [],
   "source": [
    "segment_ids_by_kind = {kind: [segment[\"segment_id\"]\n",
    "                              for segment in segments\n",
    "                              if kind in segment[\"kinds\"]]\n",
    "    for kind in kinds\n",
    "}"
   ]
  },
  {
   "cell_type": "markdown",
   "id": "d2a9b174",
   "metadata": {},
   "source": [
    "## 5. Further random examples:\n",
    "* total number of all circles flown during EUREC⁴A / ATOMIC"
   ]
  },
  {
   "cell_type": "code",
   "execution_count": 10,
   "id": "6f0013dd",
   "metadata": {},
   "outputs": [
    {
     "data": {
      "text/plain": [
       "89"
      ]
     },
     "execution_count": 10,
     "metadata": {},
     "output_type": "execute_result"
    }
   ],
   "source": [
    "len(segment_ids_by_kind[\"circle\"])"
   ]
  },
  {
   "cell_type": "markdown",
   "id": "ec75cde1",
   "metadata": {},
   "source": [
    "* How much time did HALO and P3 spend circling?"
   ]
  },
  {
   "cell_type": "code",
   "execution_count": 11,
   "id": "e353b38e",
   "metadata": {},
   "outputs": [
    {
     "data": {
      "text/plain": [
       "datetime.timedelta(days=3, seconds=29188)"
      ]
     },
     "execution_count": 11,
     "metadata": {},
     "output_type": "execute_result"
    }
   ],
   "source": [
    "circling_time = sum([s[\"end\"] - s[\"start\"]\n",
    "                     for s in segments\n",
    "                     if \"circling\" in s[\"kinds\"]\n",
    "                    ], datetime.timedelta())\n",
    "circling_time"
   ]
  },
  {
   "cell_type": "markdown",
   "id": "927d298b",
   "metadata": {},
   "source": [
    "* get `segment_id` for all circles on a given day sorted by the start time, here February 5"
   ]
  },
  {
   "cell_type": "code",
   "execution_count": 12,
   "id": "0af48016",
   "metadata": {},
   "outputs": [],
   "source": [
    "segments_ordered_by_start_time = list(sorted(segments, key=lambda s: s[\"start\"]))"
   ]
  },
  {
   "cell_type": "code",
   "execution_count": 13,
   "id": "028d85dc",
   "metadata": {},
   "outputs": [
    {
     "data": {
      "text/plain": [
       "['HALO-0205_c1',\n",
       " 'HALO-0205_c2',\n",
       " 'HALO-0205_c3',\n",
       " 'HALO-0205_c4',\n",
       " 'HALO-0205_c5',\n",
       " 'HALO-0205_c6']"
      ]
     },
     "execution_count": 13,
     "metadata": {},
     "output_type": "execute_result"
    }
   ],
   "source": [
    "circles_Feb05 = [s[\"segment_id\"]\n",
    "                 for s in segments_ordered_by_start_time\n",
    "                 if \"circle\" in s[\"kinds\"]\n",
    "                 and s[\"start\"].date() == datetime.date(2020,2,5)\n",
    "                 and s[\"platform_id\"] == \"HALO\"\n",
    "                ]\n",
    "circles_Feb05"
   ]
  },
  {
   "cell_type": "markdown",
   "id": "18070208",
   "metadata": {},
   "source": [
    "* select all `dropsondes` with the quality flag `GOOD` from the first circle on February 5."
   ]
  },
  {
   "cell_type": "code",
   "execution_count": 14,
   "id": "14f74ce2",
   "metadata": {},
   "outputs": [
    {
     "data": {
      "text/plain": [
       "'HALO-0205_c1'"
      ]
     },
     "execution_count": 14,
     "metadata": {},
     "output_type": "execute_result"
    }
   ],
   "source": [
    "circles_Feb05[0]"
   ]
  },
  {
   "cell_type": "code",
   "execution_count": 15,
   "id": "78d3e411",
   "metadata": {},
   "outputs": [
    {
     "data": {
      "text/plain": [
       "['HALO-0205_s01',\n",
       " 'HALO-0205_s02',\n",
       " 'HALO-0205_s03',\n",
       " 'HALO-0205_s04',\n",
       " 'HALO-0205_s05',\n",
       " 'HALO-0205_s06',\n",
       " 'HALO-0205_s07',\n",
       " 'HALO-0205_s08',\n",
       " 'HALO-0205_s09',\n",
       " 'HALO-0205_s10',\n",
       " 'HALO-0205_s12']"
      ]
     },
     "execution_count": 15,
     "metadata": {},
     "output_type": "execute_result"
    }
   ],
   "source": [
    "segments_by_segment_id[circles_Feb05[0]][\"dropsondes\"][\"GOOD\"]"
   ]
  }
 ],
 "metadata": {
  "jupytext": {
   "text_representation": {
    "extension": ".md",
    "format_name": "myst",
    "format_version": 0.12,
    "jupytext_version": "1.7.1"
   }
  },
  "kernelspec": {
   "display_name": "Python 3",
   "language": "python",
   "name": "python3"
  },
  "language_info": {
   "codemirror_mode": {
    "name": "ipython",
    "version": 3
   },
   "file_extension": ".py",
   "mimetype": "text/x-python",
   "name": "python",
   "nbconvert_exporter": "python",
   "pygments_lexer": "ipython3",
   "version": "3.13.3"
  },
  "source_map": [
   12,
   16,
   21,
   24,
   30,
   41,
   43,
   47,
   53,
   57,
   64,
   69,
   72,
   76,
   80,
   86,
   91,
   93,
   97,
   103,
   107,
   111,
   119,
   123,
   127
  ]
 },
 "nbformat": 4,
 "nbformat_minor": 5
}