{
 "cells": [
  {
   "cell_type": "markdown",
   "id": "c635d849",
   "metadata": {},
   "source": [
    "# How to work with flight phase segmentation files"
   ]
  },
  {
   "cell_type": "code",
   "execution_count": null,
   "id": "91a11543",
   "metadata": {},
   "outputs": [],
   "source": [
    "import datetime\n",
    "import eurec4a"
   ]
  },
  {
   "cell_type": "code",
   "execution_count": null,
   "id": "1455ab0d",
   "metadata": {},
   "outputs": [],
   "source": [
    "meta = eurec4a.get_flight_segments()\n",
    "meta.keys()"
   ]
  },
  {
   "cell_type": "markdown",
   "id": "de383b34",
   "metadata": {},
   "source": [
    "## 1. map `segment_id`s to `segment`s\n",
    "This can be useful for further queries based on specific segment properties.\n",
    "In addition to the original properties in each `segment`, the `platform_id` and `flight_id` are also stored."
   ]
  },
  {
   "cell_type": "code",
   "execution_count": null,
   "id": "d765e2a2",
   "metadata": {},
   "outputs": [],
   "source": [
    "segments = [{**s,\n",
    "             \"platform_id\": platform_id,\n",
    "             \"flight_id\": flight_id\n",
    "            }\n",
    "            for platform_id, flights in meta.items()\n",
    "            for flight_id, flight in flights.items()\n",
    "            for s in flight[\"segments\"]\n",
    "           ]"
   ]
  },
  {
   "cell_type": "code",
   "execution_count": null,
   "id": "7452285f",
   "metadata": {},
   "outputs": [],
   "source": [
    "segments_by_segment_id = {s[\"segment_id\"]: s for s in segments}"
   ]
  },
  {
   "cell_type": "markdown",
   "id": "dd0a2397",
   "metadata": {},
   "source": [
    "## 2. list `flight_id`s"
   ]
  },
  {
   "cell_type": "code",
   "execution_count": null,
   "id": "f8c7f10b",
   "metadata": {},
   "outputs": [],
   "source": [
    "flight_ids = [flight_id\n",
    "              for platform_id, flights in meta.items()\n",
    "              for flight_id, flight in flights.items()\n",
    "              ]\n",
    "flight_ids"
   ]
  },
  {
   "cell_type": "markdown",
   "id": "44a29f88",
   "metadata": {},
   "source": [
    "List `flight_id` for a specified day, here February 5"
   ]
  },
  {
   "cell_type": "code",
   "execution_count": null,
   "id": "fcd665a0",
   "metadata": {},
   "outputs": [],
   "source": [
    "flight_id = [flight_id\n",
    "             for platform_id, flights in meta.items()\n",
    "             for flight_id, flight in flights.items()\n",
    "             if flight[\"date\"] == datetime.date(2020,2,5)\n",
    "             ]\n",
    "flight_id"
   ]
  },
  {
   "cell_type": "markdown",
   "id": "54d8f269",
   "metadata": {},
   "source": [
    "## 3. list flight segmentation `kinds`\n",
    "A segment is an object which includes at minimum a `segment_id`, `name`, `start` and `end` time."
   ]
  },
  {
   "cell_type": "code",
   "execution_count": null,
   "id": "01883cd6",
   "metadata": {},
   "outputs": [],
   "source": [
    "kinds = set(k for s in segments for k in s[\"kinds\"])\n",
    "kinds"
   ]
  },
  {
   "cell_type": "markdown",
   "id": "15969a0f",
   "metadata": {},
   "source": [
    "## 4. List of common properties in all `segments`"
   ]
  },
  {
   "cell_type": "code",
   "execution_count": null,
   "id": "f1b8220b",
   "metadata": {},
   "outputs": [],
   "source": [
    "set.intersection(*(set(s.keys()) for s in segments))"
   ]
  },
  {
   "cell_type": "code",
   "execution_count": null,
   "id": "991b9960",
   "metadata": {},
   "outputs": [],
   "source": [
    "segment_ids_by_kind = {kind: [segment[\"segment_id\"]\n",
    "                              for segment in segments\n",
    "                              if kind in segment[\"kinds\"]]\n",
    "    for kind in kinds\n",
    "}"
   ]
  },
  {
   "cell_type": "markdown",
   "id": "9297a399",
   "metadata": {},
   "source": [
    "## 5. Further random examples:\n",
    "* total number of all circles flown during EUREC⁴A / ATOMIC"
   ]
  },
  {
   "cell_type": "code",
   "execution_count": null,
   "id": "17d3cf42",
   "metadata": {},
   "outputs": [],
   "source": [
    "len(segment_ids_by_kind[\"circle\"])"
   ]
  },
  {
   "cell_type": "markdown",
   "id": "1a808834",
   "metadata": {},
   "source": [
    "* How much time did HALO and P3 spend circling?"
   ]
  },
  {
   "cell_type": "code",
   "execution_count": null,
   "id": "3443cf06",
   "metadata": {},
   "outputs": [],
   "source": [
    "circling_time = sum([s[\"end\"] - s[\"start\"]\n",
    "                     for s in segments\n",
    "                     if \"circling\" in s[\"kinds\"]\n",
    "                    ], datetime.timedelta())\n",
    "circling_time"
   ]
  },
  {
   "cell_type": "markdown",
   "id": "8660c88c",
   "metadata": {},
   "source": [
    "* get `segment_id` for all circles on a given day sorted by the start time, here February 5"
   ]
  },
  {
   "cell_type": "code",
   "execution_count": null,
   "id": "60716967",
   "metadata": {},
   "outputs": [],
   "source": [
    "segments_ordered_by_start_time = list(sorted(segments, key=lambda s: s[\"start\"]))"
   ]
  },
  {
   "cell_type": "code",
   "execution_count": null,
   "id": "f63c1547",
   "metadata": {},
   "outputs": [],
   "source": [
    "circles_Feb05 = [s[\"segment_id\"]\n",
    "                 for s in segments_ordered_by_start_time\n",
    "                 if \"circle\" in s[\"kinds\"]\n",
    "                 and s[\"start\"].date() == datetime.date(2020,2,5)\n",
    "                 and s[\"platform_id\"] == \"HALO\"\n",
    "                ]\n",
    "circles_Feb05"
   ]
  },
  {
   "cell_type": "markdown",
   "id": "5bdbe970",
   "metadata": {},
   "source": [
    "* select all `dropsondes` with the quality flag `GOOD` from the first circle on February 5."
   ]
  },
  {
   "cell_type": "code",
   "execution_count": null,
   "id": "67b51f0a",
   "metadata": {},
   "outputs": [],
   "source": [
    "circles_Feb05[0]"
   ]
  },
  {
   "cell_type": "code",
   "execution_count": null,
   "id": "7b7deb6a",
   "metadata": {},
   "outputs": [],
   "source": [
    "segments_by_segment_id[circles_Feb05[0]][\"dropsondes\"][\"GOOD\"]"
   ]
  }
 ],
 "metadata": {
  "jupytext": {
   "text_representation": {
    "extension": ".md",
    "format_name": "myst",
    "format_version": 0.12,
    "jupytext_version": "1.7.1"
   }
  },
  "kernelspec": {
   "display_name": "Python 3",
   "language": "python",
   "name": "python3"
  },
  "source_map": [
   12,
   16,
   21,
   24,
   30,
   41,
   43,
   47,
   53,
   57,
   64,
   69,
   72,
   76,
   80,
   86,
   91,
   93,
   97,
   103,
   107,
   111,
   119,
   123,
   127
  ]
 },
 "nbformat": 4,
 "nbformat_minor": 5
}