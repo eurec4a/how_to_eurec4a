{
 "cells": [
  {
   "cell_type": "markdown",
   "id": "051ac551",
   "metadata": {},
   "source": [
    "# specMACS cloud geometry"
   ]
  },
  {
   "cell_type": "markdown",
   "id": "48bfd8f1",
   "metadata": {},
   "source": [
    "In the following, an example of how to use the specMACS cloud geometry dataset will be shown. \n",
    "The cloud geometry is retrieved by a stereographic feature matching method described by {cite:t}`Koelling:2019`.\n",
    "The algorithm is applied to the data of the two polarization resolving cameras of the instrument covering a large combined field of view of about $\\pm 45° \\times \\pm 59°$ (along track $\\times$ across track) {cite:p}`Poertge:2023`. It is important to mention that no points found does not necessarily mean that no cloud has been observed as this can also happen if the cloud lacks in contrasts or due to a bad tracking of features."
   ]
  },
  {
   "cell_type": "markdown",
   "id": "049c99a2",
   "metadata": {},
   "source": [
    "## Open dataset\n",
    "The cloud geometry data were calculated for each of the flight segments flown by HALO seperately, thus data access will be per `segment_id`.\n",
    "The flight segmentation can be found in the respective [github repository](https://github.com/eurec4a/flight-phase-separation/).\n",
    "In this example, we'll have a look at the cloud geometry of the straight leg segment `HALO-0205_sl1` flown on 2020-02-05.\n",
    "If you don't know your favourite flight segment already or want to query or loop over multiple segments, please have a look at [flight segmentation usage](flight-phase-operations.md)."
   ]
  },
  {
   "cell_type": "code",
   "execution_count": null,
   "id": "b9e0b1d3",
   "metadata": {},
   "outputs": [],
   "source": [
    "import eurec4a\n",
    "\n",
    "segment_id = \"HALO-0205_sl1\"\n",
    "cat = eurec4a.get_intake_catalog()\n",
    "ds = cat.HALO.specMACS.cloud_geometry[segment_id].to_dask()\n",
    "ds"
   ]
  },
  {
   "cell_type": "markdown",
   "id": "1b6f5899",
   "metadata": {},
   "source": [
    "## Simple plots\n",
    "\n",
    "We will start to do some first simple scatter plots of the cloud top heights (CTH). There are two CTH variables in the dataset: A normal 'height' variable and a variable called 'height_above_geoid'. The first is defined with respect to the WGS84 ellipsoid and the second with respect to the EGM2008 geoid. Although there is not a large difference between both in the EUREC4A area, we will exemplarily plot both."
   ]
  },
  {
   "cell_type": "code",
   "execution_count": null,
   "id": "7b8143a8",
   "metadata": {},
   "outputs": [],
   "source": [
    "import numpy as np\n",
    "import matplotlib.pyplot as plt\n",
    "from mpl_toolkits.axes_grid1 import make_axes_locatable"
   ]
  },
  {
   "cell_type": "markdown",
   "id": "0ad7752e",
   "metadata": {},
   "source": [
    "We'll select only every 100th data point for a quick overview.\n",
    "\n",
    "```{important}\n",
    "Depending on the clouds there might be a lot of points in the dataset or not such that this step might be useful or not.\n",
    "```"
   ]
  },
  {
   "cell_type": "code",
   "execution_count": null,
   "id": "23f13d4d",
   "metadata": {},
   "outputs": [],
   "source": [
    "ds_sel = ds.isel(sample=slice(0, None, 100))"
   ]
  },
  {
   "cell_type": "markdown",
   "id": "21bf32c1",
   "metadata": {},
   "source": [
    "load the data variables"
   ]
  },
  {
   "cell_type": "code",
   "execution_count": null,
   "id": "67303904",
   "metadata": {},
   "outputs": [],
   "source": [
    "lat = ds_sel['lat'].values\n",
    "lon = ds_sel['lon'].values\n",
    "height = ds_sel['height'].values\n",
    "height_above_geoid = ds_sel['height_above_geoid'].values"
   ]
  },
  {
   "cell_type": "code",
   "execution_count": null,
   "id": "ba359422",
   "metadata": {},
   "outputs": [],
   "source": [
    "cmap = 'OrRd'\n",
    "vmin = np.min([height, height_above_geoid])\n",
    "vmax = np.max([height, height_above_geoid])"
   ]
  },
  {
   "cell_type": "code",
   "execution_count": null,
   "id": "d7188443",
   "metadata": {},
   "outputs": [],
   "source": [
    "fig, axs = plt.subplots(nrows=2, ncols=1, figsize=(20, 8), sharex=True)\n",
    "for ax, var, ref in zip(axs, [height, height_above_geoid], [\"WGS84\", \"sea surface\"]):\n",
    "    sm = ax.scatter(lon, lat, c=var, marker='o', s=2, edgecolor=None, linewidth=0, vmin=vmin, vmax=vmax, cmap=cmap)\n",
    "    ax.set_title(f'cloud top height above {ref} in m')\n",
    "    ax.set_ylabel('latitude [°N]')\n",
    "    divider = make_axes_locatable(ax)\n",
    "    ax2 = divider.append_axes('right', size='40%', pad=0.05)\n",
    "    ax2.hist(height, bins=100, range=(vmin, vmax), density=True)\n",
    "    ax2.set_title('probability density')\n",
    "    ax2.yaxis.tick_right()\n",
    "    ax2.axvline(np.mean(var), linestyle='dashed', color='k', label='mean {:.2f} m'.format(np.mean(var)))\n",
    "    ax2.legend()\n",
    "\n",
    "axs[1].set_xlabel('longitude [°E]')\n",
    "plt.colorbar(sm, ax=axs)\n",
    "None"
   ]
  },
  {
   "cell_type": "markdown",
   "id": "c8a26d57",
   "metadata": {},
   "source": [
    "## Make a 3D plot\n",
    "\n",
    "As the stereo points are points on the cloud surface located in 3D space, we can also do a 3D plot. We will use a few different viewing settings, which can also be individually adjusted using the `elev` and `azim` arguments of the `ax.view_init` setting."
   ]
  },
  {
   "cell_type": "code",
   "execution_count": null,
   "id": "cd6ce9ff",
   "metadata": {},
   "outputs": [],
   "source": [
    "import matplotlib.ticker as ticker"
   ]
  },
  {
   "cell_type": "markdown",
   "id": "61d035f6",
   "metadata": {},
   "source": [
    "settings for plots"
   ]
  },
  {
   "cell_type": "code",
   "execution_count": null,
   "id": "cd6cb333",
   "metadata": {},
   "outputs": [],
   "source": [
    "markersize = 0.1\n",
    "cmap = 'viridis' #colormap\n",
    "vmin = np.min(height)\n",
    "vmax = np.max(height)"
   ]
  },
  {
   "cell_type": "code",
   "execution_count": null,
   "id": "3a4e9795",
   "metadata": {},
   "outputs": [],
   "source": [
    "fig, axs = plt.subplots(2, 2, figsize=(14,12), subplot_kw=dict(projection='3d'))\n",
    "\n",
    "for ax in axs.ravel():\n",
    "    sm = ax.scatter(lon, lat, height, c=height, marker='o', vmin=vmin, vmax=vmax, cmap=cmap, s=markersize, linewidths=None, edgecolors=None)\n",
    "\n",
    "ax = axs[0,0]\n",
    "ax.set_xlabel('longitude [°E]', labelpad=6.0)\n",
    "ax.set_ylabel('latitude [°N]', labelpad=6.0)\n",
    "ax.set_zlabel('height above WGS84 [m]', labelpad=6.0)\n",
    "ax.view_init(elev=None, azim=None)\n",
    "ax.set_title('3D stereo plot', y=1.02)\n",
    "\n",
    "ax = axs[0,1]\n",
    "ax.set_ylabel('latitude [°N]', labelpad=6.0)\n",
    "ax.set_zlabel('height above WGS84 [m]', labelpad=6.0)\n",
    "ax.view_init(elev=0, azim=0)\n",
    "ax.set_title('latitude-height plane', y=1.02)\n",
    "ax.xaxis.set_major_locator(ticker.NullLocator())\n",
    "\n",
    "ax = axs[1,0]\n",
    "ax.set_xlabel('longitude [°E]', labelpad=4.0)\n",
    "ax.set_ylabel('latitude [°N]', labelpad=6.0)\n",
    "ax.view_init(elev=90, azim=-90)\n",
    "ax.set_title('longitude-latitude plane', y=1.02)\n",
    "ax.zaxis.set_major_locator(ticker.NullLocator())\n",
    "\n",
    "ax = axs[1,1]\n",
    "ax.set_xlabel('longitude [°E]', labelpad=6.0)\n",
    "ax.set_zlabel('height above WGS84 [m]', labelpad=10.0)\n",
    "ax.view_init(elev=0, azim=-90)\n",
    "ax.set_title('longitude-height plane', y=1.02)\n",
    "ax.yaxis.set_major_locator(ticker.NullLocator())\n",
    "\n",
    "plt.subplots_adjust(bottom=0.1, right=0.9)\n",
    "cax = plt.axes([0.95, 0.15, 0.05, 0.7])\n",
    "fig.colorbar(sm, cax=cax, label='height above WGS84 [m]', fraction=0.02, shrink=2.0, aspect=40)\n",
    "None"
   ]
  },
  {
   "cell_type": "markdown",
   "id": "e2546380",
   "metadata": {},
   "source": [
    "The 3D plots show the scene from different perspectives. It can be seen that the tracking algorithm finds points in both cloud layers down to a base height of approximately 1000m. Below, there are also some points which are probably outliers due to some wrong identifications."
   ]
  },
  {
   "cell_type": "markdown",
   "id": "db3e6dd2",
   "metadata": {},
   "source": [
    "## Project points to specMACS measurements\n",
    "\n",
    "We will start to project the points found from the stereographic reconstruction to pre-rendered specMACS [tile maps](https://en.wikipedia.org/wiki/Tiled_web_map) which can be found [here](https://macsserver.physik.uni-muenchen.de/campaigns/EUREC4A/maps/).\n",
    "To make them available to `cartopy`, we need a little helper class `specMACSPTiles`, which mainly takes care of making unavailable tiles transparent (these are outside the viewing range of the instrument)."
   ]
  },
  {
   "cell_type": "code",
   "execution_count": null,
   "id": "715548af",
   "metadata": {
    "tags": [
     "hide-cell"
    ]
   },
   "outputs": [],
   "source": [
    "from cartopy.io.img_tiles import GoogleWTS\n",
    "from PIL import Image\n",
    "\n",
    "class specMACSPTiles(GoogleWTS):\n",
    "    def __init__(self, flight_segment_id):\n",
    "        super().__init__(desired_tile_form=\"RGBA\")\n",
    "        self.flight_segment_id = flight_segment_id\n",
    "        self.empty_tile = Image.fromarray(np.full((256, 256, 4), (255, 255, 255, 0), dtype=np.uint8))\n",
    "\n",
    "    def get_image(self, tile):\n",
    "        from io import BytesIO\n",
    "        from urllib.request import urlopen, Request, HTTPError, URLError\n",
    "\n",
    "        url = self._image_url(tile)\n",
    "        try:\n",
    "            request = Request(url)\n",
    "            fh = urlopen(request)\n",
    "            im_data = BytesIO(fh.read())\n",
    "            fh.close()\n",
    "            img = Image.open(im_data)\n",
    "\n",
    "        except (HTTPError, URLError) as err:\n",
    "            img = self.empty_tile\n",
    "\n",
    "        img = img.convert(self.desired_tile_form)\n",
    "        return img, self.tileextent(tile), 'lower'\n",
    "\n",
    "    def _image_url(self, tile):\n",
    "        x, y, z = tile\n",
    "        return f\"https://macsserver.physik.uni-muenchen.de/campaigns/EUREC4A/maps/tiles/{self.flight_segment_id}/{z}/{x}/{y}.png\""
   ]
  },
  {
   "cell_type": "markdown",
   "id": "b03c4567",
   "metadata": {},
   "source": [
    "We can now get the tile map for our selected flight segment:"
   ]
  },
  {
   "cell_type": "code",
   "execution_count": null,
   "id": "ab968c2a",
   "metadata": {},
   "outputs": [],
   "source": [
    "specmacs = specMACSPTiles(segment_id)"
   ]
  },
  {
   "cell_type": "markdown",
   "id": "93966c2b",
   "metadata": {},
   "source": [
    "Get `vmin` and `vmax` using quantiles such that outliers will not influence the colorbar too much:"
   ]
  },
  {
   "cell_type": "code",
   "execution_count": null,
   "id": "1cd7a8cb",
   "metadata": {},
   "outputs": [],
   "source": [
    "q = 0.01\n",
    "vmin, vmax = np.quantile(height, [q, 1-q])\n",
    "cmap = 'OrRd'"
   ]
  },
  {
   "cell_type": "code",
   "execution_count": null,
   "id": "e5190af0",
   "metadata": {},
   "outputs": [],
   "source": [
    "import cartopy.crs as ccrs\n",
    "\n",
    "fig, axes = plt.subplots(1, 2, figsize=(16, 8), constrained_layout=True, subplot_kw={\"projection\": ccrs.PlateCarree()})\n",
    "for ax in axes:\n",
    "    ax.set_extent([np.floor(np.min(lon)), np.ceil(np.max(lon)), np.floor(np.min(lat)), np.ceil(np.max(lat))], crs=ccrs.PlateCarree())\n",
    "    ax.add_image(specmacs, 8)  # the number is an integer and represents the detail level. It is logarithmic, small values are coarse, large values are fine.\n",
    "    ax.set_axis_off()\n",
    "im = ax.scatter(lon, lat, c=height, marker=\"o\", s=0.4, edgecolor=None, linewidth=0, vmin=vmin, vmax=vmax, cmap=cmap)\n",
    "fig.colorbar(im, label='height above WGS84 [m]', extend='both', shrink=0.4)\n",
    "None"
   ]
  },
  {
   "cell_type": "markdown",
   "id": "4bd01988",
   "metadata": {},
   "source": [
    "The projection of the points to the specMACS map on the right shows that most of the clouds, in particular the small cumulus clouds are well identified and located by the stereographic reconstruction method. The only exception is the higher and thicker cloud toward the end of the leg. This cloud lacks contrasts such that only its edges are identified well by the tracking algorithm."
   ]
  }
 ],
 "metadata": {
  "jupytext": {
   "text_representation": {
    "extension": ".md",
    "format_name": "myst",
    "format_version": 0.13,
    "jupytext_version": "1.14.7"
   }
  },
  "kernelspec": {
   "display_name": "Python 3",
   "language": "python",
   "name": "python3"
  },
  "source_map": [
   12,
   16,
   22,
   30,
   37,
   43,
   47,
   55,
   57,
   60,
   67,
   73,
   90,
   96,
   98,
   101,
   108,
   146,
   150,
   157,
   190,
   194,
   196,
   199,
   205,
   216
  ]
 },
 "nbformat": 4,
 "nbformat_minor": 5
}