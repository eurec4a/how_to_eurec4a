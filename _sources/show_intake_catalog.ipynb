{
 "cells": [
  {
   "cell_type": "markdown",
   "id": "6ef875f9",
   "metadata": {},
   "source": [
    "# Show the intake catalog\n",
    "\n",
    "The eurec4a intake catalog is maintained on github at [eurec4a/eurec4a-intake](https://github.com/eurec4a/eurec4a-intake). The structure of the files however does not represent the structure of the catalog. In order to get a quick overview about its contents, here's a little script which prints out the current catalog tree."
   ]
  },
  {
   "cell_type": "code",
   "execution_count": null,
   "id": "9f3a1a3c",
   "metadata": {},
   "outputs": [],
   "source": [
    "import eurec4a"
   ]
  },
  {
   "cell_type": "code",
   "execution_count": null,
   "id": "38a11e0c",
   "metadata": {},
   "outputs": [],
   "source": [
    "cat = eurec4a.get_intake_catalog(use_ipfs=\"QmahMN2wgPauHYkkiTGoG2TpPBmj3p5FoYJAq9uE9iXT9N\")"
   ]
  },
  {
   "cell_type": "code",
   "execution_count": null,
   "id": "500a148b",
   "metadata": {},
   "outputs": [],
   "source": [
    "def tree(cat, level=0):\n",
    "    prefix = \" \" * (3*level)\n",
    "    try:\n",
    "        for child in list(cat):\n",
    "            parameters = [p[\"name\"] for p in cat[child].describe().get(\"user_parameters\", [])]\n",
    "            if len(parameters) > 0:\n",
    "                parameter_str = \" (\" + \", \".join(parameters) + \")\"\n",
    "            else:\n",
    "                parameter_str = \"\"\n",
    "            print(prefix + str(child) + parameter_str)\n",
    "            tree(cat[child], level+1)\n",
    "    except:\n",
    "        pass"
   ]
  },
  {
   "cell_type": "code",
   "execution_count": null,
   "id": "cce684a4",
   "metadata": {},
   "outputs": [],
   "source": [
    "tree(cat)"
   ]
  },
  {
   "cell_type": "markdown",
   "id": "8cc51499",
   "metadata": {},
   "source": [
    "There's also a graphical user interface (GUI) implemented in intake. The GUI additionally requires the `panel` python package and it interactively queries the catalog, so it doesn't work nicely in a book. This is why the following lines of code are commented out, but they can be used in an interactive notebook."
   ]
  },
  {
   "cell_type": "code",
   "execution_count": null,
   "id": "2a6672fe",
   "metadata": {},
   "outputs": [],
   "source": [
    "#import intake\n",
    "#intake.gui.add(cat)\n",
    "#intake.gui.panel"
   ]
  }
 ],
 "metadata": {
  "jupytext": {
   "text_representation": {
    "extension": ".md",
    "format_name": "myst",
    "format_version": 0.12,
    "jupytext_version": "1.7.1"
   }
  },
  "kernelspec": {
   "display_name": "Python 3",
   "language": "python",
   "name": "python3"
  },
  "source_map": [
   12,
   18,
   22,
   26,
   42,
   44,
   48
  ]
 },
 "nbformat": 4,
 "nbformat_minor": 5
}