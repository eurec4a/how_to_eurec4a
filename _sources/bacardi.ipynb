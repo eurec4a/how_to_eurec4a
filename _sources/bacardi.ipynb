{
 "cells": [
  {
   "cell_type": "markdown",
   "id": "c3c66cdc",
   "metadata": {},
   "source": [
    "# BACARDI dataset\n",
    "\n",
    "The following script exemplifies the access and usage of the Broadband AirCrAft RaDiometer Instrumentation (BACARDI), that combines two sets of Kipp and Zonen broadband radiometer measuring upward and downward irradiance in the solar (pyranometer model CMP-22, 0.2 - 3.6 μm) and terrestrial (pyrgeometer model CGR-4, 4.5 - 42 μm) spectral range.\n",
    "\n",
    "The dataset is published under [Ehrlich et al. (2021)](https://doi.org/10.25326/160). If you have questions or if you would like to use the data for a publication, please don't hesitate to get in contact with the dataset authors as stated in the dataset attributes `contact` or `author`.\n",
    "\n",
    "## Get data\n",
    "* To load the data we first load the EUREC⁴A meta data catalogue. More information on the catalog can be found [here](https://github.com/eurec4a/eurec4a-intake#eurec4a-intake-catalogue)."
   ]
  },
  {
   "cell_type": "code",
   "execution_count": null,
   "id": "c4db8d1b",
   "metadata": {},
   "outputs": [],
   "source": [
    "import eurec4a"
   ]
  },
  {
   "cell_type": "code",
   "execution_count": null,
   "id": "2b619098",
   "metadata": {},
   "outputs": [],
   "source": [
    "cat = eurec4a.get_intake_catalog(use_ipfs=\"QmahMN2wgPauHYkkiTGoG2TpPBmj3p5FoYJAq9uE9iXT9N\")\n",
    "list(cat.HALO.BACARDI)"
   ]
  },
  {
   "cell_type": "markdown",
   "id": "807f3fe4",
   "metadata": {},
   "source": [
    "* We can further specify the platform, instrument, if applicable dataset level or variable name, and pass it on to dask.\n",
    "\n",
    "```{note}\n",
    "Have a look at the attributes of the xarray dataset `ds` for all relevant information on the dataset, such as author, contact, or citation infromation.\n",
    "```"
   ]
  },
  {
   "cell_type": "code",
   "execution_count": null,
   "id": "b8df09f9",
   "metadata": {},
   "outputs": [],
   "source": [
    "ds = cat.HALO.BACARDI.irradiances['HALO-0205'].to_dask()\n",
    "ds"
   ]
  },
  {
   "cell_type": "markdown",
   "id": "5a2338fa",
   "metadata": {},
   "source": [
    "The data from EUREC⁴A is of 10 Hz measurement frequency and corrected for dynamic temperature effects. For the downward solar irradiance, data are provided with and without aircraft attitude correction corresponding to cloud-free and cloudy conditions, respectively, above HALO."
   ]
  },
  {
   "cell_type": "markdown",
   "id": "9309a5fd",
   "metadata": {},
   "source": [
    "## Plots"
   ]
  },
  {
   "cell_type": "markdown",
   "id": "9b55727c",
   "metadata": {},
   "source": [
    "We plot the upward and downward irradiances in two panels."
   ]
  },
  {
   "cell_type": "code",
   "execution_count": null,
   "id": "12cd6b68",
   "metadata": {},
   "outputs": [],
   "source": [
    "%matplotlib inline\n",
    "import pathlib\n",
    "import matplotlib.pyplot as plt\n",
    "plt.style.use([pathlib.Path(\"./mplstyle/book\"), pathlib.Path(\"./mplstyle/wide\")])"
   ]
  },
  {
   "cell_type": "code",
   "execution_count": null,
   "id": "7a374bfd",
   "metadata": {},
   "outputs": [],
   "source": [
    "fig, (ax1, ax2) = plt.subplots(1, 2)\n",
    "ax1.set_prop_cycle(color=['darkblue', 'red'])\n",
    "for var in ['F_up_solar', 'F_up_terrestrial']:\n",
    "    ds[var].plot(ax=ax1,label= var)\n",
    "ax1.legend()\n",
    "ax1.set_ylabel('upward solar and terrestrial irradiance / Wm$^{-2}$')\n",
    "\n",
    "ax2.set_prop_cycle(color=['grey', 'skyblue', 'darkblue'])\n",
    "for var in ['F_down_solar_sim', 'F_down_solar_diff', 'F_down_solar']:\n",
    "    ds[var].plot(ax=ax2, label= var)\n",
    "ax2.legend()\n",
    "ax2.set_ylabel('downward solar irradiance / Wm$^{-2}$');"
   ]
  },
  {
   "cell_type": "markdown",
   "id": "3224e462",
   "metadata": {},
   "source": [
    "The attitude correction of downward solar irradiance does not account for the present cloud situation above HALO. Instead, two data sets, one assuming cloud-free and one assuming overcast (diffuse illumination) conditions, are provided. Depending on the application, the user needs to choose between both data sets. For the downward solar irradiance assuming cloud-free conditions, the data are filtered for turns of HALO, high roll and pitch angles. This filter is not applied for the data assuming overcast/diffuse conditions to provide the full data. However, data during turns of HALO need to be analysed with care. As shown in the example some artifical spikes due to turns are present in the data."
   ]
  },
  {
   "cell_type": "markdown",
   "id": "7f6d2f9f",
   "metadata": {},
   "source": [
    "The wiggles originate from the about 200km change in location  and therewith solar zenith angle within one circle / hour as can be seen in a plot."
   ]
  },
  {
   "cell_type": "code",
   "execution_count": null,
   "id": "39999cf9",
   "metadata": {},
   "outputs": [],
   "source": [
    "fig, ax = plt.subplots()\n",
    "ds.F_down_solar.plot(ax=ax, color='darkblue')\n",
    "ax.set_ylabel('downward solar irradiance \\n corrected for cloud-free conditions / Wm$^{-2}$',\n",
    "              color='darkblue')\n",
    "ax2 = ax.twinx()\n",
    "ds.sza.plot(ax=ax2, color='black')\n",
    "ax2.set_ylim(110, 28);"
   ]
  }
 ],
 "metadata": {
  "jupytext": {
   "text_representation": {
    "extension": ".md",
    "format_name": "myst",
    "format_version": 0.12,
    "jupytext_version": "1.8.1"
   }
  },
  "kernelspec": {
   "display_name": "Python 3",
   "language": "python",
   "name": "python3"
  },
  "source_map": [
   12,
   23,
   27,
   30,
   38,
   41,
   45,
   49,
   53,
   60,
   73,
   77,
   81
  ]
 },
 "nbformat": 4,
 "nbformat_minor": 5
}