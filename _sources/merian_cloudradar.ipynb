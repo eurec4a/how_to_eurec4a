{
 "cells": [
  {
   "cell_type": "markdown",
   "id": "63132aa9",
   "metadata": {},
   "source": [
    "# Cloud radar data collected on MS Merian"
   ]
  },
  {
   "cell_type": "markdown",
   "id": "09d109b0",
   "metadata": {},
   "source": [
    "## General information\n",
    "From here you can access the W band radar data collected on the RV MSMerian. The radar is a frequency modulated continuous-wave (FMCW) 94 GHz dual polarization radar (manufactured by RPG GmbH) and the data are published on AERIS. The data presented here are corrected for ship motions. For more details on the algorithm applied for correction, please check the paper in preparation in ESSD.\n",
    "\n",
    "It measured continously during the campaign, with a time resolution of 3 seconds and vertical range resolution varying with height between 7.5, 9.2 and 30 m. Here we provide you with some tools to plot and visualize the data.   \n",
    "A [**quicklook browser**](https://bit.ly/2QpsAzh) is helping you to pick the case you are more interested in. If you have questions or if you would like to use the data for a publication, please don't hesitate to get in contact with the dataset author that you can find [here](https://doi.org/10.25326/156)."
   ]
  },
  {
   "cell_type": "markdown",
   "id": "20917907",
   "metadata": {},
   "source": [
    "### Getting the data catalog\n",
    "\n",
    "The python code below allows you to browse through the days avaiable"
   ]
  },
  {
   "cell_type": "code",
   "execution_count": null,
   "id": "3db4a61c",
   "metadata": {},
   "outputs": [],
   "source": [
    "from datetime import datetime\n",
    "import matplotlib.pyplot as plt\n",
    "import pathlib\n",
    "plt.style.use([pathlib.Path(\"./mplstyle/book\"), pathlib.Path(\"./mplstyle/wide\")])\n",
    "import numpy as np\n",
    "import eurec4a\n",
    "cat = eurec4a.get_intake_catalog(use_ipfs=\"QmahMN2wgPauHYkkiTGoG2TpPBmj3p5FoYJAq9uE9iXT9N\")"
   ]
  },
  {
   "cell_type": "markdown",
   "id": "9ea99f7f",
   "metadata": {},
   "source": [
    "### Getting the data from the MS-Merian ship\n",
    "To visualize which datasets are available for the MS-Merian ship, type:"
   ]
  },
  {
   "cell_type": "code",
   "execution_count": null,
   "id": "27d5ed5e",
   "metadata": {},
   "outputs": [],
   "source": [
    "list(cat['MS-Merian'])"
   ]
  },
  {
   "cell_type": "markdown",
   "id": "b6ab8818",
   "metadata": {},
   "source": [
    "### Check available days of Wband radar data\n",
    "To check which days are available from the Wband radar dataset, type:"
   ]
  },
  {
   "cell_type": "code",
   "execution_count": null,
   "id": "39340cae",
   "metadata": {},
   "outputs": [],
   "source": [
    "for key, source in cat['MS-Merian']['FMCW94_RPG'].items():\n",
    "    desc = source.describe()\n",
    "    user_parameters = desc.get(\"user_parameters\", [])\n",
    "    if len(user_parameters) > 0:\n",
    "        params = \" (\" + \", \".join(p[\"name\"] for p in user_parameters) + \")\"\n",
    "    else:\n",
    "        params = \"\"\n",
    "    print(f\"{key}{params}: {desc['description']}\")\n",
    "    for parameter in user_parameters:\n",
    "        print(f\"    {parameter['name']}: {parameter['min']} ... {parameter['max']} default: {parameter['default']}\")"
   ]
  },
  {
   "cell_type": "markdown",
   "id": "bff8c4bd",
   "metadata": {},
   "source": [
    "### Selecting one day for plot/visualization\n",
    "To work on a specific day, please provide the date as input in the form \"yyyy-mm-dd hh:mm\" as a field to date in the code below.\n",
    "```{note}\n",
    "The datetime type accepts multiple values: Python datetime, ISO8601 string, Unix timestamp int, “now” and “today”.\n",
    "```"
   ]
  },
  {
   "cell_type": "code",
   "execution_count": null,
   "id": "c441b277",
   "metadata": {},
   "outputs": [],
   "source": [
    "date = '2020-01-27 13:00' # <--- provide the date here \n",
    "ds = cat['MS-Merian']['FMCW94_RPG'].motion_corrected(date=date).to_dask()\n",
    "ds"
   ]
  },
  {
   "cell_type": "markdown",
   "id": "f046defa",
   "metadata": {},
   "source": [
    "### Plot some radar quantities\n",
    "To create time/height plots for radar moments, pick a variable name having dimension `(time, height)` from the list of data variables and type the name in the code below. The example here is for mean Doppler velocity (corrected for ship motions). You can decide to either select the entire day or a given hour by providing `time_min` and `time_max`.\n",
    "To provide time_min and time_max, modify the string 'yyyy-mm-ddThh:mm:ss'\n",
    "Example:\n",
    "to select the entire day :\n",
    "```python\n",
    "time_min = np.datetime64('2020-01-27T00:00:00')\n",
    "time_max = np.datetime64('2020-01-27T23:59:59')\n",
    "```\n",
    "\n",
    "to select between 13:00 and 15:00 UTC:\n",
    "\n",
    "```python\n",
    "time_min = np.datetime64('2020-01-27T13:00:00')\n",
    "time_max = np.datetime64('2020-01-27T15:00:00')\n",
    "```"
   ]
  },
  {
   "cell_type": "code",
   "execution_count": null,
   "id": "6d8e31f2",
   "metadata": {},
   "outputs": [],
   "source": [
    "# set min and max time values for plotting along the x-axis\n",
    "time_min = np.datetime64('2020-01-27T13:00:00') # insert the string value corresponding to t_min\n",
    "time_max = np.datetime64('2020-01-27T15:00:00') # insert the string value corresponding to t_max\n",
    "\n",
    "# selecting subset of data\n",
    "ds_sliced = ds.sel(time=slice(time_min, time_max))"
   ]
  },
  {
   "cell_type": "code",
   "execution_count": null,
   "id": "b25881cb",
   "metadata": {},
   "outputs": [],
   "source": [
    "fig, ax = plt.subplots()\n",
    "# set here the variable from ds to plot, its color map and its min and max values\n",
    "ds_sliced.mean_doppler_velocity.plot(x='time', y='height', cmap=\"seismic\", vmin=-10., vmax=10.)\n",
    "ax.set_title(\"Mean doppler velocity for : \"+date)\n",
    "ax.set_xlim(time_min, time_max)\n",
    "ax.set_ylim(0, 4500);"
   ]
  },
  {
   "cell_type": "markdown",
   "id": "70e6a2e8",
   "metadata": {},
   "source": [
    "### Check corresponding merian position in the selected hour\n",
    "We use the function `track2layer` defined in the {doc}`flight_tracks_leaflet` chapter, and we provide as input the data for the time interval selected during the day"
   ]
  },
  {
   "cell_type": "code",
   "execution_count": null,
   "id": "ab335e73",
   "metadata": {},
   "outputs": [],
   "source": [
    "import ipyleaflet\n",
    "\n",
    "# function to associate features to a given track\n",
    "def track2layer(track, color=\"green\", name=\"\"):\n",
    "    return ipyleaflet.Polyline(\n",
    "        locations=np.stack([track.lat.values, track.lon.values], axis=1).tolist(), \n",
    "        color=color,\n",
    "        fill=True,\n",
    "        weight=4,\n",
    "        name=name\n",
    "    )\n",
    "\n",
    "# definition of the base map \n",
    "m = ipyleaflet.Map(\n",
    "    basemap=ipyleaflet.basemaps.Esri.NatGeoWorldMap,\n",
    "    center=(11.3, -57), zoom=6)\n",
    "m.add_layer(track2layer(ds_sliced, 'red', 'merian position'))  # adding layer of merian position\n",
    "m.add_control(ipyleaflet.ScaleControl(position='bottomleft'))\n",
    "m.add_control(ipyleaflet.LayersControl(position='topright'))\n",
    "m.add_control(ipyleaflet.FullScreenControl())\n",
    "display(m)"
   ]
  }
 ],
 "metadata": {
  "jupytext": {
   "text_representation": {
    "extension": ".md",
    "format_name": "myst",
    "format_version": 0.13,
    "jupytext_version": "1.11.1"
   }
  },
  "kernelspec": {
   "display_name": "Python 3",
   "language": "python",
   "name": "python3"
  },
  "source_map": [
   12,
   16,
   24,
   30,
   38,
   43,
   45,
   50,
   61,
   69,
   73,
   92,
   101,
   108,
   113
  ]
 },
 "nbformat": 4,
 "nbformat_minor": 5
}