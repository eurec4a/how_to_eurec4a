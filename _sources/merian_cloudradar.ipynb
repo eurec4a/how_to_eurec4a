{
 "cells": [
  {
   "cell_type": "markdown",
   "id": "b1ecb55c",
   "metadata": {},
   "source": [
    "# Cloud radar data collected on MS Merian"
   ]
  },
  {
   "cell_type": "markdown",
   "id": "d302bc83",
   "metadata": {},
   "source": [
    "## General information\n",
    "From here you can access the W band radar data collected on the RV MSMerian. The radar is a frequency modulated continuous-wave (FMCW) 94 GHz dual polarization radar (manufactured by RPG GmbH) and the data are published on AERIS. The data presented here are corrected for ship motions. For more details on the algorithm applied for correction, please check the paper in preparation in ESSD.\n",
    "\n",
    "It measured continously during the campaign, with a time resolution of 3 seconds and vertical range resolution varying with height between 7.5, 9.2 and 30 m. Here we provide you with some tools to plot and visualize the data.   \n",
    "A [**quicklook browser**](https://bit.ly/2QpsAzh) is helping you to pick the case you are more interested in. If you have questions or if you would like to use the data for a publication, please don't hesitate to get in contact with the dataset author that you can find [here](https://doi.org/10.25326/156)."
   ]
  },
  {
   "cell_type": "markdown",
   "id": "f3e1db5c",
   "metadata": {},
   "source": [
    "### Getting the data catalog\n",
    "\n",
    "The python code below allows you to browse through the days avaiable"
   ]
  },
  {
   "cell_type": "code",
   "execution_count": 1,
   "id": "8a871e47",
   "metadata": {},
   "outputs": [],
   "source": [
    "from datetime import datetime\n",
    "import matplotlib.pyplot as plt\n",
    "plt.style.use([\"./mplstyle/book\", \"./mplstyle/wide\"])\n",
    "import numpy as np\n",
    "import eurec4a\n",
    "cat = eurec4a.get_intake_catalog(use_ipfs=\"QmahMN2wgPauHYkkiTGoG2TpPBmj3p5FoYJAq9uE9iXT9N\")"
   ]
  },
  {
   "cell_type": "markdown",
   "id": "376925f9",
   "metadata": {},
   "source": [
    "### Getting the data from the MS-Merian ship\n",
    "To visualize which datasets are available for the MS-Merian ship, type:"
   ]
  },
  {
   "cell_type": "code",
   "execution_count": 2,
   "id": "1b7b08cd",
   "metadata": {},
   "outputs": [
    {
     "data": {
      "text/plain": [
       "['FMCW94_RPG', 'MRR_PRO', 'track']"
      ]
     },
     "execution_count": 2,
     "metadata": {},
     "output_type": "execute_result"
    }
   ],
   "source": [
    "list(cat['MS-Merian'])"
   ]
  },
  {
   "cell_type": "markdown",
   "id": "90b15b25",
   "metadata": {},
   "source": [
    "### Check available days of Wband radar data\n",
    "To check which days are available from the Wband radar dataset, type:"
   ]
  },
  {
   "cell_type": "code",
   "execution_count": 3,
   "id": "7694e1b3",
   "metadata": {},
   "outputs": [
    {
     "name": "stdout",
     "output_type": "stream",
     "text": [
      "motion_corrected (date): daily ship motion corrected Wband radar data\n",
      "    date: 2020-01-19 00:00:00 ... 2020-02-19 14:00:00 default: 2020-01-19 20:00:00\n"
     ]
    }
   ],
   "source": [
    "for key, source in cat['MS-Merian']['FMCW94_RPG'].items():\n",
    "    desc = source.describe()\n",
    "    user_parameters = desc.get(\"user_parameters\", [])\n",
    "    if len(user_parameters) > 0:\n",
    "        params = \" (\" + \", \".join(p[\"name\"] for p in user_parameters) + \")\"\n",
    "    else:\n",
    "        params = \"\"\n",
    "    print(f\"{key}{params}: {desc['description']}\")\n",
    "    for parameter in user_parameters:\n",
    "        print(f\"    {parameter['name']}: {parameter['min']} ... {parameter['max']} default: {parameter['default']}\")"
   ]
  },
  {
   "cell_type": "markdown",
   "id": "095e6658",
   "metadata": {},
   "source": [
    "### Selecting one day for plot/visualization\n",
    "To work on a specific day, please provide the date as input in the form \"yyyy-mm-dd hh:mm\" as a field to date in the code below.\n",
    "```{note}\n",
    "The datetime type accepts multiple values: Python datetime, ISO8601 string, Unix timestamp int, “now” and “today”.\n",
    "```"
   ]
  },
  {
   "cell_type": "code",
   "execution_count": 4,
   "id": "db4c66d8",
   "metadata": {},
   "outputs": [
    {
     "data": {
      "text/html": [
       "<div><svg style=\"position: absolute; width: 0; height: 0; overflow: hidden\">\n",
       "<defs>\n",
       "<symbol id=\"icon-database\" viewBox=\"0 0 32 32\">\n",
       "<path d=\"M16 0c-8.837 0-16 2.239-16 5v4c0 2.761 7.163 5 16 5s16-2.239 16-5v-4c0-2.761-7.163-5-16-5z\"></path>\n",
       "<path d=\"M16 17c-8.837 0-16-2.239-16-5v6c0 2.761 7.163 5 16 5s16-2.239 16-5v-6c0 2.761-7.163 5-16 5z\"></path>\n",
       "<path d=\"M16 26c-8.837 0-16-2.239-16-5v6c0 2.761 7.163 5 16 5s16-2.239 16-5v-6c0 2.761-7.163 5-16 5z\"></path>\n",
       "</symbol>\n",
       "<symbol id=\"icon-file-text2\" viewBox=\"0 0 32 32\">\n",
       "<path d=\"M28.681 7.159c-0.694-0.947-1.662-2.053-2.724-3.116s-2.169-2.030-3.116-2.724c-1.612-1.182-2.393-1.319-2.841-1.319h-15.5c-1.378 0-2.5 1.121-2.5 2.5v27c0 1.378 1.122 2.5 2.5 2.5h23c1.378 0 2.5-1.122 2.5-2.5v-19.5c0-0.448-0.137-1.23-1.319-2.841zM24.543 5.457c0.959 0.959 1.712 1.825 2.268 2.543h-4.811v-4.811c0.718 0.556 1.584 1.309 2.543 2.268zM28 29.5c0 0.271-0.229 0.5-0.5 0.5h-23c-0.271 0-0.5-0.229-0.5-0.5v-27c0-0.271 0.229-0.5 0.5-0.5 0 0 15.499-0 15.5 0v7c0 0.552 0.448 1 1 1h7v19.5z\"></path>\n",
       "<path d=\"M23 26h-14c-0.552 0-1-0.448-1-1s0.448-1 1-1h14c0.552 0 1 0.448 1 1s-0.448 1-1 1z\"></path>\n",
       "<path d=\"M23 22h-14c-0.552 0-1-0.448-1-1s0.448-1 1-1h14c0.552 0 1 0.448 1 1s-0.448 1-1 1z\"></path>\n",
       "<path d=\"M23 18h-14c-0.552 0-1-0.448-1-1s0.448-1 1-1h14c0.552 0 1 0.448 1 1s-0.448 1-1 1z\"></path>\n",
       "</symbol>\n",
       "</defs>\n",
       "</svg>\n",
       "<style>/* CSS stylesheet for displaying xarray objects in jupyterlab.\n",
       " *\n",
       " */\n",
       "\n",
       ":root {\n",
       "  --xr-font-color0: var(--jp-content-font-color0, rgba(0, 0, 0, 1));\n",
       "  --xr-font-color2: var(--jp-content-font-color2, rgba(0, 0, 0, 0.54));\n",
       "  --xr-font-color3: var(--jp-content-font-color3, rgba(0, 0, 0, 0.38));\n",
       "  --xr-border-color: var(--jp-border-color2, #e0e0e0);\n",
       "  --xr-disabled-color: var(--jp-layout-color3, #bdbdbd);\n",
       "  --xr-background-color: var(--jp-layout-color0, white);\n",
       "  --xr-background-color-row-even: var(--jp-layout-color1, white);\n",
       "  --xr-background-color-row-odd: var(--jp-layout-color2, #eeeeee);\n",
       "}\n",
       "\n",
       "html[theme=dark],\n",
       "body.vscode-dark {\n",
       "  --xr-font-color0: rgba(255, 255, 255, 1);\n",
       "  --xr-font-color2: rgba(255, 255, 255, 0.54);\n",
       "  --xr-font-color3: rgba(255, 255, 255, 0.38);\n",
       "  --xr-border-color: #1F1F1F;\n",
       "  --xr-disabled-color: #515151;\n",
       "  --xr-background-color: #111111;\n",
       "  --xr-background-color-row-even: #111111;\n",
       "  --xr-background-color-row-odd: #313131;\n",
       "}\n",
       "\n",
       ".xr-wrap {\n",
       "  display: block !important;\n",
       "  min-width: 300px;\n",
       "  max-width: 700px;\n",
       "}\n",
       "\n",
       ".xr-text-repr-fallback {\n",
       "  /* fallback to plain text repr when CSS is not injected (untrusted notebook) */\n",
       "  display: none;\n",
       "}\n",
       "\n",
       ".xr-header {\n",
       "  padding-top: 6px;\n",
       "  padding-bottom: 6px;\n",
       "  margin-bottom: 4px;\n",
       "  border-bottom: solid 1px var(--xr-border-color);\n",
       "}\n",
       "\n",
       ".xr-header > div,\n",
       ".xr-header > ul {\n",
       "  display: inline;\n",
       "  margin-top: 0;\n",
       "  margin-bottom: 0;\n",
       "}\n",
       "\n",
       ".xr-obj-type,\n",
       ".xr-array-name {\n",
       "  margin-left: 2px;\n",
       "  margin-right: 10px;\n",
       "}\n",
       "\n",
       ".xr-obj-type {\n",
       "  color: var(--xr-font-color2);\n",
       "}\n",
       "\n",
       ".xr-sections {\n",
       "  padding-left: 0 !important;\n",
       "  display: grid;\n",
       "  grid-template-columns: 150px auto auto 1fr 20px 20px;\n",
       "}\n",
       "\n",
       ".xr-section-item {\n",
       "  display: contents;\n",
       "}\n",
       "\n",
       ".xr-section-item input {\n",
       "  display: none;\n",
       "}\n",
       "\n",
       ".xr-section-item input + label {\n",
       "  color: var(--xr-disabled-color);\n",
       "}\n",
       "\n",
       ".xr-section-item input:enabled + label {\n",
       "  cursor: pointer;\n",
       "  color: var(--xr-font-color2);\n",
       "}\n",
       "\n",
       ".xr-section-item input:enabled + label:hover {\n",
       "  color: var(--xr-font-color0);\n",
       "}\n",
       "\n",
       ".xr-section-summary {\n",
       "  grid-column: 1;\n",
       "  color: var(--xr-font-color2);\n",
       "  font-weight: 500;\n",
       "}\n",
       "\n",
       ".xr-section-summary > span {\n",
       "  display: inline-block;\n",
       "  padding-left: 0.5em;\n",
       "}\n",
       "\n",
       ".xr-section-summary-in:disabled + label {\n",
       "  color: var(--xr-font-color2);\n",
       "}\n",
       "\n",
       ".xr-section-summary-in + label:before {\n",
       "  display: inline-block;\n",
       "  content: '►';\n",
       "  font-size: 11px;\n",
       "  width: 15px;\n",
       "  text-align: center;\n",
       "}\n",
       "\n",
       ".xr-section-summary-in:disabled + label:before {\n",
       "  color: var(--xr-disabled-color);\n",
       "}\n",
       "\n",
       ".xr-section-summary-in:checked + label:before {\n",
       "  content: '▼';\n",
       "}\n",
       "\n",
       ".xr-section-summary-in:checked + label > span {\n",
       "  display: none;\n",
       "}\n",
       "\n",
       ".xr-section-summary,\n",
       ".xr-section-inline-details {\n",
       "  padding-top: 4px;\n",
       "  padding-bottom: 4px;\n",
       "}\n",
       "\n",
       ".xr-section-inline-details {\n",
       "  grid-column: 2 / -1;\n",
       "}\n",
       "\n",
       ".xr-section-details {\n",
       "  display: none;\n",
       "  grid-column: 1 / -1;\n",
       "  margin-bottom: 5px;\n",
       "}\n",
       "\n",
       ".xr-section-summary-in:checked ~ .xr-section-details {\n",
       "  display: contents;\n",
       "}\n",
       "\n",
       ".xr-array-wrap {\n",
       "  grid-column: 1 / -1;\n",
       "  display: grid;\n",
       "  grid-template-columns: 20px auto;\n",
       "}\n",
       "\n",
       ".xr-array-wrap > label {\n",
       "  grid-column: 1;\n",
       "  vertical-align: top;\n",
       "}\n",
       "\n",
       ".xr-preview {\n",
       "  color: var(--xr-font-color3);\n",
       "}\n",
       "\n",
       ".xr-array-preview,\n",
       ".xr-array-data {\n",
       "  padding: 0 5px !important;\n",
       "  grid-column: 2;\n",
       "}\n",
       "\n",
       ".xr-array-data,\n",
       ".xr-array-in:checked ~ .xr-array-preview {\n",
       "  display: none;\n",
       "}\n",
       "\n",
       ".xr-array-in:checked ~ .xr-array-data,\n",
       ".xr-array-preview {\n",
       "  display: inline-block;\n",
       "}\n",
       "\n",
       ".xr-dim-list {\n",
       "  display: inline-block !important;\n",
       "  list-style: none;\n",
       "  padding: 0 !important;\n",
       "  margin: 0;\n",
       "}\n",
       "\n",
       ".xr-dim-list li {\n",
       "  display: inline-block;\n",
       "  padding: 0;\n",
       "  margin: 0;\n",
       "}\n",
       "\n",
       ".xr-dim-list:before {\n",
       "  content: '(';\n",
       "}\n",
       "\n",
       ".xr-dim-list:after {\n",
       "  content: ')';\n",
       "}\n",
       "\n",
       ".xr-dim-list li:not(:last-child):after {\n",
       "  content: ',';\n",
       "  padding-right: 5px;\n",
       "}\n",
       "\n",
       ".xr-has-index {\n",
       "  font-weight: bold;\n",
       "}\n",
       "\n",
       ".xr-var-list,\n",
       ".xr-var-item {\n",
       "  display: contents;\n",
       "}\n",
       "\n",
       ".xr-var-item > div,\n",
       ".xr-var-item label,\n",
       ".xr-var-item > .xr-var-name span {\n",
       "  background-color: var(--xr-background-color-row-even);\n",
       "  margin-bottom: 0;\n",
       "}\n",
       "\n",
       ".xr-var-item > .xr-var-name:hover span {\n",
       "  padding-right: 5px;\n",
       "}\n",
       "\n",
       ".xr-var-list > li:nth-child(odd) > div,\n",
       ".xr-var-list > li:nth-child(odd) > label,\n",
       ".xr-var-list > li:nth-child(odd) > .xr-var-name span {\n",
       "  background-color: var(--xr-background-color-row-odd);\n",
       "}\n",
       "\n",
       ".xr-var-name {\n",
       "  grid-column: 1;\n",
       "}\n",
       "\n",
       ".xr-var-dims {\n",
       "  grid-column: 2;\n",
       "}\n",
       "\n",
       ".xr-var-dtype {\n",
       "  grid-column: 3;\n",
       "  text-align: right;\n",
       "  color: var(--xr-font-color2);\n",
       "}\n",
       "\n",
       ".xr-var-preview {\n",
       "  grid-column: 4;\n",
       "}\n",
       "\n",
       ".xr-var-name,\n",
       ".xr-var-dims,\n",
       ".xr-var-dtype,\n",
       ".xr-preview,\n",
       ".xr-attrs dt {\n",
       "  white-space: nowrap;\n",
       "  overflow: hidden;\n",
       "  text-overflow: ellipsis;\n",
       "  padding-right: 10px;\n",
       "}\n",
       "\n",
       ".xr-var-name:hover,\n",
       ".xr-var-dims:hover,\n",
       ".xr-var-dtype:hover,\n",
       ".xr-attrs dt:hover {\n",
       "  overflow: visible;\n",
       "  width: auto;\n",
       "  z-index: 1;\n",
       "}\n",
       "\n",
       ".xr-var-attrs,\n",
       ".xr-var-data {\n",
       "  display: none;\n",
       "  background-color: var(--xr-background-color) !important;\n",
       "  padding-bottom: 5px !important;\n",
       "}\n",
       "\n",
       ".xr-var-attrs-in:checked ~ .xr-var-attrs,\n",
       ".xr-var-data-in:checked ~ .xr-var-data {\n",
       "  display: block;\n",
       "}\n",
       "\n",
       ".xr-var-data > table {\n",
       "  float: right;\n",
       "}\n",
       "\n",
       ".xr-var-name span,\n",
       ".xr-var-data,\n",
       ".xr-attrs {\n",
       "  padding-left: 25px !important;\n",
       "}\n",
       "\n",
       ".xr-attrs,\n",
       ".xr-var-attrs,\n",
       ".xr-var-data {\n",
       "  grid-column: 1 / -1;\n",
       "}\n",
       "\n",
       "dl.xr-attrs {\n",
       "  padding: 0;\n",
       "  margin: 0;\n",
       "  display: grid;\n",
       "  grid-template-columns: 125px auto;\n",
       "}\n",
       "\n",
       ".xr-attrs dt,\n",
       ".xr-attrs dd {\n",
       "  padding: 0;\n",
       "  margin: 0;\n",
       "  float: left;\n",
       "  padding-right: 10px;\n",
       "  width: auto;\n",
       "}\n",
       "\n",
       ".xr-attrs dt {\n",
       "  font-weight: normal;\n",
       "  grid-column: 1;\n",
       "}\n",
       "\n",
       ".xr-attrs dt:hover span {\n",
       "  display: inline-block;\n",
       "  background: var(--xr-background-color);\n",
       "  padding-right: 10px;\n",
       "}\n",
       "\n",
       ".xr-attrs dd {\n",
       "  grid-column: 2;\n",
       "  white-space: pre-wrap;\n",
       "  word-break: break-all;\n",
       "}\n",
       "\n",
       ".xr-icon-database,\n",
       ".xr-icon-file-text2 {\n",
       "  display: inline-block;\n",
       "  vertical-align: middle;\n",
       "  width: 1em;\n",
       "  height: 1.5em !important;\n",
       "  stroke-width: 0;\n",
       "  stroke: currentColor;\n",
       "  fill: currentColor;\n",
       "}\n",
       "</style><pre class='xr-text-repr-fallback'>&lt;xarray.Dataset&gt;\n",
       "Dimensions:                 (time: 26719, height: 550)\n",
       "Coordinates:\n",
       "  * height                  (height) float32 104.4 111.8 ... 9.949e+03 9.983e+03\n",
       "    lat                     (time) float32 dask.array&lt;chunksize=(26719,), meta=np.ndarray&gt;\n",
       "    lon                     (time) float32 dask.array&lt;chunksize=(26719,), meta=np.ndarray&gt;\n",
       "  * time                    (time) datetime64[ns] 2020-01-27T00:00:01 ... 202...\n",
       "Data variables: (12/13)\n",
       "    air_pressure            (time) float32 dask.array&lt;chunksize=(26719,), meta=np.ndarray&gt;\n",
       "    air_temperature         (time) float32 dask.array&lt;chunksize=(26719,), meta=np.ndarray&gt;\n",
       "    brightness_temperature  (time) float32 dask.array&lt;chunksize=(26719,), meta=np.ndarray&gt;\n",
       "    instrument              &lt;U15 ...\n",
       "    liquid_water_path       (time) float32 dask.array&lt;chunksize=(26719,), meta=np.ndarray&gt;\n",
       "    mean_doppler_velocity   (time, height) float32 dask.array&lt;chunksize=(3340, 69), meta=np.ndarray&gt;\n",
       "    ...                      ...\n",
       "    rain_rate               (time) float32 dask.array&lt;chunksize=(26719,), meta=np.ndarray&gt;\n",
       "    relative_humidity       (time) float32 dask.array&lt;chunksize=(26719,), meta=np.ndarray&gt;\n",
       "    skewness                (time, height) float32 dask.array&lt;chunksize=(3340, 69), meta=np.ndarray&gt;\n",
       "    spectral_width          (time, height) float32 dask.array&lt;chunksize=(3340, 69), meta=np.ndarray&gt;\n",
       "    wind_direction          (time) float32 dask.array&lt;chunksize=(26719,), meta=np.ndarray&gt;\n",
       "    wind_speed              (time) float32 dask.array&lt;chunksize=(26719,), meta=np.ndarray&gt;\n",
       "Attributes: (12/30)\n",
       "    COMMENT:           \n",
       "    CREATED_BY:        Claudia Acquistapace\n",
       "    CREATED_ON:        2021-07-01 11:35:01.608208\n",
       "    Conventions:       CF-1.8\n",
       "    DATA_DESCRIPTION:  daily w-band radar Doppler moments and surface weather...\n",
       "    DATA_DISCIPLINE:   Atmospheric Physics - Remote Sensing Radar Profiler\n",
       "    ...                ...\n",
       "    PI_MAIL:           cacquist@meteo.uni-koeln.de\n",
       "    PI_NAME:           Claudia Acquistapace\n",
       "    featureType:       trajectoryProfile\n",
       "    history:           source: wband data postprocessed\\nprocessing: ship mot...\n",
       "    institution:       University of Cologne - Germany\n",
       "    title:             daily w-band radar Doppler moments and surface weather...</pre><div class='xr-wrap' style='display:none'><div class='xr-header'><div class='xr-obj-type'>xarray.Dataset</div></div><ul class='xr-sections'><li class='xr-section-item'><input id='section-39940f69-0eb8-4cfe-b5e8-4b3f948806f7' class='xr-section-summary-in' type='checkbox' disabled ><label for='section-39940f69-0eb8-4cfe-b5e8-4b3f948806f7' class='xr-section-summary'  title='Expand/collapse section'>Dimensions:</label><div class='xr-section-inline-details'><ul class='xr-dim-list'><li><span class='xr-has-index'>time</span>: 26719</li><li><span class='xr-has-index'>height</span>: 550</li></ul></div><div class='xr-section-details'></div></li><li class='xr-section-item'><input id='section-bfe386d8-d8f4-40ce-8bab-186a71727209' class='xr-section-summary-in' type='checkbox'  checked><label for='section-bfe386d8-d8f4-40ce-8bab-186a71727209' class='xr-section-summary' >Coordinates: <span>(4)</span></label><div class='xr-section-inline-details'></div><div class='xr-section-details'><ul class='xr-var-list'><li class='xr-var-item'><div class='xr-var-name'><span class='xr-has-index'>height</span></div><div class='xr-var-dims'>(height)</div><div class='xr-var-dtype'>float32</div><div class='xr-var-preview xr-preview'>104.4 111.8 ... 9.949e+03 9.983e+03</div><input id='attrs-f69e5d4f-ce10-4c26-aba5-fd9bf835f984' class='xr-var-attrs-in' type='checkbox' ><label for='attrs-f69e5d4f-ce10-4c26-aba5-fd9bf835f984' title='Show/Hide attributes'><svg class='icon xr-icon-file-text2'><use xlink:href='#icon-file-text2'></use></svg></label><input id='data-ea09dfdc-c161-4aae-910e-11318d8f5d33' class='xr-var-data-in' type='checkbox'><label for='data-ea09dfdc-c161-4aae-910e-11318d8f5d33' title='Show/Hide data repr'><svg class='icon xr-icon-database'><use xlink:href='#icon-database'></use></svg></label><div class='xr-var-attrs'><dl class='xr-attrs'><dt><span>axis :</span></dt><dd>Z</dd><dt><span>long_name :</span></dt><dd>radar_range_height</dd><dt><span>positive :</span></dt><dd>up</dd><dt><span>units :</span></dt><dd>m</dd></dl></div><div class='xr-var-data'><pre>array([ 104.3517 ,  111.8054 ,  119.25909, ..., 9914.502  , 9948.572  ,\n",
       "       9982.643  ], dtype=float32)</pre></div></li><li class='xr-var-item'><div class='xr-var-name'><span>lat</span></div><div class='xr-var-dims'>(time)</div><div class='xr-var-dtype'>float32</div><div class='xr-var-preview xr-preview'>dask.array&lt;chunksize=(26719,), meta=np.ndarray&gt;</div><input id='attrs-6905fcac-d841-4c66-8936-2c90d5575cb0' class='xr-var-attrs-in' type='checkbox' ><label for='attrs-6905fcac-d841-4c66-8936-2c90d5575cb0' title='Show/Hide attributes'><svg class='icon xr-icon-file-text2'><use xlink:href='#icon-file-text2'></use></svg></label><input id='data-4b3af94f-158f-4471-828d-7d925a95b3d0' class='xr-var-data-in' type='checkbox'><label for='data-4b3af94f-158f-4471-828d-7d925a95b3d0' title='Show/Hide data repr'><svg class='icon xr-icon-database'><use xlink:href='#icon-database'></use></svg></label><div class='xr-var-attrs'><dl class='xr-attrs'><dt><span>axis :</span></dt><dd>Y</dd><dt><span>standard_name :</span></dt><dd>latitude</dd><dt><span>units :</span></dt><dd>degree_north</dd></dl></div><div class='xr-var-data'><table>\n",
       "    <tr>\n",
       "        <td>\n",
       "            <table>\n",
       "                <thead>\n",
       "                    <tr>\n",
       "                        <td> </td>\n",
       "                        <th> Array </th>\n",
       "                        <th> Chunk </th>\n",
       "                    </tr>\n",
       "                </thead>\n",
       "                <tbody>\n",
       "\n",
       "                    <tr>\n",
       "                        <th> Bytes </th>\n",
       "                        <td> 104.37 kiB </td>\n",
       "                        <td> 104.37 kiB </td>\n",
       "                    </tr>\n",
       "\n",
       "                    <tr>\n",
       "                        <th> Shape </th>\n",
       "                        <td> (26719,) </td>\n",
       "                        <td> (26719,) </td>\n",
       "                    </tr>\n",
       "                    <tr>\n",
       "                        <th> Count </th>\n",
       "                        <td> 2 Tasks </td>\n",
       "                        <td> 1 Chunks </td>\n",
       "                    </tr>\n",
       "                    <tr>\n",
       "                    <th> Type </th>\n",
       "                    <td> float32 </td>\n",
       "                    <td> numpy.ndarray </td>\n",
       "                    </tr>\n",
       "                </tbody>\n",
       "            </table>\n",
       "        </td>\n",
       "        <td>\n",
       "        <svg width=\"170\" height=\"75\" style=\"stroke:rgb(0,0,0);stroke-width:1\" >\n",
       "\n",
       "  <!-- Horizontal lines -->\n",
       "  <line x1=\"0\" y1=\"0\" x2=\"120\" y2=\"0\" style=\"stroke-width:2\" />\n",
       "  <line x1=\"0\" y1=\"25\" x2=\"120\" y2=\"25\" style=\"stroke-width:2\" />\n",
       "\n",
       "  <!-- Vertical lines -->\n",
       "  <line x1=\"0\" y1=\"0\" x2=\"0\" y2=\"25\" style=\"stroke-width:2\" />\n",
       "  <line x1=\"120\" y1=\"0\" x2=\"120\" y2=\"25\" style=\"stroke-width:2\" />\n",
       "\n",
       "  <!-- Colored Rectangle -->\n",
       "  <polygon points=\"0.0,0.0 120.0,0.0 120.0,25.412616514582485 0.0,25.412616514582485\" style=\"fill:#ECB172A0;stroke-width:0\"/>\n",
       "\n",
       "  <!-- Text -->\n",
       "  <text x=\"60.000000\" y=\"45.412617\" font-size=\"1.0rem\" font-weight=\"100\" text-anchor=\"middle\" >26719</text>\n",
       "  <text x=\"140.000000\" y=\"12.706308\" font-size=\"1.0rem\" font-weight=\"100\" text-anchor=\"middle\" transform=\"rotate(0,140.000000,12.706308)\">1</text>\n",
       "</svg>\n",
       "        </td>\n",
       "    </tr>\n",
       "</table></div></li><li class='xr-var-item'><div class='xr-var-name'><span>lon</span></div><div class='xr-var-dims'>(time)</div><div class='xr-var-dtype'>float32</div><div class='xr-var-preview xr-preview'>dask.array&lt;chunksize=(26719,), meta=np.ndarray&gt;</div><input id='attrs-3c16966d-4073-4947-aec2-25ffa364cfeb' class='xr-var-attrs-in' type='checkbox' ><label for='attrs-3c16966d-4073-4947-aec2-25ffa364cfeb' title='Show/Hide attributes'><svg class='icon xr-icon-file-text2'><use xlink:href='#icon-file-text2'></use></svg></label><input id='data-66d01932-d0cd-4219-9c12-84cc18e73e0d' class='xr-var-data-in' type='checkbox'><label for='data-66d01932-d0cd-4219-9c12-84cc18e73e0d' title='Show/Hide data repr'><svg class='icon xr-icon-database'><use xlink:href='#icon-database'></use></svg></label><div class='xr-var-attrs'><dl class='xr-attrs'><dt><span>axis :</span></dt><dd>X</dd><dt><span>standard_name :</span></dt><dd>longitude</dd><dt><span>units :</span></dt><dd>degree_east</dd></dl></div><div class='xr-var-data'><table>\n",
       "    <tr>\n",
       "        <td>\n",
       "            <table>\n",
       "                <thead>\n",
       "                    <tr>\n",
       "                        <td> </td>\n",
       "                        <th> Array </th>\n",
       "                        <th> Chunk </th>\n",
       "                    </tr>\n",
       "                </thead>\n",
       "                <tbody>\n",
       "\n",
       "                    <tr>\n",
       "                        <th> Bytes </th>\n",
       "                        <td> 104.37 kiB </td>\n",
       "                        <td> 104.37 kiB </td>\n",
       "                    </tr>\n",
       "\n",
       "                    <tr>\n",
       "                        <th> Shape </th>\n",
       "                        <td> (26719,) </td>\n",
       "                        <td> (26719,) </td>\n",
       "                    </tr>\n",
       "                    <tr>\n",
       "                        <th> Count </th>\n",
       "                        <td> 2 Tasks </td>\n",
       "                        <td> 1 Chunks </td>\n",
       "                    </tr>\n",
       "                    <tr>\n",
       "                    <th> Type </th>\n",
       "                    <td> float32 </td>\n",
       "                    <td> numpy.ndarray </td>\n",
       "                    </tr>\n",
       "                </tbody>\n",
       "            </table>\n",
       "        </td>\n",
       "        <td>\n",
       "        <svg width=\"170\" height=\"75\" style=\"stroke:rgb(0,0,0);stroke-width:1\" >\n",
       "\n",
       "  <!-- Horizontal lines -->\n",
       "  <line x1=\"0\" y1=\"0\" x2=\"120\" y2=\"0\" style=\"stroke-width:2\" />\n",
       "  <line x1=\"0\" y1=\"25\" x2=\"120\" y2=\"25\" style=\"stroke-width:2\" />\n",
       "\n",
       "  <!-- Vertical lines -->\n",
       "  <line x1=\"0\" y1=\"0\" x2=\"0\" y2=\"25\" style=\"stroke-width:2\" />\n",
       "  <line x1=\"120\" y1=\"0\" x2=\"120\" y2=\"25\" style=\"stroke-width:2\" />\n",
       "\n",
       "  <!-- Colored Rectangle -->\n",
       "  <polygon points=\"0.0,0.0 120.0,0.0 120.0,25.412616514582485 0.0,25.412616514582485\" style=\"fill:#ECB172A0;stroke-width:0\"/>\n",
       "\n",
       "  <!-- Text -->\n",
       "  <text x=\"60.000000\" y=\"45.412617\" font-size=\"1.0rem\" font-weight=\"100\" text-anchor=\"middle\" >26719</text>\n",
       "  <text x=\"140.000000\" y=\"12.706308\" font-size=\"1.0rem\" font-weight=\"100\" text-anchor=\"middle\" transform=\"rotate(0,140.000000,12.706308)\">1</text>\n",
       "</svg>\n",
       "        </td>\n",
       "    </tr>\n",
       "</table></div></li><li class='xr-var-item'><div class='xr-var-name'><span class='xr-has-index'>time</span></div><div class='xr-var-dims'>(time)</div><div class='xr-var-dtype'>datetime64[ns]</div><div class='xr-var-preview xr-preview'>2020-01-27T00:00:01 ... 2020-01-...</div><input id='attrs-3db03fb7-c922-470b-90f8-a5b1ce5dca35' class='xr-var-attrs-in' type='checkbox' ><label for='attrs-3db03fb7-c922-470b-90f8-a5b1ce5dca35' title='Show/Hide attributes'><svg class='icon xr-icon-file-text2'><use xlink:href='#icon-file-text2'></use></svg></label><input id='data-e8d3017f-b98d-4059-83f9-d9dc9587b739' class='xr-var-data-in' type='checkbox'><label for='data-e8d3017f-b98d-4059-83f9-d9dc9587b739' title='Show/Hide data repr'><svg class='icon xr-icon-database'><use xlink:href='#icon-database'></use></svg></label><div class='xr-var-attrs'><dl class='xr-attrs'><dt><span>axis :</span></dt><dd>T</dd><dt><span>standard_name :</span></dt><dd>time</dd></dl></div><div class='xr-var-data'><pre>array([&#x27;2020-01-27T00:00:01.000000000&#x27;, &#x27;2020-01-27T00:00:05.000000000&#x27;,\n",
       "       &#x27;2020-01-27T00:00:08.000000000&#x27;, ..., &#x27;2020-01-27T23:59:52.000000000&#x27;,\n",
       "       &#x27;2020-01-27T23:59:55.000000000&#x27;, &#x27;2020-01-27T23:59:58.000000000&#x27;],\n",
       "      dtype=&#x27;datetime64[ns]&#x27;)</pre></div></li></ul></div></li><li class='xr-section-item'><input id='section-5881470e-7924-41cc-a9f5-89f49e07b1cc' class='xr-section-summary-in' type='checkbox'  checked><label for='section-5881470e-7924-41cc-a9f5-89f49e07b1cc' class='xr-section-summary' >Data variables: <span>(13)</span></label><div class='xr-section-inline-details'></div><div class='xr-section-details'><ul class='xr-var-list'><li class='xr-var-item'><div class='xr-var-name'><span>air_pressure</span></div><div class='xr-var-dims'>(time)</div><div class='xr-var-dtype'>float32</div><div class='xr-var-preview xr-preview'>dask.array&lt;chunksize=(26719,), meta=np.ndarray&gt;</div><input id='attrs-0613c62a-5015-4a42-8b74-9e1abf0b978b' class='xr-var-attrs-in' type='checkbox' ><label for='attrs-0613c62a-5015-4a42-8b74-9e1abf0b978b' title='Show/Hide attributes'><svg class='icon xr-icon-file-text2'><use xlink:href='#icon-file-text2'></use></svg></label><input id='data-8fb8a987-2aa5-47a9-a058-ccf2ac8a4ef8' class='xr-var-data-in' type='checkbox'><label for='data-8fb8a987-2aa5-47a9-a058-ccf2ac8a4ef8' title='Show/Hide data repr'><svg class='icon xr-icon-database'><use xlink:href='#icon-database'></use></svg></label><div class='xr-var-attrs'><dl class='xr-attrs'><dt><span>long_name :</span></dt><dd>surface air pressure</dd><dt><span>standard_name :</span></dt><dd>surface_air_pressure</dd><dt><span>units :</span></dt><dd>hPa</dd></dl></div><div class='xr-var-data'><table>\n",
       "    <tr>\n",
       "        <td>\n",
       "            <table>\n",
       "                <thead>\n",
       "                    <tr>\n",
       "                        <td> </td>\n",
       "                        <th> Array </th>\n",
       "                        <th> Chunk </th>\n",
       "                    </tr>\n",
       "                </thead>\n",
       "                <tbody>\n",
       "\n",
       "                    <tr>\n",
       "                        <th> Bytes </th>\n",
       "                        <td> 104.37 kiB </td>\n",
       "                        <td> 104.37 kiB </td>\n",
       "                    </tr>\n",
       "\n",
       "                    <tr>\n",
       "                        <th> Shape </th>\n",
       "                        <td> (26719,) </td>\n",
       "                        <td> (26719,) </td>\n",
       "                    </tr>\n",
       "                    <tr>\n",
       "                        <th> Count </th>\n",
       "                        <td> 2 Tasks </td>\n",
       "                        <td> 1 Chunks </td>\n",
       "                    </tr>\n",
       "                    <tr>\n",
       "                    <th> Type </th>\n",
       "                    <td> float32 </td>\n",
       "                    <td> numpy.ndarray </td>\n",
       "                    </tr>\n",
       "                </tbody>\n",
       "            </table>\n",
       "        </td>\n",
       "        <td>\n",
       "        <svg width=\"170\" height=\"75\" style=\"stroke:rgb(0,0,0);stroke-width:1\" >\n",
       "\n",
       "  <!-- Horizontal lines -->\n",
       "  <line x1=\"0\" y1=\"0\" x2=\"120\" y2=\"0\" style=\"stroke-width:2\" />\n",
       "  <line x1=\"0\" y1=\"25\" x2=\"120\" y2=\"25\" style=\"stroke-width:2\" />\n",
       "\n",
       "  <!-- Vertical lines -->\n",
       "  <line x1=\"0\" y1=\"0\" x2=\"0\" y2=\"25\" style=\"stroke-width:2\" />\n",
       "  <line x1=\"120\" y1=\"0\" x2=\"120\" y2=\"25\" style=\"stroke-width:2\" />\n",
       "\n",
       "  <!-- Colored Rectangle -->\n",
       "  <polygon points=\"0.0,0.0 120.0,0.0 120.0,25.412616514582485 0.0,25.412616514582485\" style=\"fill:#ECB172A0;stroke-width:0\"/>\n",
       "\n",
       "  <!-- Text -->\n",
       "  <text x=\"60.000000\" y=\"45.412617\" font-size=\"1.0rem\" font-weight=\"100\" text-anchor=\"middle\" >26719</text>\n",
       "  <text x=\"140.000000\" y=\"12.706308\" font-size=\"1.0rem\" font-weight=\"100\" text-anchor=\"middle\" transform=\"rotate(0,140.000000,12.706308)\">1</text>\n",
       "</svg>\n",
       "        </td>\n",
       "    </tr>\n",
       "</table></div></li><li class='xr-var-item'><div class='xr-var-name'><span>air_temperature</span></div><div class='xr-var-dims'>(time)</div><div class='xr-var-dtype'>float32</div><div class='xr-var-preview xr-preview'>dask.array&lt;chunksize=(26719,), meta=np.ndarray&gt;</div><input id='attrs-19f48485-e653-4cc2-9df1-6c1bd814dd32' class='xr-var-attrs-in' type='checkbox' ><label for='attrs-19f48485-e653-4cc2-9df1-6c1bd814dd32' title='Show/Hide attributes'><svg class='icon xr-icon-file-text2'><use xlink:href='#icon-file-text2'></use></svg></label><input id='data-d7c7b37c-de18-4cf2-bf00-921132dd9ea2' class='xr-var-data-in' type='checkbox'><label for='data-d7c7b37c-de18-4cf2-bf00-921132dd9ea2' title='Show/Hide data repr'><svg class='icon xr-icon-database'><use xlink:href='#icon-database'></use></svg></label><div class='xr-var-attrs'><dl class='xr-attrs'><dt><span>long_name :</span></dt><dd>surface temperature</dd><dt><span>standard_name :</span></dt><dd>air_temperature</dd><dt><span>units :</span></dt><dd>degC</dd></dl></div><div class='xr-var-data'><table>\n",
       "    <tr>\n",
       "        <td>\n",
       "            <table>\n",
       "                <thead>\n",
       "                    <tr>\n",
       "                        <td> </td>\n",
       "                        <th> Array </th>\n",
       "                        <th> Chunk </th>\n",
       "                    </tr>\n",
       "                </thead>\n",
       "                <tbody>\n",
       "\n",
       "                    <tr>\n",
       "                        <th> Bytes </th>\n",
       "                        <td> 104.37 kiB </td>\n",
       "                        <td> 104.37 kiB </td>\n",
       "                    </tr>\n",
       "\n",
       "                    <tr>\n",
       "                        <th> Shape </th>\n",
       "                        <td> (26719,) </td>\n",
       "                        <td> (26719,) </td>\n",
       "                    </tr>\n",
       "                    <tr>\n",
       "                        <th> Count </th>\n",
       "                        <td> 2 Tasks </td>\n",
       "                        <td> 1 Chunks </td>\n",
       "                    </tr>\n",
       "                    <tr>\n",
       "                    <th> Type </th>\n",
       "                    <td> float32 </td>\n",
       "                    <td> numpy.ndarray </td>\n",
       "                    </tr>\n",
       "                </tbody>\n",
       "            </table>\n",
       "        </td>\n",
       "        <td>\n",
       "        <svg width=\"170\" height=\"75\" style=\"stroke:rgb(0,0,0);stroke-width:1\" >\n",
       "\n",
       "  <!-- Horizontal lines -->\n",
       "  <line x1=\"0\" y1=\"0\" x2=\"120\" y2=\"0\" style=\"stroke-width:2\" />\n",
       "  <line x1=\"0\" y1=\"25\" x2=\"120\" y2=\"25\" style=\"stroke-width:2\" />\n",
       "\n",
       "  <!-- Vertical lines -->\n",
       "  <line x1=\"0\" y1=\"0\" x2=\"0\" y2=\"25\" style=\"stroke-width:2\" />\n",
       "  <line x1=\"120\" y1=\"0\" x2=\"120\" y2=\"25\" style=\"stroke-width:2\" />\n",
       "\n",
       "  <!-- Colored Rectangle -->\n",
       "  <polygon points=\"0.0,0.0 120.0,0.0 120.0,25.412616514582485 0.0,25.412616514582485\" style=\"fill:#ECB172A0;stroke-width:0\"/>\n",
       "\n",
       "  <!-- Text -->\n",
       "  <text x=\"60.000000\" y=\"45.412617\" font-size=\"1.0rem\" font-weight=\"100\" text-anchor=\"middle\" >26719</text>\n",
       "  <text x=\"140.000000\" y=\"12.706308\" font-size=\"1.0rem\" font-weight=\"100\" text-anchor=\"middle\" transform=\"rotate(0,140.000000,12.706308)\">1</text>\n",
       "</svg>\n",
       "        </td>\n",
       "    </tr>\n",
       "</table></div></li><li class='xr-var-item'><div class='xr-var-name'><span>brightness_temperature</span></div><div class='xr-var-dims'>(time)</div><div class='xr-var-dtype'>float32</div><div class='xr-var-preview xr-preview'>dask.array&lt;chunksize=(26719,), meta=np.ndarray&gt;</div><input id='attrs-5596be2f-d586-43b4-9675-ce0c3f53f750' class='xr-var-attrs-in' type='checkbox' ><label for='attrs-5596be2f-d586-43b4-9675-ce0c3f53f750' title='Show/Hide attributes'><svg class='icon xr-icon-file-text2'><use xlink:href='#icon-file-text2'></use></svg></label><input id='data-ad49951b-3d07-46f1-aca5-43ea31fa02b7' class='xr-var-data-in' type='checkbox'><label for='data-ad49951b-3d07-46f1-aca5-43ea31fa02b7' title='Show/Hide data repr'><svg class='icon xr-icon-database'><use xlink:href='#icon-database'></use></svg></label><div class='xr-var-attrs'><dl class='xr-attrs'><dt><span>long_name :</span></dt><dd>brightness temperature at 89 GHz</dd><dt><span>standard_name :</span></dt><dd>brightness_temperature</dd><dt><span>units :</span></dt><dd>K</dd></dl></div><div class='xr-var-data'><table>\n",
       "    <tr>\n",
       "        <td>\n",
       "            <table>\n",
       "                <thead>\n",
       "                    <tr>\n",
       "                        <td> </td>\n",
       "                        <th> Array </th>\n",
       "                        <th> Chunk </th>\n",
       "                    </tr>\n",
       "                </thead>\n",
       "                <tbody>\n",
       "\n",
       "                    <tr>\n",
       "                        <th> Bytes </th>\n",
       "                        <td> 104.37 kiB </td>\n",
       "                        <td> 104.37 kiB </td>\n",
       "                    </tr>\n",
       "\n",
       "                    <tr>\n",
       "                        <th> Shape </th>\n",
       "                        <td> (26719,) </td>\n",
       "                        <td> (26719,) </td>\n",
       "                    </tr>\n",
       "                    <tr>\n",
       "                        <th> Count </th>\n",
       "                        <td> 2 Tasks </td>\n",
       "                        <td> 1 Chunks </td>\n",
       "                    </tr>\n",
       "                    <tr>\n",
       "                    <th> Type </th>\n",
       "                    <td> float32 </td>\n",
       "                    <td> numpy.ndarray </td>\n",
       "                    </tr>\n",
       "                </tbody>\n",
       "            </table>\n",
       "        </td>\n",
       "        <td>\n",
       "        <svg width=\"170\" height=\"75\" style=\"stroke:rgb(0,0,0);stroke-width:1\" >\n",
       "\n",
       "  <!-- Horizontal lines -->\n",
       "  <line x1=\"0\" y1=\"0\" x2=\"120\" y2=\"0\" style=\"stroke-width:2\" />\n",
       "  <line x1=\"0\" y1=\"25\" x2=\"120\" y2=\"25\" style=\"stroke-width:2\" />\n",
       "\n",
       "  <!-- Vertical lines -->\n",
       "  <line x1=\"0\" y1=\"0\" x2=\"0\" y2=\"25\" style=\"stroke-width:2\" />\n",
       "  <line x1=\"120\" y1=\"0\" x2=\"120\" y2=\"25\" style=\"stroke-width:2\" />\n",
       "\n",
       "  <!-- Colored Rectangle -->\n",
       "  <polygon points=\"0.0,0.0 120.0,0.0 120.0,25.412616514582485 0.0,25.412616514582485\" style=\"fill:#ECB172A0;stroke-width:0\"/>\n",
       "\n",
       "  <!-- Text -->\n",
       "  <text x=\"60.000000\" y=\"45.412617\" font-size=\"1.0rem\" font-weight=\"100\" text-anchor=\"middle\" >26719</text>\n",
       "  <text x=\"140.000000\" y=\"12.706308\" font-size=\"1.0rem\" font-weight=\"100\" text-anchor=\"middle\" transform=\"rotate(0,140.000000,12.706308)\">1</text>\n",
       "</svg>\n",
       "        </td>\n",
       "    </tr>\n",
       "</table></div></li><li class='xr-var-item'><div class='xr-var-name'><span>instrument</span></div><div class='xr-var-dims'>()</div><div class='xr-var-dtype'>&lt;U15</div><div class='xr-var-preview xr-preview'>...</div><input id='attrs-28a48dff-7c5d-45ea-8b1f-916fe020206e' class='xr-var-attrs-in' type='checkbox' ><label for='attrs-28a48dff-7c5d-45ea-8b1f-916fe020206e' title='Show/Hide attributes'><svg class='icon xr-icon-file-text2'><use xlink:href='#icon-file-text2'></use></svg></label><input id='data-641139be-1709-4448-bc4b-95b25d5ee62a' class='xr-var-data-in' type='checkbox'><label for='data-641139be-1709-4448-bc4b-95b25d5ee62a' title='Show/Hide data repr'><svg class='icon xr-icon-database'><use xlink:href='#icon-database'></use></svg></label><div class='xr-var-attrs'><dl class='xr-attrs'><dt><span>cf_role :</span></dt><dd>trajectory_id</dd></dl></div><div class='xr-var-data'><pre>array(&#x27;msm_wband_radar&#x27;, dtype=&#x27;&lt;U15&#x27;)</pre></div></li><li class='xr-var-item'><div class='xr-var-name'><span>liquid_water_path</span></div><div class='xr-var-dims'>(time)</div><div class='xr-var-dtype'>float32</div><div class='xr-var-preview xr-preview'>dask.array&lt;chunksize=(26719,), meta=np.ndarray&gt;</div><input id='attrs-68e45610-7c87-4025-96b5-fb94abf8bff2' class='xr-var-attrs-in' type='checkbox' ><label for='attrs-68e45610-7c87-4025-96b5-fb94abf8bff2' title='Show/Hide attributes'><svg class='icon xr-icon-file-text2'><use xlink:href='#icon-file-text2'></use></svg></label><input id='data-0400f93d-6cb8-4968-a120-34d7a31ba427' class='xr-var-data-in' type='checkbox'><label for='data-0400f93d-6cb8-4968-a120-34d7a31ba427' title='Show/Hide data repr'><svg class='icon xr-icon-database'><use xlink:href='#icon-database'></use></svg></label><div class='xr-var-attrs'><dl class='xr-attrs'><dt><span>comment :</span></dt><dd>retrieval based on neural networks developed by the manufacturer</dd><dt><span>long_name :</span></dt><dd>liquid water path</dd><dt><span>standard_name :</span></dt><dd>atmosphere_cloud_liquid_water_content</dd><dt><span>units :</span></dt><dd>g m-2</dd></dl></div><div class='xr-var-data'><table>\n",
       "    <tr>\n",
       "        <td>\n",
       "            <table>\n",
       "                <thead>\n",
       "                    <tr>\n",
       "                        <td> </td>\n",
       "                        <th> Array </th>\n",
       "                        <th> Chunk </th>\n",
       "                    </tr>\n",
       "                </thead>\n",
       "                <tbody>\n",
       "\n",
       "                    <tr>\n",
       "                        <th> Bytes </th>\n",
       "                        <td> 104.37 kiB </td>\n",
       "                        <td> 104.37 kiB </td>\n",
       "                    </tr>\n",
       "\n",
       "                    <tr>\n",
       "                        <th> Shape </th>\n",
       "                        <td> (26719,) </td>\n",
       "                        <td> (26719,) </td>\n",
       "                    </tr>\n",
       "                    <tr>\n",
       "                        <th> Count </th>\n",
       "                        <td> 2 Tasks </td>\n",
       "                        <td> 1 Chunks </td>\n",
       "                    </tr>\n",
       "                    <tr>\n",
       "                    <th> Type </th>\n",
       "                    <td> float32 </td>\n",
       "                    <td> numpy.ndarray </td>\n",
       "                    </tr>\n",
       "                </tbody>\n",
       "            </table>\n",
       "        </td>\n",
       "        <td>\n",
       "        <svg width=\"170\" height=\"75\" style=\"stroke:rgb(0,0,0);stroke-width:1\" >\n",
       "\n",
       "  <!-- Horizontal lines -->\n",
       "  <line x1=\"0\" y1=\"0\" x2=\"120\" y2=\"0\" style=\"stroke-width:2\" />\n",
       "  <line x1=\"0\" y1=\"25\" x2=\"120\" y2=\"25\" style=\"stroke-width:2\" />\n",
       "\n",
       "  <!-- Vertical lines -->\n",
       "  <line x1=\"0\" y1=\"0\" x2=\"0\" y2=\"25\" style=\"stroke-width:2\" />\n",
       "  <line x1=\"120\" y1=\"0\" x2=\"120\" y2=\"25\" style=\"stroke-width:2\" />\n",
       "\n",
       "  <!-- Colored Rectangle -->\n",
       "  <polygon points=\"0.0,0.0 120.0,0.0 120.0,25.412616514582485 0.0,25.412616514582485\" style=\"fill:#ECB172A0;stroke-width:0\"/>\n",
       "\n",
       "  <!-- Text -->\n",
       "  <text x=\"60.000000\" y=\"45.412617\" font-size=\"1.0rem\" font-weight=\"100\" text-anchor=\"middle\" >26719</text>\n",
       "  <text x=\"140.000000\" y=\"12.706308\" font-size=\"1.0rem\" font-weight=\"100\" text-anchor=\"middle\" transform=\"rotate(0,140.000000,12.706308)\">1</text>\n",
       "</svg>\n",
       "        </td>\n",
       "    </tr>\n",
       "</table></div></li><li class='xr-var-item'><div class='xr-var-name'><span>mean_doppler_velocity</span></div><div class='xr-var-dims'>(time, height)</div><div class='xr-var-dtype'>float32</div><div class='xr-var-preview xr-preview'>dask.array&lt;chunksize=(3340, 69), meta=np.ndarray&gt;</div><input id='attrs-62b4a421-2310-445b-a799-5af16dbb53f3' class='xr-var-attrs-in' type='checkbox' ><label for='attrs-62b4a421-2310-445b-a799-5af16dbb53f3' title='Show/Hide attributes'><svg class='icon xr-icon-file-text2'><use xlink:href='#icon-file-text2'></use></svg></label><input id='data-f50d8bce-b291-433c-b765-619abd3bf195' class='xr-var-data-in' type='checkbox'><label for='data-f50d8bce-b291-433c-b765-619abd3bf195' title='Show/Hide data repr'><svg class='icon xr-icon-database'><use xlink:href='#icon-database'></use></svg></label><div class='xr-var-attrs'><dl class='xr-attrs'><dt><span>comment :</span></dt><dd>mean Doppler velocity after correction for ship motions and smoothing</dd><dt><span>long_name :</span></dt><dd>mean Doppler velocity</dd><dt><span>units :</span></dt><dd>m s-1</dd></dl></div><div class='xr-var-data'><table>\n",
       "    <tr>\n",
       "        <td>\n",
       "            <table>\n",
       "                <thead>\n",
       "                    <tr>\n",
       "                        <td> </td>\n",
       "                        <th> Array </th>\n",
       "                        <th> Chunk </th>\n",
       "                    </tr>\n",
       "                </thead>\n",
       "                <tbody>\n",
       "\n",
       "                    <tr>\n",
       "                        <th> Bytes </th>\n",
       "                        <td> 56.06 MiB </td>\n",
       "                        <td> 900.23 kiB </td>\n",
       "                    </tr>\n",
       "\n",
       "                    <tr>\n",
       "                        <th> Shape </th>\n",
       "                        <td> (26719, 550) </td>\n",
       "                        <td> (3340, 69) </td>\n",
       "                    </tr>\n",
       "                    <tr>\n",
       "                        <th> Count </th>\n",
       "                        <td> 65 Tasks </td>\n",
       "                        <td> 64 Chunks </td>\n",
       "                    </tr>\n",
       "                    <tr>\n",
       "                    <th> Type </th>\n",
       "                    <td> float32 </td>\n",
       "                    <td> numpy.ndarray </td>\n",
       "                    </tr>\n",
       "                </tbody>\n",
       "            </table>\n",
       "        </td>\n",
       "        <td>\n",
       "        <svg width=\"79\" height=\"170\" style=\"stroke:rgb(0,0,0);stroke-width:1\" >\n",
       "\n",
       "  <!-- Horizontal lines -->\n",
       "  <line x1=\"0\" y1=\"0\" x2=\"29\" y2=\"0\" style=\"stroke-width:2\" />\n",
       "  <line x1=\"0\" y1=\"15\" x2=\"29\" y2=\"15\" />\n",
       "  <line x1=\"0\" y1=\"30\" x2=\"29\" y2=\"30\" />\n",
       "  <line x1=\"0\" y1=\"45\" x2=\"29\" y2=\"45\" />\n",
       "  <line x1=\"0\" y1=\"60\" x2=\"29\" y2=\"60\" />\n",
       "  <line x1=\"0\" y1=\"75\" x2=\"29\" y2=\"75\" />\n",
       "  <line x1=\"0\" y1=\"90\" x2=\"29\" y2=\"90\" />\n",
       "  <line x1=\"0\" y1=\"105\" x2=\"29\" y2=\"105\" />\n",
       "  <line x1=\"0\" y1=\"120\" x2=\"29\" y2=\"120\" style=\"stroke-width:2\" />\n",
       "\n",
       "  <!-- Vertical lines -->\n",
       "  <line x1=\"0\" y1=\"0\" x2=\"0\" y2=\"120\" style=\"stroke-width:2\" />\n",
       "  <line x1=\"3\" y1=\"0\" x2=\"3\" y2=\"120\" />\n",
       "  <line x1=\"7\" y1=\"0\" x2=\"7\" y2=\"120\" />\n",
       "  <line x1=\"10\" y1=\"0\" x2=\"10\" y2=\"120\" />\n",
       "  <line x1=\"14\" y1=\"0\" x2=\"14\" y2=\"120\" />\n",
       "  <line x1=\"18\" y1=\"0\" x2=\"18\" y2=\"120\" />\n",
       "  <line x1=\"21\" y1=\"0\" x2=\"21\" y2=\"120\" />\n",
       "  <line x1=\"25\" y1=\"0\" x2=\"25\" y2=\"120\" />\n",
       "  <line x1=\"29\" y1=\"0\" x2=\"29\" y2=\"120\" style=\"stroke-width:2\" />\n",
       "\n",
       "  <!-- Colored Rectangle -->\n",
       "  <polygon points=\"0.0,0.0 29.19320248600735,0.0 29.19320248600735,120.0 0.0,120.0\" style=\"fill:#ECB172A0;stroke-width:0\"/>\n",
       "\n",
       "  <!-- Text -->\n",
       "  <text x=\"14.596601\" y=\"140.000000\" font-size=\"1.0rem\" font-weight=\"100\" text-anchor=\"middle\" >550</text>\n",
       "  <text x=\"49.193202\" y=\"60.000000\" font-size=\"1.0rem\" font-weight=\"100\" text-anchor=\"middle\" transform=\"rotate(-90,49.193202,60.000000)\">26719</text>\n",
       "</svg>\n",
       "        </td>\n",
       "    </tr>\n",
       "</table></div></li><li class='xr-var-item'><div class='xr-var-name'><span>radar_reflectivity</span></div><div class='xr-var-dims'>(time, height)</div><div class='xr-var-dtype'>float32</div><div class='xr-var-preview xr-preview'>dask.array&lt;chunksize=(3340, 69), meta=np.ndarray&gt;</div><input id='attrs-bed798a2-cda1-42b4-8fab-fc5649083a5d' class='xr-var-attrs-in' type='checkbox' ><label for='attrs-bed798a2-cda1-42b4-8fab-fc5649083a5d' title='Show/Hide attributes'><svg class='icon xr-icon-file-text2'><use xlink:href='#icon-file-text2'></use></svg></label><input id='data-092913eb-f29a-4574-af9b-65806571d5a4' class='xr-var-data-in' type='checkbox'><label for='data-092913eb-f29a-4574-af9b-65806571d5a4' title='Show/Hide data repr'><svg class='icon xr-icon-database'><use xlink:href='#icon-database'></use></svg></label><div class='xr-var-attrs'><dl class='xr-attrs'><dt><span>long_name :</span></dt><dd>equivalent reflectivity factor</dd><dt><span>standard_name :</span></dt><dd>equivalent_reflectivity_factor</dd><dt><span>units :</span></dt><dd>dBZ</dd></dl></div><div class='xr-var-data'><table>\n",
       "    <tr>\n",
       "        <td>\n",
       "            <table>\n",
       "                <thead>\n",
       "                    <tr>\n",
       "                        <td> </td>\n",
       "                        <th> Array </th>\n",
       "                        <th> Chunk </th>\n",
       "                    </tr>\n",
       "                </thead>\n",
       "                <tbody>\n",
       "\n",
       "                    <tr>\n",
       "                        <th> Bytes </th>\n",
       "                        <td> 56.06 MiB </td>\n",
       "                        <td> 900.23 kiB </td>\n",
       "                    </tr>\n",
       "\n",
       "                    <tr>\n",
       "                        <th> Shape </th>\n",
       "                        <td> (26719, 550) </td>\n",
       "                        <td> (3340, 69) </td>\n",
       "                    </tr>\n",
       "                    <tr>\n",
       "                        <th> Count </th>\n",
       "                        <td> 65 Tasks </td>\n",
       "                        <td> 64 Chunks </td>\n",
       "                    </tr>\n",
       "                    <tr>\n",
       "                    <th> Type </th>\n",
       "                    <td> float32 </td>\n",
       "                    <td> numpy.ndarray </td>\n",
       "                    </tr>\n",
       "                </tbody>\n",
       "            </table>\n",
       "        </td>\n",
       "        <td>\n",
       "        <svg width=\"79\" height=\"170\" style=\"stroke:rgb(0,0,0);stroke-width:1\" >\n",
       "\n",
       "  <!-- Horizontal lines -->\n",
       "  <line x1=\"0\" y1=\"0\" x2=\"29\" y2=\"0\" style=\"stroke-width:2\" />\n",
       "  <line x1=\"0\" y1=\"15\" x2=\"29\" y2=\"15\" />\n",
       "  <line x1=\"0\" y1=\"30\" x2=\"29\" y2=\"30\" />\n",
       "  <line x1=\"0\" y1=\"45\" x2=\"29\" y2=\"45\" />\n",
       "  <line x1=\"0\" y1=\"60\" x2=\"29\" y2=\"60\" />\n",
       "  <line x1=\"0\" y1=\"75\" x2=\"29\" y2=\"75\" />\n",
       "  <line x1=\"0\" y1=\"90\" x2=\"29\" y2=\"90\" />\n",
       "  <line x1=\"0\" y1=\"105\" x2=\"29\" y2=\"105\" />\n",
       "  <line x1=\"0\" y1=\"120\" x2=\"29\" y2=\"120\" style=\"stroke-width:2\" />\n",
       "\n",
       "  <!-- Vertical lines -->\n",
       "  <line x1=\"0\" y1=\"0\" x2=\"0\" y2=\"120\" style=\"stroke-width:2\" />\n",
       "  <line x1=\"3\" y1=\"0\" x2=\"3\" y2=\"120\" />\n",
       "  <line x1=\"7\" y1=\"0\" x2=\"7\" y2=\"120\" />\n",
       "  <line x1=\"10\" y1=\"0\" x2=\"10\" y2=\"120\" />\n",
       "  <line x1=\"14\" y1=\"0\" x2=\"14\" y2=\"120\" />\n",
       "  <line x1=\"18\" y1=\"0\" x2=\"18\" y2=\"120\" />\n",
       "  <line x1=\"21\" y1=\"0\" x2=\"21\" y2=\"120\" />\n",
       "  <line x1=\"25\" y1=\"0\" x2=\"25\" y2=\"120\" />\n",
       "  <line x1=\"29\" y1=\"0\" x2=\"29\" y2=\"120\" style=\"stroke-width:2\" />\n",
       "\n",
       "  <!-- Colored Rectangle -->\n",
       "  <polygon points=\"0.0,0.0 29.19320248600735,0.0 29.19320248600735,120.0 0.0,120.0\" style=\"fill:#ECB172A0;stroke-width:0\"/>\n",
       "\n",
       "  <!-- Text -->\n",
       "  <text x=\"14.596601\" y=\"140.000000\" font-size=\"1.0rem\" font-weight=\"100\" text-anchor=\"middle\" >550</text>\n",
       "  <text x=\"49.193202\" y=\"60.000000\" font-size=\"1.0rem\" font-weight=\"100\" text-anchor=\"middle\" transform=\"rotate(-90,49.193202,60.000000)\">26719</text>\n",
       "</svg>\n",
       "        </td>\n",
       "    </tr>\n",
       "</table></div></li><li class='xr-var-item'><div class='xr-var-name'><span>rain_rate</span></div><div class='xr-var-dims'>(time)</div><div class='xr-var-dtype'>float32</div><div class='xr-var-preview xr-preview'>dask.array&lt;chunksize=(26719,), meta=np.ndarray&gt;</div><input id='attrs-4255f2da-e77c-4573-abf6-ed4163bf0d75' class='xr-var-attrs-in' type='checkbox' ><label for='attrs-4255f2da-e77c-4573-abf6-ed4163bf0d75' title='Show/Hide attributes'><svg class='icon xr-icon-file-text2'><use xlink:href='#icon-file-text2'></use></svg></label><input id='data-f66ac774-fbfc-47d9-a342-11241879f864' class='xr-var-data-in' type='checkbox'><label for='data-f66ac774-fbfc-47d9-a342-11241879f864' title='Show/Hide data repr'><svg class='icon xr-icon-database'><use xlink:href='#icon-database'></use></svg></label><div class='xr-var-attrs'><dl class='xr-attrs'><dt><span>long_name :</span></dt><dd>surface rain rate</dd><dt><span>standard_name :</span></dt><dd>rainfall_rate</dd><dt><span>units :</span></dt><dd>mm h-1</dd></dl></div><div class='xr-var-data'><table>\n",
       "    <tr>\n",
       "        <td>\n",
       "            <table>\n",
       "                <thead>\n",
       "                    <tr>\n",
       "                        <td> </td>\n",
       "                        <th> Array </th>\n",
       "                        <th> Chunk </th>\n",
       "                    </tr>\n",
       "                </thead>\n",
       "                <tbody>\n",
       "\n",
       "                    <tr>\n",
       "                        <th> Bytes </th>\n",
       "                        <td> 104.37 kiB </td>\n",
       "                        <td> 104.37 kiB </td>\n",
       "                    </tr>\n",
       "\n",
       "                    <tr>\n",
       "                        <th> Shape </th>\n",
       "                        <td> (26719,) </td>\n",
       "                        <td> (26719,) </td>\n",
       "                    </tr>\n",
       "                    <tr>\n",
       "                        <th> Count </th>\n",
       "                        <td> 2 Tasks </td>\n",
       "                        <td> 1 Chunks </td>\n",
       "                    </tr>\n",
       "                    <tr>\n",
       "                    <th> Type </th>\n",
       "                    <td> float32 </td>\n",
       "                    <td> numpy.ndarray </td>\n",
       "                    </tr>\n",
       "                </tbody>\n",
       "            </table>\n",
       "        </td>\n",
       "        <td>\n",
       "        <svg width=\"170\" height=\"75\" style=\"stroke:rgb(0,0,0);stroke-width:1\" >\n",
       "\n",
       "  <!-- Horizontal lines -->\n",
       "  <line x1=\"0\" y1=\"0\" x2=\"120\" y2=\"0\" style=\"stroke-width:2\" />\n",
       "  <line x1=\"0\" y1=\"25\" x2=\"120\" y2=\"25\" style=\"stroke-width:2\" />\n",
       "\n",
       "  <!-- Vertical lines -->\n",
       "  <line x1=\"0\" y1=\"0\" x2=\"0\" y2=\"25\" style=\"stroke-width:2\" />\n",
       "  <line x1=\"120\" y1=\"0\" x2=\"120\" y2=\"25\" style=\"stroke-width:2\" />\n",
       "\n",
       "  <!-- Colored Rectangle -->\n",
       "  <polygon points=\"0.0,0.0 120.0,0.0 120.0,25.412616514582485 0.0,25.412616514582485\" style=\"fill:#ECB172A0;stroke-width:0\"/>\n",
       "\n",
       "  <!-- Text -->\n",
       "  <text x=\"60.000000\" y=\"45.412617\" font-size=\"1.0rem\" font-weight=\"100\" text-anchor=\"middle\" >26719</text>\n",
       "  <text x=\"140.000000\" y=\"12.706308\" font-size=\"1.0rem\" font-weight=\"100\" text-anchor=\"middle\" transform=\"rotate(0,140.000000,12.706308)\">1</text>\n",
       "</svg>\n",
       "        </td>\n",
       "    </tr>\n",
       "</table></div></li><li class='xr-var-item'><div class='xr-var-name'><span>relative_humidity</span></div><div class='xr-var-dims'>(time)</div><div class='xr-var-dtype'>float32</div><div class='xr-var-preview xr-preview'>dask.array&lt;chunksize=(26719,), meta=np.ndarray&gt;</div><input id='attrs-a7880345-94e5-4de4-9501-7ab0fec18691' class='xr-var-attrs-in' type='checkbox' ><label for='attrs-a7880345-94e5-4de4-9501-7ab0fec18691' title='Show/Hide attributes'><svg class='icon xr-icon-file-text2'><use xlink:href='#icon-file-text2'></use></svg></label><input id='data-4b83be48-ea8e-4502-809b-50183788a4f8' class='xr-var-data-in' type='checkbox'><label for='data-4b83be48-ea8e-4502-809b-50183788a4f8' title='Show/Hide data repr'><svg class='icon xr-icon-database'><use xlink:href='#icon-database'></use></svg></label><div class='xr-var-attrs'><dl class='xr-attrs'><dt><span>long_name :</span></dt><dd>surface relative humidity</dd><dt><span>standard_name :</span></dt><dd>relative_humidity</dd><dt><span>units :</span></dt><dd>1</dd></dl></div><div class='xr-var-data'><table>\n",
       "    <tr>\n",
       "        <td>\n",
       "            <table>\n",
       "                <thead>\n",
       "                    <tr>\n",
       "                        <td> </td>\n",
       "                        <th> Array </th>\n",
       "                        <th> Chunk </th>\n",
       "                    </tr>\n",
       "                </thead>\n",
       "                <tbody>\n",
       "\n",
       "                    <tr>\n",
       "                        <th> Bytes </th>\n",
       "                        <td> 104.37 kiB </td>\n",
       "                        <td> 104.37 kiB </td>\n",
       "                    </tr>\n",
       "\n",
       "                    <tr>\n",
       "                        <th> Shape </th>\n",
       "                        <td> (26719,) </td>\n",
       "                        <td> (26719,) </td>\n",
       "                    </tr>\n",
       "                    <tr>\n",
       "                        <th> Count </th>\n",
       "                        <td> 2 Tasks </td>\n",
       "                        <td> 1 Chunks </td>\n",
       "                    </tr>\n",
       "                    <tr>\n",
       "                    <th> Type </th>\n",
       "                    <td> float32 </td>\n",
       "                    <td> numpy.ndarray </td>\n",
       "                    </tr>\n",
       "                </tbody>\n",
       "            </table>\n",
       "        </td>\n",
       "        <td>\n",
       "        <svg width=\"170\" height=\"75\" style=\"stroke:rgb(0,0,0);stroke-width:1\" >\n",
       "\n",
       "  <!-- Horizontal lines -->\n",
       "  <line x1=\"0\" y1=\"0\" x2=\"120\" y2=\"0\" style=\"stroke-width:2\" />\n",
       "  <line x1=\"0\" y1=\"25\" x2=\"120\" y2=\"25\" style=\"stroke-width:2\" />\n",
       "\n",
       "  <!-- Vertical lines -->\n",
       "  <line x1=\"0\" y1=\"0\" x2=\"0\" y2=\"25\" style=\"stroke-width:2\" />\n",
       "  <line x1=\"120\" y1=\"0\" x2=\"120\" y2=\"25\" style=\"stroke-width:2\" />\n",
       "\n",
       "  <!-- Colored Rectangle -->\n",
       "  <polygon points=\"0.0,0.0 120.0,0.0 120.0,25.412616514582485 0.0,25.412616514582485\" style=\"fill:#ECB172A0;stroke-width:0\"/>\n",
       "\n",
       "  <!-- Text -->\n",
       "  <text x=\"60.000000\" y=\"45.412617\" font-size=\"1.0rem\" font-weight=\"100\" text-anchor=\"middle\" >26719</text>\n",
       "  <text x=\"140.000000\" y=\"12.706308\" font-size=\"1.0rem\" font-weight=\"100\" text-anchor=\"middle\" transform=\"rotate(0,140.000000,12.706308)\">1</text>\n",
       "</svg>\n",
       "        </td>\n",
       "    </tr>\n",
       "</table></div></li><li class='xr-var-item'><div class='xr-var-name'><span>skewness</span></div><div class='xr-var-dims'>(time, height)</div><div class='xr-var-dtype'>float32</div><div class='xr-var-preview xr-preview'>dask.array&lt;chunksize=(3340, 69), meta=np.ndarray&gt;</div><input id='attrs-d4bf6e0e-8b30-415a-9f63-a327d1f0aac4' class='xr-var-attrs-in' type='checkbox' ><label for='attrs-d4bf6e0e-8b30-415a-9f63-a327d1f0aac4' title='Show/Hide attributes'><svg class='icon xr-icon-file-text2'><use xlink:href='#icon-file-text2'></use></svg></label><input id='data-79c9afd4-d65f-45e0-9a59-a00f5866d050' class='xr-var-data-in' type='checkbox'><label for='data-79c9afd4-d65f-45e0-9a59-a00f5866d050' title='Show/Hide data repr'><svg class='icon xr-icon-database'><use xlink:href='#icon-database'></use></svg></label><div class='xr-var-attrs'><dl class='xr-attrs'><dt><span>long_name :</span></dt><dd>skewness</dd><dt><span>units :</span></dt><dd></dd></dl></div><div class='xr-var-data'><table>\n",
       "    <tr>\n",
       "        <td>\n",
       "            <table>\n",
       "                <thead>\n",
       "                    <tr>\n",
       "                        <td> </td>\n",
       "                        <th> Array </th>\n",
       "                        <th> Chunk </th>\n",
       "                    </tr>\n",
       "                </thead>\n",
       "                <tbody>\n",
       "\n",
       "                    <tr>\n",
       "                        <th> Bytes </th>\n",
       "                        <td> 56.06 MiB </td>\n",
       "                        <td> 900.23 kiB </td>\n",
       "                    </tr>\n",
       "\n",
       "                    <tr>\n",
       "                        <th> Shape </th>\n",
       "                        <td> (26719, 550) </td>\n",
       "                        <td> (3340, 69) </td>\n",
       "                    </tr>\n",
       "                    <tr>\n",
       "                        <th> Count </th>\n",
       "                        <td> 65 Tasks </td>\n",
       "                        <td> 64 Chunks </td>\n",
       "                    </tr>\n",
       "                    <tr>\n",
       "                    <th> Type </th>\n",
       "                    <td> float32 </td>\n",
       "                    <td> numpy.ndarray </td>\n",
       "                    </tr>\n",
       "                </tbody>\n",
       "            </table>\n",
       "        </td>\n",
       "        <td>\n",
       "        <svg width=\"79\" height=\"170\" style=\"stroke:rgb(0,0,0);stroke-width:1\" >\n",
       "\n",
       "  <!-- Horizontal lines -->\n",
       "  <line x1=\"0\" y1=\"0\" x2=\"29\" y2=\"0\" style=\"stroke-width:2\" />\n",
       "  <line x1=\"0\" y1=\"15\" x2=\"29\" y2=\"15\" />\n",
       "  <line x1=\"0\" y1=\"30\" x2=\"29\" y2=\"30\" />\n",
       "  <line x1=\"0\" y1=\"45\" x2=\"29\" y2=\"45\" />\n",
       "  <line x1=\"0\" y1=\"60\" x2=\"29\" y2=\"60\" />\n",
       "  <line x1=\"0\" y1=\"75\" x2=\"29\" y2=\"75\" />\n",
       "  <line x1=\"0\" y1=\"90\" x2=\"29\" y2=\"90\" />\n",
       "  <line x1=\"0\" y1=\"105\" x2=\"29\" y2=\"105\" />\n",
       "  <line x1=\"0\" y1=\"120\" x2=\"29\" y2=\"120\" style=\"stroke-width:2\" />\n",
       "\n",
       "  <!-- Vertical lines -->\n",
       "  <line x1=\"0\" y1=\"0\" x2=\"0\" y2=\"120\" style=\"stroke-width:2\" />\n",
       "  <line x1=\"3\" y1=\"0\" x2=\"3\" y2=\"120\" />\n",
       "  <line x1=\"7\" y1=\"0\" x2=\"7\" y2=\"120\" />\n",
       "  <line x1=\"10\" y1=\"0\" x2=\"10\" y2=\"120\" />\n",
       "  <line x1=\"14\" y1=\"0\" x2=\"14\" y2=\"120\" />\n",
       "  <line x1=\"18\" y1=\"0\" x2=\"18\" y2=\"120\" />\n",
       "  <line x1=\"21\" y1=\"0\" x2=\"21\" y2=\"120\" />\n",
       "  <line x1=\"25\" y1=\"0\" x2=\"25\" y2=\"120\" />\n",
       "  <line x1=\"29\" y1=\"0\" x2=\"29\" y2=\"120\" style=\"stroke-width:2\" />\n",
       "\n",
       "  <!-- Colored Rectangle -->\n",
       "  <polygon points=\"0.0,0.0 29.19320248600735,0.0 29.19320248600735,120.0 0.0,120.0\" style=\"fill:#ECB172A0;stroke-width:0\"/>\n",
       "\n",
       "  <!-- Text -->\n",
       "  <text x=\"14.596601\" y=\"140.000000\" font-size=\"1.0rem\" font-weight=\"100\" text-anchor=\"middle\" >550</text>\n",
       "  <text x=\"49.193202\" y=\"60.000000\" font-size=\"1.0rem\" font-weight=\"100\" text-anchor=\"middle\" transform=\"rotate(-90,49.193202,60.000000)\">26719</text>\n",
       "</svg>\n",
       "        </td>\n",
       "    </tr>\n",
       "</table></div></li><li class='xr-var-item'><div class='xr-var-name'><span>spectral_width</span></div><div class='xr-var-dims'>(time, height)</div><div class='xr-var-dtype'>float32</div><div class='xr-var-preview xr-preview'>dask.array&lt;chunksize=(3340, 69), meta=np.ndarray&gt;</div><input id='attrs-d9e53485-4529-4be8-896d-3aa4d9e5f5d8' class='xr-var-attrs-in' type='checkbox' ><label for='attrs-d9e53485-4529-4be8-896d-3aa4d9e5f5d8' title='Show/Hide attributes'><svg class='icon xr-icon-file-text2'><use xlink:href='#icon-file-text2'></use></svg></label><input id='data-23a8c782-59b7-480c-a5e7-8cc8e75f43a1' class='xr-var-data-in' type='checkbox'><label for='data-23a8c782-59b7-480c-a5e7-8cc8e75f43a1' title='Show/Hide data repr'><svg class='icon xr-icon-database'><use xlink:href='#icon-database'></use></svg></label><div class='xr-var-attrs'><dl class='xr-attrs'><dt><span>long_name :</span></dt><dd>spectral width</dd><dt><span>units :</span></dt><dd>m s-1</dd></dl></div><div class='xr-var-data'><table>\n",
       "    <tr>\n",
       "        <td>\n",
       "            <table>\n",
       "                <thead>\n",
       "                    <tr>\n",
       "                        <td> </td>\n",
       "                        <th> Array </th>\n",
       "                        <th> Chunk </th>\n",
       "                    </tr>\n",
       "                </thead>\n",
       "                <tbody>\n",
       "\n",
       "                    <tr>\n",
       "                        <th> Bytes </th>\n",
       "                        <td> 56.06 MiB </td>\n",
       "                        <td> 900.23 kiB </td>\n",
       "                    </tr>\n",
       "\n",
       "                    <tr>\n",
       "                        <th> Shape </th>\n",
       "                        <td> (26719, 550) </td>\n",
       "                        <td> (3340, 69) </td>\n",
       "                    </tr>\n",
       "                    <tr>\n",
       "                        <th> Count </th>\n",
       "                        <td> 65 Tasks </td>\n",
       "                        <td> 64 Chunks </td>\n",
       "                    </tr>\n",
       "                    <tr>\n",
       "                    <th> Type </th>\n",
       "                    <td> float32 </td>\n",
       "                    <td> numpy.ndarray </td>\n",
       "                    </tr>\n",
       "                </tbody>\n",
       "            </table>\n",
       "        </td>\n",
       "        <td>\n",
       "        <svg width=\"79\" height=\"170\" style=\"stroke:rgb(0,0,0);stroke-width:1\" >\n",
       "\n",
       "  <!-- Horizontal lines -->\n",
       "  <line x1=\"0\" y1=\"0\" x2=\"29\" y2=\"0\" style=\"stroke-width:2\" />\n",
       "  <line x1=\"0\" y1=\"15\" x2=\"29\" y2=\"15\" />\n",
       "  <line x1=\"0\" y1=\"30\" x2=\"29\" y2=\"30\" />\n",
       "  <line x1=\"0\" y1=\"45\" x2=\"29\" y2=\"45\" />\n",
       "  <line x1=\"0\" y1=\"60\" x2=\"29\" y2=\"60\" />\n",
       "  <line x1=\"0\" y1=\"75\" x2=\"29\" y2=\"75\" />\n",
       "  <line x1=\"0\" y1=\"90\" x2=\"29\" y2=\"90\" />\n",
       "  <line x1=\"0\" y1=\"105\" x2=\"29\" y2=\"105\" />\n",
       "  <line x1=\"0\" y1=\"120\" x2=\"29\" y2=\"120\" style=\"stroke-width:2\" />\n",
       "\n",
       "  <!-- Vertical lines -->\n",
       "  <line x1=\"0\" y1=\"0\" x2=\"0\" y2=\"120\" style=\"stroke-width:2\" />\n",
       "  <line x1=\"3\" y1=\"0\" x2=\"3\" y2=\"120\" />\n",
       "  <line x1=\"7\" y1=\"0\" x2=\"7\" y2=\"120\" />\n",
       "  <line x1=\"10\" y1=\"0\" x2=\"10\" y2=\"120\" />\n",
       "  <line x1=\"14\" y1=\"0\" x2=\"14\" y2=\"120\" />\n",
       "  <line x1=\"18\" y1=\"0\" x2=\"18\" y2=\"120\" />\n",
       "  <line x1=\"21\" y1=\"0\" x2=\"21\" y2=\"120\" />\n",
       "  <line x1=\"25\" y1=\"0\" x2=\"25\" y2=\"120\" />\n",
       "  <line x1=\"29\" y1=\"0\" x2=\"29\" y2=\"120\" style=\"stroke-width:2\" />\n",
       "\n",
       "  <!-- Colored Rectangle -->\n",
       "  <polygon points=\"0.0,0.0 29.19320248600735,0.0 29.19320248600735,120.0 0.0,120.0\" style=\"fill:#ECB172A0;stroke-width:0\"/>\n",
       "\n",
       "  <!-- Text -->\n",
       "  <text x=\"14.596601\" y=\"140.000000\" font-size=\"1.0rem\" font-weight=\"100\" text-anchor=\"middle\" >550</text>\n",
       "  <text x=\"49.193202\" y=\"60.000000\" font-size=\"1.0rem\" font-weight=\"100\" text-anchor=\"middle\" transform=\"rotate(-90,49.193202,60.000000)\">26719</text>\n",
       "</svg>\n",
       "        </td>\n",
       "    </tr>\n",
       "</table></div></li><li class='xr-var-item'><div class='xr-var-name'><span>wind_direction</span></div><div class='xr-var-dims'>(time)</div><div class='xr-var-dtype'>float32</div><div class='xr-var-preview xr-preview'>dask.array&lt;chunksize=(26719,), meta=np.ndarray&gt;</div><input id='attrs-ff8a194c-3fb4-4d77-9450-c61e5b3a8b0d' class='xr-var-attrs-in' type='checkbox' ><label for='attrs-ff8a194c-3fb4-4d77-9450-c61e5b3a8b0d' title='Show/Hide attributes'><svg class='icon xr-icon-file-text2'><use xlink:href='#icon-file-text2'></use></svg></label><input id='data-a4ad46ae-b4e9-4719-afe7-e96ee94a8de7' class='xr-var-data-in' type='checkbox'><label for='data-a4ad46ae-b4e9-4719-afe7-e96ee94a8de7' title='Show/Hide data repr'><svg class='icon xr-icon-database'><use xlink:href='#icon-database'></use></svg></label><div class='xr-var-attrs'><dl class='xr-attrs'><dt><span>long_name :</span></dt><dd>surface wind direction</dd><dt><span>standard_name :</span></dt><dd>wind_from_direction</dd><dt><span>units :</span></dt><dd>degrees</dd></dl></div><div class='xr-var-data'><table>\n",
       "    <tr>\n",
       "        <td>\n",
       "            <table>\n",
       "                <thead>\n",
       "                    <tr>\n",
       "                        <td> </td>\n",
       "                        <th> Array </th>\n",
       "                        <th> Chunk </th>\n",
       "                    </tr>\n",
       "                </thead>\n",
       "                <tbody>\n",
       "\n",
       "                    <tr>\n",
       "                        <th> Bytes </th>\n",
       "                        <td> 104.37 kiB </td>\n",
       "                        <td> 104.37 kiB </td>\n",
       "                    </tr>\n",
       "\n",
       "                    <tr>\n",
       "                        <th> Shape </th>\n",
       "                        <td> (26719,) </td>\n",
       "                        <td> (26719,) </td>\n",
       "                    </tr>\n",
       "                    <tr>\n",
       "                        <th> Count </th>\n",
       "                        <td> 2 Tasks </td>\n",
       "                        <td> 1 Chunks </td>\n",
       "                    </tr>\n",
       "                    <tr>\n",
       "                    <th> Type </th>\n",
       "                    <td> float32 </td>\n",
       "                    <td> numpy.ndarray </td>\n",
       "                    </tr>\n",
       "                </tbody>\n",
       "            </table>\n",
       "        </td>\n",
       "        <td>\n",
       "        <svg width=\"170\" height=\"75\" style=\"stroke:rgb(0,0,0);stroke-width:1\" >\n",
       "\n",
       "  <!-- Horizontal lines -->\n",
       "  <line x1=\"0\" y1=\"0\" x2=\"120\" y2=\"0\" style=\"stroke-width:2\" />\n",
       "  <line x1=\"0\" y1=\"25\" x2=\"120\" y2=\"25\" style=\"stroke-width:2\" />\n",
       "\n",
       "  <!-- Vertical lines -->\n",
       "  <line x1=\"0\" y1=\"0\" x2=\"0\" y2=\"25\" style=\"stroke-width:2\" />\n",
       "  <line x1=\"120\" y1=\"0\" x2=\"120\" y2=\"25\" style=\"stroke-width:2\" />\n",
       "\n",
       "  <!-- Colored Rectangle -->\n",
       "  <polygon points=\"0.0,0.0 120.0,0.0 120.0,25.412616514582485 0.0,25.412616514582485\" style=\"fill:#ECB172A0;stroke-width:0\"/>\n",
       "\n",
       "  <!-- Text -->\n",
       "  <text x=\"60.000000\" y=\"45.412617\" font-size=\"1.0rem\" font-weight=\"100\" text-anchor=\"middle\" >26719</text>\n",
       "  <text x=\"140.000000\" y=\"12.706308\" font-size=\"1.0rem\" font-weight=\"100\" text-anchor=\"middle\" transform=\"rotate(0,140.000000,12.706308)\">1</text>\n",
       "</svg>\n",
       "        </td>\n",
       "    </tr>\n",
       "</table></div></li><li class='xr-var-item'><div class='xr-var-name'><span>wind_speed</span></div><div class='xr-var-dims'>(time)</div><div class='xr-var-dtype'>float32</div><div class='xr-var-preview xr-preview'>dask.array&lt;chunksize=(26719,), meta=np.ndarray&gt;</div><input id='attrs-ed929a09-e312-4b92-a40f-3732838606d1' class='xr-var-attrs-in' type='checkbox' ><label for='attrs-ed929a09-e312-4b92-a40f-3732838606d1' title='Show/Hide attributes'><svg class='icon xr-icon-file-text2'><use xlink:href='#icon-file-text2'></use></svg></label><input id='data-8c8f56e6-1687-4150-a663-172835fea494' class='xr-var-data-in' type='checkbox'><label for='data-8c8f56e6-1687-4150-a663-172835fea494' title='Show/Hide data repr'><svg class='icon xr-icon-database'><use xlink:href='#icon-database'></use></svg></label><div class='xr-var-attrs'><dl class='xr-attrs'><dt><span>long_name :</span></dt><dd>surface horizontal wind speed</dd><dt><span>standard_name :</span></dt><dd>wind_speed</dd><dt><span>units :</span></dt><dd>m s-1</dd></dl></div><div class='xr-var-data'><table>\n",
       "    <tr>\n",
       "        <td>\n",
       "            <table>\n",
       "                <thead>\n",
       "                    <tr>\n",
       "                        <td> </td>\n",
       "                        <th> Array </th>\n",
       "                        <th> Chunk </th>\n",
       "                    </tr>\n",
       "                </thead>\n",
       "                <tbody>\n",
       "\n",
       "                    <tr>\n",
       "                        <th> Bytes </th>\n",
       "                        <td> 104.37 kiB </td>\n",
       "                        <td> 104.37 kiB </td>\n",
       "                    </tr>\n",
       "\n",
       "                    <tr>\n",
       "                        <th> Shape </th>\n",
       "                        <td> (26719,) </td>\n",
       "                        <td> (26719,) </td>\n",
       "                    </tr>\n",
       "                    <tr>\n",
       "                        <th> Count </th>\n",
       "                        <td> 2 Tasks </td>\n",
       "                        <td> 1 Chunks </td>\n",
       "                    </tr>\n",
       "                    <tr>\n",
       "                    <th> Type </th>\n",
       "                    <td> float32 </td>\n",
       "                    <td> numpy.ndarray </td>\n",
       "                    </tr>\n",
       "                </tbody>\n",
       "            </table>\n",
       "        </td>\n",
       "        <td>\n",
       "        <svg width=\"170\" height=\"75\" style=\"stroke:rgb(0,0,0);stroke-width:1\" >\n",
       "\n",
       "  <!-- Horizontal lines -->\n",
       "  <line x1=\"0\" y1=\"0\" x2=\"120\" y2=\"0\" style=\"stroke-width:2\" />\n",
       "  <line x1=\"0\" y1=\"25\" x2=\"120\" y2=\"25\" style=\"stroke-width:2\" />\n",
       "\n",
       "  <!-- Vertical lines -->\n",
       "  <line x1=\"0\" y1=\"0\" x2=\"0\" y2=\"25\" style=\"stroke-width:2\" />\n",
       "  <line x1=\"120\" y1=\"0\" x2=\"120\" y2=\"25\" style=\"stroke-width:2\" />\n",
       "\n",
       "  <!-- Colored Rectangle -->\n",
       "  <polygon points=\"0.0,0.0 120.0,0.0 120.0,25.412616514582485 0.0,25.412616514582485\" style=\"fill:#ECB172A0;stroke-width:0\"/>\n",
       "\n",
       "  <!-- Text -->\n",
       "  <text x=\"60.000000\" y=\"45.412617\" font-size=\"1.0rem\" font-weight=\"100\" text-anchor=\"middle\" >26719</text>\n",
       "  <text x=\"140.000000\" y=\"12.706308\" font-size=\"1.0rem\" font-weight=\"100\" text-anchor=\"middle\" transform=\"rotate(0,140.000000,12.706308)\">1</text>\n",
       "</svg>\n",
       "        </td>\n",
       "    </tr>\n",
       "</table></div></li></ul></div></li><li class='xr-section-item'><input id='section-e20a2827-981b-45bb-ac0d-200cb23f1a2a' class='xr-section-summary-in' type='checkbox'  ><label for='section-e20a2827-981b-45bb-ac0d-200cb23f1a2a' class='xr-section-summary' >Attributes: <span>(30)</span></label><div class='xr-section-inline-details'></div><div class='xr-section-details'><dl class='xr-attrs'><dt><span>COMMENT :</span></dt><dd></dd><dt><span>CREATED_BY :</span></dt><dd>Claudia Acquistapace</dd><dt><span>CREATED_ON :</span></dt><dd>2021-07-01 11:35:01.608208</dd><dt><span>Conventions :</span></dt><dd>CF-1.8</dd><dt><span>DATA_DESCRIPTION :</span></dt><dd>daily w-band radar Doppler moments and surface weather station variables</dd><dt><span>DATA_DISCIPLINE :</span></dt><dd>Atmospheric Physics - Remote Sensing Radar Profiler</dd><dt><span>DATA_GROUP :</span></dt><dd>Experimental;Profile;Moving</dd><dt><span>DATA_LOCATION :</span></dt><dd>Research vessel Maria S. Merian - Atlantic Ocean</dd><dt><span>DATA_PROCESSING :</span></dt><dd>ship motion correction, the code used is available at https://github.com/ClauClouds/ship-motion-correction-for-EUREC4A-campaign</dd><dt><span>DATA_SOURCE :</span></dt><dd>wband data postprocessed</dd><dt><span>DOI :</span></dt><dd>10.25326/235 (https://doi.org/10.25326/235)</dd><dt><span>DO_AFFILIATION :</span></dt><dd>University of Cologne - Germany</dd><dt><span>DO_MAIL :</span></dt><dd>cacquist@meteo.uni-koeln.de</dd><dt><span>DO_NAME :</span></dt><dd>University of Cologne - Germany</dd><dt><span>DO_address :</span></dt><dd>Institute for geophysics and meteorology, Pohligstrasse 3, 50696 Koeln</dd><dt><span>DS_AFFILIATION :</span></dt><dd>University of Cologne - Germany</dd><dt><span>DS_MAIL :</span></dt><dd>cacquist@meteo.uni-koeln.de</dd><dt><span>DS_NAME :</span></dt><dd>University of Cologne - Germany</dd><dt><span>DS_address :</span></dt><dd>Institute for geophysics and meteorology, Pohligstrasse 3, 50696 Koeln</dd><dt><span>FILL_VALUE :</span></dt><dd>NaN</dd><dt><span>INSTRUMENT_MODEL :</span></dt><dd>94 GHz (W-band) radar, manufactured by RPG GmbH</dd><dt><span>ORCID-AUTHOR :</span></dt><dd>Claudia Acquistapace: 0000-0002-1144-4753</dd><dt><span>PI_ADDRESS :</span></dt><dd>Institute for geophysics and meteorology, Pohligstrasse 3, 50969 Koeln</dd><dt><span>PI_AFFILIATION :</span></dt><dd>University of Cologne (UNI), Germany</dd><dt><span>PI_MAIL :</span></dt><dd>cacquist@meteo.uni-koeln.de</dd><dt><span>PI_NAME :</span></dt><dd>Claudia Acquistapace</dd><dt><span>featureType :</span></dt><dd>trajectoryProfile</dd><dt><span>history :</span></dt><dd>source: wband data postprocessed\n",
       "processing: ship motion correction, the code used is available at https://github.com/ClauClouds/ship-motion-correction-for-EUREC4A-campaign\n",
       " adapted to enhance CF compatibility\n",
       "</dd><dt><span>institution :</span></dt><dd>University of Cologne - Germany</dd><dt><span>title :</span></dt><dd>daily w-band radar Doppler moments and surface weather station variables</dd></dl></div></li></ul></div></div>"
      ],
      "text/plain": [
       "<xarray.Dataset>\n",
       "Dimensions:                 (time: 26719, height: 550)\n",
       "Coordinates:\n",
       "  * height                  (height) float32 104.4 111.8 ... 9.949e+03 9.983e+03\n",
       "    lat                     (time) float32 dask.array<chunksize=(26719,), meta=np.ndarray>\n",
       "    lon                     (time) float32 dask.array<chunksize=(26719,), meta=np.ndarray>\n",
       "  * time                    (time) datetime64[ns] 2020-01-27T00:00:01 ... 202...\n",
       "Data variables: (12/13)\n",
       "    air_pressure            (time) float32 dask.array<chunksize=(26719,), meta=np.ndarray>\n",
       "    air_temperature         (time) float32 dask.array<chunksize=(26719,), meta=np.ndarray>\n",
       "    brightness_temperature  (time) float32 dask.array<chunksize=(26719,), meta=np.ndarray>\n",
       "    instrument              <U15 ...\n",
       "    liquid_water_path       (time) float32 dask.array<chunksize=(26719,), meta=np.ndarray>\n",
       "    mean_doppler_velocity   (time, height) float32 dask.array<chunksize=(3340, 69), meta=np.ndarray>\n",
       "    ...                      ...\n",
       "    rain_rate               (time) float32 dask.array<chunksize=(26719,), meta=np.ndarray>\n",
       "    relative_humidity       (time) float32 dask.array<chunksize=(26719,), meta=np.ndarray>\n",
       "    skewness                (time, height) float32 dask.array<chunksize=(3340, 69), meta=np.ndarray>\n",
       "    spectral_width          (time, height) float32 dask.array<chunksize=(3340, 69), meta=np.ndarray>\n",
       "    wind_direction          (time) float32 dask.array<chunksize=(26719,), meta=np.ndarray>\n",
       "    wind_speed              (time) float32 dask.array<chunksize=(26719,), meta=np.ndarray>\n",
       "Attributes: (12/30)\n",
       "    COMMENT:           \n",
       "    CREATED_BY:        Claudia Acquistapace\n",
       "    CREATED_ON:        2021-07-01 11:35:01.608208\n",
       "    Conventions:       CF-1.8\n",
       "    DATA_DESCRIPTION:  daily w-band radar Doppler moments and surface weather...\n",
       "    DATA_DISCIPLINE:   Atmospheric Physics - Remote Sensing Radar Profiler\n",
       "    ...                ...\n",
       "    PI_MAIL:           cacquist@meteo.uni-koeln.de\n",
       "    PI_NAME:           Claudia Acquistapace\n",
       "    featureType:       trajectoryProfile\n",
       "    history:           source: wband data postprocessed\\nprocessing: ship mot...\n",
       "    institution:       University of Cologne - Germany\n",
       "    title:             daily w-band radar Doppler moments and surface weather..."
      ]
     },
     "execution_count": 4,
     "metadata": {},
     "output_type": "execute_result"
    }
   ],
   "source": [
    "date = '2020-01-27 13:00' # <--- provide the date here \n",
    "ds = cat['MS-Merian']['FMCW94_RPG'].motion_corrected(date=date).to_dask()\n",
    "ds"
   ]
  },
  {
   "cell_type": "markdown",
   "id": "f415dd1a",
   "metadata": {},
   "source": [
    "### Plot some radar quantities\n",
    "To create time/height plots for radar moments, pick a variable name having dimension `(time, height)` from the list of data variables and type the name in the code below. The example here is for mean Doppler velocity (corrected for ship motions). You can decide to either select the entire day or a given hour by providing `time_min` and `time_max`.\n",
    "To provide time_min and time_max, modify the string 'yyyy-mm-ddThh:mm:ss'\n",
    "Example:\n",
    "to select the entire day :\n",
    "```python\n",
    "time_min = np.datetime64('2020-01-27T00:00:00')\n",
    "time_max = np.datetime64('2020-01-27T23:59:59')\n",
    "```\n",
    "\n",
    "to select between 13:00 and 15:00 UTC:\n",
    "\n",
    "```python\n",
    "time_min = np.datetime64('2020-01-27T13:00:00')\n",
    "time_max = np.datetime64('2020-01-27T15:00:00')\n",
    "```"
   ]
  },
  {
   "cell_type": "code",
   "execution_count": 5,
   "id": "b5368f7b",
   "metadata": {},
   "outputs": [],
   "source": [
    "# set min and max time values for plotting along the x-axis\n",
    "time_min = np.datetime64('2020-01-27T13:00:00') # insert the string value corresponding to t_min\n",
    "time_max = np.datetime64('2020-01-27T15:00:00') # insert the string value corresponding to t_max\n",
    "\n",
    "# selecting subset of data\n",
    "ds_sliced = ds.sel(time=slice(time_min, time_max))"
   ]
  },
  {
   "cell_type": "code",
   "execution_count": 6,
   "id": "a2a6859d",
   "metadata": {},
   "outputs": [
    {
     "data": {
      "image/png": "[encoded data removed]",
      "text/plain": [
       "<Figure size 2000x800 with 2 Axes>"
      ]
     },
     "metadata": {
      "filenames": {
       "image/png": "/home/runner/work/how_to_eurec4a/how_to_eurec4a/how_to_eurec4a/_build/jupyter_execute/merian_cloudradar_12_0.png"
      },
      "needs_background": "light"
     },
     "output_type": "display_data"
    }
   ],
   "source": [
    "fig, ax = plt.subplots()\n",
    "# set here the variable from ds to plot, its color map and its min and max values\n",
    "ds_sliced.mean_doppler_velocity.plot(x='time', y='height', cmap=\"seismic\", vmin=-10., vmax=10.)\n",
    "ax.set_title(\"Mean doppler velocity for : \"+date)\n",
    "ax.set_xlim(time_min, time_max)\n",
    "ax.set_ylim(0, 4500);"
   ]
  },
  {
   "cell_type": "markdown",
   "id": "aa4c6446",
   "metadata": {},
   "source": [
    "### Check corresponding merian position in the selected hour\n",
    "We use the function `track2layer` defined in the {doc}`flight_tracks_leaflet` chapter, and we provide as input the data for the time interval selected during the day"
   ]
  },
  {
   "cell_type": "code",
   "execution_count": 7,
   "id": "15451b30",
   "metadata": {},
   "outputs": [
    {
     "data": {
      "application/vnd.jupyter.widget-view+json": {
       "model_id": "6c0f17292ded4b7eb3185811fd3e73cf",
       "version_major": 2,
       "version_minor": 0
      },
      "text/plain": [
       "Map(center=[11.3, -57], controls=(ZoomControl(options=['position', 'zoom_in_text', 'zoom_in_title', 'zoom_out_…"
      ]
     },
     "metadata": {},
     "output_type": "display_data"
    }
   ],
   "source": [
    "import ipyleaflet\n",
    "\n",
    "# function to associate features to a given track\n",
    "def track2layer(track, color=\"green\", name=\"\"):\n",
    "    return ipyleaflet.Polyline(\n",
    "        locations=np.stack([track.lat.values, track.lon.values], axis=1).tolist(), \n",
    "        color=color,\n",
    "        fill=True,\n",
    "        weight=4,\n",
    "        name=name\n",
    "    )\n",
    "\n",
    "# definition of the base map \n",
    "m = ipyleaflet.Map(\n",
    "    basemap=ipyleaflet.basemaps.Esri.NatGeoWorldMap,\n",
    "    center=(11.3, -57), zoom=6)\n",
    "m.add_layer(track2layer(ds_sliced, 'red', 'merian position'))  # adding layer of merian position\n",
    "m.add_control(ipyleaflet.ScaleControl(position='bottomleft'))\n",
    "m.add_control(ipyleaflet.LayersControl(position='topright'))\n",
    "m.add_control(ipyleaflet.FullScreenControl())\n",
    "display(m)"
   ]
  }
 ],
 "metadata": {
  "jupytext": {
   "text_representation": {
    "extension": ".md",
    "format_name": "myst",
    "format_version": 0.13,
    "jupytext_version": "1.11.1"
   }
  },
  "kernelspec": {
   "display_name": "Python 3",
   "language": "python",
   "name": "python3"
  },
  "language_info": {
   "codemirror_mode": {
    "name": "ipython",
    "version": 3
   },
   "file_extension": ".py",
   "mimetype": "text/x-python",
   "name": "python",
   "nbconvert_exporter": "python",
   "pygments_lexer": "ipython3",
   "version": "3.8.12"
  },
  "source_map": [
   12,
   16,
   24,
   30,
   37,
   42,
   44,
   49,
   60,
   68,
   72,
   91,
   100,
   107,
   112
  ],
  "widgets": {
   "application/vnd.jupyter.widget-state+json": {
    "state": {
     "13a40b29b34d490ea3dfe00c1841864e": {
      "model_module": "jupyter-leaflet",
      "model_module_version": "^0.15.0",
      "model_name": "LeafletMapStyleModel",
      "state": {
       "_model_module": "jupyter-leaflet",
       "_model_module_version": "^0.15.0",
       "_model_name": "LeafletMapStyleModel",
       "_view_count": null,
       "_view_module": "@jupyter-widgets/base",
       "_view_module_version": "1.2.0",
       "_view_name": "StyleView",
       "cursor": "grab"
      }
     },
     "23496cce7c034b74a3b9a1a8da9d172d": {
      "model_module": "jupyter-leaflet",
      "model_module_version": "^0.15.0",
      "model_name": "LeafletTileLayerModel",
      "state": {
       "_model_module": "jupyter-leaflet",
       "_model_module_version": "^0.15.0",
       "_model_name": "LeafletTileLayerModel",
       "_view_count": null,
       "_view_module": "jupyter-leaflet",
       "_view_module_version": "^0.15.0",
       "_view_name": "LeafletTileLayerView",
       "attribution": "Tiles &copy; Esri &mdash; National Geographic, Esri, DeLorme, NAVTEQ, UNEP-WCMC, USGS, NASA, ESA, METI, NRCAN, GEBCO, NOAA, iPC",
       "base": true,
       "bottom": true,
       "detect_retina": false,
       "loading": false,
       "max_native_zoom": 18,
       "max_zoom": 16,
       "min_native_zoom": 0,
       "min_zoom": 1,
       "name": "Esri.NatGeoWorldMap",
       "no_wrap": false,
       "opacity": 1.0,
       "options": [
        "attribution",
        "detect_retina",
        "max_native_zoom",
        "max_zoom",
        "min_native_zoom",
        "min_zoom",
        "no_wrap",
        "tile_size",
        "tms"
       ],
       "popup": null,
       "popup_max_height": null,
       "popup_max_width": 300,
       "popup_min_width": 50,
       "show_loading": false,
       "tile_size": 256,
       "tms": false,
       "url": "https://server.arcgisonline.com/ArcGIS/rest/services/NatGeo_World_Map/MapServer/tile/{z}/{y}/{x}",
       "visible": true
      }
     },
     "2f127080982c4803bb8ddb45e2de7556": {
      "model_module": "jupyter-leaflet",
      "model_module_version": "^0.15.0",
      "model_name": "LeafletAttributionControlModel",
      "state": {
       "_model_module": "jupyter-leaflet",
       "_model_module_version": "^0.15.0",
       "_model_name": "LeafletAttributionControlModel",
       "_view_count": null,
       "_view_module": "jupyter-leaflet",
       "_view_module_version": "^0.15.0",
       "_view_name": "LeafletAttributionControlView",
       "options": [
        "position",
        "prefix"
       ],
       "position": "bottomright",
       "prefix": "ipyleaflet"
      }
     },
     "6254f7aa041b4ae6beb64fc9cc773fc7": {
      "model_module": "@jupyter-widgets/base",
      "model_module_version": "1.2.0",
      "model_name": "LayoutModel",
      "state": {
       "_model_module": "@jupyter-widgets/base",
       "_model_module_version": "1.2.0",
       "_model_name": "LayoutModel",
       "_view_count": null,
       "_view_module": "@jupyter-widgets/base",
       "_view_module_version": "1.2.0",
       "_view_name": "LayoutView",
       "align_content": null,
       "align_items": null,
       "align_self": null,
       "border": null,
       "bottom": null,
       "display": null,
       "flex": null,
       "flex_flow": null,
       "grid_area": null,
       "grid_auto_columns": null,
       "grid_auto_flow": null,
       "grid_auto_rows": null,
       "grid_column": null,
       "grid_gap": null,
       "grid_row": null,
       "grid_template_areas": null,
       "grid_template_columns": null,
       "grid_template_rows": null,
       "height": null,
       "justify_content": null,
       "justify_items": null,
       "left": null,
       "margin": null,
       "max_height": null,
       "max_width": null,
       "min_height": null,
       "min_width": null,
       "object_fit": null,
       "object_position": null,
       "order": null,
       "overflow": null,
       "overflow_x": null,
       "overflow_y": null,
       "padding": null,
       "right": null,
       "top": null,
       "visibility": null,
       "width": null
      }
     },
     "6c0f17292ded4b7eb3185811fd3e73cf": {
      "model_module": "jupyter-leaflet",
      "model_module_version": "^0.15.0",
      "model_name": "LeafletMapModel",
      "state": {
       "_dom_classes": [],
       "_model_module": "jupyter-leaflet",
       "_model_module_version": "^0.15.0",
       "_model_name": "LeafletMapModel",
       "_view_count": null,
       "_view_module": "jupyter-leaflet",
       "_view_module_version": "^0.15.0",
       "_view_name": "LeafletMapView",
       "bottom": 0.0,
       "bounce_at_zoom_limits": true,
       "box_zoom": true,
       "center": [
        11.3,
        -57
       ],
       "close_popup_on_click": true,
       "controls": [
        "IPY_MODEL_c4f102c402064be7a5c85dd0394b07e7",
        "IPY_MODEL_2f127080982c4803bb8ddb45e2de7556",
        "IPY_MODEL_ec223004103d41d98e4df01265a5500d",
        "IPY_MODEL_c9f2f56a7fce4fd6a71780b9bb1af90c",
        "IPY_MODEL_6e0fb9f83a994bb9834e2d45f829ee3e"
       ],
       "crs": {
        "custom": false,
        "name": "EPSG3857"
       },
       "default_style": "IPY_MODEL_13a40b29b34d490ea3dfe00c1841864e",
       "double_click_zoom": true,
       "dragging": true,
       "dragging_style": "IPY_MODEL_7ad429038aa5411bbfd3577d29c2b4a5",
       "east": 0.0,
       "fullscreen": false,
       "inertia": true,
       "inertia_deceleration": 3000,
       "inertia_max_speed": 1500,
       "interpolation": "bilinear",
       "keyboard": true,
       "keyboard_pan_offset": 80,
       "keyboard_zoom_offset": 1,
       "layers": [
        "IPY_MODEL_23496cce7c034b74a3b9a1a8da9d172d",
        "IPY_MODEL_fcb6901024a8427486798b6ec91dabb3"
       ],
       "layout": "IPY_MODEL_6254f7aa041b4ae6beb64fc9cc773fc7",
       "left": 9007199254740991.0,
       "max_zoom": 18.0,
       "min_zoom": 1.0,
       "modisdate": "2022-03-27",
       "north": 0.0,
       "options": [
        "bounce_at_zoom_limits",
        "box_zoom",
        "center",
        "close_popup_on_click",
        "double_click_zoom",
        "dragging",
        "fullscreen",
        "inertia",
        "inertia_deceleration",
        "inertia_max_speed",
        "interpolation",
        "keyboard",
        "keyboard_pan_offset",
        "keyboard_zoom_offset",
        "max_zoom",
        "min_zoom",
        "prefer_canvas",
        "scroll_wheel_zoom",
        "tap",
        "tap_tolerance",
        "touch_zoom",
        "world_copy_jump",
        "zoom",
        "zoom_animation_threshold",
        "zoom_delta",
        "zoom_snap",
        "zoom_start"
       ],
       "prefer_canvas": false,
       "right": 0.0,
       "scroll_wheel_zoom": false,
       "south": 0.0,
       "style": "IPY_MODEL_d65ebc84000d44649c74650ec4a0035d",
       "tap": true,
       "tap_tolerance": 15,
       "top": 9007199254740991.0,
       "touch_zoom": true,
       "west": 0.0,
       "window_url": "",
       "world_copy_jump": false,
       "zoom": 6.0,
       "zoom_animation_threshold": 4,
       "zoom_delta": 1.0,
       "zoom_snap": 1.0,
       "zoom_start": 12.0
      }
     },
     "6e0fb9f83a994bb9834e2d45f829ee3e": {
      "model_module": "jupyter-leaflet",
      "model_module_version": "^0.15.0",
      "model_name": "LeafletFullScreenControlModel",
      "state": {
       "_model_module": "jupyter-leaflet",
       "_model_module_version": "^0.15.0",
       "_model_name": "LeafletFullScreenControlModel",
       "_view_count": null,
       "_view_module": "jupyter-leaflet",
       "_view_module_version": "^0.15.0",
       "_view_name": "LeafletFullScreenControlView",
       "options": [
        "position"
       ],
       "position": "topleft"
      }
     },
     "7ad429038aa5411bbfd3577d29c2b4a5": {
      "model_module": "jupyter-leaflet",
      "model_module_version": "^0.15.0",
      "model_name": "LeafletMapStyleModel",
      "state": {
       "_model_module": "jupyter-leaflet",
       "_model_module_version": "^0.15.0",
       "_model_name": "LeafletMapStyleModel",
       "_view_count": null,
       "_view_module": "@jupyter-widgets/base",
       "_view_module_version": "1.2.0",
       "_view_name": "StyleView",
       "cursor": "move"
      }
     },
     "c4f102c402064be7a5c85dd0394b07e7": {
      "model_module": "jupyter-leaflet",
      "model_module_version": "^0.15.0",
      "model_name": "LeafletZoomControlModel",
      "state": {
       "_model_module": "jupyter-leaflet",
       "_model_module_version": "^0.15.0",
       "_model_name": "LeafletZoomControlModel",
       "_view_count": null,
       "_view_module": "jupyter-leaflet",
       "_view_module_version": "^0.15.0",
       "_view_name": "LeafletZoomControlView",
       "options": [
        "position",
        "zoom_in_text",
        "zoom_in_title",
        "zoom_out_text",
        "zoom_out_title"
       ],
       "position": "topleft",
       "zoom_in_text": "+",
       "zoom_in_title": "Zoom in",
       "zoom_out_text": "-",
       "zoom_out_title": "Zoom out"
      }
     },
     "c9f2f56a7fce4fd6a71780b9bb1af90c": {
      "model_module": "jupyter-leaflet",
      "model_module_version": "^0.15.0",
      "model_name": "LeafletLayersControlModel",
      "state": {
       "_model_module": "jupyter-leaflet",
       "_model_module_version": "^0.15.0",
       "_model_name": "LeafletLayersControlModel",
       "_view_count": null,
       "_view_module": "jupyter-leaflet",
       "_view_module_version": "^0.15.0",
       "_view_name": "LeafletLayersControlView",
       "options": [
        "position"
       ],
       "position": "topright"
      }
     },
     "d65ebc84000d44649c74650ec4a0035d": {
      "model_module": "jupyter-leaflet",
      "model_module_version": "^0.15.0",
      "model_name": "LeafletMapStyleModel",
      "state": {
       "_model_module": "jupyter-leaflet",
       "_model_module_version": "^0.15.0",
       "_model_name": "LeafletMapStyleModel",
       "_view_count": null,
       "_view_module": "@jupyter-widgets/base",
       "_view_module_version": "1.2.0",
       "_view_name": "StyleView",
       "cursor": "grab"
      }
     },
     "ec223004103d41d98e4df01265a5500d": {
      "model_module": "jupyter-leaflet",
      "model_module_version": "^0.15.0",
      "model_name": "LeafletScaleControlModel",
      "state": {
       "_model_module": "jupyter-leaflet",
       "_model_module_version": "^0.15.0",
       "_model_name": "LeafletScaleControlModel",
       "_view_count": null,
       "_view_module": "jupyter-leaflet",
       "_view_module_version": "^0.15.0",
       "_view_name": "LeafletScaleControlView",
       "imperial": true,
       "max_width": 100,
       "metric": true,
       "options": [
        "imperial",
        "max_width",
        "metric",
        "position",
        "update_when_idle"
       ],
       "position": "bottomleft",
       "update_when_idle": false
      }
     },
     "fcb6901024a8427486798b6ec91dabb3": {
      "model_module": "jupyter-leaflet",
      "model_module_version": "^0.15.0",
      "model_name": "LeafletPolylineModel",
      "state": {
       "_model_module": "jupyter-leaflet",
       "_model_module_version": "^0.15.0",
       "_model_name": "LeafletPolylineModel",
       "_view_count": null,
       "_view_module": "jupyter-leaflet",
       "_view_module_version": "^0.15.0",
       "_view_name": "LeafletPolylineView",
       "base": false,
       "bottom": false,
       "color": "red",
       "dash_array": null,
       "draggable": false,
       "fill": true,
       "fill_color": null,
       "fill_opacity": 0.2,
       "line_cap": "round",
       "line_join": "round",
       "locations": [
        [
         8.887123107910156,
         -54.11470031738281
        ],
        [
         8.886987686157227,
         -54.11459732055664
        ],
        [
         8.886892318725586,
         -54.114524841308594
        ],
        [
         8.886807441711426,
         -54.114444732666016
        ],
        [
         8.886679649353027,
         -54.114341735839844
        ],
        [
         8.886576652526855,
         -54.114261627197266
        ],
        [
         8.886483192443848,
         -54.11418533325195
        ],
        [
         8.886396408081055,
         -54.11410903930664
        ],
        [
         8.886274337768555,
         -54.1140022277832
        ],
        [
         8.886176109313965,
         -54.113922119140625
        ],
        [
         8.886077880859375,
         -54.11384201049805
        ],
        [
         8.885985374450684,
         -54.11376953125
        ],
        [
         8.885868072509766,
         -54.11366271972656
        ],
        [
         8.885770797729492,
         -54.11358642578125
        ],
        [
         8.885668754577637,
         -54.113502502441406
        ],
        [
         8.885573387145996,
         -54.113426208496094
        ],
        [
         8.88548469543457,
         -54.11334991455078
        ],
        [
         8.885390281677246,
         -54.11327362060547
        ],
        [
         8.885257720947266,
         -54.11316680908203
        ],
        [
         8.885165214538574,
         -54.11308288574219
        ],
        [
         8.88507080078125,
         -54.113006591796875
        ],
        [
         8.884973526000977,
         -54.11293411254883
        ],
        [
         8.884879112243652,
         -54.112857818603516
        ],
        [
         8.88478946685791,
         -54.11277389526367
        ],
        [
         8.88469123840332,
         -54.112693786621094
        ],
        [
         8.884563446044922,
         -54.11259460449219
        ],
        [
         8.884471893310547,
         -54.11251449584961
        ],
        [
         8.884378433227539,
         -54.11243438720703
        ],
        [
         8.884279251098633,
         -54.11235427856445
        ],
        [
         8.884181022644043,
         -54.112281799316406
        ],
        [
         8.884090423583984,
         -54.11220169067383
        ],
        [
         8.883962631225586,
         -54.112098693847656
        ],
        [
         8.883864402770996,
         -54.11201858520508
        ],
        [
         8.883767127990723,
         -54.1119384765625
        ],
        [
         8.883675575256348,
         -54.11185836791992
        ],
        [
         8.88358211517334,
         -54.11178207397461
        ],
        [
         8.883451461791992,
         -54.11167526245117
        ],
        [
         8.883353233337402,
         -54.11159133911133
        ],
        [
         8.883258819580078,
         -54.11151123046875
        ],
        [
         8.883171081542969,
         -54.11143112182617
        ],
        [
         8.883073806762695,
         -54.111358642578125
        ],
        [
         8.882978439331055,
         -54.11127853393555
        ],
        [
         8.882877349853516,
         -54.111202239990234
        ],
        [
         8.882753372192383,
         -54.11109161376953
        ],
        [
         8.882661819458008,
         -54.111019134521484
        ],
        [
         8.882564544677734,
         -54.11094284057617
        ],
        [
         8.882466316223145,
         -54.11086654663086
        ],
        [
         8.882370948791504,
         -54.110782623291016
        ],
        [
         8.88227653503418,
         -54.11070251464844
        ],
        [
         8.882148742675781,
         -54.11060333251953
        ],
        [
         8.88205623626709,
         -54.11052322387695
        ],
        [
         8.881958961486816,
         -54.11044692993164
        ],
        [
         8.88185977935791,
         -54.11036682128906
        ],
        [
         8.88176441192627,
         -54.11028289794922
        ],
        [
         8.881635665893555,
         -54.11018371582031
        ],
        [
         8.881540298461914,
         -54.110111236572266
        ],
        [
         8.88144302368164,
         -54.110023498535156
        ],
        [
         8.881340980529785,
         -54.10994338989258
        ],
        [
         8.881242752075195,
         -54.10986328125
        ],
        [
         8.881146430969238,
         -54.10979461669922
        ],
        [
         8.881017684936523,
         -54.10969161987305
        ],
        [
         8.880916595458984,
         -54.1096076965332
        ],
        [
         8.880818367004395,
         -54.109527587890625
        ],
        [
         8.880718231201172,
         -54.10945510864258
        ],
        [
         8.880623817443848,
         -54.109378814697266
        ],
        [
         8.880526542663574,
         -54.10929489135742
        ],
        [
         8.880428314208984,
         -54.109214782714844
        ],
        [
         8.880326271057129,
         -54.109134674072266
        ],
        [
         8.880229949951172,
         -54.10905838012695
        ],
        [
         8.880135536193848,
         -54.10898208618164
        ],
        [
         8.880038261413574,
         -54.1088981628418
        ],
        [
         8.879940032958984,
         -54.10881423950195
        ],
        [
         8.879809379577637,
         -54.10871124267578
        ],
        [
         8.879716873168945,
         -54.1086311340332
        ],
        [
         8.879622459411621,
         -54.108551025390625
        ],
        [
         8.879523277282715,
         -54.10846710205078
        ],
        [
         8.879423141479492,
         -54.108394622802734
        ],
        [
         8.879331588745117,
         -54.10831832885742
        ],
        [
         8.879233360290527,
         -54.10824203491211
        ],
        [
         8.879101753234863,
         -54.10813522338867
        ],
        [
         8.879002571105957,
         -54.10805892944336
        ],
        [
         8.878908157348633,
         -54.10798263549805
        ],
        [
         8.878812789916992,
         -54.10790252685547
        ],
        [
         8.878716468811035,
         -54.10782241821289
        ],
        [
         8.878618240356445,
         -54.10774230957031
        ],
        [
         8.878490447998047,
         -54.107635498046875
        ],
        [
         8.878395080566406,
         -54.1075553894043
        ],
        [
         8.878297805786133,
         -54.10747146606445
        ],
        [
         8.878196716308594,
         -54.10739517211914
        ],
        [
         8.87810230255127,
         -54.10731506347656
        ],
        [
         8.877973556518555,
         -54.10720443725586
        ],
        [
         8.877870559692383,
         -54.10712814331055
        ],
        [
         8.877772331237793,
         -54.107051849365234
        ],
        [
         8.877677917480469,
         -54.106971740722656
        ],
        [
         8.877579689025879,
         -54.10689163208008
        ],
        [
         8.877479553222656,
         -54.1068115234375
        ],
        [
         8.87734603881836,
         -54.10670471191406
        ],
        [
         8.877248764038086,
         -54.106624603271484
        ],
        [
         8.877150535583496,
         -54.106544494628906
        ],
        [
         8.877053260803223,
         -54.10646438598633
        ],
        [
         8.876955032348633,
         -54.106380462646484
        ],
        [
         8.876824378967285,
         -54.10627746582031
        ],
        [
         8.876723289489746,
         -54.106197357177734
        ],
        [
         8.876620292663574,
         -54.10612106323242
        ],
        [
         8.876530647277832,
         -54.106040954589844
        ],
        [
         8.876436233520508,
         -54.105960845947266
        ],
        [
         8.87633228302002,
         -54.10588073730469
        ],
        [
         8.876230239868164,
         -54.10580062866211
        ],
        [
         8.876108169555664,
         -54.105690002441406
        ],
        [
         8.876014709472656,
         -54.10560989379883
        ],
        [
         8.875917434692383,
         -54.105533599853516
        ],
        [
         8.875812530517578,
         -54.10544967651367
        ],
        [
         8.875713348388672,
         -54.10536575317383
        ],
        [
         8.875590324401855,
         -54.105262756347656
        ],
        [
         8.875494003295898,
         -54.10518264770508
        ],
        [
         8.87539291381836,
         -54.105106353759766
        ],
        [
         8.87529468536377,
         -54.105018615722656
        ],
        [
         8.875192642211914,
         -54.104942321777344
        ],
        [
         8.87509822845459,
         -54.104862213134766
        ],
        [
         8.874971389770508,
         -54.104759216308594
        ],
        [
         8.874871253967285,
         -54.104679107666016
        ],
        [
         8.874770164489746,
         -54.10459899902344
        ],
        [
         8.874671936035156,
         -54.10451889038086
        ],
        [
         8.874542236328125,
         -54.10441589355469
        ],
        [
         8.874445915222168,
         -54.10433578491211
        ],
        [
         8.874346733093262,
         -54.104251861572266
        ],
        [
         8.874247550964355,
         -54.10416793823242
        ],
        [
         8.874151229858398,
         -54.10409164428711
        ],
        [
         8.87405014038086,
         -54.1040153503418
        ],
        [
         8.873952865600586,
         -54.10393524169922
        ],
        [
         8.873826026916504,
         -54.103824615478516
        ],
        [
         8.873723030090332,
         -54.10374450683594
        ],
        [
         8.873623847961426,
         -54.103668212890625
        ],
        [
         8.873527526855469,
         -54.10358810424805
        ],
        [
         8.873432159423828,
         -54.10350036621094
        ],
        [
         8.873330116271973,
         -54.10342025756836
        ],
        [
         8.873200416564941,
         -54.10331344604492
        ],
        [
         8.873106002807617,
         -54.10322952270508
        ],
        [
         8.873007774353027,
         -54.1031494140625
        ],
        [
         8.872905731201172,
         -54.103065490722656
        ],
        [
         8.872809410095215,
         -54.10298156738281
        ],
        [
         8.872711181640625,
         -54.102901458740234
        ],
        [
         8.872586250305176,
         -54.10279083251953
        ],
        [
         8.872486114501953,
         -54.10270690917969
        ],
        [
         8.872385025024414,
         -54.10262680053711
        ],
        [
         8.872288703918457,
         -54.10254669189453
        ],
        [
         8.87219524383545,
         -54.10246658325195
        ],
        [
         8.872099876403809,
         -54.102386474609375
        ],
        [
         8.871969223022461,
         -54.10227966308594
        ],
        [
         8.871870040893555,
         -54.102195739746094
        ],
        [
         8.87177562713623,
         -54.102115631103516
        ],
        [
         8.871684074401855,
         -54.10203552246094
        ],
        [
         8.871585845947266,
         -54.10195541381836
        ],
        [
         8.871485710144043,
         -54.101871490478516
        ],
        [
         8.871357917785645,
         -54.10176467895508
        ],
        [
         8.871267318725586,
         -54.1016845703125
        ],
        [
         8.871170043945312,
         -54.10160446166992
        ],
        [
         8.871068000793457,
         -54.10152053833008
        ],
        [
         8.87096881866455,
         -54.101436614990234
        ],
        [
         8.870875358581543,
         -54.101356506347656
        ],
        [
         8.87075138092041,
         -54.10124969482422
        ],
        [
         8.87065315246582,
         -54.101165771484375
        ],
        [
         8.870551109313965,
         -54.1010856628418
        ],
        [
         8.870452880859375,
         -54.10099792480469
        ],
        [
         8.870359420776367,
         -54.10091781616211
        ],
        [
         8.870233535766602,
         -54.10081100463867
        ],
        [
         8.870133399963379,
         -54.100730895996094
        ],
        [
         8.870033264160156,
         -54.100643157958984
        ],
        [
         8.86993408203125,
         -54.100563049316406
        ],
        [
         8.869839668273926,
         -54.10047912597656
        ],
        [
         8.869709014892578,
         -54.10037612915039
        ],
        [
         8.869608879089355,
         -54.10029220581055
        ],
        [
         8.869510650634766,
         -54.1002082824707
        ],
        [
         8.869412422180176,
         -54.10012435913086
        ],
        [
         8.869311332702637,
         -54.10004806518555
        ],
        [
         8.869211196899414,
         -54.0999755859375
        ],
        [
         8.869086265563965,
         -54.09986114501953
        ],
        [
         8.868982315063477,
         -54.09978103637695
        ],
        [
         8.868876457214355,
         -54.09970474243164
        ],
        [
         8.868782043457031,
         -54.09962844848633
        ],
        [
         8.86868667602539,
         -54.09954833984375
        ],
        [
         8.868589401245117,
         -54.09947204589844
        ],
        [
         8.868453979492188,
         -54.099365234375
        ],
        [
         8.868353843688965,
         -54.09928894042969
        ],
        [
         8.868258476257324,
         -54.099212646484375
        ],
        [
         8.868165969848633,
         -54.0991325378418
        ],
        [
         8.868063926696777,
         -54.09906005859375
        ],
        [
         8.867932319641113,
         -54.09895324707031
        ],
        [
         8.867830276489258,
         -54.098876953125
        ],
        [
         8.867734909057617,
         -54.09880065917969
        ],
        [
         8.867637634277344,
         -54.098724365234375
        ],
        [
         8.86754035949707,
         -54.0986442565918
        ],
        [
         8.867443084716797,
         -54.09856033325195
        ],
        [
         8.86730670928955,
         -54.09846115112305
        ],
        [
         8.867209434509277,
         -54.098384857177734
        ],
        [
         8.867117881774902,
         -54.098304748535156
        ],
        [
         8.867023468017578,
         -54.09822082519531
        ],
        [
         8.866921424865723,
         -54.09814453125
        ],
        [
         8.866819381713867,
         -54.09806442260742
        ],
        [
         8.866724967956543,
         -54.097984313964844
        ],
        [
         8.866598129272461,
         -54.09788131713867
        ],
        [
         8.866497993469238,
         -54.09780502319336
        ],
        [
         8.866398811340332,
         -54.09772491455078
        ],
        [
         8.866301536560059,
         -54.0976448059082
        ],
        [
         8.866205215454102,
         -54.09756851196289
        ],
        [
         8.866073608398438,
         -54.09746551513672
        ],
        [
         8.865978240966797,
         -54.097389221191406
        ],
        [
         8.865878105163574,
         -54.09730911254883
        ],
        [
         8.865779876708984,
         -54.097232818603516
        ],
        [
         8.865680694580078,
         -54.09716033935547
        ],
        [
         8.865583419799805,
         -54.097084045410156
        ],
        [
         8.86545467376709,
         -54.09697723388672
        ],
        [
         8.865352630615234,
         -54.096900939941406
        ],
        [
         8.865253448486328,
         -54.096824645996094
        ],
        [
         8.865156173706055,
         -54.09674835205078
        ],
        [
         8.86506175994873,
         -54.096675872802734
        ],
        [
         8.86496639251709,
         -54.096595764160156
        ],
        [
         8.864862442016602,
         -54.09651565551758
        ],
        [
         8.864726066589355,
         -54.09641647338867
        ],
        [
         8.864635467529297,
         -54.09634017944336
        ],
        [
         8.864542007446289,
         -54.09626007080078
        ],
        [
         8.86444091796875,
         -54.09617614746094
        ],
        [
         8.864337921142578,
         -54.096099853515625
        ],
        [
         8.864208221435547,
         -54.09599685668945
        ],
        [
         8.864116668701172,
         -54.09592056274414
        ],
        [
         8.864020347595215,
         -54.0958366394043
        ],
        [
         8.863922119140625,
         -54.09575653076172
        ],
        [
         8.863818168640137,
         -54.09567642211914
        ],
        [
         8.863689422607422,
         -54.0955696105957
        ],
        [
         8.863597869873047,
         -54.09549331665039
        ],
        [
         8.86349868774414,
         -54.09541320800781
        ],
        [
         8.863396644592285,
         -54.09532928466797
        ],
        [
         8.863297462463379,
         -54.09524917602539
        ],
        [
         8.863205909729004,
         -54.09517288208008
        ],
        [
         8.863078117370605,
         -54.095062255859375
        ],
        [
         8.862977981567383,
         -54.09497833251953
        ],
        [
         8.862879753112793,
         -54.09489822387695
        ],
        [
         8.862784385681152,
         -54.094818115234375
        ],
        [
         8.862689018249512,
         -54.09473419189453
        ],
        [
         8.862591743469238,
         -54.09465408325195
        ],
        [
         8.862462997436523,
         -54.094547271728516
        ],
        [
         8.862363815307617,
         -54.09446334838867
        ],
        [
         8.862268447875977,
         -54.09437942504883
        ],
        [
         8.862173080444336,
         -54.09429931640625
        ],
        [
         8.862075805664062,
         -54.094215393066406
        ],
        [
         8.861944198608398,
         -54.0941047668457
        ],
        [
         8.861845970153809,
         -54.09402847290039
        ],
        [
         8.861750602722168,
         -54.09394454956055
        ],
        [
         8.861655235290527,
         -54.09386444091797
        ],
        [
         8.861557006835938,
         -54.093780517578125
        ],
        [
         8.861422538757324,
         -54.09367752075195
        ],
        [
         8.861330032348633,
         -54.09359359741211
        ],
        [
         8.86122989654541,
         -54.0935173034668
        ],
        [
         8.86113166809082,
         -54.09343338012695
        ],
        [
         8.861031532287598,
         -54.093353271484375
        ],
        [
         8.860934257507324,
         -54.0932731628418
        ],
        [
         8.860804557800293,
         -54.09316635131836
        ],
        [
         8.860705375671387,
         -54.09309005737305
        ],
        [
         8.860604286193848,
         -54.0930061340332
        ],
        [
         8.860505104064941,
         -54.09292984008789
        ],
        [
         8.860408782958984,
         -54.09284973144531
        ],
        [
         8.860276222229004,
         -54.09274673461914
        ],
        [
         8.860176086425781,
         -54.0926628112793
        ],
        [
         8.860074996948242,
         -54.092586517333984
        ],
        [
         8.859975814819336,
         -54.092506408691406
        ],
        [
         8.859880447387695,
         -54.092430114746094
        ],
        [
         8.859782218933105,
         -54.09235382080078
        ],
        [
         8.859646797180176,
         -54.092247009277344
        ],
        [
         8.85954475402832,
         -54.092166900634766
        ],
        [
         8.859444618225098,
         -54.09209442138672
        ],
        [
         8.859352111816406,
         -54.09201431274414
        ],
        [
         8.859249114990234,
         -54.091941833496094
        ],
        [
         8.859147071838379,
         -54.091861724853516
        ],
        [
         8.858431816101074,
         -54.09128189086914
        ],
        [
         8.8583402633667,
         -54.09120559692383
        ],
        [
         8.858209609985352,
         -54.09109878540039
        ],
        [
         8.858111381530762,
         -54.09101867675781
        ],
        [
         8.858016014099121,
         -54.09093475341797
        ],
        [
         8.857925415039062,
         -54.090858459472656
        ],
        [
         8.857830047607422,
         -54.090782165527344
        ],
        [
         8.857733726501465,
         -54.090702056884766
        ],
        [
         8.85760498046875,
         -54.09059143066406
        ],
        [
         8.857512474060059,
         -54.090511322021484
        ],
        [
         8.85741901397705,
         -54.090431213378906
        ],
        [
         8.85732364654541,
         -54.09034729003906
        ],
        [
         8.85722541809082,
         -54.090267181396484
        ],
        [
         8.85712718963623,
         -54.090187072753906
        ],
        [
         8.85700511932373,
         -54.0900764465332
        ],
        [
         8.85690975189209,
         -54.08999252319336
        ],
        [
         8.856810569763184,
         -54.08991622924805
        ],
        [
         8.85671615600586,
         -54.0898323059082
        ],
        [
         8.856623649597168,
         -54.089752197265625
        ],
        [
         8.856528282165527,
         -54.089664459228516
        ],
        [
         8.856395721435547,
         -54.08956527709961
        ],
        [
         8.856302261352539,
         -54.0894889831543
        ],
        [
         8.85621166229248,
         -54.08940887451172
        ],
        [
         8.856111526489258,
         -54.089332580566406
        ],
        [
         8.856012344360352,
         -54.08925247192383
        ],
        [
         8.855886459350586,
         -54.089149475097656
        ],
        [
         8.855792045593262,
         -54.089073181152344
        ],
        [
         8.855696678161621,
         -54.0889892578125
        ],
        [
         8.85559368133545,
         -54.08891296386719
        ],
        [
         8.855491638183594,
         -54.088836669921875
        ],
        [
         8.855398178100586,
         -54.08876037597656
        ],
        [
         8.855277061462402,
         -54.08864974975586
        ],
        [
         8.855173110961914,
         -54.08857345581055
        ],
        [
         8.85506534576416,
         -54.088497161865234
        ],
        [
         8.854970932006836,
         -54.08842086791992
        ],
        [
         8.854880332946777,
         -54.088340759277344
        ],
        [
         8.854745864868164,
         -54.0882453918457
        ],
        [
         8.85464096069336,
         -54.088172912597656
        ],
        [
         8.854541778564453,
         -54.088096618652344
        ],
        [
         8.854447364807129,
         -54.0880241394043
        ],
        [
         8.854313850402832,
         -54.087928771972656
        ],
        [
         8.854214668273926,
         -54.08785629272461
        ],
        [
         8.854080200195312,
         -54.0877571105957
        ],
        [
         8.85398006439209,
         -54.087684631347656
        ],
        [
         8.853883743286133,
         -54.08761215209961
        ],
        [
         8.85378360748291,
         -54.08753967285156
        ],
        [
         8.853687286376953,
         -54.087459564208984
        ],
        [
         8.853592872619629,
         -54.08738708496094
        ],
        [
         8.853460311889648,
         -54.087284088134766
        ],
        [
         8.853362083435059,
         -54.08720016479492
        ],
        [
         8.853265762329102,
         -54.087127685546875
        ],
        [
         8.853174209594727,
         -54.0870475769043
        ],
        [
         8.853080749511719,
         -54.086971282958984
        ],
        [
         8.852981567382812,
         -54.086891174316406
        ],
        [
         8.852850914001465,
         -54.0867805480957
        ],
        [
         8.852760314941406,
         -54.08670425415039
        ],
        [
         8.852670669555664,
         -54.086631774902344
        ],
        [
         8.852575302124023,
         -54.086544036865234
        ],
        [
         8.852477073669434,
         -54.08646011352539
        ],
        [
         8.852352142333984,
         -54.08635330200195
        ],
        [
         8.852261543273926,
         -54.08627700805664
        ],
        [
         8.8521728515625,
         -54.0861930847168
        ],
        [
         8.852076530456543,
         -54.08610916137695
        ],
        [
         8.85197925567627,
         -54.08602523803711
        ],
        [
         8.851884841918945,
         -54.085941314697266
        ],
        [
         8.851798057556152,
         -54.08586120605469
        ],
        [
         8.851673126220703,
         -54.085750579833984
        ],
        [
         8.85157299041748,
         -54.085670471191406
        ],
        [
         8.85147476196289,
         -54.08558654785156
        ],
        [
         8.851383209228516,
         -54.085506439208984
        ],
        [
         8.851289749145508,
         -54.085426330566406
        ],
        [
         8.851162910461426,
         -54.08531951904297
        ],
        [
         8.851058959960938,
         -54.08523941040039
        ],
        [
         8.850960731506348,
         -54.08515930175781
        ],
        [
         8.850870132446289,
         -54.085079193115234
        ],
        [
         8.850772857666016,
         -54.08500289916992
        ],
        [
         8.850635528564453,
         -54.08489990234375
        ],
        [
         8.85053539276123,
         -54.08481979370117
        ],
        [
         8.85043716430664,
         -54.08474349975586
        ],
        [
         8.850337982177734,
         -54.08466339111328
        ],
        [
         8.850236892700195,
         -54.084590911865234
        ],
        [
         8.850136756896973,
         -54.084510803222656
        ],
        [
         8.84999942779541,
         -54.084407806396484
        ],
        [
         8.849898338317871,
         -54.084327697753906
        ],
        [
         8.849797248840332,
         -54.084259033203125
        ],
        [
         8.849699974060059,
         -54.08417892456055
        ],
        [
         8.84959602355957,
         -54.0841064453125
        ],
        [
         8.84949016571045,
         -54.08403015136719
        ],
        [
         8.849390029907227,
         -54.083953857421875
        ],
        [
         8.849262237548828,
         -54.08385467529297
        ],
        [
         8.849161148071289,
         -54.08378219604492
        ],
        [
         8.849059104919434,
         -54.08370590209961
        ],
        [
         8.848955154418945,
         -54.08362579345703
        ],
        [
         8.848857879638672,
         -54.08354949951172
        ],
        [
         8.848734855651855,
         -54.08345031738281
        ],
        [
         8.8486328125,
         -54.083370208740234
        ],
        [
         8.848528861999512,
         -54.083290100097656
        ],
        [
         8.848431587219238,
         -54.08320999145508
        ],
        [
         8.84834098815918,
         -54.083133697509766
        ],
        [
         8.848247528076172,
         -54.08305740356445
        ],
        [
         8.848151206970215,
         -54.08298110961914
        ],
        [
         8.848017692565918,
         -54.08286666870117
        ],
        [
         8.847921371459961,
         -54.082786560058594
        ],
        [
         8.847860336303711,
         -54.082733154296875
        ],
        [
         8.847770690917969,
         -54.08266067504883
        ],
        [
         8.84768295288086,
         -54.08257293701172
        ],
        [
         8.847583770751953,
         -54.082489013671875
        ],
        [
         8.847450256347656,
         -54.082374572753906
        ],
        [
         8.847360610961914,
         -54.08229446411133
        ],
        [
         8.847278594970703,
         -54.08221435546875
        ],
        [
         8.847187042236328,
         -54.082130432128906
        ],
        [
         8.847084045410156,
         -54.08204650878906
        ],
        [
         8.846983909606934,
         -54.08195877075195
        ],
        [
         8.846866607666016,
         -54.081851959228516
        ],
        [
         8.846781730651855,
         -54.08176803588867
        ],
        [
         8.84668254852295,
         -54.08168411254883
        ],
        [
         8.846576690673828,
         -54.08160400390625
        ],
        [
         8.846481323242188,
         -54.08152389526367
        ],
        [
         8.846363067626953,
         -54.081417083740234
        ],
        [
         8.846268653869629,
         -54.081336975097656
        ],
        [
         8.84616470336914,
         -54.081260681152344
        ],
        [
         8.846062660217285,
         -54.081180572509766
        ],
        [
         8.845970153808594,
         -54.08109664916992
        ],
        [
         8.845877647399902,
         -54.08102035522461
        ],
        [
         8.845776557922363,
         -54.08095169067383
        ],
        [
         8.84564208984375,
         -54.08084487915039
        ],
        [
         8.845541954040527,
         -54.08076858520508
        ],
        [
         8.84544563293457,
         -54.080692291259766
        ],
        [
         8.84534740447998,
         -54.08061981201172
        ],
        [
         8.845244407653809,
         -54.08054733276367
        ],
        [
         8.84514331817627,
         -54.080467224121094
        ],
        [
         8.845009803771973,
         -54.08036804199219
        ],
        [
         8.8449125289917,
         -54.080291748046875
        ],
        [
         8.844809532165527,
         -54.08021926879883
        ],
        [
         8.844709396362305,
         -54.080142974853516
        ],
        [
         8.844608306884766,
         -54.0800666809082
        ],
        [
         8.844511985778809,
         -54.079986572265625
        ],
        [
         8.844376564025879,
         -54.07989501953125
        ],
        [
         8.844278335571289,
         -54.07981872558594
        ],
        [
         8.844179153442383,
         -54.07973861694336
        ],
        [
         8.844078063964844,
         -54.07966232299805
        ],
        [
         8.843984603881836,
         -54.07958221435547
        ],
        [
         8.843889236450195,
         -54.07950973510742
        ],
        [
         8.843754768371582,
         -54.07940673828125
        ],
        [
         8.843659400939941,
         -54.07932662963867
        ],
        [
         8.84356689453125,
         -54.079246520996094
        ],
        [
         8.843467712402344,
         -54.07917022705078
        ],
        [
         8.84337043762207,
         -54.07909393310547
        ],
        [
         8.84327507019043,
         -54.07901382446289
        ],
        [
         8.843149185180664,
         -54.07890701293945
        ],
        [
         8.84305191040039,
         -54.078826904296875
        ],
        [
         8.842954635620117,
         -54.0787467956543
        ],
        [
         8.84286117553711,
         -54.07866668701172
        ],
        [
         8.842763900756836,
         -54.078590393066406
        ],
        [
         8.842670440673828,
         -54.0785026550293
        ],
        [
         8.842544555664062,
         -54.07839584350586
        ],
        [
         8.842448234558105,
         -54.07831954956055
        ],
        [
         8.842350959777832,
         -54.0782356262207
        ],
        [
         8.842256546020508,
         -54.07815170288086
        ],
        [
         8.8421630859375,
         -54.07807159423828
        ],
        [
         8.842068672180176,
         -54.0779914855957
        ],
        [
         8.841971397399902,
         -54.077911376953125
        ],
        [
         8.841846466064453,
         -54.077796936035156
        ],
        [
         8.841751098632812,
         -54.07771682739258
        ],
        [
         8.841650009155273,
         -54.07763671875
        ],
        [
         8.84155559539795,
         -54.077552795410156
        ],
        [
         8.84146785736084,
         -54.07746887207031
        ],
        [
         8.84136962890625,
         -54.077388763427734
        ],
        [
         8.841231346130371,
         -54.07728576660156
        ],
        [
         8.841136932373047,
         -54.07720947265625
        ],
        [
         8.84105110168457,
         -54.07712173461914
        ],
        [
         8.84095287322998,
         -54.07704544067383
        ],
        [
         8.840848922729492,
         -54.07697296142578
        ],
        [
         8.84072208404541,
         -54.076866149902344
        ],
        [
         8.840632438659668,
         -54.07678985595703
        ],
        [
         8.840535163879395,
         -54.07671356201172
        ],
        [
         8.840434074401855,
         -54.076637268066406
        ],
        [
         8.840340614318848,
         -54.076560974121094
        ],
        [
         8.840245246887207,
         -54.07648468017578
        ],
        [
         8.840115547180176,
         -54.07638168334961
        ],
        [
         8.840019226074219,
         -54.07630157470703
        ],
        [
         8.839920043945312,
         -54.07622528076172
        ],
        [
         8.839821815490723,
         -54.07615280151367
        ],
        [
         8.839730262756348,
         -54.07607650756836
        ],
        [
         8.83963394165039,
         -54.07599639892578
        ],
        [
         8.839530944824219,
         -54.0759162902832
        ],
        [
         8.839401245117188,
         -54.0758171081543
        ],
        [
         8.839306831359863,
         -54.07573699951172
        ],
        [
         8.83920955657959,
         -54.07566452026367
        ],
        [
         8.839111328125,
         -54.07558822631836
        ],
        [
         8.839014053344727,
         -54.07550811767578
        ],
        [
         8.838884353637695,
         -54.07540512084961
        ],
        [
         8.83878231048584,
         -54.07533264160156
        ],
        [
         8.838688850402832,
         -54.07525634765625
        ],
        [
         8.838598251342773,
         -54.07518005371094
        ],
        [
         8.83849811553955,
         -54.07509994506836
        ],
        [
         8.838394165039062,
         -54.07502746582031
        ],
        [
         8.83827018737793,
         -54.074920654296875
        ],
        [
         8.838178634643555,
         -54.07484436035156
        ],
        [
         8.838081359863281,
         -54.07476806640625
        ],
        [
         8.83797836303711,
         -54.07469177246094
        ],
        [
         8.83788013458252,
         -54.07461166381836
        ],
        [
         8.837759017944336,
         -54.07450866699219
        ],
        [
         8.837662696838379,
         -54.07442855834961
        ],
        [
         8.837562561035156,
         -54.0743522644043
        ],
        [
         8.837468147277832,
         -54.07427215576172
        ],
        [
         8.83737564086914,
         -54.074188232421875
        ],
        [
         8.837246894836426,
         -54.0740852355957
        ],
        [
         8.837149620056152,
         -54.07400131225586
        ],
        [
         8.837054252624512,
         -54.07392501831055
        ],
        [
         8.836960792541504,
         -54.0738410949707
        ],
        [
         8.836869239807129,
         -54.073760986328125
        ],
        [
         8.836771011352539,
         -54.07368087768555
        ],
        [
         8.836639404296875,
         -54.073577880859375
        ],
        [
         8.836549758911133,
         -54.073490142822266
        ],
        [
         8.836456298828125,
         -54.07341384887695
        ],
        [
         8.836356163024902,
         -54.073333740234375
        ],
        [
         8.836259841918945,
         -54.07325744628906
        ],
        [
         8.836134910583496,
         -54.073150634765625
        ],
        [
         8.836039543151855,
         -54.07307434082031
        ],
        [
         8.835943222045898,
         -54.072994232177734
        ],
        [
         8.835844993591309,
         -54.07291793823242
        ],
        [
         8.835748672485352,
         -54.07284164428711
        ],
        [
         8.835655212402344,
         -54.0727653503418
        ],
        [
         8.835522651672363,
         -54.072662353515625
        ],
        [
         8.835424423217773,
         -54.07258605957031
        ],
        [
         8.835329055786133,
         -54.072509765625
        ],
        [
         8.835232734680176,
         -54.07243728637695
        ],
        [
         8.835135459899902,
         -54.072357177734375
        ],
        [
         8.835001945495605,
         -54.072261810302734
        ],
        [
         8.834904670715332,
         -54.07218551635742
        ],
        [
         8.834809303283691,
         -54.07210922241211
        ],
        [
         8.834711074829102,
         -54.0720329284668
        ],
        [
         8.834611892700195,
         -54.071956634521484
        ],
        [
         8.834514617919922,
         -54.07188034057617
        ],
        [
         8.834385871887207,
         -54.07177734375
        ],
        [
         8.834285736083984,
         -54.07170486450195
        ],
        [
         8.834189414978027,
         -54.07162857055664
        ],
        [
         8.834092140197754,
         -54.07155227661133
        ],
        [
         8.833995819091797,
         -54.07147979736328
        ],
        [
         8.833898544311523,
         -54.0713996887207
        ],
        [
         8.833765029907227,
         -54.0713005065918
        ],
        [
         8.833672523498535,
         -54.07122802734375
        ],
        [
         8.833579063415527,
         -54.07115173339844
        ],
        [
         8.833478927612305,
         -54.071075439453125
        ],
        [
         8.833379745483398,
         -54.07100296020508
        ],
        [
         8.83328914642334,
         -54.070926666259766
        ],
        [
         8.833165168762207,
         -54.07081985473633
        ],
        [
         8.8330659866333,
         -54.07073974609375
        ],
        [
         8.832966804504395,
         -54.07065963745117
        ],
        [
         8.832878112792969,
         -54.07058334350586
        ],
        [
         8.832791328430176,
         -54.070499420166016
        ],
        [
         8.83269214630127,
         -54.07041931152344
        ],
        [
         8.832558631896973,
         -54.0703125
        ],
        [
         8.832469940185547,
         -54.070228576660156
        ],
        [
         8.832377433776855,
         -54.070152282714844
        ],
        [
         8.832283973693848,
         -54.070072174072266
        ],
        [
         8.832188606262207,
         -54.06999206542969
        ],
        [
         8.832058906555176,
         -54.069881439208984
        ],
        [
         8.831962585449219,
         -54.069801330566406
        ],
        [
         8.83187198638916,
         -54.06972122192383
        ],
        [
         8.831783294677734,
         -54.06964111328125
        ],
        [
         8.83168888092041,
         -54.069557189941406
        ],
        [
         8.831586837768555,
         -54.06947708129883
        ],
        [
         8.831461906433105,
         -54.069366455078125
        ],
        [
         8.831375122070312,
         -54.06928634643555
        ],
        [
         8.83128547668457,
         -54.06920623779297
        ],
        [
         8.831186294555664,
         -54.069129943847656
        ],
        [
         8.83108901977539,
         -54.06904220581055
        ],
        [
         8.830998420715332,
         -54.0689582824707
        ],
        [
         8.830877304077148,
         -54.068851470947266
        ],
        [
         8.830781936645508,
         -54.06877899169922
        ],
        [
         8.83068561553955,
         -54.068695068359375
        ],
        [
         8.830592155456543,
         -54.068607330322266
        ],
        [
         8.83049488067627,
         -54.06852722167969
        ],
        [
         8.830401420593262,
         -54.06845474243164
        ],
        [
         8.830280303955078,
         -54.06834411621094
        ],
        [
         8.830183982849121,
         -54.06826400756836
        ],
        [
         8.830083847045898,
         -54.06818389892578
        ],
        [
         8.829986572265625,
         -54.068111419677734
        ],
        [
         8.829898834228516,
         -54.06802749633789
        ],
        [
         8.829803466796875,
         -54.06795120239258
        ],
        [
         8.829668998718262,
         -54.067848205566406
        ],
        [
         8.829573631286621,
         -54.06777572631836
        ],
        [
         8.82948112487793,
         -54.06769561767578
        ],
        [
         8.829381942749023,
         -54.06761932373047
        ],
        [
         8.8292818069458,
         -54.06754684448242
        ],
        [
         8.829188346862793,
         -54.067466735839844
        ],
        [
         8.829057693481445,
         -54.0673713684082
        ],
        [
         8.828959465026855,
         -54.067291259765625
        ],
        [
         8.828859329223633,
         -54.067222595214844
        ],
        [
         8.828767776489258,
         -54.067142486572266
        ],
        [
         8.82867431640625,
         -54.06707000732422
        ],
        [
         8.828573226928711,
         -54.066993713378906
        ],
        [
         8.828473091125488,
         -54.066917419433594
        ],
        [
         8.828350067138672,
         -54.06681442260742
        ],
        [
         8.828254699707031,
         -54.06673812866211
        ],
        [
         8.828154563903809,
         -54.0666618347168
        ],
        [
         8.828056335449219,
         -54.06658172607422
        ],
        [
         8.827959060668945,
         -54.06650161743164
        ],
        [
         8.827862739562988,
         -54.06642532348633
        ],
        [
         8.82773494720459,
         -54.06632614135742
        ],
        [
         8.827638626098633,
         -54.06624984741211
        ],
        [
         8.827540397644043,
         -54.066162109375
        ],
        [
         8.827441215515137,
         -54.06608581542969
        ],
        [
         8.827342987060547,
         -54.066017150878906
        ],
        [
         8.827251434326172,
         -54.065940856933594
        ],
        [
         8.827123641967773,
         -54.06583023071289
        ],
        [
         8.827024459838867,
         -54.06575012207031
        ],
        [
         8.826924324035645,
         -54.065677642822266
        ],
        [
         8.82682991027832,
         -54.06560134887695
        ],
        [
         8.826740264892578,
         -54.06551742553711
        ],
        [
         8.826026916503906,
         -54.0649528503418
        ],
        [
         8.825929641723633,
         -54.064876556396484
        ],
        [
         8.825804710388184,
         -54.06477355957031
        ],
        [
         8.825705528259277,
         -54.064697265625
        ],
        [
         8.825608253479004,
         -54.06462097167969
        ],
        [
         8.82551383972168,
         -54.06454086303711
        ],
        [
         8.825414657592773,
         -54.06446838378906
        ],
        [
         8.825319290161133,
         -54.064388275146484
        ],
        [
         8.825193405151367,
         -54.06428146362305
        ],
        [
         8.82509708404541,
         -54.064205169677734
        ],
        [
         8.825000762939453,
         -54.06412887573242
        ],
        [
         8.824905395507812,
         -54.064048767089844
        ],
        [
         8.824813842773438,
         -54.06396484375
        ],
        [
         8.824716567993164,
         -54.06388854980469
        ],
        [
         8.824589729309082,
         -54.06378173828125
        ],
        [
         8.824495315551758,
         -54.063697814941406
        ],
        [
         8.82440185546875,
         -54.063621520996094
        ],
        [
         8.824307441711426,
         -54.063541412353516
        ],
        [
         8.824211120605469,
         -54.0634651184082
        ],
        [
         8.824117660522461,
         -54.06338119506836
        ],
        [
         8.823992729187012,
         -54.06327819824219
        ],
        [
         8.823897361755371,
         -54.06320571899414
        ],
        [
         8.823807716369629,
         -54.063133239746094
        ],
        [
         8.823718070983887,
         -54.06304931640625
        ],
        [
         8.823620796203613,
         -54.06298065185547
        ],
        [
         8.823529243469238,
         -54.062904357910156
        ],
        [
         8.82341194152832,
         -54.062801361083984
        ],
        [
         8.823321342468262,
         -54.06272506713867
        ],
        [
         8.823225975036621,
         -54.06264877319336
        ],
        [
         8.823137283325195,
         -54.06256866455078
        ],
        [
         8.823046684265137,
         -54.06249237060547
        ],
        [
         8.82292366027832,
         -54.0623893737793
        ],
        [
         8.822830200195312,
         -54.062313079833984
        ],
        [
         8.822737693786621,
         -54.062232971191406
        ],
        [
         8.822649002075195,
         -54.062156677246094
        ],
        [
         8.82255744934082,
         -54.062076568603516
        ],
        [
         8.822461128234863,
         -54.0620002746582
        ],
        [
         8.822306632995605,
         -54.06187438964844
        ],
        [
         8.82221794128418,
         -54.06179428100586
        ],
        [
         8.822122573852539,
         -54.06171798706055
        ],
        [
         8.822029113769531,
         -54.0616455078125
        ],
        [
         8.82193374633789,
         -54.06157302856445
        ],
        [
         8.821843147277832,
         -54.06149673461914
        ],
        [
         8.821720123291016,
         -54.061397552490234
        ],
        [
         8.821622848510742,
         -54.06132125854492
        ],
        [
         8.821524620056152,
         -54.061248779296875
        ],
        [
         8.821432113647461,
         -54.06117248535156
        ],
        [
         8.821308135986328,
         -54.06106948852539
        ],
        [
         8.821208953857422,
         -54.060997009277344
        ],
        [
         8.821106910705566,
         -54.0609245300293
        ],
        [
         8.821011543273926,
         -54.060848236083984
        ],
        [
         8.82091999053955,
         -54.06077194213867
        ],
        [
         8.820820808410645,
         -54.06070327758789
        ],
        [
         8.820682525634766,
         -54.060604095458984
        ],
        [
         8.820586204528809,
         -54.060523986816406
        ],
        [
         8.820491790771484,
         -54.06045150756836
        ],
        [
         8.820396423339844,
         -54.06037521362305
        ],
        [
         8.820297241210938,
         -54.060302734375
        ],
        [
         8.820160865783691,
         -54.06019592285156
        ],
        [
         8.820062637329102,
         -54.060115814208984
        ],
        [
         8.819972038269043,
         -54.06004333496094
        ],
        [
         8.819876670837402,
         -54.059967041015625
        ],
        [
         8.819774627685547,
         -54.05989074707031
        ],
        [
         8.819672584533691,
         -54.05980682373047
        ],
        [
         8.819551467895508,
         -54.059696197509766
        ],
        [
         8.819456100463867,
         -54.059627532958984
        ],
        [
         8.819360733032227,
         -54.059547424316406
        ],
        [
         8.819260597229004,
         -54.05946350097656
        ],
        [
         8.81916332244873,
         -54.05937957763672
        ],
        [
         8.819066047668457,
         -54.059303283691406
        ],
        [
         8.818971633911133,
         -54.05923080444336
        ],
        [
         8.818846702575684,
         -54.059120178222656
        ],
        [
         8.818744659423828,
         -54.05904006958008
        ],
        [
         8.818642616271973,
         -54.058963775634766
        ],
        [
         8.818548202514648,
         -54.05888366699219
        ],
        [
         8.818460464477539,
         -54.058799743652344
        ],
        [
         8.818361282348633,
         -54.05872344970703
        ],
        [
         8.818224906921387,
         -54.05861282348633
        ],
        [
         8.81812858581543,
         -54.058528900146484
        ],
        [
         8.818037986755371,
         -54.058441162109375
        ],
        [
         8.817938804626465,
         -54.05836868286133
        ],
        [
         8.817845344543457,
         -54.058284759521484
        ],
        [
         8.817747116088867,
         -54.05820083618164
        ],
        [
         8.817612648010254,
         -54.05809020996094
        ],
        [
         8.817517280578613,
         -54.05801010131836
        ],
        [
         8.817421913146973,
         -54.05792999267578
        ],
        [
         8.8173246383667,
         -54.0578498840332
        ],
        [
         8.817225456237793,
         -54.057762145996094
        ],
        [
         8.817123413085938,
         -54.05768966674805
        ],
        [
         8.81699275970459,
         -54.05758285522461
        ],
        [
         8.816899299621582,
         -54.05750274658203
        ],
        [
         8.816800117492676,
         -54.05742263793945
        ],
        [
         8.816699028015137,
         -54.057342529296875
        ],
        [
         8.816601753234863,
         -54.05726623535156
        ],
        [
         8.816500663757324,
         -54.05718231201172
        ],
        [
         8.816373825073242,
         -54.05707931518555
        ],
        [
         8.816274642944336,
         -54.057003021240234
        ],
        [
         8.816176414489746,
         -54.056922912597656
        ],
        [
         8.816078186035156,
         -54.05683898925781
        ],
        [
         8.815974235534668,
         -54.0567626953125
        ],
        [
         8.815909385681152,
         -54.05671310424805
        ],
        [
         8.815780639648438,
         -54.05660629272461
        ],
        [
         8.815681457519531,
         -54.05652618408203
        ],
        [
         8.815580368041992,
         -54.05644989013672
        ],
        [
         8.815479278564453,
         -54.05636978149414
        ],
        [
         8.815380096435547,
         -54.05628967285156
        ],
        [
         8.81528091430664,
         -54.05621337890625
        ],
        [
         8.81515121459961,
         -54.05610656738281
        ],
        [
         8.815049171447754,
         -54.056026458740234
        ],
        [
         8.814947128295898,
         -54.055946350097656
        ],
        [
         8.814847946166992,
         -54.055870056152344
        ],
        [
         8.814751625061035,
         -54.055789947509766
        ],
        [
         8.814621925354004,
         -54.05568313598633
        ],
        [
         8.814522743225098,
         -54.05560302734375
        ],
        [
         8.814421653747559,
         -54.055519104003906
        ],
        [
         8.814322471618652,
         -54.05543518066406
        ],
        [
         8.814227104187012,
         -54.05535888671875
        ],
        [
         8.814131736755371,
         -54.05527877807617
        ],
        [
         8.813998222351074,
         -54.0551643371582
        ],
        [
         8.813896179199219,
         -54.05508041381836
        ],
        [
         8.813800811767578,
         -54.05500030517578
        ],
        [
         8.813705444335938,
         -54.0549201965332
        ],
        [
         8.813605308532715,
         -54.054840087890625
        ],
        [
         8.81347370147705,
         -54.054725646972656
        ],
        [
         8.81337833404541,
         -54.05464172363281
        ],
        [
         8.813278198242188,
         -54.0545654296875
        ],
        [
         8.813179016113281,
         -54.054481506347656
        ],
        [
         8.813081741333008,
         -54.05439758300781
        ],
        [
         8.812987327575684,
         -54.05431365966797
        ],
        [
         8.812853813171387,
         -54.05420684814453
        ],
        [
         8.812753677368164,
         -54.05412673950195
        ],
        [
         8.81265640258789,
         -54.054039001464844
        ],
        [
         8.8125581741333,
         -54.053958892822266
        ],
        [
         8.812460899353027,
         -54.05387878417969
        ],
        [
         8.812362670898438,
         -54.053794860839844
        ],
        [
         8.812230110168457,
         -54.05368423461914
        ],
        [
         8.812131881713867,
         -54.0536003112793
        ],
        [
         8.812034606933594,
         -54.05352020263672
        ],
        [
         8.81194019317627,
         -54.05344009399414
        ],
        [
         8.81184196472168,
         -54.05335998535156
        ],
        [
         8.811712265014648,
         -54.053245544433594
        ],
        [
         8.811613082885742,
         -54.05316925048828
        ],
        [
         8.811517715454102,
         -54.0530891418457
        ],
        [
         8.811423301696777,
         -54.05300521850586
        ],
        [
         8.811325073242188,
         -54.05291748046875
        ],
        [
         8.81119155883789,
         -54.05281448364258
        ],
        [
         8.8110933303833,
         -54.05274200439453
        ],
        [
         8.811001777648926,
         -54.052650451660156
        ],
        [
         8.810900688171387,
         -54.05257034301758
        ],
        [
         8.810797691345215,
         -54.052490234375
        ],
        [
         8.810702323913574,
         -54.05241012573242
        ],
        [
         8.810577392578125,
         -54.05230712890625
        ],
        [
         8.810477256774902,
         -54.05221939086914
        ],
        [
         8.81037425994873,
         -54.05213928222656
        ],
        [
         8.810276985168457,
         -54.05205535888672
        ],
        [
         8.810178756713867,
         -54.05198669433594
        ],
        [
         8.810083389282227,
         -54.051910400390625
        ],
        [
         8.809948921203613,
         -54.051795959472656
        ],
        [
         8.80984878540039,
         -54.05171585083008
        ],
        [
         8.809745788574219,
         -54.051639556884766
        ],
        [
         8.809649467468262,
         -54.05156326293945
        ],
        [
         8.80955982208252,
         -54.051483154296875
        ],
        [
         8.80945873260498,
         -54.05139923095703
        ],
        [
         8.809313774108887,
         -54.051292419433594
        ],
        [
         8.809219360351562,
         -54.051212310791016
        ],
        [
         8.809126853942871,
         -54.0511360168457
        ],
        [
         8.809032440185547,
         -54.05105209350586
        ],
        [
         8.808924674987793,
         -54.05097961425781
        ],
        [
         8.808819770812988,
         -54.05089569091797
        ],
        [
         8.808695793151855,
         -54.050785064697266
        ],
        [
         8.808599472045898,
         -54.05071258544922
        ],
        [
         8.808500289916992,
         -54.050636291503906
        ],
        [
         8.808401107788086,
         -54.05055236816406
        ],
        [
         8.808300018310547,
         -54.05046844482422
        ],
        [
         8.8081693649292,
         -54.05036544799805
        ],
        [
         8.808073043823242,
         -54.05029296875
        ],
        [
         8.807975769042969,
         -54.05021286010742
        ],
        [
         8.807876586914062,
         -54.050132751464844
        ],
        [
         8.807777404785156,
         -54.050048828125
        ],
        [
         8.807677268981934,
         -54.04996871948242
        ],
        [
         8.807546615600586,
         -54.049869537353516
        ],
        [
         8.807453155517578,
         -54.04978561401367
        ],
        [
         8.807353973388672,
         -54.049705505371094
        ],
        [
         8.807251930236816,
         -54.049625396728516
        ],
        [
         8.807149887084961,
         -54.04954528808594
        ],
        [
         8.807025909423828,
         -54.0494384765625
        ],
        [
         8.806928634643555,
         -54.04936218261719
        ],
        [
         8.806829452514648,
         -54.049285888671875
        ],
        [
         8.806723594665527,
         -54.0492057800293
        ],
        [
         8.806625366210938,
         -54.049129486083984
        ],
        [
         8.806533813476562,
         -54.049049377441406
        ],
        [
         8.806401252746582,
         -54.048946380615234
        ],
        [
         8.806299209594727,
         -54.048866271972656
        ],
        [
         8.806200981140137,
         -54.04879379272461
        ],
        [
         8.806106567382812,
         -54.0487174987793
        ],
        [
         8.806012153625488,
         -54.048641204833984
        ],
        [
         8.805877685546875,
         -54.04853820800781
        ],
        [
         8.805779457092285,
         -54.048465728759766
        ],
        [
         8.805685043334961,
         -54.04838562011719
        ],
        [
         8.805590629577637,
         -54.04831314086914
        ],
        [
         8.805496215820312,
         -54.04823303222656
        ],
        [
         8.805364608764648,
         -54.048126220703125
        ],
        [
         8.805268287658691,
         -54.04805374145508
        ],
        [
         8.805182456970215,
         -54.047969818115234
        ],
        [
         8.805086135864258,
         -54.04788589477539
        ],
        [
         8.804986953735352,
         -54.04780960083008
        ],
        [
         8.804892539978027,
         -54.0477294921875
        ],
        [
         8.804774284362793,
         -54.0476188659668
        ],
        [
         8.804680824279785,
         -54.04753494262695
        ],
        [
         8.804585456848145,
         -54.04745101928711
        ],
        [
         8.804488182067871,
         -54.04737091064453
        ],
        [
         8.804396629333496,
         -54.04728317260742
        ],
        [
         8.804311752319336,
         -54.04719924926758
        ],
        [
         8.804184913635254,
         -54.047088623046875
        ],
        [
         8.804085731506348,
         -54.04700469970703
        ],
        [
         8.803995132446289,
         -54.04692077636719
        ],
        [
         8.803908348083496,
         -54.046836853027344
        ],
        [
         8.803812980651855,
         -54.046749114990234
        ],
        [
         8.803715705871582,
         -54.04666519165039
        ],
        [
         8.803590774536133,
         -54.04655456542969
        ],
        [
         8.803495407104492,
         -54.046470642089844
        ],
        [
         8.803400993347168,
         -54.046390533447266
        ],
        [
         8.80330753326416,
         -54.046302795410156
        ],
        [
         8.803208351135254,
         -54.046226501464844
        ],
        [
         8.803077697753906,
         -54.04611587524414
        ],
        [
         8.80298137664795,
         -54.04603958129883
        ],
        [
         8.802884101867676,
         -54.04595947265625
        ],
        [
         8.802787780761719,
         -54.04587936401367
        ],
        [
         8.802692413330078,
         -54.04579544067383
        ],
        [
         8.802586555480957,
         -54.045719146728516
        ],
        [
         8.80245590209961,
         -54.045616149902344
        ],
        [
         8.802358627319336,
         -54.0455436706543
        ],
        [
         8.802260398864746,
         -54.045467376708984
        ],
        [
         8.80215835571289,
         -54.045387268066406
        ],
        [
         8.802055358886719,
         -54.04531478881836
        ],
        [
         8.80195426940918,
         -54.04523849487305
        ],
        [
         8.801822662353516,
         -54.04513931274414
        ],
        [
         8.801721572875977,
         -54.04505920410156
        ],
        [
         8.801617622375488,
         -54.044986724853516
        ],
        [
         8.801513671875,
         -54.0449104309082
        ],
        [
         8.80141544342041,
         -54.044830322265625
        ],
        [
         8.80131721496582,
         -54.044761657714844
        ],
        [
         8.801180839538574,
         -54.044654846191406
        ],
        [
         8.801074981689453,
         -54.04457473754883
        ],
        [
         8.80097770690918,
         -54.044498443603516
        ],
        [
         8.800881385803223,
         -54.0444221496582
        ],
        [
         8.800779342651367,
         -54.04434585571289
        ],
        [
         8.80064582824707,
         -54.04423904418945
        ],
        [
         8.800548553466797,
         -54.04415512084961
        ],
        [
         8.800451278686523,
         -54.0440788269043
        ],
        [
         8.800353050231934,
         -54.044002532958984
        ],
        [
         8.80025577545166,
         -54.043922424316406
        ],
        [
         8.800161361694336,
         -54.04383850097656
        ],
        [
         8.800063133239746,
         -54.043758392333984
        ],
        [
         8.799933433532715,
         -54.04365158081055
        ],
        [
         8.799838066101074,
         -54.04357147216797
        ],
        [
         8.7997407913208,
         -54.04349136352539
        ],
        [
         8.79964542388916,
         -54.04340744018555
        ],
        [
         8.799549102783203,
         -54.0433235168457
        ],
        [
         8.799450874328613,
         -54.043243408203125
        ],
        [
         8.799323081970215,
         -54.04313659667969
        ],
        [
         8.799227714538574,
         -54.043052673339844
        ],
        [
         8.799132347106934,
         -54.04296875
        ],
        [
         8.799036026000977,
         -54.04288864135742
        ],
        [
         8.79893684387207,
         -54.042808532714844
        ],
        [
         8.798807144165039,
         -54.04269790649414
        ],
        [
         8.798711776733398,
         -54.0426139831543
        ],
        [
         8.79861831665039,
         -54.04253387451172
        ],
        [
         8.7985200881958,
         -54.04245376586914
        ],
        [
         8.798418998718262,
         -54.04237365722656
        ],
        [
         8.798318862915039,
         -54.04228973388672
        ],
        [
         8.798196792602539,
         -54.042179107666016
        ],
        [
         8.798096656799316,
         -54.04210662841797
        ],
        [
         8.797994613647461,
         -54.042030334472656
        ],
        [
         8.797900199890137,
         -54.04194641113281
        ],
        [
         8.797804832458496,
         -54.041866302490234
        ],
        [
         8.797703742980957,
         -54.04179382324219
        ],
        [
         8.79757308959961,
         -54.041690826416016
        ],
        [
         8.797476768493652,
         -54.04161071777344
        ],
        [
         8.797378540039062,
         -54.04153060913086
        ],
        [
         8.79727554321289,
         -54.04145431518555
        ],
        [
         8.79718017578125,
         -54.041378021240234
        ],
        [
         8.797080993652344,
         -54.04130172729492
        ],
        [
         8.796948432922363,
         -54.041194915771484
        ],
        [
         8.796847343444824,
         -54.04111862182617
        ],
        [
         8.796749114990234,
         -54.04104232788086
        ],
        [
         8.796649932861328,
         -54.04096603393555
        ],
        [
         8.796551704406738,
         -54.04088592529297
        ],
        [
         8.796449661254883,
         -54.04080581665039
        ],
        [
         8.79631519317627,
         -54.04071044921875
        ],
        [
         8.796219825744629,
         -54.04063034057617
        ],
        [
         8.796121597290039,
         -54.04055404663086
        ],
        [
         8.79601764678955,
         -54.04047393798828
        ],
        [
         8.795913696289062,
         -54.04039764404297
        ],
        [
         8.795819282531738,
         -54.040321350097656
        ],
        [
         8.795695304870605,
         -54.040218353271484
        ],
        [
         8.79559326171875,
         -54.04013442993164
        ],
        [
         8.795486450195312,
         -54.04005813598633
        ],
        [
         8.795391082763672,
         -54.039981842041016
        ],
        [
         8.795297622680664,
         -54.03990173339844
        ],
        [
         8.79516887664795,
         -54.039791107177734
        ],
        [
         8.79506778717041,
         -54.039710998535156
        ],
        [
         8.794966697692871,
         -54.03963088989258
        ],
        [
         8.794872283935547,
         -54.039554595947266
        ],
        [
         8.794778823852539,
         -54.03947067260742
        ],
        [
         8.794679641723633,
         -54.03938674926758
        ],
        [
         8.794543266296387,
         -54.03927993774414
        ],
        [
         8.794447898864746,
         -54.03919982910156
        ],
        [
         8.794352531433105,
         -54.039119720458984
        ],
        [
         8.794254302978516,
         -54.039039611816406
        ],
        [
         8.794153213500977,
         -54.03895950317383
        ],
        [
         8.794054985046387,
         -54.03887939453125
        ],
        [
         8.793296813964844,
         -54.03826141357422
        ],
        [
         8.793194770812988,
         -54.03818130493164
        ],
        [
         8.79309368133545,
         -54.0380973815918
        ],
        [
         8.792993545532227,
         -54.038021087646484
        ],
        [
         8.792900085449219,
         -54.03793716430664
        ],
        [
         8.79279613494873,
         -54.03785705566406
        ],
        [
         8.792691230773926,
         -54.03778076171875
        ],
        [
         8.792558670043945,
         -54.03766632080078
        ],
        [
         8.792462348937988,
         -54.0375862121582
        ],
        [
         8.792362213134766,
         -54.03750991821289
        ],
        [
         8.792258262634277,
         -54.03742980957031
        ],
        [
         8.792157173156738,
         -54.037349700927734
        ],
        [
         8.792058944702148,
         -54.037261962890625
        ],
        [
         8.791926383972168,
         -54.03715515136719
        ],
        [
         8.791823387145996,
         -54.03708267211914
        ],
        [
         8.79172134399414,
         -54.0369987487793
        ],
        [
         8.7916259765625,
         -54.03691101074219
        ],
        [
         8.791523933410645,
         -54.03683090209961
        ],
        [
         8.791387557983398,
         -54.03672409057617
        ],
        [
         8.791292190551758,
         -54.03664016723633
        ],
        [
         8.791193962097168,
         -54.03656005859375
        ],
        [
         8.791092872619629,
         -54.036476135253906
        ],
        [
         8.790990829467773,
         -54.03639602661133
        ],
        [
         8.790892601013184,
         -54.036312103271484
        ],
        [
         8.790765762329102,
         -54.03620147705078
        ],
        [
         8.790663719177246,
         -54.0361213684082
        ],
        [
         8.790562629699707,
         -54.03603744506836
        ],
        [
         8.790467262268066,
         -54.035953521728516
        ],
        [
         8.790371894836426,
         -54.03586959838867
        ],
        [
         8.790268898010254,
         -54.035789489746094
        ],
        [
         8.790135383605957,
         -54.035682678222656
        ],
        [
         8.790042877197266,
         -54.03560256958008
        ],
        [
         8.789944648742676,
         -54.035518646240234
        ],
        [
         8.789837837219238,
         -54.035438537597656
        ],
        [
         8.78971004486084,
         -54.03533172607422
        ],
        [
         8.789584159851074,
         -54.03522491455078
        ],
        [
         8.789483070373535,
         -54.03513717651367
        ],
        [
         8.789382934570312,
         -54.035057067871094
        ],
        [
         8.789284706115723,
         -54.03497314453125
        ],
        [
         8.78918743133545,
         -54.03489685058594
        ],
        [
         8.789061546325684,
         -54.03478240966797
        ],
        [
         8.788962364196777,
         -54.034698486328125
        ],
        [
         8.788857460021973,
         -54.03461837768555
        ],
        [
         8.7887601852417,
         -54.034542083740234
        ],
        [
         8.788668632507324,
         -54.03445816040039
        ],
        [
         8.78857135772705,
         -54.03437423706055
        ],
        [
         8.788431167602539,
         -54.034271240234375
        ],
        [
         8.788331985473633,
         -54.03418731689453
        ],
        [
         8.788237571716309,
         -54.03411102294922
        ],
        [
         8.788140296936035,
         -54.03403091430664
        ],
        [
         8.788036346435547,
         -54.033958435058594
        ],
        [
         8.787936210632324,
         -54.033878326416016
        ],
        [
         8.787837028503418,
         -54.03379440307617
        ],
        [
         8.787701606750488,
         -54.03369140625
        ],
        [
         8.787604331970215,
         -54.03361511230469
        ],
        [
         8.787508010864258,
         -54.03353500366211
        ],
        [
         8.787407875061035,
         -54.03345489501953
        ],
        [
         8.787303924560547,
         -54.03337478637695
        ],
        [
         8.787203788757324,
         -54.033294677734375
        ],
        [
         8.787077903747559,
         -54.0331916809082
        ],
        [
         8.786981582641602,
         -54.03311538696289
        ],
        [
         8.786884307861328,
         -54.03303527832031
        ],
        [
         8.786781311035156,
         -54.032955169677734
        ],
        [
         8.786684036254883,
         -54.03287124633789
        ],
        [
         8.786561012268066,
         -54.03276443481445
        ],
        [
         8.78646469116211,
         -54.03268814086914
        ],
        [
         8.78636646270752,
         -54.03261184692383
        ],
        [
         8.786269187927246,
         -54.03252410888672
        ],
        [
         8.78617000579834,
         -54.032447814941406
        ],
        [
         8.78604507446289,
         -54.03234100341797
        ],
        [
         8.785950660705566,
         -54.03226852416992
        ],
        [
         8.785856246948242,
         -54.03218460083008
        ],
        [
         8.785761833190918,
         -54.03209686279297
        ],
        [
         8.785660743713379,
         -54.032020568847656
        ],
        [
         8.785565376281738,
         -54.03194046020508
        ],
        [
         8.785476684570312,
         -54.031856536865234
        ],
        [
         8.785353660583496,
         -54.0317497253418
        ],
        [
         8.785250663757324,
         -54.03166580200195
        ],
        [
         8.785150527954102,
         -54.031585693359375
        ],
        [
         8.785057067871094,
         -54.03150177001953
        ],
        [
         8.784966468811035,
         -54.03142547607422
        ],
        [
         8.784871101379395,
         -54.031341552734375
        ],
        [
         8.784733772277832,
         -54.03123474121094
        ],
        [
         8.78463077545166,
         -54.031158447265625
        ],
        [
         8.78453254699707,
         -54.03107833862305
        ],
        [
         8.784441947937012,
         -54.03099822998047
        ],
        [
         8.784343719482422,
         -54.030921936035156
        ],
        [
         8.7842378616333,
         -54.030845642089844
        ],
        [
         8.784100532531738,
         -54.03074645996094
        ],
        [
         8.784008979797363,
         -54.030662536621094
        ],
        [
         8.78390884399414,
         -54.03058624267578
        ],
        [
         8.783806800842285,
         -54.030513763427734
        ],
        [
         8.783703804016113,
         -54.03044128417969
        ],
        [
         8.783601760864258,
         -54.030364990234375
        ],
        [
         8.783472061157227,
         -54.03025817871094
        ],
        [
         8.783373832702637,
         -54.03017807006836
        ],
        [
         8.783270835876465,
         -54.03010177612305
        ],
        [
         8.783201217651367,
         -54.03005599975586
        ],
        [
         8.783102035522461,
         -54.02997589111328
        ],
        [
         8.783003807067871,
         -54.0298957824707
        ],
        [
         8.782869338989258,
         -54.029788970947266
        ],
        [
         8.782768249511719,
         -54.02971267700195
        ],
        [
         8.782668113708496,
         -54.029632568359375
        ],
        [
         8.782567977905273,
         -54.0295524597168
        ],
        [
         8.782465934753418,
         -54.029476165771484
        ],
        [
         8.782365798950195,
         -54.02939224243164
        ],
        [
         8.782234191894531,
         -54.0292854309082
        ],
        [
         8.782130241394043,
         -54.02920913696289
        ],
        [
         8.78203010559082,
         -54.02912902832031
        ],
        [
         8.78193187713623,
         -54.029048919677734
        ],
        [
         8.781830787658691,
         -54.02896499633789
        ],
        [
         8.781725883483887,
         -54.02888488769531
        ],
        [
         8.781591415405273,
         -54.028778076171875
        ],
        [
         8.781496047973633,
         -54.0286979675293
        ],
        [
         8.781394958496094,
         -54.02861404418945
        ],
        [
         8.781291961669922,
         -54.028533935546875
        ],
        [
         8.78118896484375,
         -54.02845001220703
        ],
        [
         8.781087875366211,
         -54.02837371826172
        ],
        [
         8.780961036682129,
         -54.028263092041016
        ],
        [
         8.780858039855957,
         -54.0281867980957
        ],
        [
         8.780756950378418,
         -54.02810287475586
        ],
        [
         8.780657768249512,
         -54.028018951416016
        ],
        [
         8.780557632446289,
         -54.02793884277344
        ],
        [
         8.780458450317383,
         -54.02785873413086
        ],
        [
         8.78036117553711,
         -54.02777862548828
        ],
        [
         8.78022575378418,
         -54.027671813964844
        ],
        [
         8.780122756958008,
         -54.027591705322266
        ],
        [
         8.780022621154785,
         -54.02750778198242
        ],
        [
         8.779924392700195,
         -54.02743148803711
        ],
        [
         8.779821395874023,
         -54.0273551940918
        ],
        [
         8.779688835144043,
         -54.02724075317383
        ],
        [
         8.77958869934082,
         -54.027164459228516
        ],
        [
         8.779486656188965,
         -54.02708053588867
        ],
        [
         8.779380798339844,
         -54.027008056640625
        ],
        [
         8.77928638458252,
         -54.02692413330078
        ],
        [
         8.77918815612793,
         -54.02684783935547
        ],
        [
         8.779047966003418,
         -54.02674102783203
        ],
        [
         8.778945922851562,
         -54.02666473388672
        ],
        [
         8.778849601745605,
         -54.02658462524414
        ],
        [
         8.778754234313965,
         -54.0265007019043
        ],
        [
         8.778650283813477,
         -54.02642059326172
        ],
        [
         8.778547286987305,
         -54.02634048461914
        ],
        [
         8.778417587280273,
         -54.02622985839844
        ],
        [
         8.77832317352295,
         -54.026145935058594
        ],
        [
         8.778221130371094,
         -54.026065826416016
        ],
        [
         8.778117179870605,
         -54.02598190307617
        ],
        [
         8.7780179977417,
         -54.02589797973633
        ],
        [
         8.777892112731934,
         -54.025787353515625
        ],
        [
         8.777792930603027,
         -54.02570343017578
        ],
        [
         8.777687072753906,
         -54.02561950683594
        ],
        [
         8.777586936950684,
         -54.025535583496094
        ],
        [
         8.77748966217041,
         -54.02545166015625
        ],
        [
         8.777395248413086,
         -54.02537155151367
        ],
        [
         8.777260780334473,
         -54.02526092529297
        ],
        [
         8.777156829833984,
         -54.025177001953125
        ],
        [
         8.777057647705078,
         -54.025089263916016
        ],
        [
         8.776960372924805,
         -54.02500915527344
        ],
        [
         8.776863098144531,
         -54.024932861328125
        ],
        [
         8.776729583740234,
         -54.02482223510742
        ],
        [
         8.77662467956543,
         -54.02473449707031
        ],
        [
         8.776520729064941,
         -54.024654388427734
        ],
        [
         8.776427268981934,
         -54.024574279785156
        ],
        [
         8.77632999420166,
         -54.02450180053711
        ],
        [
         8.776227951049805,
         -54.02442169189453
        ],
        [
         8.77608871459961,
         -54.02431869506836
        ],
        [
         8.775986671447754,
         -54.02423858642578
        ],
        [
         8.775886535644531,
         -54.024166107177734
        ],
        [
         8.775792121887207,
         -54.02408981323242
        ],
        [
         8.775691032409668,
         -54.02401351928711
        ],
        [
         8.775585174560547,
         -54.0239372253418
        ],
        [
         8.775447845458984,
         -54.02383041381836
        ],
        [
         8.775354385375977,
         -54.02375411987305
        ],
        [
         8.775257110595703,
         -54.023677825927734
        ],
        [
         8.775156021118164,
         -54.02360153198242
        ],
        [
         8.775053024291992,
         -54.02351379394531
        ],
        [
         8.77495288848877,
         -54.023433685302734
        ],
        [
         8.774828910827637,
         -54.0233268737793
        ],
        [
         8.774730682373047,
         -54.02324676513672
        ],
        [
         8.774632453918457,
         -54.023162841796875
        ],
        [
         8.774534225463867,
         -54.02307891845703
        ],
        [
         8.77440357208252,
         -54.02296829223633
        ],
        [
         8.774311065673828,
         -54.02288818359375
        ],
        [
         8.774216651916504,
         -54.022804260253906
        ],
        [
         8.774117469787598,
         -54.0227165222168
        ],
        [
         8.774017333984375,
         -54.02263259887695
        ],
        [
         8.773921966552734,
         -54.02254867553711
        ],
        [
         8.77380084991455,
         -54.02243423461914
        ],
        [
         8.773702621459961,
         -54.02235412597656
        ],
        [
         8.773599624633789,
         -54.022274017333984
        ],
        [
         8.773504257202148,
         -54.022186279296875
        ],
        [
         8.773411750793457,
         -54.02210235595703
        ],
        [
         8.773285865783691,
         -54.02199935913086
        ],
        [
         8.773185729980469,
         -54.02191925048828
        ],
        [
         8.77308464050293,
         -54.02183151245117
        ],
        [
         8.772990226745605,
         -54.02174758911133
        ],
        [
         8.772897720336914,
         -54.02166748046875
        ],
        [
         8.772802352905273,
         -54.02158737182617
        ],
        [
         8.77266788482666,
         -54.02147674560547
        ],
        [
         8.772570610046387,
         -54.02138900756836
        ],
        [
         8.772475242614746,
         -54.02130889892578
        ],
        [
         8.772377014160156,
         -54.0212287902832
        ],
        [
         8.772281646728516,
         -54.02114486694336
        ],
        [
         8.772184371948242,
         -54.021060943603516
        ],
        [
         8.772049903869629,
         -54.02095413208008
        ],
        [
         8.771951675415039,
         -54.020870208740234
        ],
        [
         8.771855354309082,
         -54.020790100097656
        ],
        [
         8.771759986877441,
         -54.02070617675781
        ],
        [
         8.771657943725586,
         -54.0206298828125
        ],
        [
         8.771520614624023,
         -54.02052307128906
        ],
        [
         8.771425247192383,
         -54.020442962646484
        ],
        [
         8.771330833435059,
         -54.02035903930664
        ],
        [
         8.771228790283203,
         -54.02028274536133
        ],
        [
         8.771121978759766,
         -54.020206451416016
        ],
        [
         8.770994186401367,
         -54.020103454589844
        ],
        [
         8.770896911621094,
         -54.02001953125
        ],
        [
         8.770796775817871,
         -54.01994323730469
        ],
        [
         8.770695686340332,
         -54.019866943359375
        ],
        [
         8.770594596862793,
         -54.01979064941406
        ],
        [
         8.770499229431152,
         -54.01971435546875
        ],
        [
         8.770403861999512,
         -54.01963424682617
        ],
        [
         8.770269393920898,
         -54.01953125
        ],
        [
         8.770203590393066,
         -54.01948165893555
        ],
        [
         8.770105361938477,
         -54.01940155029297
        ],
        [
         8.769973754882812,
         -54.01929473876953
        ],
        [
         8.769878387451172,
         -54.01921463012695
        ],
        [
         8.76977825164795,
         -54.019134521484375
        ],
        [
         8.769678115844727,
         -54.01905822753906
        ],
        [
         8.769577026367188,
         -54.018978118896484
        ],
        [
         8.76948356628418,
         -54.01889419555664
        ],
        [
         8.769350051879883,
         -54.0187873840332
        ],
        [
         8.769248008728027,
         -54.01871109008789
        ],
        [
         8.76915168762207,
         -54.01863098144531
        ],
        [
         8.769059181213379,
         -54.018550872802734
        ],
        [
         8.768957138061523,
         -54.01846694946289
        ],
        [
         8.768818855285645,
         -54.01836395263672
        ],
        [
         8.76872444152832,
         -54.01828384399414
        ],
        [
         8.768627166748047,
         -54.01820373535156
        ],
        [
         8.768527030944824,
         -54.018123626708984
        ],
        [
         8.768424034118652,
         -54.01804733276367
        ],
        [
         8.768319129943848,
         -54.01796340942383
        ],
        [
         8.768186569213867,
         -54.017860412597656
        ],
        [
         8.768088340759277,
         -54.017784118652344
        ],
        [
         8.767990112304688,
         -54.0177001953125
        ],
        [
         8.7678861618042,
         -54.01762008666992
        ],
        [
         8.767778396606445,
         -54.01754379272461
        ],
        [
         8.767678260803223,
         -54.01746368408203
        ],
        [
         8.767550468444824,
         -54.01736068725586
        ],
        [
         8.76744556427002,
         -54.01728057861328
        ],
        [
         8.767341613769531,
         -54.0172004699707
        ],
        [
         8.76723575592041,
         -54.01712417602539
        ],
        [
         8.767133712768555,
         -54.01704406738281
        ],
        [
         8.767037391662598,
         -54.0169677734375
        ],
        [
         8.766904830932617,
         -54.01686096191406
        ],
        [
         8.766797065734863,
         -54.016780853271484
        ],
        [
         8.766690254211426,
         -54.016700744628906
        ],
        [
         8.76659107208252,
         -54.016624450683594
        ],
        [
         8.766496658325195,
         -54.01654052734375
        ],
        [
         8.766393661499023,
         -54.01646423339844
        ],
        [
         8.766249656677246,
         -54.016361236572266
        ],
        [
         8.766145706176758,
         -54.01627731323242
        ],
        [
         8.766045570373535,
         -54.016197204589844
        ],
        [
         8.765945434570312,
         -54.01612091064453
        ],
        [
         8.765843391418457,
         -54.016048431396484
        ],
        [
         8.765735626220703,
         -54.01596450805664
        ],
        [
         8.765591621398926,
         -54.01585388183594
        ],
        [
         8.765493392944336,
         -54.01577377319336
        ],
        [
         8.765396118164062,
         -54.01569747924805
        ],
        [
         8.76529312133789,
         -54.015621185302734
        ],
        [
         8.765185356140137,
         -54.01553726196289
        ],
        [
         8.765080451965332,
         -54.01545333862305
        ],
        [
         8.764949798583984,
         -54.01534652709961
        ],
        [
         8.764850616455078,
         -54.0152702331543
        ],
        [
         8.76474666595459,
         -54.01519012451172
        ],
        [
         8.764642715454102,
         -54.01510238647461
        ],
        [
         8.764540672302246,
         -54.015018463134766
        ],
        [
         8.764440536499023,
         -54.01494216918945
        ],
        [
         8.764307975769043,
         -54.014835357666016
        ],
        [
         8.76420783996582,
         -54.01475143432617
        ],
        [
         8.764107704162598,
         -54.01466751098633
        ],
        [
         8.76400375366211,
         -54.01458740234375
        ],
        [
         8.763903617858887,
         -54.01450729370117
        ],
        [
         8.763808250427246,
         -54.014427185058594
        ],
        [
         8.763678550720215,
         -54.014320373535156
        ],
        [
         8.763574600219727,
         -54.01423645019531
        ],
        [
         8.763472557067871,
         -54.014156341552734
        ],
        [
         8.76337718963623,
         -54.01407241821289
        ],
        [
         8.76328182220459,
         -54.01399612426758
        ],
        [
         8.763188362121582,
         -54.013919830322266
        ],
        [
         8.763050079345703,
         -54.01381301879883
        ],
        [
         8.76294994354248,
         -54.013729095458984
        ],
        [
         8.76285171508789,
         -54.01365280151367
        ],
        [
         8.762758255004883,
         -54.013572692871094
        ],
        [
         8.762663841247559,
         -54.013492584228516
        ],
        [
         8.762564659118652,
         -54.0134162902832
        ],
        [
         8.762429237365723,
         -54.0133056640625
        ],
        [
         8.762335777282715,
         -54.013221740722656
        ],
        [
         8.762245178222656,
         -54.013145446777344
        ],
        [
         8.762151718139648,
         -54.01306915283203
        ],
        [
         8.762048721313477,
         -54.01299285888672
        ],
        [
         8.761951446533203,
         -54.01290512084961
        ],
        [
         8.761856079101562,
         -54.012821197509766
        ],
        [
         8.761731147766113,
         -54.012725830078125
        ],
        [
         8.761637687683105,
         -54.01264572143555
        ],
        [
         8.761539459228516,
         -54.0125617980957
        ],
        [
         8.761438369750977,
         -54.01247787475586
        ],
        [
         8.761343002319336,
         -54.01239776611328
        ],
        [
         8.76121997833252,
         -54.012290954589844
        ],
        [
         8.761125564575195,
         -54.01221466064453
        ],
        [
         8.761030197143555,
         -54.01212692260742
        ],
        [
         8.760932922363281,
         -54.01204299926758
        ],
        [
         8.760833740234375,
         -54.011962890625
        ],
        [
         8.760709762573242,
         -54.01185989379883
        ],
        [
         8.760014533996582,
         -54.01125717163086
        ],
        [
         8.759915351867676,
         -54.01117706298828
        ],
        [
         8.759819030761719,
         -54.0110969543457
        ],
        [
         8.759732246398926,
         -54.011016845703125
        ],
        [
         8.759635925292969,
         -54.01093292236328
        ],
        [
         8.759537696838379,
         -54.01084899902344
        ],
        [
         8.759441375732422,
         -54.01076889038086
        ],
        [
         8.759318351745605,
         -54.01066207885742
        ],
        [
         8.759223937988281,
         -54.01057434082031
        ],
        [
         8.759122848510742,
         -54.010494232177734
        ],
        [
         8.759028434753418,
         -54.010414123535156
        ],
        [
         8.758938789367676,
         -54.01033020019531
        ],
        [
         8.758840560913086,
         -54.01024627685547
        ],
        [
         8.758706092834473,
         -54.01013946533203
        ],
        [
         8.758609771728516,
         -54.01005554199219
        ],
        [
         8.758519172668457,
         -54.00997543334961
        ],
        [
         8.758423805236816,
         -54.00989532470703
        ],
        [
         8.758322715759277,
         -54.00981140136719
        ],
        [
         8.75818920135498,
         -54.00970458984375
        ],
        [
         8.758097648620605,
         -54.009620666503906
        ],
        [
         8.758003234863281,
         -54.00954055786133
        ],
        [
         8.757906913757324,
         -54.009456634521484
        ],
        [
         8.757804870605469,
         -54.009376525878906
        ],
        [
         8.757705688476562,
         -54.00929260253906
        ],
        [
         8.757611274719238,
         -54.00921630859375
        ],
        [
         8.757486343383789,
         -54.00910186767578
        ],
        [
         8.757384300231934,
         -54.00902557373047
        ],
        [
         8.757285118103027,
         -54.00894546508789
        ],
        [
         8.75718879699707,
         -54.00886154174805
        ],
        [
         8.757092475891113,
         -54.0087776184082
        ],
        [
         8.756958961486816,
         -54.008670806884766
        ],
        [
         8.756829261779785,
         -54.00856018066406
        ],
        [
         8.756733894348145,
         -54.00847625732422
        ],
        [
         8.756631851196289,
         -54.008392333984375
        ],
        [
         8.756528854370117,
         -54.0083122253418
        ],
        [
         8.75643539428711,
         -54.00822830200195
        ],
        [
         8.756305694580078,
         -54.00811767578125
        ],
        [
         8.756204605102539,
         -54.00803756713867
        ],
        [
         8.756101608276367,
         -54.007957458496094
        ],
        [
         8.756003379821777,
         -54.007869720458984
        ],
        [
         8.755908012390137,
         -54.00778579711914
        ],
        [
         8.755805969238281,
         -54.00770950317383
        ],
        [
         8.7556734085083,
         -54.00760269165039
        ],
        [
         8.75557804107666,
         -54.00751876831055
        ],
        [
         8.755474090576172,
         -54.0074348449707
        ],
        [
         8.755372047424316,
         -54.007354736328125
        ],
        [
         8.75527286529541,
         -54.00727462768555
        ],
        [
         8.755176544189453,
         -54.007198333740234
        ],
        [
         8.755043029785156,
         -54.00708770751953
        ],
        [
         8.754938125610352,
         -54.00700759887695
        ],
        [
         8.754836082458496,
         -54.006927490234375
        ],
        [
         8.754740715026855,
         -54.0068473815918
        ],
        [
         8.754643440246582,
         -54.006771087646484
        ],
        [
         8.754545211791992,
         -54.00668716430664
        ],
        [
         8.754404067993164,
         -54.0065803527832
        ],
        [
         8.754302978515625,
         -54.006500244140625
        ],
        [
         8.754210472106934,
         -54.00642395019531
        ],
        [
         8.75411605834961,
         -54.00634002685547
        ],
        [
         8.754009246826172,
         -54.006263732910156
        ],
        [
         8.753872871398926,
         -54.00615310668945
        ],
        [
         8.753776550292969,
         -54.006072998046875
        ],
        [
         8.753680229187012,
         -54.00599670410156
        ],
        [
         8.753582954406738,
         -54.005916595458984
        ],
        [
         8.753480911254883,
         -54.00583267211914
        ],
        [
         8.753377914428711,
         -54.0057487487793
        ],
        [
         8.753247261047363,
         -54.00564193725586
        ],
        [
         8.753152847290039,
         -54.00556182861328
        ],
        [
         8.753056526184082,
         -54.00547790527344
        ],
        [
         8.75295352935791,
         -54.005393981933594
        ],
        [
         8.752852439880371,
         -54.005313873291016
        ],
        [
         8.75275993347168,
         -54.00522994995117
        ],
        [
         8.752668380737305,
         -54.00514221191406
        ],
        [
         8.752532958984375,
         -54.005035400390625
        ],
        [
         8.752434730529785,
         -54.004947662353516
        ],
        [
         8.752342224121094,
         -54.004859924316406
        ],
        [
         8.75224494934082,
         -54.00477600097656
        ],
        [
         8.75214672088623,
         -54.00469207763672
        ],
        [
         8.752053260803223,
         -54.00460433959961
        ],
        [
         8.751928329467773,
         -54.004486083984375
        ],
        [
         8.751830101013184,
         -54.004398345947266
        ],
        [
         8.751729011535645,
         -54.00431823730469
        ],
        [
         8.751632690429688,
         -54.00423049926758
        ],
        [
         8.751544952392578,
         -54.0041389465332
        ],
        [
         8.751448631286621,
         -54.00405502319336
        ],
        [
         8.751313209533691,
         -54.003936767578125
        ],
        [
         8.75121784210205,
         -54.003849029541016
        ],
        [
         8.75112533569336,
         -54.003761291503906
        ],
        [
         8.751031875610352,
         -54.00367736816406
        ],
        [
         8.750934600830078,
         -54.00358963012695
        ],
        [
         8.750834465026855,
         -54.003501892089844
        ],
        [
         8.750699996948242,
         -54.003387451171875
        ],
        [
         8.750603675842285,
         -54.00331115722656
        ],
        [
         8.750513076782227,
         -54.00322723388672
        ],
        [
         8.750410079956055,
         -54.00314712524414
        ],
        [
         8.750338554382324,
         -54.00309371948242
        ],
        [
         8.750205039978027,
         -54.002986907958984
        ],
        [
         8.750112533569336,
         -54.002906799316406
        ],
        [
         8.750017166137695,
         -54.00282669067383
        ],
        [
         8.749913215637207,
         -54.00274658203125
        ],
        [
         8.749809265136719,
         -54.002662658691406
        ],
        [
         8.749711036682129,
         -54.00258255004883
        ],
        [
         8.749616622924805,
         -54.00250244140625
        ],
        [
         8.749483108520508,
         -54.00239944458008
        ],
        [
         8.749381065368652,
         -54.002315521240234
        ],
        [
         8.749279022216797,
         -54.002227783203125
        ],
        [
         8.749180793762207,
         -54.00214767456055
        ],
        [
         8.74908447265625,
         -54.002071380615234
        ],
        [
         8.748954772949219,
         -54.00196075439453
        ],
        [
         8.748849868774414,
         -54.00187301635742
        ],
        [
         8.748746871948242,
         -54.00178909301758
        ],
        [
         8.748649597167969,
         -54.001708984375
        ],
        [
         8.748555183410645,
         -54.00162887573242
        ],
        [
         8.748455047607422,
         -54.001548767089844
        ],
        [
         8.74831771850586,
         -54.00143051147461
        ],
        [
         8.748211860656738,
         -54.00135040283203
        ],
        [
         8.748114585876465,
         -54.00126647949219
        ],
        [
         8.74802017211914,
         -54.001190185546875
        ],
        [
         8.747920989990234,
         -54.0011100769043
        ],
        [
         8.747819900512695,
         -54.00102233886719
        ],
        [
         8.747681617736816,
         -54.000911712646484
        ],
        [
         8.747583389282227,
         -54.000831604003906
        ],
        [
         8.747488021850586,
         -54.00075149536133
        ],
        [
         8.747393608093262,
         -54.000667572021484
        ],
        [
         8.747291564941406,
         -54.00058364868164
        ],
        [
         8.747154235839844,
         -54.00046920776367
        ],
        [
         8.747056007385254,
         -54.000389099121094
        ],
        [
         8.746962547302246,
         -54.000301361083984
        ],
        [
         8.746870040893555,
         -54.00021743774414
        ],
        [
         8.746772766113281,
         -54.00012969970703
        ],
        [
         8.746670722961426,
         -54.00004577636719
        ],
        [
         8.746541023254395,
         -53.99993133544922
        ],
        [
         8.746453285217285,
         -53.99984359741211
        ],
        [
         8.746358871459961,
         -53.999759674072266
        ],
        [
         8.746260643005371,
         -53.99967575073242
        ],
        [
         8.746163368225098,
         -53.99958419799805
        ],
        [
         8.746065139770508,
         -53.99949645996094
        ],
        [
         8.745941162109375,
         -53.999385833740234
        ],
        [
         8.745847702026367,
         -53.999305725097656
        ],
        [
         8.745753288269043,
         -53.99921798706055
        ],
        [
         8.745649337768555,
         -53.9991340637207
        ],
        [
         8.745552062988281,
         -53.999046325683594
        ],
        [
         8.745428085327148,
         -53.998939514160156
        ],
        [
         8.745333671569824,
         -53.99885177612305
        ],
        [
         8.74523639678955,
         -53.998775482177734
        ],
        [
         8.745140075683594,
         -53.99868392944336
        ],
        [
         8.745043754577637,
         -53.998600006103516
        ],
        [
         8.744950294494629,
         -53.99851989746094
        ],
        [
         8.744860649108887,
         -53.99843978881836
        ],
        [
         8.744728088378906,
         -53.998329162597656
        ],
        [
         8.744634628295898,
         -53.99824142456055
        ],
        [
         8.744543075561523,
         -53.9981575012207
        ],
        [
         8.74444580078125,
         -53.998077392578125
        ],
        [
         8.744351387023926,
         -53.99799728393555
        ],
        [
         8.744220733642578,
         -53.99788284301758
        ],
        [
         8.744124412536621,
         -53.997802734375
        ],
        [
         8.74403190612793,
         -53.997718811035156
        ],
        [
         8.74393367767334,
         -53.99763870239258
        ],
        [
         8.743833541870117,
         -53.997554779052734
        ],
        [
         8.74370288848877,
         -53.99744415283203
        ],
        [
         8.743609428405762,
         -53.99736022949219
        ],
        [
         8.743511199951172,
         -53.99728012084961
        ],
        [
         8.743412971496582,
         -53.997196197509766
        ],
        [
         8.743310928344727,
         -53.99711227416992
        ],
        [
         8.743210792541504,
         -53.99703598022461
        ],
        [
         8.743085861206055,
         -53.996925354003906
        ],
        [
         8.742987632751465,
         -53.99684524536133
        ],
        [
         8.742884635925293,
         -53.996761322021484
        ],
        [
         8.742783546447754,
         -53.99667739868164
        ],
        [
         8.742688179016113,
         -53.99659729003906
        ],
        [
         8.742591857910156,
         -53.99651336669922
        ],
        [
         8.74249267578125,
         -53.99643325805664
        ],
        [
         8.742358207702637,
         -53.99631881713867
        ],
        [
         8.742255210876465,
         -53.99624252319336
        ],
        [
         8.74216079711914,
         -53.99616241455078
        ],
        [
         8.742064476013184,
         -53.9960823059082
        ],
        [
         8.741966247558594,
         -53.99599838256836
        ],
        [
         8.741856575012207,
         -53.99592590332031
        ],
        [
         8.741728782653809,
         -53.99581527709961
        ],
        [
         8.741633415222168,
         -53.99573516845703
        ],
        [
         8.741534233093262,
         -53.99565124511719
        ],
        [
         8.741435050964355,
         -53.99557113647461
        ],
        [
         8.74133586883545,
         -53.995487213134766
        ],
        [
         8.741205215454102,
         -53.995384216308594
        ],
        [
         8.741110801696777,
         -53.99530029296875
        ],
        [
         8.741012573242188,
         -53.99522018432617
        ],
        [
         8.740914344787598,
         -53.99513626098633
        ],
        [
         8.740817070007324,
         -53.995052337646484
        ],
        [
         8.74071979522705,
         -53.994972229003906
        ],
        [
         8.740593910217285,
         -53.99486541748047
        ],
        [
         8.740498542785645,
         -53.99477767944336
        ],
        [
         8.740399360656738,
         -53.99468994140625
        ],
        [
         8.740302085876465,
         -53.994606018066406
        ],
        [
         8.74020767211914,
         -53.99452209472656
        ],
        [
         8.74011516571045,
         -53.99443817138672
        ],
        [
         8.739983558654785,
         -53.99432373046875
        ],
        [
         8.739887237548828,
         -53.994232177734375
        ],
        [
         8.739789962768555,
         -53.99414825439453
        ],
        [
         8.739694595336914,
         -53.99406814575195
        ],
        [
         8.739602088928223,
         -53.99398422241211
        ],
        [
         8.73950481414795,
         -53.993896484375
        ],
        [
         8.739373207092285,
         -53.993778228759766
        ],
        [
         8.739278793334961,
         -53.993690490722656
        ],
        [
         8.739184379577637,
         -53.99361038208008
        ],
        [
         8.739089012145996,
         -53.99352264404297
        ],
        [
         8.738986015319824,
         -53.993438720703125
        ],
        [
         8.738889694213867,
         -53.993350982666016
        ],
        [
         8.738795280456543,
         -53.993263244628906
        ],
        [
         8.738662719726562,
         -53.9931526184082
        ],
        [
         8.73856258392334,
         -53.993072509765625
        ],
        [
         8.738466262817383,
         -53.992984771728516
        ],
        [
         8.738364219665527,
         -53.99290466308594
        ],
        [
         8.738264083862305,
         -53.992820739746094
        ],
        [
         8.738130569458008,
         -53.99271774291992
        ],
        [
         8.738027572631836,
         -53.99263000488281
        ],
        [
         8.737923622131348,
         -53.9925537109375
        ],
        [
         8.73782730102539,
         -53.99246597290039
        ],
        [
         8.737724304199219,
         -53.99238967895508
        ],
        [
         8.737619400024414,
         -53.992313385009766
        ],
        [
         8.7374849319458,
         -53.99220657348633
        ],
        [
         8.737386703491211,
         -53.99212646484375
        ],
        [
         8.737283706665039,
         -53.99205017089844
        ],
        [
         8.73717975616455,
         -53.99197769165039
        ],
        [
         8.737081527709961,
         -53.99189758300781
        ],
        [
         8.736984252929688,
         -53.991817474365234
        ],
        [
         8.736848831176758,
         -53.99171829223633
        ],
        [
         8.736748695373535,
         -53.99163818359375
        ],
        [
         8.736648559570312,
         -53.9915657043457
        ],
        [
         8.736552238464355,
         -53.991485595703125
        ],
        [
         8.73645305633545,
         -53.99140548706055
        ],
        [
         8.73635482788086,
         -53.99132537841797
        ],
        [
         8.736221313476562,
         -53.9912223815918
        ],
        [
         8.736126899719238,
         -53.99113845825195
        ],
        [
         8.736030578613281,
         -53.991058349609375
        ],
        [
         8.735937118530273,
         -53.99098205566406
        ],
        [
         8.73583698272705,
         -53.99089813232422
        ],
        [
         8.735739707946777,
         -53.99081802368164
        ],
        [
         8.735616683959961,
         -53.99070739746094
        ],
        [
         8.73552417755127,
         -53.990623474121094
        ],
        [
         8.735426902770996,
         -53.990543365478516
        ],
        [
         8.73532772064209,
         -53.99045944213867
        ],
        [
         8.735237121582031,
         -53.990379333496094
        ],
        [
         8.735147476196289,
         -53.990291595458984
        ],
        [
         8.735015869140625,
         -53.990177154541016
        ],
        [
         8.734916687011719,
         -53.99009323120117
        ],
        [
         8.734824180603027,
         -53.990013122558594
        ],
        [
         8.734734535217285,
         -53.989925384521484
        ],
        [
         8.734637260437012,
         -53.989837646484375
        ],
        [
         8.734502792358398,
         -53.989723205566406
        ],
        [
         8.73440933227539,
         -53.98963928222656
        ],
        [
         8.7343168258667,
         -53.98955535888672
        ],
        [
         8.734224319458008,
         -53.98946762084961
        ],
        [
         8.73412036895752,
         -53.989383697509766
        ],
        [
         8.734021186828613,
         -53.98929214477539
        ],
        [
         8.733894348144531,
         -53.98918533325195
        ],
        [
         8.73380184173584,
         -53.989097595214844
        ],
        [
         8.733701705932617,
         -53.989013671875
        ],
        [
         8.733600616455078,
         -53.98892593383789
        ],
        [
         8.733502388000488,
         -53.98883819580078
        ],
        [
         8.733378410339355,
         -53.98872375488281
        ],
        [
         8.733281135559082,
         -53.988643646240234
        ],
        [
         8.733180046081543,
         -53.988555908203125
        ],
        [
         8.733078956604004,
         -53.988468170166016
        ],
        [
         8.73298454284668,
         -53.988380432128906
        ],
        [
         8.732885360717773,
         -53.98830032348633
        ],
        [
         8.732754707336426,
         -53.98818588256836
        ],
        [
         8.73265552520752,
         -53.988101959228516
        ],
        [
         8.732555389404297,
         -53.988014221191406
        ],
        [
         8.732454299926758,
         -53.98793029785156
        ],
        [
         8.732357025146484,
         -53.98784637451172
        ],
        [
         8.732258796691895,
         -53.987762451171875
        ],
        [
         8.732122421264648,
         -53.987648010253906
        ],
        [
         8.732022285461426,
         -53.98756790161133
        ],
        [
         8.731925010681152,
         -53.98748016357422
        ],
        [
         8.731822967529297,
         -53.98740005493164
        ],
        [
         8.73172378540039,
         -53.98731231689453
        ],
        [
         8.731582641601562,
         -53.987205505371094
        ],
        [
         8.731488227844238,
         -53.987117767333984
        ],
        [
         8.731386184692383,
         -53.98704147338867
        ],
        [
         8.731284141540527,
         -53.98695373535156
        ],
        [
         8.731179237365723,
         -53.98687744140625
        ],
        [
         8.731080055236816,
         -53.986793518066406
        ],
        [
         8.73094654083252,
         -53.9866828918457
        ],
        [
         8.730841636657715,
         -53.986602783203125
        ],
        [
         8.730738639831543,
         -53.98652267456055
        ],
        [
         8.730637550354004,
         -53.9864387512207
        ],
        [
         8.730536460876465,
         -53.98635482788086
        ],
        [
         8.730435371398926,
         -53.98627471923828
        ],
        [
         8.730297088623047,
         -53.98616409301758
        ],
        [
         8.730194091796875,
         -53.986080169677734
        ],
        [
         8.730093955993652,
         -53.98599624633789
        ],
        [
         8.72999095916748,
         -53.98591613769531
        ],
        [
         8.729890823364258,
         -53.9858283996582
        ],
        [
         8.72978687286377,
         -53.98575210571289
        ],
        [
         8.729649543762207,
         -53.98563766479492
        ],
        [
         8.7295503616333,
         -53.98555374145508
        ],
        [
         8.729449272155762,
         -53.985469818115234
        ],
        [
         8.72934627532959,
         -53.985389709472656
        ],
        [
         8.729246139526367,
         -53.98530578613281
        ],
        [
         8.729146003723145,
         -53.98522186279297
        ],
        [
         8.729009628295898,
         -53.985111236572266
        ],
        [
         8.728911399841309,
         -53.98502731323242
        ],
        [
         8.72881031036377,
         -53.98494338989258
        ],
        [
         8.72871208190918,
         -53.98485565185547
        ],
        [
         8.728611946105957,
         -53.984771728515625
        ],
        [
         8.728513717651367,
         -53.984683990478516
        ],
        [
         8.728381156921387,
         -53.98457336425781
        ],
        [
         8.728280067443848,
         -53.98448181152344
        ],
        [
         8.72818374633789,
         -53.984397888183594
        ],
        [
         8.728089332580566,
         -53.98430633544922
        ],
        [
         8.727988243103027,
         -53.98422622680664
        ],
        [
         8.727889060974121,
         -53.98413848876953
        ],
        [
         8.727758407592773,
         -53.9840202331543
        ],
        [
         8.727038383483887,
         -53.98337936401367
        ],
        [
         8.72694206237793,
         -53.98329544067383
        ],
        [
         8.726839065551758,
         -53.983211517333984
        ],
        [
         8.726737976074219,
         -53.98311996459961
        ],
        [
         8.726639747619629,
         -53.983028411865234
        ],
        [
         8.726545333862305,
         -53.98294448852539
        ],
        [
         8.726414680480957,
         -53.98283386230469
        ],
        [
         8.726308822631836,
         -53.98274230957031
        ],
        [
         8.72620677947998,
         -53.9826545715332
        ],
        [
         8.72611141204834,
         -53.98257064819336
        ],
        [
         8.726014137268066,
         -53.982486724853516
        ],
        [
         8.725908279418945,
         -53.98240280151367
        ],
        [
         8.725774765014648,
         -53.98228454589844
        ],
        [
         8.725671768188477,
         -53.982200622558594
        ],
        [
         8.725571632385254,
         -53.98211669921875
        ],
        [
         8.725470542907715,
         -53.982032775878906
        ],
        [
         8.725367546081543,
         -53.98194885253906
        ],
        [
         8.72523307800293,
         -53.98183059692383
        ],
        [
         8.725131034851074,
         -53.981746673583984
        ],
        [
         8.725028991699219,
         -53.981666564941406
        ],
        [
         8.72492790222168,
         -53.98158264160156
        ],
        [
         8.724825859069824,
         -53.98149871826172
        ],
        [
         8.724724769592285,
         -53.981414794921875
        ],
        [
         8.724623680114746,
         -53.98133087158203
        ],
        [
         8.72449016571045,
         -53.98121643066406
        ],
        [
         8.724388122558594,
         -53.98113250732422
        ],
        [
         8.724286079406738,
         -53.981048583984375
        ],
        [
         8.724185943603516,
         -53.98096466064453
        ],
        [
         8.724055290222168,
         -53.9808464050293
        ],
        [
         8.723917961120605,
         -53.980735778808594
        ],
        [
         8.723817825317383,
         -53.98065185546875
        ],
        [
         8.723722457885742,
         -53.98056411743164
        ],
        [
         8.723623275756836,
         -53.98047637939453
        ],
        [
         8.72352409362793,
         -53.98039245605469
        ],
        [
         8.72342586517334,
         -53.98030471801758
        ],
        [
         8.72329330444336,
         -53.98019027709961
        ],
        [
         8.723194122314453,
         -53.980106353759766
        ],
        [
         8.723098754882812,
         -53.980018615722656
        ],
        [
         8.722999572753906,
         -53.97993087768555
        ],
        [
         8.722899436950684,
         -53.97984313964844
        ],
        [
         8.722768783569336,
         -53.979732513427734
        ],
        [
         8.722674369812012,
         -53.97964859008789
        ],
        [
         8.722573280334473,
         -53.97956085205078
        ],
        [
         8.722475051879883,
         -53.979469299316406
        ],
        [
         8.722373008728027,
         -53.97938919067383
        ],
        [
         8.722245216369629,
         -53.979278564453125
        ],
        [
         8.722147941589355,
         -53.979190826416016
        ],
        [
         8.72204303741455,
         -53.97910690307617
        ],
        [
         8.721943855285645,
         -53.97901916503906
        ],
        [
         8.72184944152832,
         -53.97893524169922
        ],
        [
         8.721749305725098,
         -53.978851318359375
        ],
        [
         8.721648216247559,
         -53.97876739501953
        ],
        [
         8.721514701843262,
         -53.97865295410156
        ],
        [
         8.721418380737305,
         -53.97856140136719
        ],
        [
         8.721314430236816,
         -53.97848129272461
        ],
        [
         8.721216201782227,
         -53.978397369384766
        ],
        [
         8.721115112304688,
         -53.97831344604492
        ],
        [
         8.721014976501465,
         -53.97822570800781
        ],
        [
         8.720878601074219,
         -53.978111267089844
        ],
        [
         8.720780372619629,
         -53.978031158447266
        ],
        [
         8.720681190490723,
         -53.977943420410156
        ],
        [
         8.72057819366455,
         -53.97785568237305
        ],
        [
         8.72047233581543,
         -53.9777717590332
        ],
        [
         8.720369338989258,
         -53.977691650390625
        ],
        [
         8.720243453979492,
         -53.97758102416992
        ],
        [
         8.72014045715332,
         -53.97749328613281
        ],
        [
         8.720029830932617,
         -53.9774055480957
        ],
        [
         8.719924926757812,
         -53.977325439453125
        ],
        [
         8.719827651977539,
         -53.97724533081055
        ],
        [
         8.719700813293457,
         -53.97712707519531
        ],
        [
         8.719594955444336,
         -53.9770393371582
        ],
        [
         8.719483375549316,
         -53.976959228515625
        ],
        [
         8.719380378723145,
         -53.97687530517578
        ],
        [
         8.719287872314453,
         -53.97679138183594
        ],
        [
         8.719157218933105,
         -53.97667694091797
        ],
        [
         8.719046592712402,
         -53.97659683227539
        ],
        [
         8.718939781188965,
         -53.97650909423828
        ],
        [
         8.71884536743164,
         -53.97642135620117
        ],
        [
         8.718749046325684,
         -53.97633743286133
        ],
        [
         8.718647956848145,
         -53.976253509521484
        ],
        [
         8.718544960021973,
         -53.97616958618164
        ],
        [
         8.718408584594727,
         -53.976051330566406
        ],
        [
         8.718311309814453,
         -53.97596740722656
        ],
        [
         8.718212127685547,
         -53.97587966918945
        ],
        [
         8.718108177185059,
         -53.975799560546875
        ],
        [
         8.718009948730469,
         -53.975711822509766
        ],
        [
         8.717912673950195,
         -53.975624084472656
        ],
        [
         8.717771530151367,
         -53.97550964355469
        ],
        [
         8.717668533325195,
         -53.97542190551758
        ],
        [
         8.717573165893555,
         -53.97533416748047
        ],
        [
         8.717475891113281,
         -53.97525405883789
        ],
        [
         8.717409133911133,
         -53.975196838378906
        ],
        [
         8.717266082763672,
         -53.97507858276367
        ],
        [
         8.717164993286133,
         -53.9749870300293
        ],
        [
         8.717062950134277,
         -53.97490310668945
        ],
        [
         8.716963768005371,
         -53.974822998046875
        ],
        [
         8.716864585876465,
         -53.974735260009766
        ],
        [
         8.716760635375977,
         -53.97464370727539
        ],
        [
         8.7166166305542,
         -53.97452926635742
        ],
        [
         8.71651840209961,
         -53.97444534301758
        ],
        [
         8.716422080993652,
         -53.974361419677734
        ],
        [
         8.716320991516113,
         -53.974273681640625
        ],
        [
         8.716214179992676,
         -53.97418212890625
        ],
        [
         8.716103553771973,
         -53.97409439086914
        ],
        [
         8.715974807739258,
         -53.97398376464844
        ],
        [
         8.715880393981934,
         -53.973899841308594
        ],
        [
         8.715774536132812,
         -53.973812103271484
        ],
        [
         8.71566390991211,
         -53.973724365234375
        ],
        [
         8.715561866760254,
         -53.973636627197266
        ],
        [
         8.715434074401855,
         -53.9735221862793
        ],
        [
         8.71533203125,
         -53.97344207763672
        ],
        [
         8.715228080749512,
         -53.97335433959961
        ],
        [
         8.715124130249023,
         -53.973262786865234
        ],
        [
         8.715018272399902,
         -53.97317886352539
        ],
        [
         8.714917182922363,
         -53.97309112548828
        ],
        [
         8.714784622192383,
         -53.972984313964844
        ],
        [
         8.714678764343262,
         -53.972896575927734
        ],
        [
         8.714570045471191,
         -53.97281265258789
        ],
        [
         8.714469909667969,
         -53.97272491455078
        ],
        [
         8.714369773864746,
         -53.97264099121094
        ],
        [
         8.714265823364258,
         -53.97256088256836
        ],
        [
         8.714129447937012,
         -53.972442626953125
        ],
        [
         8.714028358459473,
         -53.972354888916016
        ],
        [
         8.713926315307617,
         -53.97227096557617
        ],
        [
         8.713822364807129,
         -53.97218704223633
        ],
        [
         8.713719367980957,
         -53.97209930419922
        ],
        [
         8.713616371154785,
         -53.972015380859375
        ],
        [
         8.713483810424805,
         -53.971900939941406
        ],
        [
         8.71337890625,
         -53.9718132019043
        ],
        [
         8.713274002075195,
         -53.97172927856445
        ],
        [
         8.713170051574707,
         -53.97164535522461
        ],
        [
         8.713068008422852,
         -53.9715576171875
        ],
        [
         8.712968826293945,
         -53.97147750854492
        ],
        [
         8.712865829467773,
         -53.97138977050781
        ],
        [
         8.712721824645996,
         -53.97127914428711
        ],
        [
         8.71261978149414,
         -53.97119140625
        ],
        [
         8.712516784667969,
         -53.97110366821289
        ],
        [
         8.71241283416748,
         -53.97102737426758
        ],
        [
         8.712309837341309,
         -53.970943450927734
        ],
        [
         8.712211608886719,
         -53.970855712890625
        ],
        [
         8.71207046508789,
         -53.97073745727539
        ],
        [
         8.711962699890137,
         -53.97065734863281
        ],
        [
         8.71186637878418,
         -53.97057342529297
        ],
        [
         8.711769104003906,
         -53.970489501953125
        ],
        [
         8.711665153503418,
         -53.970401763916016
        ],
        [
         8.71152400970459,
         -53.97028350830078
        ],
        [
         8.711420059204102,
         -53.9702033996582
        ],
        [
         8.711320877075195,
         -53.97011947631836
        ],
        [
         8.711224555969238,
         -53.970035552978516
        ],
        [
         8.711087226867676,
         -53.96992111206055
        ],
        [
         8.710977554321289,
         -53.96983337402344
        ],
        [
         8.71087646484375,
         -53.96974563598633
        ],
        [
         8.710780143737793,
         -53.96966552734375
        ],
        [
         8.710683822631836,
         -53.96957778930664
        ],
        [
         8.71058177947998,
         -53.96949768066406
        ],
        [
         8.710474967956543,
         -53.96940612792969
        ],
        [
         8.710342407226562,
         -53.96928787231445
        ],
        [
         8.710247039794922,
         -53.969207763671875
        ],
        [
         8.710150718688965,
         -53.96912384033203
        ],
        [
         8.710051536560059,
         -53.96903991699219
        ],
        [
         8.70995044708252,
         -53.96894454956055
        ],
        [
         8.709848403930664,
         -53.96885681152344
        ],
        [
         8.70971965789795,
         -53.968753814697266
        ],
        [
         8.709626197814941,
         -53.96866989135742
        ],
        [
         8.7095308303833,
         -53.96858215332031
        ],
        [
         8.709428787231445,
         -53.96849822998047
        ],
        [
         8.709328651428223,
         -53.96841049194336
        ],
        [
         8.709232330322266,
         -53.96833038330078
        ],
        [
         8.709110260009766,
         -53.96821594238281
        ],
        [
         8.709012031555176,
         -53.9681282043457
        ],
        [
         8.708910942077637,
         -53.96804428100586
        ],
        [
         8.70881175994873,
         -53.967960357666016
        ],
        [
         8.708717346191406,
         -53.967872619628906
        ],
        [
         8.708621978759766,
         -53.96778869628906
        ],
        [
         8.708490371704102,
         -53.967674255371094
        ],
        [
         8.708390235900879,
         -53.96759033203125
        ],
        [
         8.708293914794922,
         -53.96750259399414
        ],
        [
         8.7081937789917,
         -53.9674186706543
        ],
        [
         8.70809268951416,
         -53.96733474731445
        ],
        [
         8.707962036132812,
         -53.96722412109375
        ],
        [
         8.707862854003906,
         -53.96713638305664
        ],
        [
         8.707762718200684,
         -53.9670524597168
        ],
        [
         8.707660675048828,
         -53.96696472167969
        ],
        [
         8.707559585571289,
         -53.96688461303711
        ],
        [
         8.707429885864258,
         -53.96677017211914
        ],
        [
         8.707327842712402,
         -53.96669006347656
        ],
        [
         8.707229614257812,
         -53.96660232543945
        ],
        [
         8.70712661743164,
         -53.96651840209961
        ],
        [
         8.707027435302734,
         -53.966434478759766
        ],
        [
         8.706930160522461,
         -53.96635437011719
        ],
        [
         8.706798553466797,
         -53.96623992919922
        ],
        [
         8.70669937133789,
         -53.966156005859375
        ],
        [
         8.706598281860352,
         -53.96607208251953
        ],
        [
         8.706499099731445,
         -53.96599197387695
        ],
        [
         8.706400871276855,
         -53.96590805053711
        ],
        [
         8.70627212524414,
         -53.96579360961914
        ],
        [
         8.706171035766602,
         -53.96571350097656
        ],
        [
         8.706073760986328,
         -53.96562957763672
        ],
        [
         8.705979347229004,
         -53.96554183959961
        ],
        [
         8.705880165100098,
         -53.965457916259766
        ],
        [
         8.705782890319824,
         -53.965370178222656
        ],
        [
         8.70565414428711,
         -53.96525955200195
        ],
        [
         8.705557823181152,
         -53.965171813964844
        ],
        [
         8.705460548400879,
         -53.965091705322266
        ],
        [
         8.705364227294922,
         -53.965003967285156
        ],
        [
         8.705266952514648,
         -53.96492004394531
        ],
        [
         8.705172538757324,
         -53.96483612060547
        ],
        [
         8.705046653747559,
         -53.964717864990234
        ],
        [
         8.704947471618652,
         -53.964630126953125
        ],
        [
         8.704854965209961,
         -53.96454620361328
        ],
        [
         8.704760551452637,
         -53.96445846557617
        ],
        [
         8.704666137695312,
         -53.96437072753906
        ],
        [
         8.704534530639648,
         -53.964256286621094
        ],
        [
         8.704437255859375,
         -53.964168548583984
        ],
        [
         8.704345703125,
         -53.964080810546875
        ],
        [
         8.704252243041992,
         -53.9640007019043
        ],
        [
         8.704154968261719,
         -53.96391296386719
        ],
        [
         8.70405101776123,
         -53.96382522583008
        ],
        [
         8.703920364379883,
         -53.96371841430664
        ],
        [
         8.703828811645508,
         -53.96363830566406
        ],
        [
         8.703730583190918,
         -53.963558197021484
        ],
        [
         8.703627586364746,
         -53.96347427368164
        ],
        [
         8.703527450561523,
         -53.9633903503418
        ],
        [
         8.7034330368042,
         -53.96330261230469
        ],
        [
         8.703303337097168,
         -53.963199615478516
        ],
        [
         8.703204154968262,
         -53.96311950683594
        ],
        [
         8.703109741210938,
         -53.963035583496094
        ],
        [
         8.703009605407715,
         -53.96295166015625
        ],
        [
         8.702906608581543,
         -53.96287155151367
        ],
        [
         8.702811241149902,
         -53.962791442871094
        ],
        [
         8.702717781066895,
         -53.962711334228516
        ],
        [
         8.70258903503418,
         -53.96260452270508
        ],
        [
         8.702486991882324,
         -53.96251678466797
        ],
        [
         8.702387809753418,
         -53.96243667602539
        ],
        [
         8.702290534973145,
         -53.96235656738281
        ],
        [
         8.702199935913086,
         -53.96227264404297
        ],
        [
         8.702101707458496,
         -53.962188720703125
        ],
        [
         8.701969146728516,
         -53.96207809448242
        ],
        [
         8.701874732971191,
         -53.96199417114258
        ],
        [
         8.701778411865234,
         -53.9619140625
        ],
        [
         8.70168399810791,
         -53.96182632446289
        ],
        [
         8.701583862304688,
         -53.96175003051758
        ],
        [
         8.701459884643555,
         -53.961639404296875
        ],
        [
         8.701363563537598,
         -53.96155548095703
        ],
        [
         8.701266288757324,
         -53.96146774291992
        ],
        [
         8.701168060302734,
         -53.96138381958008
        ],
        [
         8.701075553894043,
         -53.9613037109375
        ],
        [
         8.700957298278809,
         -53.96118927001953
        ],
        [
         8.70085620880127,
         -53.96110534667969
        ],
        [
         8.70075511932373,
         -53.96101760864258
        ],
        [
         8.700665473937988,
         -53.96092987060547
        ],
        [
         8.70057487487793,
         -53.96084976196289
        ],
        [
         8.700483322143555,
         -53.96076583862305
        ],
        [
         8.700349807739258,
         -53.96065139770508
        ],
        [
         8.700254440307617,
         -53.96056365966797
        ],
        [
         8.700165748596191,
         -53.96047592163086
        ],
        [
         8.700074195861816,
         -53.960391998291016
        ],
        [
         8.69997787475586,
         -53.96030807495117
        ],
        [
         8.69987964630127,
         -53.96022415161133
        ],
        [
         8.699790000915527,
         -53.96013259887695
        ],
        [
         8.699666976928711,
         -53.96001434326172
        ],
        [
         8.699569702148438,
         -53.95993423461914
        ],
        [
         8.699477195739746,
         -53.95985412597656
        ],
        [
         8.699384689331055,
         -53.95976638793945
        ],
        [
         8.699292182922363,
         -53.95967483520508
        ],
        [
         8.699193954467773,
         -53.9595947265625
        ],
        [
         8.699069023132324,
         -53.95948791503906
        ],
        [
         8.698973655700684,
         -53.95940399169922
        ],
        [
         8.69887924194336,
         -53.95931625366211
        ],
        [
         8.69878101348877,
         -53.95923614501953
        ],
        [
         8.698690414428711,
         -53.95915222167969
        ],
        [
         8.69859790802002,
         -53.95907211303711
        ],
        [
         8.698469161987305,
         -53.958953857421875
        ],
        [
         8.69836711883545,
         -53.95886993408203
        ],
        [
         8.698278427124023,
         -53.95878982543945
        ],
        [
         8.698188781738281,
         -53.95870590209961
        ],
        [
         8.698088645935059,
         -53.958621978759766
        ],
        [
         8.697957038879395,
         -53.9585075378418
        ],
        [
         8.697860717773438,
         -53.95842361450195
        ],
        [
         8.697771072387695,
         -53.95833969116211
        ],
        [
         8.697681427001953,
         -53.95825958251953
        ],
        [
         8.697582244873047,
         -53.95817184448242
        ],
        [
         8.697479248046875,
         -53.958091735839844
        ],
        [
         8.697385787963867,
         -53.958003997802734
        ],
        [
         8.697267532348633,
         -53.95789337158203
        ],
        [
         8.697173118591309,
         -53.95781326293945
        ],
        [
         8.697074890136719,
         -53.957725524902344
        ],
        [
         8.696976661682129,
         -53.957637786865234
        ],
        [
         8.696882247924805,
         -53.95755386352539
        ],
        [
         8.696761131286621,
         -53.95744323730469
        ],
        [
         8.696667671203613,
         -53.957359313964844
        ],
        [
         8.69657039642334,
         -53.957275390625
        ],
        [
         8.696470260620117,
         -53.95718765258789
        ],
        [
         8.696378707885742,
         -53.95710372924805
        ],
        [
         8.696285247802734,
         -53.95702362060547
        ],
        [
         8.696162223815918,
         -53.95691680908203
        ],
        [
         8.696065902709961,
         -53.95682907104492
        ],
        [
         8.695968627929688,
         -53.95674514770508
        ],
        [
         8.695870399475098,
         -53.9566650390625
        ],
        [
         8.69577693939209,
         -53.956581115722656
        ],
        [
         8.69568920135498,
         -53.95650100708008
        ],
        [
         8.695557594299316,
         -53.956390380859375
        ],
        [
         8.69545841217041,
         -53.9563102722168
        ],
        [
         8.69536304473877,
         -53.95622634887695
        ],
        [
         8.695273399353027,
         -53.956146240234375
        ],
        [
         8.69517993927002,
         -53.95606231689453
        ],
        [
         8.695083618164062,
         -53.95598220825195
        ],
        [
         8.694953918457031,
         -53.95587158203125
        ],
        [
         8.694864273071289,
         -53.95578384399414
        ],
        [
         8.694769859313965,
         -53.95570373535156
        ],
        [
         8.694676399230957,
         -53.955623626708984
        ],
        [
         8.69458293914795,
         -53.95553970336914
        ],
        [
         8.693896293640137,
         -53.95492935180664
        ],
        [
         8.693805694580078,
         -53.9548454284668
        ],
        [
         8.693682670593262,
         -53.95473861694336
        ],
        [
         8.693589210510254,
         -53.954654693603516
        ],
        [
         8.693492889404297,
         -53.954566955566406
        ],
        [
         8.693398475646973,
         -53.95448684692383
        ],
        [
         8.693306922912598,
         -53.95440673828125
        ],
        [
         8.693214416503906,
         -53.954322814941406
        ],
        [
         8.693085670471191,
         -53.9542121887207
        ],
        [
         8.692988395690918,
         -53.95412826538086
        ],
        [
         8.692893981933594,
         -53.95404815673828
        ],
        [
         8.692802429199219,
         -53.9539680480957
        ],
        [
         8.692706108093262,
         -53.953887939453125
        ],
        [
         8.692607879638672,
         -53.95380783081055
        ],
        [
         8.692479133605957,
         -53.953697204589844
        ],
        [
         8.692386627197266,
         -53.953617095947266
        ],
        [
         8.692292213439941,
         -53.95354080200195
        ],
        [
         8.692193031311035,
         -53.953460693359375
        ],
        [
         8.692098617553711,
         -53.95337677001953
        ],
        [
         8.692004203796387,
         -53.95330047607422
        ],
        [
         8.691876411437988,
         -53.95319366455078
        ],
        [
         8.691779136657715,
         -53.9531135559082
        ],
        [
         8.69168472290039,
         -53.95302963256836
        ],
        [
         8.691591262817383,
         -53.95294952392578
        ],
        [
         8.69149398803711,
         -53.95287322998047
        ],
        [
         8.691366195678711,
         -53.952762603759766
        ],
        [
         8.691240310668945,
         -53.95265579223633
        ],
        [
         8.691145896911621,
         -53.95258331298828
        ],
        [
         8.691047668457031,
         -53.9525032043457
        ],
        [
         8.690946578979492,
         -53.952423095703125
        ],
        [
         8.690851211547852,
         -53.95234298706055
        ],
        [
         8.690725326538086,
         -53.952247619628906
        ],
        [
         8.690629005432129,
         -53.952171325683594
        ],
        [
         8.690528869628906,
         -53.95208740234375
        ],
        [
         8.690428733825684,
         -53.95201110839844
        ],
        [
         8.690335273742676,
         -53.95193099975586
        ],
        [
         8.690239906311035,
         -53.95185470581055
        ],
        [
         8.690112113952637,
         -53.95174789428711
        ],
        [
         8.690011978149414,
         -53.95166778564453
        ],
        [
         8.689915657043457,
         -53.95158767700195
        ],
        [
         8.6898193359375,
         -53.951507568359375
        ],
        [
         8.689726829528809,
         -53.9514274597168
        ],
        [
         8.689626693725586,
         -53.951351165771484
        ],
        [
         8.689497947692871,
         -53.95124053955078
        ],
        [
         8.689403533935547,
         -53.9511604309082
        ],
        [
         8.689310073852539,
         -53.951080322265625
        ],
        [
         8.689210891723633,
         -53.95100021362305
        ],
        [
         8.68911361694336,
         -53.95092010498047
        ],
        [
         8.689021110534668,
         -53.950836181640625
        ],
        [
         8.68889331817627,
         -53.95072937011719
        ],
        [
         8.688796997070312,
         -53.95064926147461
        ],
        [
         8.688702583312988,
         -53.950565338134766
        ],
        [
         8.688606262207031,
         -53.95048522949219
        ],
        [
         8.688509941101074,
         -53.950401306152344
        ],
        [
         8.688413619995117,
         -53.950321197509766
        ],
        [
         8.688287734985352,
         -53.95021057128906
        ],
        [
         8.688191413879395,
         -53.950130462646484
        ],
        [
         8.688092231750488,
         -53.95004653930664
        ],
        [
         8.687993049621582,
         -53.94996643066406
        ],
        [
         8.687897682189941,
         -53.949886322021484
        ],
        [
         8.68780517578125,
         -53.94980239868164
        ],
        [
         8.687670707702637,
         -53.9496955871582
        ],
        [
         8.68757152557373,
         -53.94961166381836
        ],
        [
         8.687477111816406,
         -53.94953155517578
        ],
        [
         8.68738079071045,
         -53.94945526123047
        ],
        [
         8.687280654907227,
         -53.949371337890625
        ],
        [
         8.687148094177246,
         -53.94926071166992
        ],
        [
         8.68704891204834,
         -53.94918441772461
        ],
        [
         8.686956405639648,
         -53.94910430908203
        ],
        [
         8.686857223510742,
         -53.94902420043945
        ],
        [
         8.686752319335938,
         -53.94894027709961
        ],
        [
         8.686650276184082,
         -53.94886016845703
        ],
        [
         8.68655776977539,
         -53.94878387451172
        ],
        [
         8.68642807006836,
         -53.94868087768555
        ],
        [
         8.686321258544922,
         -53.9485969543457
        ],
        [
         8.686219215393066,
         -53.948516845703125
        ],
        [
         8.68612289428711,
         -53.94844055175781
        ],
        [
         8.686030387878418,
         -53.948360443115234
        ],
        [
         8.685894966125488,
         -53.9482536315918
        ],
        [
         8.685789108276367,
         -53.94817352294922
        ],
        [
         8.685688018798828,
         -53.948097229003906
        ],
        [
         8.685592651367188,
         -53.94801712036133
        ],
        [
         8.685500144958496,
         -53.947940826416016
        ],
        [
         8.685364723205566,
         -53.947837829589844
        ],
        [
         8.685257911682129,
         -53.94776153564453
        ],
        [
         8.685161590576172,
         -53.94767761230469
        ],
        [
         8.685070991516113,
         -53.947601318359375
        ],
        [
         8.684972763061523,
         -53.94752883911133
        ],
        [
         8.684904098510742,
         -53.94747543334961
        ],
        [
         8.684768676757812,
         -53.94736862182617
        ],
        [
         8.684674263000488,
         -53.947288513183594
        ],
        [
         8.684575080871582,
         -53.94721221923828
        ],
        [
         8.68447494506836,
         -53.947139739990234
        ],
        [
         8.684380531311035,
         -53.947059631347656
        ],
        [
         8.684281349182129,
         -53.946983337402344
        ],
        [
         8.684144973754883,
         -53.94688034057617
        ],
        [
         8.684046745300293,
         -53.94680404663086
        ],
        [
         8.683952331542969,
         -53.94672393798828
        ],
        [
         8.683853149414062,
         -53.946651458740234
        ],
        [
         8.683723449707031,
         -53.94654846191406
        ],
        [
         8.683625221252441,
         -53.946468353271484
        ],
        [
         8.683526992797852,
         -53.946388244628906
        ],
        [
         8.683431625366211,
         -53.94631576538086
        ],
        [
         8.683338165283203,
         -53.94623565673828
        ],
        [
         8.683239936828613,
         -53.9461555480957
        ],
        [
         8.683110237121582,
         -53.946044921875
        ],
        [
         8.683012008666992,
         -53.94597625732422
        ],
        [
         8.682924270629883,
         -53.945892333984375
        ],
        [
         8.68282699584961,
         -53.94581604003906
        ],
        [
         8.682726860046387,
         -53.945735931396484
        ],
        [
         8.682632446289062,
         -53.94565963745117
        ],
        [
         8.68254280090332,
         -53.94558334350586
        ],
        [
         8.682418823242188,
         -53.945472717285156
        ],
        [
         8.68232536315918,
         -53.94539260864258
        ],
        [
         8.682223320007324,
         -53.94532012939453
        ],
        [
         8.682132720947266,
         -53.94524002075195
        ],
        [
         8.682045936584473,
         -53.945159912109375
        ],
        [
         8.681947708129883,
         -53.9450798034668
        ],
        [
         8.681818008422852,
         -53.944969177246094
        ],
        [
         8.681724548339844,
         -53.94489669799805
        ],
        [
         8.681635856628418,
         -53.94481658935547
        ],
        [
         8.681544303894043,
         -53.94473648071289
        ],
        [
         8.681447982788086,
         -53.94465255737305
        ],
        [
         8.681347846984863,
         -53.9445686340332
        ],
        [
         8.68122386932373,
         -53.94446563720703
        ],
        [
         8.68113899230957,
         -53.94438552856445
        ],
        [
         8.681045532226562,
         -53.94430160522461
        ],
        [
         8.680946350097656,
         -53.9442138671875
        ],
        [
         8.680843353271484,
         -53.94413375854492
        ],
        [
         8.680755615234375,
         -53.944053649902344
        ],
        [
         8.680638313293457,
         -53.943946838378906
        ],
        [
         8.680541038513184,
         -53.94386291503906
        ],
        [
         8.680438041687012,
         -53.943782806396484
        ],
        [
         8.680339813232422,
         -53.94370651245117
        ],
        [
         8.680252075195312,
         -53.943626403808594
        ],
        [
         8.680159568786621,
         -53.94354248046875
        ],
        [
         8.680063247680664,
         -53.94346237182617
        ],
        [
         8.679925918579102,
         -53.943355560302734
        ],
        [
         8.679837226867676,
         -53.943275451660156
        ],
        [
         8.679746627807617,
         -53.94319152832031
        ],
        [
         8.679647445678711,
         -53.943111419677734
        ],
        [
         8.679547309875488,
         -53.943031311035156
        ],
        [
         8.679452896118164,
         -53.94295120239258
        ],
        [
         8.679329872131348,
         -53.94284439086914
        ],
        [
         8.679228782653809,
         -53.9427604675293
        ],
        [
         8.679129600524902,
         -53.94267654418945
        ],
        [
         8.679034233093262,
         -53.94260025024414
        ],
        [
         8.678939819335938,
         -53.94252014160156
        ],
        [
         8.67880916595459,
         -53.942413330078125
        ],
        [
         8.678709983825684,
         -53.94232940673828
        ],
        [
         8.678609848022461,
         -53.94225311279297
        ],
        [
         8.678513526916504,
         -53.94217300415039
        ],
        [
         8.678418159484863,
         -53.94209671020508
        ],
        [
         8.678285598754883,
         -53.94198989868164
        ],
        [
         8.67818546295166,
         -53.9419059753418
        ],
        [
         8.678086280822754,
         -53.94182586669922
        ],
        [
         8.677993774414062,
         -53.941749572753906
        ],
        [
         8.677897453308105,
         -53.94166946411133
        ],
        [
         8.6777982711792,
         -53.94158935546875
        ],
        [
         8.677699089050293,
         -53.94150924682617
        ],
        [
         8.677574157714844,
         -53.94139862060547
        ],
        [
         8.677480697631836,
         -53.941322326660156
        ],
        [
         8.677383422851562,
         -53.94124221801758
        ],
        [
         8.677288055419922,
         -53.941158294677734
        ],
        [
         8.677193641662598,
         -53.941078186035156
        ],
        [
         8.677099227905273,
         -53.94099426269531
        ],
        [
         8.676971435546875,
         -53.940887451171875
        ],
        [
         8.676876068115234,
         -53.9408073425293
        ],
        [
         8.67678165435791,
         -53.94072723388672
        ],
        [
         8.676687240600586,
         -53.94063949584961
        ],
        [
         8.676587104797363,
         -53.94055938720703
        ],
        [
         8.676490783691406,
         -53.94047927856445
        ],
        [
         8.676366806030273,
         -53.940372467041016
        ],
        [
         8.676273345947266,
         -53.94029235839844
        ],
        [
         8.676172256469727,
         -53.940208435058594
        ],
        [
         8.676072120666504,
         -53.940128326416016
        ],
        [
         8.675980567932129,
         -53.94004821777344
        ],
        [
         8.675886154174805,
         -53.93996810913086
        ],
        [
         8.675756454467773,
         -53.93986129760742
        ],
        [
         8.675654411315918,
         -53.939781188964844
        ],
        [
         8.675557136535645,
         -53.939701080322266
        ],
        [
         8.675461769104004,
         -53.93962478637695
        ],
        [
         8.67536735534668,
         -53.939544677734375
        ],
        [
         8.675233840942383,
         -53.93943786621094
        ],
        [
         8.675135612487793,
         -53.93935775756836
        ],
        [
         8.675040245056152,
         -53.93927764892578
        ],
        [
         8.674944877624512,
         -53.93919372558594
        ],
        [
         8.674851417541504,
         -53.93911361694336
        ],
        [
         8.67475414276123,
         -53.939029693603516
        ],
        [
         8.67462158203125,
         -53.93892288208008
        ],
        [
         8.674527168273926,
         -53.938838958740234
        ],
        [
         8.674433708190918,
         -53.938758850097656
        ],
        [
         8.674338340759277,
         -53.93867492675781
        ],
        [
         8.674237251281738,
         -53.938602447509766
        ],
        [
         8.674139976501465,
         -53.93851852416992
        ],
        [
         8.674015998840332,
         -53.938411712646484
        ],
        [
         8.673921585083008,
         -53.938331604003906
        ],
        [
         8.673824310302734,
         -53.938255310058594
        ],
        [
         8.673727035522461,
         -53.93817901611328
        ],
        [
         8.673632621765137,
         -53.93809127807617
        ],
        [
         8.673503875732422,
         -53.93798828125
        ],
        [
         8.67341136932373,
         -53.93790817260742
        ],
        [
         8.673316955566406,
         -53.937828063964844
        ],
        [
         8.673218727111816,
         -53.937747955322266
        ],
        [
         8.673121452331543,
         -53.93766403198242
        ],
        [
         8.672999382019043,
         -53.937557220458984
        ],
        [
         8.672904014587402,
         -53.937477111816406
        ],
        [
         8.672805786132812,
         -53.93739700317383
        ],
        [
         8.672710418701172,
         -53.93731689453125
        ],
        [
         8.672615051269531,
         -53.937232971191406
        ],
        [
         8.672489166259766,
         -53.93712615966797
        ],
        [
         8.672391891479492,
         -53.93704605102539
        ],
        [
         8.672295570373535,
         -53.93696975708008
        ],
        [
         8.672203063964844,
         -53.936885833740234
        ],
        [
         8.672104835510254,
         -53.936805725097656
        ],
        [
         8.67200756072998,
         -53.93672180175781
        ],
        [
         8.671878814697266,
         -53.93661880493164
        ],
        [
         8.671788215637207,
         -53.93653869628906
        ],
        [
         8.671692848205566,
         -53.936458587646484
        ],
        [
         8.671592712402344,
         -53.93637466430664
        ],
        [
         8.671496391296387,
         -53.93629455566406
        ],
        [
         8.671407699584961,
         -53.936214447021484
        ],
        [
         8.671279907226562,
         -53.93610763549805
        ],
        [
         8.671178817749023,
         -53.93602752685547
        ],
        [
         8.671086311340332,
         -53.93593978881836
        ],
        [
         8.670992851257324,
         -53.93585968017578
        ],
        [
         8.670900344848633,
         -53.9357795715332
        ],
        [
         8.67080307006836,
         -53.93570327758789
        ],
        [
         8.670677185058594,
         -53.93558120727539
        ],
        [
         8.670578002929688,
         -53.93550491333008
        ],
        [
         8.670487403869629,
         -53.9354248046875
        ],
        [
         8.670397758483887,
         -53.93534469604492
        ],
        [
         8.670302391052246,
         -53.93526077270508
        ],
        [
         8.67020320892334,
         -53.935176849365234
        ],
        [
         8.670079231262207,
         -53.93506622314453
        ],
        [
         8.669988632202148,
         -53.93498611450195
        ],
        [
         8.669894218444824,
         -53.93490219116211
        ],
        [
         8.669797897338867,
         -53.934818267822266
        ],
        [
         8.669700622558594,
         -53.93473815917969
        ],
        [
         8.669607162475586,
         -53.934661865234375
        ],
        [
         8.66948413848877,
         -53.934547424316406
        ],
        [
         8.669387817382812,
         -53.93446350097656
        ],
        [
         8.669292449951172,
         -53.93437957763672
        ],
        [
         8.66919994354248,
         -53.93429946899414
        ],
        [
         8.669107437133789,
         -53.9342155456543
        ],
        [
         8.669012069702148,
         -53.93412780761719
        ],
        [
         8.66888427734375,
         -53.934017181396484
        ],
        [
         8.668789863586426,
         -53.933937072753906
        ],
        [
         8.66869831085205,
         -53.93385314941406
        ],
        [
         8.668603897094727,
         -53.93376922607422
        ],
        [
         8.66850757598877,
         -53.933685302734375
        ],
        [
         8.668411254882812,
         -53.9336051940918
        ],
        [
         8.668286323547363,
         -53.93349838256836
        ],
        [
         8.668192863464355,
         -53.93341827392578
        ],
        [
         8.668094635009766,
         -53.9333381652832
        ],
        [
         8.667998313903809,
         -53.93325424194336
        ],
        [
         8.667901992797852,
         -53.93317794799805
        ],
        [
         8.667806625366211,
         -53.933101654052734
        ],
        [
         8.66771411895752,
         -53.93302536010742
        ],
        [
         8.667585372924805,
         -53.932918548583984
        ],
        [
         8.667489051818848,
         -53.932838439941406
        ],
        [
         8.66739273071289,
         -53.932762145996094
        ],
        [
         8.667303085327148,
         -53.932682037353516
        ],
        [
         8.667210578918457,
         -53.9326057434082
        ],
        [
         8.667115211486816,
         -53.932525634765625
        ],
        [
         8.667019844055176,
         -53.93244934082031
        ],
        [
         8.666901588439941,
         -53.932334899902344
        ],
        [
         8.66680908203125,
         -53.93225860595703
        ],
        [
         8.66671371459961,
         -53.93217468261719
        ],
        [
         8.666622161865234,
         -53.93209457397461
        ],
        [
         8.666531562805176,
         -53.93201446533203
        ],
        [
         8.666440963745117,
         -53.93193054199219
        ],
        [
         8.666314125061035,
         -53.93182373046875
        ],
        [
         8.666215896606445,
         -53.93174362182617
        ],
        [
         8.66612720489502,
         -53.931663513183594
        ],
        [
         8.666036605834961,
         -53.931583404541016
        ],
        [
         8.665942192077637,
         -53.93149948120117
        ],
        [
         8.665811538696289,
         -53.931396484375
        ],
        [
         8.665719032287598,
         -53.93131637573242
        ],
        [
         8.665634155273438,
         -53.931236267089844
        ],
        [
         8.665536880493164,
         -53.931156158447266
        ],
        [
         8.665438652038574,
         -53.93107223510742
        ],
        [
         8.665349006652832,
         -53.930992126464844
        ],
        [
         8.665225982666016,
         -53.930885314941406
        ],
        [
         8.665130615234375,
         -53.93080520629883
        ],
        [
         8.665040016174316,
         -53.930721282958984
        ],
        [
         8.664950370788574,
         -53.93063735961914
        ],
        [
         8.664855003356934,
         -53.93055725097656
        ],
        [
         8.664761543273926,
         -53.930477142333984
        ],
        [
         8.664640426635742,
         -53.93036651611328
        ],
        [
         8.664548873901367,
         -53.93028259277344
        ],
        [
         8.664454460144043,
         -53.930206298828125
        ],
        [
         8.664361953735352,
         -53.93012237548828
        ],
        [
         8.664270401000977,
         -53.93003845214844
        ],
        [
         8.66417407989502,
         -53.92995834350586
        ],
        [
         8.664079666137695,
         -53.92987823486328
        ],
        [
         8.663958549499512,
         -53.92976760864258
        ],
        [
         8.663865089416504,
         -53.929683685302734
        ],
        [
         8.66376781463623,
         -53.92960739135742
        ],
        [
         8.663673400878906,
         -53.929527282714844
        ],
        [
         8.66357707977295,
         -53.929443359375
        ],
        [
         8.663453102111816,
         -53.92933654785156
        ],
        [
         8.66335678100586,
         -53.929256439208984
        ],
        [
         8.663257598876953,
         -53.929176330566406
        ],
        [
         8.663161277770996,
         -53.92909240722656
        ],
        [
         8.66306209564209,
         -53.92901611328125
        ],
        [
         8.662938117980957,
         -53.92890930175781
        ],
        [
         8.662840843200684,
         -53.928829193115234
        ],
        [
         8.662737846374512,
         -53.92875289916992
        ],
        [
         8.662639617919922,
         -53.928672790527344
        ],
        [
         8.662546157836914,
         -53.9285888671875
        ],
        [
         8.662413597106934,
         -53.928489685058594
        ],
        [
         8.661702156066895,
         -53.92790985107422
        ],
        [
         8.661602973937988,
         -53.92782974243164
        ],
        [
         8.661500930786133,
         -53.92774963378906
        ],
        [
         8.66140365600586,
         -53.927669525146484
        ],
        [
         8.66131591796875,
         -53.92758560180664
        ],
        [
         8.661216735839844,
         -53.92750930786133
        ],
        [
         8.661081314086914,
         -53.927398681640625
        ],
        [
         8.660984992980957,
         -53.92731475830078
        ],
        [
         8.660894393920898,
         -53.92723083496094
        ],
        [
         8.660798072814941,
         -53.92715072631836
        ],
        [
         8.660699844360352,
         -53.92707061767578
        ],
        [
         8.660563468933105,
         -53.92695999145508
        ],
        [
         8.660472869873047,
         -53.926876068115234
        ],
        [
         8.660378456115723,
         -53.92679214477539
        ],
        [
         8.660277366638184,
         -53.92671203613281
        ],
        [
         8.660179138183594,
         -53.92662811279297
        ],
        [
         8.66008186340332,
         -53.926544189453125
        ],
        [
         8.659955024719238,
         -53.92643737792969
        ],
        [
         8.659858703613281,
         -53.926353454589844
        ],
        [
         8.659753799438477,
         -53.926273345947266
        ],
        [
         8.65965461730957,
         -53.92619323730469
        ],
        [
         8.659561157226562,
         -53.926109313964844
        ],
        [
         8.659395217895508,
         -53.92597961425781
        ],
        [
         8.659295082092285,
         -53.925899505615234
        ],
        [
         8.659196853637695,
         -53.92582702636719
        ],
        [
         8.65910530090332,
         -53.92573928833008
        ],
        [
         8.659005165100098,
         -53.92566680908203
        ],
        [
         8.658904075622559,
         -53.92558670043945
        ],
        [
         8.658775329589844,
         -53.92549514770508
        ],
        [
         8.65868091583252,
         -53.9254150390625
        ],
        [
         8.658581733703613,
         -53.92534255981445
        ],
        [
         8.65848159790039,
         -53.92526626586914
        ],
        [
         8.658387184143066,
         -53.925193786621094
        ],
        [
         8.658262252807617,
         -53.92509460449219
        ],
        [
         8.658164978027344,
         -53.92502212524414
        ],
        [
         8.658069610595703,
         -53.92494583129883
        ],
        [
         8.657975196838379,
         -53.924869537353516
        ],
        [
         8.657881736755371,
         -53.92479705810547
        ],
        [
         8.657793045043945,
         -53.924720764160156
        ],
        [
         8.657695770263672,
         -53.92464065551758
        ],
        [
         8.65756893157959,
         -53.92453384399414
        ],
        [
         8.65748119354248,
         -53.92445755004883
        ],
        [
         8.657389640808105,
         -53.924381256103516
        ],
        [
         8.657297134399414,
         -53.92429733276367
        ],
        [
         8.657200813293457,
         -53.92421340942383
        ],
        [
         8.65710735321045,
         -53.924137115478516
        ],
        [
         8.656989097595215,
         -53.92403030395508
        ],
        [
         8.65689754486084,
         -53.9239501953125
        ],
        [
         8.656801223754883,
         -53.923866271972656
        ],
        [
         8.656702041625977,
         -53.92378234863281
        ],
        [
         8.656612396240234,
         -53.9237060546875
        ],
        [
         8.656493186950684,
         -53.9235954284668
        ],
        [
         8.65639591217041,
         -53.92351531982422
        ],
        [
         8.656296730041504,
         -53.923431396484375
        ],
        [
         8.656203269958496,
         -53.9233512878418
        ],
        [
         8.656112670898438,
         -53.92327117919922
        ],
        [
         8.656023979187012,
         -53.923194885253906
        ],
        [
         8.655922889709473,
         -53.92311096191406
        ],
        [
         8.655790328979492,
         -53.92300033569336
        ],
        [
         8.655699729919434,
         -53.92292785644531
        ],
        [
         8.655610084533691,
         -53.922847747802734
        ],
        [
         8.655508995056152,
         -53.92277145385742
        ],
        [
         8.655406951904297,
         -53.92268371582031
        ],
        [
         8.655281066894531,
         -53.922576904296875
        ],
        [
         8.65518856048584,
         -53.92250061035156
        ],
        [
         8.655096054077148,
         -53.922420501708984
        ],
        [
         8.654997825622559,
         -53.92233657836914
        ],
        [
         8.65489673614502,
         -53.9222526550293
        ],
        [
         8.654805183410645,
         -53.92217254638672
        ],
        [
         8.654682159423828,
         -53.92206573486328
        ],
        [
         8.654587745666504,
         -53.92198181152344
        ],
        [
         8.654494285583496,
         -53.921897888183594
        ],
        [
         8.654393196105957,
         -53.921817779541016
        ],
        [
         8.654297828674316,
         -53.92173385620117
        ],
        [
         8.65420913696289,
         -53.921653747558594
        ],
        [
         8.654085159301758,
         -53.92154312133789
        ],
        [
         8.653985977172852,
         -53.92146301269531
        ],
        [
         8.653889656066895,
         -53.9213752746582
        ],
        [
         8.65379524230957,
         -53.92129135131836
        ],
        [
         8.653701782226562,
         -53.92121124267578
        ],
        [
         8.653613090515137,
         -53.9211311340332
        ],
        [
         8.653480529785156,
         -53.921016693115234
        ],
        [
         8.653377532958984,
         -53.92093276977539
        ]
       ],
       "name": "merian position",
       "no_clip": true,
       "opacity": 1.0,
       "options": [
        "color",
        "dash_array",
        "draggable",
        "fill",
        "fill_color",
        "fill_opacity",
        "line_cap",
        "line_join",
        "no_clip",
        "opacity",
        "pointer_events",
        "smooth_factor",
        "stroke",
        "transform",
        "weight"
       ],
       "pointer_events": "",
       "popup": null,
       "popup_max_height": null,
       "popup_max_width": 300,
       "popup_min_width": 50,
       "rotation": true,
       "scaling": true,
       "smooth_factor": 1.0,
       "stroke": true,
       "transform": false,
       "uniform_scaling": false,
       "weight": 4
      }
     }
    },
    "version_major": 2,
    "version_minor": 0
   }
  }
 },
 "nbformat": 4,
 "nbformat_minor": 5
}