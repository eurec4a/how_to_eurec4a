{
 "cells": [
  {
   "cell_type": "markdown",
   "id": "7b680c6d",
   "metadata": {},
   "source": [
    "# Cloud radar data collected at the Barbados Cloud Observatory (BCO)\n",
    "\n",
    "```{figure} figures/coral_radar.jpg\n",
    ":alt: BCO\n",
    ":width: 400px\n",
    ":align: center\n",
    "```\n",
    "\n",
    "## General information\n",
    "\n",
    "The polarised 35.5 GHz Doppler radar is part of the Combined Radar And Lidar instrument (CORAL) at the Barbados Cloud Observatory (BCO). It has a sensitivity of -48 dBZ at an altitude of 5 km and -70 dBZ at an altitude of 500 m. The radar has a range gating of 31.18 m and measures at ranges between 150 m and 18.9 km. It operates in a zenith looking mode, so that range gating effectively measures distance in the vertical. To measure the vertical velocity the radar uses the Doppler technique with an FFT of 256 samples, giving it a Doppler resolution of < 0.02 ms$^{-1}$ between -10 and 10 ms$^{-1}$. The radar is able to provide the linear depolarisation ratio (LDR), which can be used for a target classification based on their shape. Data processing and radar calibration are done by following {cite:t}`Gorsdorf:2015`, which leads to an uncertainty of 1.3 dB.\n",
    "\n",
    "## Radar characteristics\n",
    "\n",
    "| Characteristic              | CORAL Ka-band radar                 |\n",
    "| --------------------------- | ------------------------------------|\n",
    "| Radar type                  |  Mono static, pulsed, magnetron     |\n",
    "| Frequency                   |  35.5 GHz $\\pm$ 150 MHz             |\n",
    "| Peak power                  |  30 kW                              |\n",
    "| Pulse width                 |  200 ns for 30 m range resolution   |\n",
    "| Doppler velocity resolution |  0.02 ms$^{-1}$                     |\n",
    "| Diameter of antenna         |  2 m                                |\n",
    "| Antenna beam width          |  0.3 deg x 0.3 deg                  |\n",
    "| Sensitivity                 |  -48 dBZ at 5 km, -70 dBZ at 500 m  |\n",
    "\n",
    "### Getting the data catalog\n",
    "\n",
    "The python code below allows you to analyze the available measurements within January/February 2020."
   ]
  },
  {
   "cell_type": "code",
   "execution_count": null,
   "id": "d2ccf007",
   "metadata": {},
   "outputs": [],
   "source": [
    "from datetime import datetime\n",
    "import matplotlib.pyplot as plt\n",
    "import pathlib\n",
    "plt.style.use([pathlib.Path(\"./mplstyle/book\"), pathlib.Path(\"./mplstyle/wide\")])\n",
    "import numpy as np\n",
    "import eurec4a\n",
    "cat = eurec4a.get_intake_catalog()"
   ]
  },
  {
   "cell_type": "markdown",
   "id": "d8ea3f9b",
   "metadata": {},
   "source": [
    "### Getting the data from the BCO Ka-band radar\n",
    "To get a list of BCO datasets that are available within the catalog, type:"
   ]
  },
  {
   "cell_type": "code",
   "execution_count": null,
   "id": "8913fb32",
   "metadata": {},
   "outputs": [],
   "source": [
    "list(cat['barbados.bco'])"
   ]
  },
  {
   "cell_type": "markdown",
   "id": "735396b2",
   "metadata": {},
   "source": [
    "### Loading the radar dataset\n",
    "The entire radar dataset of the BCO Ka-band radar can be loaded lazy, i.e. only loading the metadata and not the data such like radar reflectivity itself, by typing:"
   ]
  },
  {
   "cell_type": "code",
   "execution_count": null,
   "id": "a04de9aa",
   "metadata": {},
   "outputs": [],
   "source": [
    "ds = cat.barbados.bco.radar_reflectivity.to_dask()"
   ]
  },
  {
   "cell_type": "markdown",
   "id": "2aab4ecc",
   "metadata": {},
   "source": [
    "The variables that this dataset contains can be shown by typing:"
   ]
  },
  {
   "cell_type": "code",
   "execution_count": null,
   "id": "127e02ae",
   "metadata": {},
   "outputs": [],
   "source": [
    "ds"
   ]
  },
  {
   "cell_type": "markdown",
   "id": "42a17c19",
   "metadata": {},
   "source": [
    "### Plot some radar quantities\n",
    "To create time/height plots for radar moments, pick a variable name having dimension `(time, height)` from the list of data variables and type the name in the code below. Common quantities that are used from the radar are radar reflectivity and doppler velocity. The radar reflectivity that is corrected for \"rabbit ears\" is saved in `Zf`.\n",
    "\n",
    "In the following an example timeseries for both of these quantities is shown:\n",
    "to select the entire day :"
   ]
  },
  {
   "cell_type": "code",
   "execution_count": null,
   "id": "dfc92f63",
   "metadata": {},
   "outputs": [],
   "source": [
    "time_min = np.datetime64('2020-02-12T00:00:00')\n",
    "time_max = np.datetime64('2020-02-12T23:59:59')\n",
    "\n",
    "# selecting subset of data\n",
    "ds_sliced = ds.sel(time=slice(time_min, time_max))"
   ]
  },
  {
   "cell_type": "code",
   "execution_count": null,
   "id": "3f437c13",
   "metadata": {},
   "outputs": [],
   "source": [
    "fig, axs = plt.subplots(2,1, sharex=True)\n",
    "# set here the variable from ds to plot, its color map and its min and max values\n",
    "ds_sliced.Zf.plot(x='time', y='range', cmap=\"seismic\", ax=axs[0])\n",
    "ds_sliced.VEL.plot(x='time', y='range', cmap=\"seismic\", ax=axs[1])\n",
    "axs[1].set_xlim(time_min, time_max)\n",
    "axs[0].set_ylim(0, 4500);\n",
    "axs[1].set_ylim(0, 4500);\n",
    "axs[0].set_ylabel('range / m')\n",
    "axs[1].set_ylabel('range / m')"
   ]
  },
  {
   "cell_type": "markdown",
   "id": "8e7e0760",
   "metadata": {},
   "source": [
    "### Retrieving cloud fraction profile\n",
    "The cloud fraction profile provides information about the variability of cloudiness at different height levels. The radar is often used to retrieve such a profile, but it should be noted that cloud quantities are not easy to define (see also the section about the [HALO cloud mask product](cloudmasks.md)) and the cloud fraction profile can look very different depending on the instrument and its sensitivity. The Ka-Band radar at the BCO captures for example not only cloud and rain droplets, but also moistened sea-salt aerosols. The example below illustrates how the profiles depend on the chosen reflectivity threshold. Note, to be precise the following examples shows the echo fraction and not the cloud fraction."
   ]
  },
  {
   "cell_type": "code",
   "execution_count": null,
   "id": "da925ef4",
   "metadata": {},
   "outputs": [],
   "source": [
    "fig, ax = plt.subplots(figsize=(2,3))\n",
    "# calculate the mean cloud fraction profile\n",
    "(~np.isnan(ds_sliced.Zf.sel(range=slice(0,4500)))).mean(dim='time').plot(y='range', label='no threshold')\n",
    "# reduce sensitivity\n",
    "threshold = -50\n",
    "(ds_sliced.Zf > threshold).sel(range=slice(0,4500)).mean(dim='time').plot(y='range', label=f'{threshold} dBZ')\n",
    "plt.title(\"Mean echo fraction\")\n",
    "plt.xlabel('echo fraction')\n",
    "plt.legend();"
   ]
  },
  {
   "cell_type": "markdown",
   "id": "784cd23d",
   "metadata": {},
   "source": [
    "The threshold of -50 dBZ is chosen following {cite:t}`Klingebiel:2019` to exclude reflectivities from moistened sea-salt aerosols.\n",
    "For questions regarding the instrument, please contact the contact person given in the metadata of this dataset."
   ]
  }
 ],
 "metadata": {
  "jupytext": {
   "text_representation": {
    "extension": ".md",
    "format_name": "myst",
    "format_version": 0.13,
    "jupytext_version": "1.11.1"
   }
  },
  "kernelspec": {
   "display_name": "Python 3",
   "language": "python",
   "name": "python3"
  },
  "source_map": [
   12,
   43,
   51,
   56,
   58,
   63,
   65,
   69,
   71,
   78,
   86,
   96,
   101,
   111
  ]
 },
 "nbformat": 4,
 "nbformat_minor": 5
}