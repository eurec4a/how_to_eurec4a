{
 "cells": [
  {
   "cell_type": "markdown",
   "id": "d0d8c946",
   "metadata": {},
   "source": [
    "# VELOX\n",
    "\n",
    "Video airbornE Longwave Observations within siX channels\n",
    "\n",
    "VELOX is a thermal infrared spectral imager (VELOX327k veL, 640 pixel by 512 pixels) with a synchronized filter wheel (at 100 Hz) covering six spectral channels in the thermal infrared wavelength range from 7.7 to 12.0 micrometer. The instrument measures the brightness temperature of upward radiance in a field-of-view of 35.49° by 28.71°.\n",
    "\n",
    "The PI during EUREC⁴A was Michael Schäfer (University Leipzig).\n",
    "\n",
    "If you have questions or if you would like to use the data for a publication, please don't hesitate to get in contact with the dataset authors as stated in the dataset attributes `contact` or `author`.\n",
    "\n",
    "```{note}\n",
    "No data available for the transfer flights (first and last) and the first local research flight.\n",
    "```\n",
    "\n",
    "## Get data\n",
    "To load the data we first load the [EUREC⁴A intake catalog](https://github.com/eurec4a/eurec4a-intake#eurec4a-intake-catalogue) and list the available datasets from VELOX.\n",
    "Currently, there is a cloud mask product available."
   ]
  },
  {
   "cell_type": "code",
   "execution_count": null,
   "id": "077b2ed2",
   "metadata": {},
   "outputs": [],
   "source": [
    "import eurec4a\n",
    "cat = eurec4a.get_intake_catalog(use_ipfs=\"QmahMN2wgPauHYkkiTGoG2TpPBmj3p5FoYJAq9uE9iXT9N\")\n",
    "list(cat.HALO.VELOX)"
   ]
  },
  {
   "cell_type": "code",
   "execution_count": null,
   "id": "1f02622c",
   "metadata": {},
   "outputs": [],
   "source": [
    "ds = cat.HALO.VELOX.cloudmask[\"HALO-0205\"].to_dask()\n",
    "ds"
   ]
  },
  {
   "cell_type": "markdown",
   "id": "f3d64211",
   "metadata": {},
   "source": [
    "## What does the VELOX image look like at a specific dropsonde launch?  \n",
    "We can use the [flight segmentation](https://github.com/eurec4a/flight-phase-separation#segmentation-of-flights-during-eurec4a) information to select a dropsonde and further extract the corresponding VELOX image taken at the time of the dropsonde launch.  \n",
    "In particular, we select the first dropsonde with the quality flag `GOOD` from the second `circle` on February 5.  \n",
    "\n",
    "### Get dropsonde ID\n",
    "(0) we read the meta data and extract the segment IDs"
   ]
  },
  {
   "cell_type": "code",
   "execution_count": null,
   "id": "3e9ad6c6",
   "metadata": {},
   "outputs": [],
   "source": [
    "meta = eurec4a.get_flight_segments()"
   ]
  },
  {
   "cell_type": "code",
   "execution_count": null,
   "id": "377e4ae5",
   "metadata": {},
   "outputs": [],
   "source": [
    "segments = [{**s,\n",
    "             \"platform_id\": platform_id,\n",
    "             \"flight_id\": flight_id\n",
    "            }\n",
    "            for platform_id, flights in meta.items()\n",
    "            for flight_id, flight in flights.items()\n",
    "            for s in flight[\"segments\"]\n",
    "           ]"
   ]
  },
  {
   "cell_type": "markdown",
   "id": "dc7a6f08",
   "metadata": {},
   "source": [
    "(1) we extract the segment ID of the second `circle`"
   ]
  },
  {
   "cell_type": "code",
   "execution_count": null,
   "id": "fc302f0e",
   "metadata": {},
   "outputs": [],
   "source": [
    "import datetime\n",
    "\n",
    "segments_ordered_by_start_time = list(sorted(segments, key=lambda s: s[\"start\"]))\n",
    "circles_Feb05 = [s[\"segment_id\"]\n",
    "                 for s in segments_ordered_by_start_time\n",
    "                 if \"circle\" in s[\"kinds\"]\n",
    "                 and s[\"start\"].date() == datetime.date(2020,2,5)\n",
    "                 and s[\"platform_id\"] == \"HALO\"\n",
    "                ]\n",
    "second_circle_Feb05 = circles_Feb05[1]\n",
    "second_circle_Feb05"
   ]
  },
  {
   "cell_type": "markdown",
   "id": "5ce57dcf",
   "metadata": {},
   "source": [
    "(2) we extract the ID of the first dropsonde with flag `GOOD` in this circle"
   ]
  },
  {
   "cell_type": "code",
   "execution_count": null,
   "id": "bc1226da",
   "metadata": {},
   "outputs": [],
   "source": [
    "segments_by_segment_id = {s[\"segment_id\"]: s for s in segments}\n",
    "first_dropsonde = segments_by_segment_id[second_circle_Feb05][\"dropsondes\"][\"GOOD\"][0]\n",
    "first_dropsonde"
   ]
  },
  {
   "cell_type": "markdown",
   "id": "2954fd0f",
   "metadata": {},
   "source": [
    "### What is the corresponding launch time of the selected sonde?\n",
    "So far, we only made use of the flight segmentation meta data. The launch time to a given sonde is stated in the [JOANNE](https://doi.org/10.5194/essd-13-5253-2021) dataset (see also book chapter {doc}`dropsondes`). \n",
    "We use again the intake catalog to load the JOANNE dataset and extract the launch time to the selected dropsonde by it's sonde ID."
   ]
  },
  {
   "cell_type": "code",
   "execution_count": null,
   "id": "17d354bf",
   "metadata": {},
   "outputs": [],
   "source": [
    "dropsondes = cat.dropsondes.JOANNE.level3.to_dask()"
   ]
  },
  {
   "cell_type": "code",
   "execution_count": null,
   "id": "49bacfa7",
   "metadata": {},
   "outputs": [],
   "source": [
    "sonde_dt = dropsondes.sel(sonde_id=first_dropsonde).launch_time.values\n",
    "sonde_dt"
   ]
  },
  {
   "cell_type": "markdown",
   "id": "f8128e43",
   "metadata": {},
   "source": [
    "### Cloud mask plot\n",
    "Finally, we plot the VELOX image closest in time to the dropsonde launch.  \n",
    "The y-axis is in flight direction and the image consists of 640 pixel by 512 pixels. The corresponding pixel viewing sensor zenith and azimuth angles are given by the dataset variables `vza` and `vaa`."
   ]
  },
  {
   "cell_type": "code",
   "execution_count": null,
   "id": "af03790b",
   "metadata": {},
   "outputs": [],
   "source": [
    "ds_sel = ds.cloud_mask.sel(time=sonde_dt, method=\"nearest\")"
   ]
  },
  {
   "cell_type": "code",
   "execution_count": null,
   "id": "9ee8df28",
   "metadata": {},
   "outputs": [],
   "source": [
    "%matplotlib inline\n",
    "import matplotlib.pyplot as plt\n",
    "import pathlib\n",
    "plt.style.use(pathlib.Path(\"./mplstyle/book\"))\n",
    "\n",
    "fig, ax = plt.subplots()\n",
    "\n",
    "cax = ds_sel.plot(ax=ax,\n",
    "                  cmap=plt.get_cmap('Greys', lut=4),\n",
    "                  vmin=-1.5, vmax=2.5,\n",
    "                  add_colorbar=False\n",
    "                  )\n",
    "cbar = fig.colorbar(cax, ticks=ds.cloud_mask.flag_values)\n",
    "cbar.ax.set_yticklabels(ds.cloud_mask.flag_meanings.split(\" \"));\n",
    "\n",
    "ax.set_title(f\"VELOX cloud mask at {sonde_dt}\");"
   ]
  },
  {
   "cell_type": "markdown",
   "id": "dea49f66",
   "metadata": {},
   "source": [
    "What are the image cloud fraction lower and upper bounds?"
   ]
  },
  {
   "cell_type": "code",
   "execution_count": null,
   "id": "24f5200d",
   "metadata": {},
   "outputs": [],
   "source": [
    "cfmin = ds.CF_min.sel(time=sonde_dt, method=\"nearest\").values\n",
    "cfmax = ds.CF_max.sel(time=sonde_dt, method=\"nearest\").values\n",
    "print(f\"Image minimum cloud fraction (most likely cloudy): {cfmin:.2f}\")\n",
    "print(f\"Image maximum cloud fraction (most likely and probably cloudy) :{cfmax:.2f}\")"
   ]
  },
  {
   "cell_type": "markdown",
   "id": "9cab00a2",
   "metadata": {},
   "source": [
    "## Cloud fraction time series from the second circle on February 5\n",
    "\n",
    "We also want to show a time series of cloud fraction and use the segment ID from the second circle to extract and save the segment information to the variable `seg`. We can later use the segments start and end times to select the data in time."
   ]
  },
  {
   "cell_type": "code",
   "execution_count": null,
   "id": "13d10ad0",
   "metadata": {},
   "outputs": [],
   "source": [
    "seg = segments_by_segment_id[second_circle_Feb05]"
   ]
  },
  {
   "cell_type": "markdown",
   "id": "b83e0e7d",
   "metadata": {},
   "source": [
    "The dataset variable `CF_min` provides a lower bound to cloud fraction estimates based on the cloud mask flag `most_likely_cloudy`, while `CF_max` provides an upper bound by including the uncertain pixels labeled `probably cloudy`."
   ]
  },
  {
   "cell_type": "code",
   "execution_count": null,
   "id": "798712a2",
   "metadata": {},
   "outputs": [],
   "source": [
    "selection = ds.sel(time=slice(seg[\"start\"], seg[\"end\"]))\n",
    "\n",
    "with plt.style.context(\"mplstyle/wide\"):\n",
    "    fig, ax = plt.subplots()\n",
    "    selection.CF_min.plot(color=\"k\", label=\"most_likely_cloudy\")\n",
    "    selection.CF_max.plot(color=\"grey\", label=\"most_likely_cloudy\\nand probably_cloudy\")\n",
    "    ax.axvline(sonde_dt, color=\"C3\", label=\"sonde launch time\")\n",
    "    ax.set_ylim(0, 1)\n",
    "    ax.set_ylabel(\"Cloud fraction\")\n",
    "    ax.set_title(\"Second circle on February 5\")\n",
    "    ax.legend(title=\"Cloud mask flags\", bbox_to_anchor=(1,1), loc=\"upper left\");"
   ]
  }
 ],
 "metadata": {
  "jupytext": {
   "text_representation": {
    "extension": ".md",
    "format_name": "myst",
    "format_version": 0.13,
    "jupytext_version": "1.11.5"
   }
  },
  "kernelspec": {
   "display_name": "Python 3",
   "language": "python",
   "name": "python3"
  },
  "source_map": [
   12,
   32,
   38,
   41,
   50,
   54,
   63,
   67,
   79,
   83,
   87,
   93,
   97,
   100,
   106,
   110,
   127,
   131,
   136,
   142,
   144,
   148
  ]
 },
 "nbformat": 4,
 "nbformat_minor": 5
}