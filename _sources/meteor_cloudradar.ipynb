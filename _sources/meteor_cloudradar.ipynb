{
 "cells": [
  {
   "cell_type": "markdown",
   "id": "c17e16c8",
   "metadata": {},
   "source": [
    "# Reading cloud radar data\n",
    "The high resolution data has about 500 MB per file, which when read in over a remote source can lead to long wait times.\n",
    "To reduce the wait times the data can be read in lazily using dask.\n",
    "Intake will this do this by default.\n",
    "Let's obtain the EUREC4A intake catalog:"
   ]
  },
  {
   "cell_type": "code",
   "execution_count": null,
   "id": "09c1a426",
   "metadata": {},
   "outputs": [],
   "source": [
    "import eurec4a\n",
    "cat = eurec4a.get_intake_catalog(use_ipfs=\"QmahMN2wgPauHYkkiTGoG2TpPBmj3p5FoYJAq9uE9iXT9N\")"
   ]
  },
  {
   "cell_type": "markdown",
   "id": "68a4f43e",
   "metadata": {},
   "source": [
    "## Available products\n",
    "The `LIMRAD94` cloud radar offers multiple products which can be accessed using names and additional parameters.\n",
    "Let's see which products and parameters are available for the cloud radar.\n",
    "For the parameters, we are also interested in their valid range:"
   ]
  },
  {
   "cell_type": "code",
   "execution_count": null,
   "id": "92892ede",
   "metadata": {},
   "outputs": [],
   "source": [
    "for key, source in cat.Meteor.LIMRAD94.items():\n",
    "    desc = source.describe()\n",
    "    user_parameters = desc.get(\"user_parameters\", [])\n",
    "    if len(user_parameters) > 0:\n",
    "        params = \" (\" + \", \".join(p[\"name\"] for p in user_parameters) + \")\"\n",
    "    else:\n",
    "        params = \"\"\n",
    "    print(f\"{key}{params}: {desc['description']}\")\n",
    "    for parameter in user_parameters:\n",
    "        print(f\"    {parameter['name']}: {parameter['min']} ... {parameter['max']} default: {parameter['default']}\")\n",
    "    print()"
   ]
  },
  {
   "cell_type": "markdown",
   "id": "d0dde717",
   "metadata": {},
   "source": [
    "## Radar reflectivity\n",
    "We'll have a look at the `high_res` data in version 1.1. We'll keep the default date for simplicity:"
   ]
  },
  {
   "cell_type": "code",
   "execution_count": null,
   "id": "cc83525d",
   "metadata": {},
   "outputs": [],
   "source": [
    "ds = cat.Meteor.LIMRAD94.high_res(version=1.1).to_dask()\n",
    "ds"
   ]
  },
  {
   "cell_type": "markdown",
   "id": "1bbf9810",
   "metadata": {},
   "source": [
    "Explore the dataset and choose the variable you want to work with.\n",
    "The variables are loaded lazily, i.e. only when their content is really required to complete the operation.\n",
    "An example which forces the data to load is plotting, in this case only the radar reflectivity will be loaded."
   ]
  },
  {
   "cell_type": "code",
   "execution_count": null,
   "id": "6ca26a07",
   "metadata": {},
   "outputs": [],
   "source": [
    "%matplotlib inline\n",
    "import matplotlib.pyplot as plt\n",
    "import pathlib\n",
    "plt.style.use(pathlib.Path(\"./mplstyle/book\"))\n",
    "\n",
    "ds.Zh.plot(x='time', cmap=\"Spectral_r\")  # plot the variable with time as the x axis\n",
    "plt.ylim(0, 3000);"
   ]
  }
 ],
 "metadata": {
  "jupytext": {
   "text_representation": {
    "extension": ".md",
    "format_name": "myst",
    "format_version": 0.12,
    "jupytext_version": "1.7.1"
   }
  },
  "kernelspec": {
   "display_name": "Python 3",
   "language": "python",
   "name": "python3"
  },
  "source_map": [
   12,
   20,
   23,
   30,
   42,
   47,
   50,
   56
  ]
 },
 "nbformat": 4,
 "nbformat_minor": 5
}