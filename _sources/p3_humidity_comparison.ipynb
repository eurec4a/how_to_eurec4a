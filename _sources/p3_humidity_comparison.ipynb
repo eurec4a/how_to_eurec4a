{
 "cells": [
  {
   "cell_type": "markdown",
   "id": "fce96ca9",
   "metadata": {},
   "source": [
    "# Humidity comparison: Hygrometer and isotope analyzer\n",
    "\n",
    "During EUREC⁴A and ATOMIC the P3 made two _in situ_ measurements of humidity, one  \n",
    "with the normal chilled-mirror hygrometer, and one with a cavity ring down spectrometer.\n",
    "The spectrometer's main purpose was to measure isotopes of water vapor but it's\n",
    "good for the total humidty as well.\n",
    "\n",
    "For this example we need to plot some `xarray` datasets from the catalog."
   ]
  },
  {
   "cell_type": "code",
   "execution_count": null,
   "id": "e0335e12",
   "metadata": {},
   "outputs": [],
   "source": [
    "import xarray as xr\n",
    "import numpy as np\n",
    "\n",
    "import matplotlib.pyplot as plt\n",
    "import pathlib\n",
    "plt.style.use(pathlib.Path(\"./mplstyle/book\"))\n",
    "import colorcet as cc\n",
    "%matplotlib inline\n",
    "\n",
    "import eurec4a\n",
    "cat = eurec4a.get_intake_catalog(use_ipfs=\"QmahMN2wgPauHYkkiTGoG2TpPBmj3p5FoYJAq9uE9iXT9N\")"
   ]
  },
  {
   "cell_type": "markdown",
   "id": "e290eff5",
   "metadata": {},
   "source": [
    "We'll create a combined data with relative humidity from the aircraft hygrometer\n",
    "(\"fl\" means \"flight level\") and the water vapor isotope analyzer (\"iso\")\n",
    "from a single flight. Drop (remove) times when the aircraft is on the ground."
   ]
  },
  {
   "cell_type": "code",
   "execution_count": null,
   "id": "4bdd1742",
   "metadata": {},
   "outputs": [],
   "source": [
    "fl = cat.P3.flight_level[\"P3-0119\"].to_dask()\n",
    "pi = cat.P3.isotope_analyzer.water_vapor_1hz[\"P3-0119\"].to_dask()\n",
    "rhs = xr.Dataset({\"press\" :fl[\"press\"],\n",
    "                  \"alt\"   :fl[\"alt\"],\n",
    "                  \"rh_p3\" :fl[\"RH\"],\n",
    "                  \"rh_iso\":pi[\"rh_iso\"]}).compute()\n",
    "rhs = rhs.where(rhs.alt > 80., drop = True)"
   ]
  },
  {
   "cell_type": "markdown",
   "id": "1736a517",
   "metadata": {},
   "source": [
    "Adriana Bailey from NCAR, who was responsible for the isotope analyzer, finds\n",
    "that while the two instruments agree most of the time, the hygrometer is subject\n",
    "to both overshooting (e.g. when the measured signal surpasses the expected value\n",
    "following a rapid rise in environmental water vapor concentration) and ringing\n",
    "(i.e. rapid oscillations around the expected value) during rapid and large changes in\n",
    "water vapor concentration.\n",
    "\n",
    "Here are two figures to illustrate the problem and shows why you'd want to use the\n",
    "water vapor measurements from the isotope analyzer when they're available. The top\n",
    "panel combines data from two profiles and shows large excursions in the water vapor\n",
    "measured by the hygrometer. The lower panel shows that most measurements agree\n",
    "well but it's clear that it's better to use the the isotope analyzer measurements of\n",
    "humidity during the experiment."
   ]
  },
  {
   "cell_type": "code",
   "execution_count": null,
   "id": "d3879f01",
   "metadata": {},
   "outputs": [],
   "source": [
    "fig, (ax1, ax2) = plt.subplots(nrows=2, sharex = True, figsize = (8.3, 16.6))\n",
    "#\n",
    "# One time window\n",
    "#\n",
    "profiles = rhs.sel(time = slice(np.datetime64(\"2020-01-19T15:36:00\"),\n",
    "                                np.datetime64(\"2020-01-19T16:07:40\")))\n",
    "marker = \".\"\n",
    "ax1.scatter(profiles[\"rh_p3\" ], profiles[\"press\"],\n",
    "           color=cc.glasbey[3], marker = marker, label = \"Hygrometer\")\n",
    "ax1.scatter(profiles[\"rh_iso\"], profiles[\"press\"],\n",
    "           color=\"0.5\",         marker = marker, label = \"Isotope analyzer\")\n",
    "#\n",
    "# A second time window, shown as squares of roughly the same size\n",
    "#\n",
    "profiles = rhs.sel(time = slice(np.datetime64(\"2020-01-19T20:31:12\"),\n",
    "                                np.datetime64(\"2020-01-19T20:41:16\")))\n",
    "marker = \"s\"\n",
    "ax1.scatter(profiles[\"rh_p3\" ], profiles[\"press\"],\n",
    "           color=cc.glasbey[3], marker = marker, s = .2 * plt.rcParams['lines.markersize']**2)\n",
    "ax1.scatter(profiles[\"rh_iso\"], profiles[\"press\"],\n",
    "           color=\"0.5\",         marker = marker, s = .2 * plt.rcParams['lines.markersize']**2)\n",
    "\n",
    "\n",
    "ax1.invert_yaxis()\n",
    "ax1.legend(markerscale = 2)\n",
    "ax1.set_xlim(0, 100)\n",
    "ax1.set_ylabel(\"pressure (hPa)\")\n",
    "\n",
    "ax1.annotate('Ringing',     ( 5,890), fontsize=\"large\")\n",
    "ax1.annotate('Overshooting',(45,700), fontsize=\"large\")\n",
    "#\n",
    "# Picarro vs. hygrometer RH - they mostly agree\n",
    "#\n",
    "ax2.scatter(rhs[\"rh_p3\"],rhs[\"rh_iso\"], s=3)\n",
    "# 1:1 line\n",
    "ax2.plot([0,102], [0,102], color = 'black')\n",
    "ax2.set_xlim(0, 102)\n",
    "ax2.set_xlabel(\"Hygrometer relative humidity (%)\")\n",
    "ax2.set_ylabel(\"Picarro relative humidity (%)\")"
   ]
  }
 ],
 "metadata": {
  "jupytext": {
   "text_representation": {
    "extension": ".md",
    "format_name": "myst",
    "format_version": 0.13,
    "jupytext_version": "1.11.2"
   }
  },
  "kernelspec": {
   "display_name": "Python 3",
   "language": "python",
   "name": "python3"
  },
  "source_map": [
   12,
   23,
   35,
   41,
   49,
   65
  ]
 },
 "nbformat": 4,
 "nbformat_minor": 5
}