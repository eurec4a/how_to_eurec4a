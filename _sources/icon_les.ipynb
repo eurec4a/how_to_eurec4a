{
 "cells": [
  {
   "cell_type": "markdown",
   "id": "63fd5197",
   "metadata": {},
   "source": [
    "# ICON-LES\n",
    "\n",
    "## Setup\n",
    "\n",
    "These ICON Large-eddy simulations (LES) presented here consist of three different domains that have different spatial and temporal extends depending on their horizontal grid-spacing. {numref}`icon_domains` shows the extend of the different simulations.\n",
    "\n",
    "```{figure} figures/icon_les_domains.jpg\n",
    ":name: icon_domains\n",
    ":alt: ICON-LES domain overview\n",
    ":width: 800px\n",
    ":align: center\n",
    "\n",
    "Overview of simulation domains. The location of the Barbados Cloud Observatory (BCO) and the NTAS buoy are marked with a red star at the western and eastern part of the domain, respectively. For a sense of scale, the MODIS image of February 12 is shown with landmasses colored in green to brown depending on height. Satellite image source: NASA Worldview.\n",
    "```\n",
    "\n",
    "{numref}`icon_domains` illustrates further the extend of the ICON Storm-resolving simulation (SRM) that provides the boundary conditions for the ICON-624m run. ICON-312m and ICON-156m are both one-way nested in the respective coarser resolution run.\n",
    "\n",
    "## Availability of simulation output\n",
    "\n",
    "```{note}\n",
    "Please note that this section is still under development and might change. Please revisit this page regularly for updates or changes.\n",
    "```"
   ]
  },
  {
   "cell_type": "code",
   "execution_count": null,
   "id": "49b35fc2",
   "metadata": {
    "tags": [
     "remove-cell"
    ]
   },
   "outputs": [],
   "source": [
    "import numpy as np\n",
    "import datetime as dt\n",
    "import dask\n",
    "import matplotlib.pyplot as plt\n",
    "import eurec4a\n",
    "from zarr.errors import PathNotFoundError\n",
    "from matplotlib import dates\n",
    "from pandas.plotting import register_matplotlib_converters\n",
    "register_matplotlib_converters()\n",
    "import pathlib\n",
    "plt.style.use([pathlib.Path(\"./mplstyle/book\"), pathlib.Path(\"./mplstyle/wide\")])\n",
    "cat = eurec4a.get_intake_catalog()"
   ]
  },
  {
   "cell_type": "code",
   "execution_count": null,
   "id": "e8b8cbcc",
   "metadata": {
    "tags": [
     "remove-cell"
    ]
   },
   "outputs": [],
   "source": [
    "def get_datasets(cat, datasets=None, path=\"\"):\n",
    "    \"\"\"\n",
    "    Recursively finding datasets in the given catalog.\n",
    "    \"\"\"\n",
    "    if datasets is None:\n",
    "        datasets = []\n",
    "    for child in list(cat):\n",
    "        desc = cat[child].describe()\n",
    "        if desc[\"container\"] == \"catalog\":\n",
    "            if path != \"\":\n",
    "                reference = \".\".join(path, child)\n",
    "            else:\n",
    "                reference = child\n",
    "            datasets.extend(get_datasets(cat[child], path=reference))\n",
    "        else:\n",
    "            datasets.extend([path + \".\" + desc[\"name\"]])\n",
    "    return datasets\n",
    "\n",
    "def drop_datasets(datasets):\n",
    "    \"\"\"\n",
    "    Drop datasets with same temporal coverage to\n",
    "    ease computation and declutter the overview page.\n",
    "    \"\"\"\n",
    "    datasets_to_keep = []\n",
    "    for dataset in datasets:\n",
    "        if ('meteogram' in dataset) and ('BCO' not in dataset):\n",
    "            continue\n",
    "        elif ('synthetic_radar' in dataset) and ('BCO' not in dataset):\n",
    "            continue\n",
    "        elif ('SRM' in dataset):\n",
    "            continue\n",
    "        else:\n",
    "            datasets_to_keep.append(dataset)\n",
    "    return datasets_to_keep\n",
    "\n",
    "icon_les_cat = cat.simulations.ICON\n",
    "datasets = drop_datasets(get_datasets(icon_les_cat))"
   ]
  },
  {
   "cell_type": "markdown",
   "id": "5e2e7a45",
   "metadata": {},
   "source": [
    "The currently available ICON-LES output is shown in the following:"
   ]
  },
  {
   "cell_type": "code",
   "execution_count": null,
   "id": "54402122",
   "metadata": {
    "tags": [
     "remove-input"
    ]
   },
   "outputs": [],
   "source": [
    "fig_height = len(datasets) * 0.5\n",
    "fig, axs = plt.subplots(len(datasets), 1, figsize=(8, fig_height), sharex=True)\n",
    "fig.set_constrained_layout(False)\n",
    "xfmt = dates.DateFormatter('%d.%m')\n",
    "for d, dataset in enumerate(datasets):\n",
    "    # Load dataset\n",
    "    try:\n",
    "        ds = icon_les_cat[dataset].to_dask()\n",
    "        dataset_len = len(ds.time)\n",
    "        ds = ds.isel(time=slice(0,dataset_len,dataset_len//1000+1))  # select max timesteps\n",
    "        axs[d].vlines(ds.time.values, 0, 1)\n",
    "    except (FileNotFoundError, PathNotFoundError):\n",
    "        pass\n",
    "    axs[d].set_aspect(1.5)\n",
    "    axs[d].set_ylabel(dataset.replace(\".\",\"\\n\"), rotation=0, ha='right')\n",
    "    axs[d].set(yticklabels=[])  # remove the tick labels\n",
    "    axs[d].tick_params(left=False)  # remove the ticks\n",
    "axs[d].xaxis.set_major_formatter(xfmt)\n",
    "axs[d].set_xlim([dt.date(2020, 1, 1), dt.date(2020, 3, 1)])\n",
    "plt.tight_layout()"
   ]
  },
  {
   "cell_type": "markdown",
   "id": "aeb1b663",
   "metadata": {},
   "source": [
    "## Output description\n",
    "\n",
    "There are two main experiments: `LES_CampaignDomain_control` and `LES_CampaignDomain_highCCN`. These experiments only distinguish themselves by the prescribed cloud condensation nuclei (CCN) concentration, respectively 1700 cm$^{-3}$ and 130 cm$^{-3}$. `DOM01` refers to the 624m run, while `DOM02` refers to the 312m nest. As the variable names suggest, the `surface` entries contain the surface variables. `rttov` refers to forward simulated synthetic satellite images and meteogram output is available at different locations using the entry format `meteogram_<location>_<domain>`. The 2D and 3D radiation fields and fluxes are referenced with `radiation`.\n",
    "\n",
    "## Visualization\n",
    "\n",
    "The simulation output is mostly available on its natural, icosahedral grid but some output, like the rttov brightness temperatures, have been regridded onto a regular lat-lon grid. The following section shows how these different outputs can be visualized and explored.\n",
    "\n",
    "### Regular grid\n",
    "\n",
    "#### Loading modules"
   ]
  },
  {
   "cell_type": "code",
   "execution_count": null,
   "id": "76b200f8",
   "metadata": {},
   "outputs": [],
   "source": [
    "import eurec4a\n",
    "import xarray as xr\n",
    "import numpy as np\n",
    "import pandas as pd\n",
    "\n",
    "import matplotlib.pylab as plt\n",
    "import datashader\n",
    "from datashader.mpl_ext import dsshow\n",
    "\n",
    "import cartopy.crs as ccrs\n",
    "import cartopy.feature as cf"
   ]
  },
  {
   "cell_type": "markdown",
   "id": "936ff8fd",
   "metadata": {},
   "source": [
    "#### Selecting output\n",
    "The simulation output is indexed in the EUREC<sup>4</sup>A Intake catalog and can be easily queried:"
   ]
  },
  {
   "cell_type": "code",
   "execution_count": null,
   "id": "72b21e33",
   "metadata": {},
   "outputs": [],
   "source": [
    "cat = eurec4a.get_intake_catalog()\n",
    "\n",
    "# Lazy loading of selected output\n",
    "data = cat.simulations.ICON.LES_CampaignDomain_control.rttov_DOM01.to_dask()\n",
    "print(data)\n",
    "variable = \"synsat_rttov_forward_model_1__abi_ir__goes_16__channel_7\"  #choose one of the once below\n",
    "da = data[variable].sel(time='2020-02-08 12:00:00')"
   ]
  },
  {
   "cell_type": "markdown",
   "id": "5b40887c",
   "metadata": {},
   "source": [
    "#### Setting the scene"
   ]
  },
  {
   "cell_type": "code",
   "execution_count": null,
   "id": "a948dc84",
   "metadata": {},
   "outputs": [],
   "source": [
    "central_longitude = -53.54884554550185\n",
    "central_latitude = 12.28815437976341\n",
    "satellite_height = 8225469.943160511\n",
    "\n",
    "vmin = 270\n",
    "vmax = 300\n",
    "cmap = \"RdBu_r\""
   ]
  },
  {
   "cell_type": "markdown",
   "id": "6b2b3aef",
   "metadata": {},
   "source": [
    "#### Projection and plotting\n",
    "\n",
    "The regular grid data can also be plotted with a simple `da.plot()`, but more steps are involved for projections and some tweeks for faster plotting\n",
    "that come especially handy for the plotting of data on the icosahedral grid shown in the next section."
   ]
  },
  {
   "cell_type": "code",
   "execution_count": null,
   "id": "f1bca7e2",
   "metadata": {},
   "outputs": [],
   "source": [
    "projection = ccrs.NearsidePerspective(central_longitude=central_longitude, central_latitude=central_latitude, satellite_height=satellite_height)\n",
    "\n",
    "lats, lons = np.meshgrid(data.lat,data.lon)\n",
    "coords = projection.transform_points(\n",
    "    ccrs.Geodetic(),\n",
    "    lons.T.flatten(),\n",
    "    lats.T.flatten(),\n",
    ")\n",
    "\n",
    "fig, ax = plt.subplots(subplot_kw={\"projection\": projection})\n",
    "fig.canvas.draw_idle()\n",
    "ax.add_feature(cf.COASTLINE, linewidth=0.8)\n",
    "\n",
    "artist = dsshow(\n",
    "    pd.DataFrame({\n",
    "        \"val\": da.values.flatten(),\n",
    "        \"x\": coords[:, 0],\n",
    "        \"y\": coords[:, 1],\n",
    "    }),\n",
    "    datashader.Point('x', 'y'),\n",
    "    datashader.mean('val'),\n",
    "    vmin=vmin,\n",
    "    vmax=vmax,\n",
    "    cmap=cmap,\n",
    "    ax=ax,\n",
    ")\n",
    "\n",
    "fig.colorbar(artist, label=f\"{da.long_name} / {da.units}\");"
   ]
  },
  {
   "cell_type": "markdown",
   "id": "e9ebdc68",
   "metadata": {},
   "source": [
    "### Icosahedral grid\n",
    "\n",
    "For the visualization of the icosahedral grid, and interactive version exists that relies on [gridlook](https://gitlab.gwdg.de/tobi/gridlook) and is shown below\n",
    "for the surface values of *LES_CampaignDomain_control* and *DOM01*. Try it out!"
   ]
  },
  {
   "cell_type": "code",
   "execution_count": null,
   "id": "0aafd407",
   "metadata": {
    "tags": [
     "remove-input"
    ]
   },
   "outputs": [],
   "source": [
    "from IPython.display import IFrame, display\n",
    "display(IFrame('https://tobi.pages.gwdg.de/gridlook/#https://swift.dkrz.de/v1/dkrz_948e7d4bbfbb445fbff5315fc433e36a/EUREC4A_LES/json_eurec4a_sim_time.json', '100%', '600px'))"
   ]
  },
  {
   "cell_type": "markdown",
   "id": "6aeec538",
   "metadata": {},
   "source": [
    "Static views can be exported within the app and plotted separatedly. Here is an example for the 2m temperature that build on top of the plotting routine of the regular grid."
   ]
  },
  {
   "cell_type": "code",
   "execution_count": null,
   "id": "4cd86d87",
   "metadata": {},
   "outputs": [],
   "source": [
    "# Lazy loading of output and grid\n",
    "data = cat.simulations.ICON.LES_CampaignDomain_control.surface_DOM01.to_dask()\n",
    "grid = cat.simulations.grids[data.uuidOfHGrid].to_dask()\n",
    "\n",
    "central_longitude = -53.54884554550185\n",
    "central_latitude = 12.28815437976341\n",
    "satellite_height = 8225469.943160511\n",
    "\n",
    "vmin = 294.6328125\n",
    "vmax = 299.84375\n",
    "cmap = \"RdBu_r\"\n",
    "variable = \"t_2m\"\n",
    "\n",
    "da = data[variable].sel(time='2020-02-08 12:00:00')\n",
    "\n",
    "projection = ccrs.NearsidePerspective(central_longitude=central_longitude, central_latitude=central_latitude, satellite_height=satellite_height)\n",
    "\n",
    "coords = projection.transform_points(\n",
    "    ccrs.Geodetic(),\n",
    "    np.rad2deg(grid.clon.values),\n",
    "    np.rad2deg(grid.clat.values),\n",
    ")\n",
    "\n",
    "fig, ax = plt.subplots(subplot_kw={\"projection\": projection})\n",
    "fig.canvas.draw_idle()\n",
    "ax.add_feature(cf.COASTLINE, linewidth=0.8)\n",
    "\n",
    "artist = dsshow(\n",
    "    pd.DataFrame({\n",
    "        \"val\": da.values,\n",
    "        \"x\": coords[:, 0],\n",
    "        \"y\": coords[:, 1],\n",
    "    }),\n",
    "    datashader.Point('x', 'y'),\n",
    "    datashader.mean('val'),\n",
    "    vmin=vmin,\n",
    "    vmax=vmax,\n",
    "    cmap=cmap,\n",
    "    ax=ax,\n",
    ")\n",
    "\n",
    "fig.colorbar(artist, label=f\"{da.long_name} / {da.units}\");"
   ]
  },
  {
   "cell_type": "markdown",
   "id": "2ff2bb4f",
   "metadata": {},
   "source": [
    "## Questions and further information\n",
    "\n",
    "Questions and issues with this dataset should be raised at the [GITLAB-Repository](https://gitlab.gwdg.de/hauke.schulz/EUREC4A-ICON) to encourage an open discussion and share experiences. The repository is also the place where further information about these simulations can be found."
   ]
  }
 ],
 "metadata": {
  "execute": {
   "timeout": 600
  },
  "jupytext": {
   "text_representation": {
    "extension": ".md",
    "format_name": "myst",
    "format_version": 0.12,
    "jupytext_version": "1.7.1"
   }
  },
  "kernelspec": {
   "display_name": "Python 3",
   "language": "python",
   "name": "python3"
  },
  "source_map": [
   14,
   39,
   55,
   95,
   99,
   122,
   135,
   147,
   151,
   159,
   163,
   171,
   178,
   207,
   214,
   218,
   222,
   266
  ]
 },
 "nbformat": 4,
 "nbformat_minor": 5
}