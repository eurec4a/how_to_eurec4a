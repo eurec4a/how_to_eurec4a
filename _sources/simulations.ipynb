{
 "cells": [
  {
   "cell_type": "markdown",
   "id": "ab3b3045",
   "metadata": {},
   "source": [
    "# Simulations\n",
    "\n",
    "The wealth of EUREC4A observations is increasingly complemented by simulations on different scales and different amount of realism.\n",
    "The following pages give an overview on some of the details of these simulations and how to access them.\n",
    "\n",
    "The currently available simulations and their outputs are:"
   ]
  },
  {
   "cell_type": "code",
   "execution_count": 1,
   "id": "125cbebe",
   "metadata": {},
   "outputs": [
    {
     "name": "stdout",
     "output_type": "stream",
     "text": [
      "ICON\n"
     ]
    },
    {
     "name": "stdout",
     "output_type": "stream",
     "text": [
      "   LES_CampaignDomain_highCCN\n",
      "      surface_DOM01\n",
      "      radiation_DOM01\n",
      "      rttov_DOM01\n",
      "      3D_DOM01\n",
      "      surface_DOM02\n",
      "      meteogram_BCO_DOM01\n",
      "      synthetic_radar_BCO_DOM01\n",
      "      meteogram_BCO_DOM02\n",
      "      synthetic_radar_BCO_DOM02\n",
      "      meteogram_NTAS_DOM01\n",
      "      synthetic_radar_NTAS_DOM01\n",
      "      meteogram_NTAS_DOM02\n",
      "      synthetic_radar_NTAS_DOM02\n",
      "      meteogram_c_center_DOM01\n",
      "      synthetic_radar_c_center_DOM01\n",
      "      meteogram_c_center_DOM02\n",
      "      synthetic_radar_c_center_DOM02\n",
      "      meteogram_c_east_DOM01\n",
      "      synthetic_radar_c_east_DOM01\n",
      "      meteogram_c_east_DOM02\n",
      "      synthetic_radar_c_east_DOM02\n",
      "      meteogram_c_north_DOM01\n",
      "      synthetic_radar_c_north_DOM01\n",
      "      meteogram_c_north_DOM02\n",
      "      synthetic_radar_c_north_DOM02\n",
      "      meteogram_c_west_DOM01\n",
      "      synthetic_radar_c_west_DOM01\n",
      "      meteogram_c_west_DOM02\n",
      "      synthetic_radar_c_west_DOM02\n",
      "      meteogram_c_south_DOM01\n",
      "      synthetic_radar_c_south_DOM01\n",
      "      meteogram_c_south_DOM02\n",
      "      synthetic_radar_c_south_DOM02\n",
      "   LES_CampaignDomain_control\n",
      "      surface_DOM01\n",
      "      surface_DOM02\n",
      "      rttov_DOM01\n",
      "      rttov_DOM02\n",
      "      pressure_level_DOM01\n",
      "      pressure_level_DOM02\n",
      "      meteogram_BCO_DOM01\n",
      "      synthetic_radar_BCO_DOM01\n",
      "      meteogram_BCO_DOM02\n",
      "      synthetic_radar_BCO_DOM02\n",
      "      meteogram_NTAS_DOM01\n",
      "      synthetic_radar_NTAS_DOM01\n",
      "      meteogram_NTAS_DOM02\n",
      "      synthetic_radar_NTAS_DOM02\n",
      "      meteogram_c_center_DOM01\n",
      "      synthetic_radar_c_center_DOM01\n",
      "      meteogram_c_center_DOM02\n",
      "      synthetic_radar_c_center_DOM02\n",
      "      meteogram_c_east_DOM01\n",
      "      synthetic_radar_c_east_DOM01\n",
      "      meteogram_c_east_DOM02\n",
      "      synthetic_radar_c_east_DOM02\n",
      "      meteogram_c_north_DOM01\n",
      "      synthetic_radar_c_north_DOM01\n",
      "      meteogram_c_north_DOM02\n",
      "      synthetic_radar_c_north_DOM02\n",
      "      meteogram_c_west_DOM01\n",
      "      synthetic_radar_c_west_DOM01\n",
      "      meteogram_c_west_DOM02\n",
      "      synthetic_radar_c_west_DOM02\n",
      "      meteogram_c_south_DOM01\n",
      "      synthetic_radar_c_south_DOM01\n",
      "      meteogram_c_south_DOM02\n",
      "      synthetic_radar_c_south_DOM02\n"
     ]
    },
    {
     "name": "stdout",
     "output_type": "stream",
     "text": [
      "grids\n",
      "   6b59890b-99f3-939b-e76a-0a3ad2e43140\n",
      "   3c7523ba-f78c-c23e-6654-012805ba3300\n"
     ]
    }
   ],
   "source": [
    "import eurec4a\n",
    "cat = eurec4a.get_intake_catalog()\n",
    "\n",
    "def tree(cat, level=0):\n",
    "    prefix = \" \" * (3*level)\n",
    "    try:\n",
    "        for child in list(cat):\n",
    "            parameters = [p[\"name\"] for p in cat[child].describe().get(\"user_parameters\", [])]\n",
    "            if len(parameters) > 0:\n",
    "                parameter_str = \" (\" + \", \".join(parameters) + \")\"\n",
    "            else:\n",
    "                parameter_str = \"\"\n",
    "            print(prefix + str(child) + parameter_str)\n",
    "            tree(cat[child], level+1)\n",
    "    except:\n",
    "        pass\n",
    "\n",
    "tree(cat.simulations)"
   ]
  }
 ],
 "metadata": {
  "jupytext": {
   "text_representation": {
    "extension": ".md",
    "format_name": "myst",
    "format_version": 0.12,
    "jupytext_version": "1.7.1"
   }
  },
  "kernelspec": {
   "display_name": "Python 3",
   "language": "python",
   "name": "python3"
  },
  "language_info": {
   "codemirror_mode": {
    "name": "ipython",
    "version": 3
   },
   "file_extension": ".py",
   "mimetype": "text/x-python",
   "name": "python",
   "nbconvert_exporter": "python",
   "pygments_lexer": "ipython3",
   "version": "3.8.13"
  },
  "source_map": [
   12,
   21
  ]
 },
 "nbformat": 4,
 "nbformat_minor": 5
}