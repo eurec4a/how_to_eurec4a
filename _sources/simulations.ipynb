{
 "cells": [
  {
   "cell_type": "markdown",
   "id": "f3012e4b",
   "metadata": {},
   "source": [
    "# Simulations\n",
    "\n",
    "The wealth of EUREC⁴A observations is increasingly complemented by simulations on different scales and different amount of realism.\n",
    "The following pages give an overview on some of the details of these simulations and how to access them.\n",
    "\n",
    "The currently available simulations and their outputs are:"
   ]
  },
  {
   "cell_type": "code",
   "execution_count": 1,
   "id": "84e2ffdc",
   "metadata": {},
   "outputs": [
    {
     "name": "stdout",
     "output_type": "stream",
     "text": [
      "ICON\n",
      "   LES_CampaignDomain_highCCN\n",
      "      surface_DOM01\n",
      "      radiation_DOM01\n",
      "      rttov_DOM01\n",
      "      3D_DOM01\n",
      "      effective_radius_DOM01\n",
      "      surface_DOM02\n",
      "      effective_radius_DOM02\n",
      "      meteogram_BCO_DOM01\n",
      "      synthetic_radar_BCO_DOM01\n",
      "      meteogram_BCO_DOM02\n",
      "      synthetic_radar_BCO_DOM02\n",
      "      meteogram_NTAS_DOM01\n",
      "      synthetic_radar_NTAS_DOM01\n",
      "      meteogram_NTAS_DOM02\n",
      "      synthetic_radar_NTAS_DOM02\n",
      "      meteogram_c_center_DOM01\n",
      "      synthetic_radar_c_center_DOM01\n",
      "      meteogram_c_center_DOM02\n",
      "      synthetic_radar_c_center_DOM02\n",
      "      meteogram_c_east_DOM01\n",
      "      synthetic_radar_c_east_DOM01\n",
      "      meteogram_c_east_DOM02\n",
      "      synthetic_radar_c_east_DOM02\n",
      "      meteogram_c_north_DOM01\n",
      "      synthetic_radar_c_north_DOM01\n",
      "      meteogram_c_north_DOM02\n"
     ]
    },
    {
     "name": "stdout",
     "output_type": "stream",
     "text": [
      "      synthetic_radar_c_north_DOM02\n",
      "      meteogram_c_west_DOM01\n",
      "      synthetic_radar_c_west_DOM01\n",
      "      meteogram_c_west_DOM02\n",
      "      synthetic_radar_c_west_DOM02\n",
      "      meteogram_c_south_DOM01\n",
      "      synthetic_radar_c_south_DOM01\n",
      "      meteogram_c_south_DOM02\n",
      "      synthetic_radar_c_south_DOM02\n",
      "   LES_CampaignDomain_control\n",
      "      surface_DOM01\n",
      "      surface_DOM02\n",
      "      surface_DOM03\n",
      "      effective_radius_DOM01\n",
      "      effective_radius_DOM02\n",
      "      effective_radius_DOM03\n",
      "      rttov_DOM01\n",
      "      rttov_DOM02\n",
      "      3D_DOM01\n",
      "      3D_DOM02\n",
      "      3D_DOM03\n",
      "      pressure_lev_DOM03\n",
      "      radiation_DOM01\n",
      "      radiation_DOM02\n",
      "      meteogram_BCO_DOM01\n",
      "      synthetic_radar_BCO_DOM01\n",
      "      meteogram_BCO_DOM02\n",
      "      synthetic_radar_BCO_DOM02\n",
      "      meteogram_NTAS_DOM01\n",
      "      synthetic_radar_NTAS_DOM01\n",
      "      meteogram_NTAS_DOM02\n",
      "      synthetic_radar_NTAS_DOM02\n",
      "      meteogram_NTAS_DOM03\n",
      "      synthetic_radar_NTAS_DOM03\n",
      "      meteogram_c_center_DOM01\n",
      "      synthetic_radar_c_center_DOM01\n",
      "      meteogram_c_center_DOM02\n",
      "      synthetic_radar_c_center_DOM02\n",
      "      meteogram_c_center_DOM03\n",
      "      synthetic_radar_c_center_DOM03\n",
      "      meteogram_c_east_DOM01\n"
     ]
    },
    {
     "name": "stdout",
     "output_type": "stream",
     "text": [
      "      synthetic_radar_c_east_DOM01\n",
      "      meteogram_c_east_DOM02\n",
      "      synthetic_radar_c_east_DOM02\n",
      "      meteogram_c_east_DOM03\n",
      "      synthetic_radar_c_east_DOM03\n",
      "      meteogram_c_north_DOM01\n",
      "      synthetic_radar_c_north_DOM01\n",
      "      meteogram_c_north_DOM02\n",
      "      synthetic_radar_c_north_DOM02\n",
      "      meteogram_c_north_DOM03\n",
      "      synthetic_radar_c_north_DOM03\n",
      "      meteogram_c_west_DOM01\n",
      "      synthetic_radar_c_west_DOM01\n",
      "      meteogram_c_west_DOM02\n",
      "      synthetic_radar_c_west_DOM02\n",
      "      meteogram_c_west_DOM03\n",
      "      synthetic_radar_c_west_DOM03\n",
      "      meteogram_c_south_DOM01\n",
      "      synthetic_radar_c_south_DOM01\n",
      "      meteogram_c_south_DOM02\n",
      "      synthetic_radar_c_south_DOM02\n",
      "      meteogram_c_south_DOM03\n",
      "      synthetic_radar_c_south_DOM03\n",
      "      rttov_DOM03\n",
      "      meteogram_BCO_DOM03\n",
      "      synthetic_radar_BCO_DOM03\n",
      "   SRM\n",
      "      meteogram_BCO\n",
      "      synthetic_radar_BCO\n",
      "      meteogram_NTAS\n",
      "      synthetic_radar_NTAS\n",
      "      meteogram_HALO_circle\n",
      "      synthetic_radar_HALO_circle\n"
     ]
    },
    {
     "name": "stdout",
     "output_type": "stream",
     "text": [
      "DALES\n",
      "   botany\n"
     ]
    },
    {
     "name": "stdout",
     "output_type": "stream",
     "text": [
      "      dx100m\n",
      "         nx1536\n",
      "            profiles\n",
      "            timeseries\n",
      "            2D\n",
      "            3D\n",
      "            cross_xy\n",
      "            radiation\n",
      "            parameters\n",
      "grids\n",
      "   6b59890b-99f3-939b-e76a-0a3ad2e43140\n",
      "   3c7523ba-f78c-c23e-6654-012805ba3300\n",
      "   88fe7c0a-f61d-e582-d5e1-b00866e33000\n",
      "   ecf22d17-dcee-1510-a807-11ae4a612be0\n"
     ]
    }
   ],
   "source": [
    "import eurec4a\n",
    "cat = eurec4a.get_intake_catalog()\n",
    "\n",
    "def tree(cat, level=0):\n",
    "    prefix = \" \" * (3*level)\n",
    "    try:\n",
    "        for child in list(cat):\n",
    "            parameters = [p[\"name\"] for p in cat[child].describe().get(\"user_parameters\", [])]\n",
    "            if len(parameters) > 0:\n",
    "                parameter_str = \" (\" + \", \".join(parameters) + \")\"\n",
    "            else:\n",
    "                parameter_str = \"\"\n",
    "            print(prefix + str(child) + parameter_str)\n",
    "            tree(cat[child], level+1)\n",
    "    except:\n",
    "        pass\n",
    "\n",
    "tree(cat.simulations)"
   ]
  }
 ],
 "metadata": {
  "jupytext": {
   "text_representation": {
    "extension": ".md",
    "format_name": "myst",
    "format_version": 0.12,
    "jupytext_version": "1.7.1"
   }
  },
  "kernelspec": {
   "display_name": "Python 3",
   "language": "python",
   "name": "python3"
  },
  "language_info": {
   "codemirror_mode": {
    "name": "ipython",
    "version": 3
   },
   "file_extension": ".py",
   "mimetype": "text/x-python",
   "name": "python",
   "nbconvert_exporter": "python",
   "pygments_lexer": "ipython3",
   "version": "3.9.16"
  },
  "source_map": [
   12,
   21
  ]
 },
 "nbformat": 4,
 "nbformat_minor": 5
}