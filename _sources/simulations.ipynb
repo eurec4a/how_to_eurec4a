{
 "cells": [
  {
   "cell_type": "markdown",
   "id": "d7589d4f",
   "metadata": {},
   "source": [
    "# Simulations\n",
    "\n",
    "The wealth of EUREC⁴A observations is increasingly complemented by simulations on different scales and different amount of realism.\n",
    "The following pages give an overview on some of the details of these simulations and how to access them.\n",
    "\n",
    "The currently available simulations and their outputs are:"
   ]
  },
  {
   "cell_type": "code",
   "execution_count": null,
   "id": "82891a52",
   "metadata": {},
   "outputs": [],
   "source": [
    "import eurec4a\n",
    "cat = eurec4a.get_intake_catalog()\n",
    "\n",
    "def tree(cat, level=0):\n",
    "    prefix = \" \" * (3*level)\n",
    "    try:\n",
    "        for child in list(cat):\n",
    "            parameters = [p[\"name\"] for p in cat[child].describe().get(\"user_parameters\", [])]\n",
    "            if len(parameters) > 0:\n",
    "                parameter_str = \" (\" + \", \".join(parameters) + \")\"\n",
    "            else:\n",
    "                parameter_str = \"\"\n",
    "            print(prefix + str(child) + parameter_str)\n",
    "            tree(cat[child], level+1)\n",
    "    except:\n",
    "        pass\n",
    "\n",
    "tree(cat.simulations)"
   ]
  }
 ],
 "metadata": {
  "jupytext": {
   "text_representation": {
    "extension": ".md",
    "format_name": "myst",
    "format_version": 0.12,
    "jupytext_version": "1.7.1"
   }
  },
  "kernelspec": {
   "display_name": "Python 3",
   "language": "python",
   "name": "python3"
  },
  "source_map": [
   12,
   21
  ]
 },
 "nbformat": 4,
 "nbformat_minor": 5
}