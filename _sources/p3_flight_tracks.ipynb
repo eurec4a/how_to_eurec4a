{
 "cells": [
  {
   "cell_type": "markdown",
   "id": "4f53d92d",
   "metadata": {},
   "source": [
    "# Flight tracks\n",
    "\n",
    "The P3 flew 95 hours of observations over eleven flights, many of which were coordinated\n",
    "with the NOAA research ship R/V Ronald H. Brown and autonomous platforms deployed\n",
    "from the ship. Each flight contained a mixture of sampling strategies including:\n",
    "high-altitude circles with frequent dropsonde deployment to characterize the large-scale\n",
    "environment; slow descents and ascents to measure the distribution of water vapor\n",
    "and its isotopic composition; stacked legs aimed at sampling the microphysical\n",
    "and thermodynamic state of the boundary layer; and offset straight flight legs for\n",
    "observing clouds and the ocean surface with remote sensing instruments and the\n",
    "thermal structure of the ocean with _in situ_ sensors dropped from the plane.\n",
    "\n",
    "As a result of this diverse sampling the flight tracks are much more variable\n",
    "then for most of the other aircraft.\n",
    "\n",
    "General setup:"
   ]
  },
  {
   "cell_type": "code",
   "execution_count": null,
   "id": "ee895bb6",
   "metadata": {},
   "outputs": [],
   "source": [
    "import xarray as xr\n",
    "import numpy as np\n",
    "import datetime\n",
    "#\n",
    "# Related to plotting\n",
    "#\n",
    "import matplotlib.pyplot as plt\n",
    "import pathlib\n",
    "plt.style.use(pathlib.Path(\"./mplstyle/book\"))\n",
    "%matplotlib inline"
   ]
  },
  {
   "cell_type": "markdown",
   "id": "b08cab41",
   "metadata": {},
   "source": [
    "Now access the flight track data."
   ]
  },
  {
   "cell_type": "code",
   "execution_count": null,
   "id": "54ed25d0",
   "metadata": {},
   "outputs": [],
   "source": [
    "import eurec4a\n",
    "cat = eurec4a.get_intake_catalog(use_ipfs=\"QmahMN2wgPauHYkkiTGoG2TpPBmj3p5FoYJAq9uE9iXT9N\")"
   ]
  },
  {
   "cell_type": "markdown",
   "id": "584da47f",
   "metadata": {},
   "source": [
    "Mapping takes quite some setup. Maybe we'll encapsulate this later but for now we repeat code\n",
    "in each notebook."
   ]
  },
  {
   "cell_type": "code",
   "execution_count": null,
   "id": "93573c1f",
   "metadata": {
    "tags": [
     "hide-cell"
    ]
   },
   "outputs": [],
   "source": [
    "import matplotlib as mpl\n",
    "import matplotlib.ticker as mticker\n",
    "\n",
    "import cartopy.crs as ccrs\n",
    "from   cartopy.feature import LAND\n",
    "from   cartopy.mpl.gridliner import LONGITUDE_FORMATTER, LATITUDE_FORMATTER\n",
    "def ax_to_map(ax, lon_w = -60.5, lon_e = -49, lat_s = 10, lat_n = 16.5):\n",
    "    # Defining boundaries of the plot\n",
    "    ax.set_extent([lon_w,lon_e,lat_s,lat_n]) # lon west, lon east, lat south, lat north\n",
    "    ax.coastlines(resolution='10m',linewidth=1.5,zorder=1);\n",
    "    ax.add_feature(LAND,facecolor='0.9')\n",
    "\n",
    "def set_up_map(plt, lon_w = -60.5, lon_e = -49, lat_s = 10, lat_n = 16.5):\n",
    "    ax = plt.axes(projection=ccrs.PlateCarree())\n",
    "    ax_to_map(ax, lon_w, lon_e, lat_s, lat_n)\n",
    "    return(ax)\n",
    "\n",
    "def add_gridlines(ax):\n",
    "    # Assigning axes ticks\n",
    "    xticks = np.arange(-65,0,2.5)\n",
    "    yticks = np.arange(0,25,2.5)\n",
    "    gl = ax.gridlines(crs=ccrs.PlateCarree(), draw_labels=True, linewidth=1,\n",
    "                      color='black', alpha=0.5, linestyle='dotted')\n",
    "    gl.xlocator = mticker.FixedLocator(xticks)\n",
    "    gl.ylocator = mticker.FixedLocator(yticks)\n",
    "    gl.xformatter = LONGITUDE_FORMATTER\n",
    "    gl.yformatter = LATITUDE_FORMATTER\n",
    "    gl.xlabel_style = {'size': 10, 'color': 'k'}\n",
    "    gl.ylabel_style = {'size': 10, 'color': 'k'}\n",
    "    gl.right_labels = False\n",
    "    gl.bottom_labels = False\n",
    "    gl.xlabel = {'Latitude'}"
   ]
  },
  {
   "cell_type": "markdown",
   "id": "156e027c",
   "metadata": {},
   "source": [
    "What days did the P-3 fly on? We can find out via the flight segmentation files."
   ]
  },
  {
   "cell_type": "code",
   "execution_count": null,
   "id": "b6eda48b",
   "metadata": {},
   "outputs": [],
   "source": [
    "# On what days did the P-3 fly? These are UTC date\n",
    "all_flight_segments = eurec4a.get_flight_segments()\n",
    "flight_dates = np.unique([np.datetime64(flight[\"takeoff\"]).astype(\"datetime64[D]\")\n",
    "                          for flight in all_flight_segments[\"P3\"].values()])"
   ]
  },
  {
   "cell_type": "markdown",
   "id": "8326a63d",
   "metadata": {},
   "source": [
    "Now set up colors to code each flight date during the experiment. One could choose\n",
    "a categorical palette so the colors were as different from each other as possible.\n",
    "Here we'll choose from a continuous set that spans the experiment so days that are\n",
    "close in time are also close in color."
   ]
  },
  {
   "cell_type": "code",
   "execution_count": null,
   "id": "50f91653",
   "metadata": {
    "tags": [
     "hide-cell"
    ]
   },
   "outputs": [],
   "source": [
    "# Like mpl.colors.Normalize but works also with datetime64 objects\n",
    "def mk_norm(vmin, vmax):\n",
    "    def norm(values):\n",
    "        return (values - vmin) / (vmax - vmin)\n",
    "    return norm\n",
    "norm = mk_norm(np.datetime64(\"2020-01-15\"),\n",
    "               np.datetime64(\"2020-02-15\"))\n",
    "\n",
    "# color map for things coded by flight date\n",
    "#   Sample from a continuous color map running from start to end of experiment\n",
    "def color_of_day(day):\n",
    "    return plt.cm.viridis(norm(day), alpha=0.9)"
   ]
  },
  {
   "cell_type": "markdown",
   "id": "20465058",
   "metadata": {},
   "source": [
    "For plotting purposes it'll be handy to define a one-day time window and to convert between date/time formats"
   ]
  },
  {
   "cell_type": "code",
   "execution_count": null,
   "id": "3a11f6db",
   "metadata": {},
   "outputs": [],
   "source": [
    "one_day = np.timedelta64(1, \"D\")\n",
    "\n",
    "def to_datetime(dt64):\n",
    "    epoch = np.datetime64(\"1970-01-01\")\n",
    "    second = np.timedelta64(1, \"s\")\n",
    "    return datetime.datetime.utcfromtimestamp((dt64 - epoch) / second)"
   ]
  },
  {
   "cell_type": "markdown",
   "id": "e929c3ae",
   "metadata": {},
   "source": [
    "Most platforms available from the EUREC⁴A `intake` catalog have a `tracks` element but\n",
    "we'll use the `flight-level` data instead. We're using `xr.concat()` with one `dask` array per day\n",
    "to avoid loading the whole dataset into memory at once."
   ]
  },
  {
   "cell_type": "code",
   "execution_count": null,
   "id": "8ab02433",
   "metadata": {},
   "outputs": [],
   "source": [
    "nav_data = xr.concat([entry.to_dask().chunk() for entry in cat.P3.flight_level.values()],\n",
    "                     dim = \"time\")"
   ]
  },
  {
   "cell_type": "markdown",
   "id": "d4e39dfb",
   "metadata": {},
   "source": [
    "A map showing each of the eleven flight tracks:"
   ]
  },
  {
   "cell_type": "code",
   "execution_count": null,
   "id": "2d5b5c09",
   "metadata": {},
   "outputs": [],
   "source": [
    "fig = plt.figure(figsize = (12,13.6))\n",
    "ax  = set_up_map(plt)\n",
    "add_gridlines(ax)\n",
    "\n",
    "for d in flight_dates:\n",
    "    flight = nav_data.sel(time=slice(d, d + one_day))\n",
    "    ax.plot(flight.lon, flight.lat,\n",
    "            lw=2, alpha=0.5, c=color_of_day(d),\n",
    "            transform=ccrs.PlateCarree(), zorder=7,\n",
    "            label=f\"{to_datetime(d):%m-%d}\")\n",
    "\n",
    "plt.legend(ncol=3, loc=(0.0,0.0), fontsize=14, framealpha=0.8, markerscale=5,\n",
    "           title=\"Flight date (MM-DD-2020)\")"
   ]
  },
  {
   "cell_type": "markdown",
   "id": "fffe6b23",
   "metadata": {},
   "source": [
    "Most dropsondes were deployed from regular dodecagons during the first part of the\n",
    "experiment with short turns after each dropsonde providing an off-nadir look at\n",
    "the ocean surface useful for calibrating the W-band radar. A change in pilots midway\n",
    "through the experiment led to dropsondes being deployed from circular flight tracks\n",
    "starting on 31 Jan. AXBTs were deployed in lawnmower patterns (parallel offset legs)\n",
    "with small loops sometimes employed to lengthen the time between AXBT deployment\n",
    "to allow time for data acquisition given the device's slow fall speeds.  Profiling\n",
    "and especially _in situ_ cloud sampling legs sometimes deviated from straight paths to avoid hazardous weather.\n",
    "\n",
    "\n",
    "Side view using the same color scale:"
   ]
  },
  {
   "cell_type": "code",
   "execution_count": null,
   "id": "f120f79b",
   "metadata": {},
   "outputs": [],
   "source": [
    "fig = plt.figure(figsize = (8.3,5))\n",
    "ax = plt.axes()\n",
    "\n",
    "for d in flight_dates:\n",
    "    flight = nav_data.sel(time=slice(d, d + one_day)).compute()\n",
    "    flight = flight.where(flight.alt > 80, drop=True) # Proxy for take-off time\n",
    "    plt.plot(flight.time - flight.time.min(), flight.alt/1000.,\n",
    "             lw=2, alpha=0.5, c=color_of_day(d),\n",
    "             label=f\"{to_datetime(d):%m-%d}\")\n",
    "\n",
    "plt.xticks(np.arange(10) * 3600 * 1e9, labels = np.arange(10))\n",
    "ax.set_xlabel(\"Time after flight start (h)\")\n",
    "ax.set_ylabel(\"Aircraft altitude (km)\")"
   ]
  },
  {
   "cell_type": "markdown",
   "id": "190dbae1",
   "metadata": {},
   "source": [
    "Sondes were dropped from the P-3 at about 7.5 km, with each circle taking roughly an hour;\n",
    "transits were frequently performed at this level  to conserve fuel. Long intervals\n",
    "near 3 km altitude were used to deploy AXBTs and/or characterize the ocean surface\n",
    "with remote sensing. Stepped legs indicate times devoted to _in situ_ cloud sampling.\n",
    "On most flights the aircraft climbed quickly to roughly 7.5 km, partly to deconflict\n",
    "with other aircraft participating in the experiment. On the three night flights,\n",
    "however, no other aircraft were operating at take-off times and cloud sampling\n",
    "was performed first, nearer Barbados than on other flights."
   ]
  }
 ],
 "metadata": {
  "jupytext": {
   "text_representation": {
    "extension": ".md",
    "format_name": "myst",
    "format_version": 0.13,
    "jupytext_version": "1.11.2"
   }
  },
  "kernelspec": {
   "display_name": "Python 3",
   "language": "python",
   "name": "python3"
  },
  "source_map": [
   12,
   31,
   42,
   46,
   49,
   54,
   89,
   93,
   98,
   105,
   120,
   124,
   131,
   137,
   140,
   144,
   158,
   172,
   186
  ]
 },
 "nbformat": 4,
 "nbformat_minor": 5
}